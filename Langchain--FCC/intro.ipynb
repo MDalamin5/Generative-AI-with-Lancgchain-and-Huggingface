{
 "cells": [
  {
   "cell_type": "code",
   "execution_count": 1,
   "metadata": {},
   "outputs": [],
   "source": [
    "import openai\n",
    "import langchain"
   ]
  },
  {
   "cell_type": "markdown",
   "metadata": {},
   "source": [
    "## Function Calling\n",
    "\n",
    "Learn how to connect large language models to external tools"
   ]
  },
  {
   "cell_type": "markdown",
   "metadata": {},
   "source": [
    "## Day-4\n",
    "\n",
    "1. How to use openai via langchain\n",
    "2. prompt templating\n",
    "3. chains\n",
    "4. Agent => secpAPI => google-search api\n",
    "5. Memory: how we can retrain the memory\n",
    "6. Document loader(csv, pdf)\n",
    "\n",
    "Huggingface"
   ]
  },
  {
   "cell_type": "markdown",
   "metadata": {},
   "source": [
    "- Langchain\n",
    "    - you can access diff llm model by using diff API\n",
    "    - you can access privet data sources\n",
    "    - you can access third party API"
   ]
  },
  {
   "cell_type": "markdown",
   "metadata": {},
   "source": [
    "- Langchain\n",
    "    - agents\n",
    "    - doc loader\n",
    "    - memory\n",
    "    - chain\n",
    "    - diff prompt templates\n",
    "    - llm : huggingFace, OpenAI"
   ]
  },
  {
   "cell_type": "markdown",
   "metadata": {},
   "source": [
    "# Prompt Templates"
   ]
  },
  {
   "cell_type": "code",
   "execution_count": 2,
   "metadata": {},
   "outputs": [],
   "source": [
    "from langchain.prompts import PromptTemplate"
   ]
  },
  {
   "cell_type": "code",
   "execution_count": 6,
   "metadata": {},
   "outputs": [],
   "source": [
    "promptTemplateName = PromptTemplate(\n",
    "    input_variables=['country'],\n",
    "    template='can you tell me the capital of {country}?'\n",
    ")"
   ]
  },
  {
   "cell_type": "code",
   "execution_count": 7,
   "metadata": {},
   "outputs": [
    {
     "data": {
      "text/plain": [
       "'can you tell me the capital of dhaka?'"
      ]
     },
     "execution_count": 7,
     "metadata": {},
     "output_type": "execute_result"
    }
   ],
   "source": [
    "promptTemplateName.format(country=\"dhaka\")"
   ]
  },
  {
   "cell_type": "code",
   "execution_count": 8,
   "metadata": {},
   "outputs": [
    {
     "data": {
      "text/plain": [
       "'can you tell me the capital of khulna?'"
      ]
     },
     "execution_count": 8,
     "metadata": {},
     "output_type": "execute_result"
    }
   ],
   "source": [
    "promptTemplateName.format(country='khulna')"
   ]
  },
  {
   "cell_type": "markdown",
   "metadata": {},
   "source": [
    "# Agent\n",
    "\n",
    "- agent is some function which call third party api or function or do some task"
   ]
  },
  {
   "cell_type": "markdown",
   "metadata": {},
   "source": [
    "- llm model can not extract the real time information then we use serp api to extracting real time info.\n",
    "- now by using the serp api i will call google-search-engine and will extract the info in a real time\n",
    "    - example: can you tell me the current GDP of bangladesh?"
   ]
  },
  {
   "cell_type": "markdown",
   "metadata": {},
   "source": [
    "SerpAIP and create an accounts and get a free api"
   ]
  },
  {
   "cell_type": "code",
   "execution_count": 9,
   "metadata": {},
   "outputs": [],
   "source": [
    "serpapi = 'Your Account APi'"
   ]
  },
  {
   "cell_type": "code",
   "execution_count": 11,
   "metadata": {},
   "outputs": [],
   "source": [
    "from langchain.agents import AgentType, load_tools, initialize_agent\n",
    "from langchain.llms import OpenAI"
   ]
  },
  {
   "cell_type": "markdown",
   "metadata": {},
   "source": [
    "## Chain\n",
    "\n",
    "connect prompt and model together and other tasks and work as a memory and its remember 1st prompt to last prompt."
   ]
  },
  {
   "cell_type": "markdown",
   "metadata": {},
   "source": [
    "## Document Loader\n"
   ]
  },
  {
   "cell_type": "code",
   "execution_count": 12,
   "metadata": {},
   "outputs": [],
   "source": [
    "from langchain_community.document_loaders import PyPDFLoader\n",
    "\n",
    "loader = PyPDFLoader('E-Ticket.pdf')\n",
    "pages = loader.load_and_split()"
   ]
  },
  {
   "cell_type": "code",
   "execution_count": 13,
   "metadata": {},
   "outputs": [
    {
     "data": {
      "text/plain": [
       "Document(metadata={'source': 'E-Ticket.pdf', 'page': 0}, page_content=\"Generated On Tue, 4 Jun 2024 17:39 GMT\\n \\n \\n \\nBooking Reference\\nTicket Number5M86DP\\n157-6801886313E-TICKET RECEIPT Dear Mr Abdullah al Masud, \\nThank you for choosing Qatar Airways.\\nWe look forward to welcoming you onboard.\\n  Flight / Operated By\\n  Departs / Arrives\\n  Class\\n  Fare Basis\\n  Travel Not Valid\\n  Special Services\\nQR641 DAC (DAC), Hazrat Shahjalal\\nWed, 5 Jun 2024 10:55 Qatar Airways\\nWed, 5 Jun 2024 13:15DOH (DOH), Hamad International AirportECONOMY (T) TJBDP2RO\\nConfirmed25 KgBefore -\\nAfter -Baggage\\nAllowance\\n     Receipt       Contact Details\\nTicket Fare\\nTotalTaxes and Carrier\\nimposed Fees\\nPaymentBDT 45864.00\\nBDT 55370.00BDT 500.00 BD , BDT 2000.00 OW , BDT 1170.00 P7 , BDT 1170.00 P8 ,\\nBDT 4000.00 UT , BDT 240.00 PZ , BDT 426.00 E5Date of Purchase\\nOffice1-Jun-24\\nVisit www.qatarairways.com/contactus\\nNotice\\n    •  To make a change to your booking, you can use the 'Manage Booking' option on qatarairways.com or contact the nearest Qatar Airways office. Please refer to\\nqatarairways.com/contact for details.\\n    •  You can check Qatar Airways flights' status at fs.qatarairways.com/fltstatus\\n    •  For feedback and complaints please visit qatarairways.com/tell-us\\nNEXT STEPS\\n \\n \\nNote: Your travel itinerary is subject to Qatar Airways' full conditions of carriage, available at qatarairways.com/legal or upon request from your nearest Qatar Airways office.\")"
      ]
     },
     "execution_count": 13,
     "metadata": {},
     "output_type": "execute_result"
    }
   ],
   "source": [
    "pages[0]"
   ]
  },
  {
   "cell_type": "code",
   "execution_count": 14,
   "metadata": {},
   "outputs": [
    {
     "data": {
      "text/plain": [
       "[Document(metadata={'source': 'E-Ticket.pdf', 'page': 0}, page_content=\"Generated On Tue, 4 Jun 2024 17:39 GMT\\n \\n \\n \\nBooking Reference\\nTicket Number5M86DP\\n157-6801886313E-TICKET RECEIPT Dear Mr Abdullah al Masud, \\nThank you for choosing Qatar Airways.\\nWe look forward to welcoming you onboard.\\n  Flight / Operated By\\n  Departs / Arrives\\n  Class\\n  Fare Basis\\n  Travel Not Valid\\n  Special Services\\nQR641 DAC (DAC), Hazrat Shahjalal\\nWed, 5 Jun 2024 10:55 Qatar Airways\\nWed, 5 Jun 2024 13:15DOH (DOH), Hamad International AirportECONOMY (T) TJBDP2RO\\nConfirmed25 KgBefore -\\nAfter -Baggage\\nAllowance\\n     Receipt       Contact Details\\nTicket Fare\\nTotalTaxes and Carrier\\nimposed Fees\\nPaymentBDT 45864.00\\nBDT 55370.00BDT 500.00 BD , BDT 2000.00 OW , BDT 1170.00 P7 , BDT 1170.00 P8 ,\\nBDT 4000.00 UT , BDT 240.00 PZ , BDT 426.00 E5Date of Purchase\\nOffice1-Jun-24\\nVisit www.qatarairways.com/contactus\\nNotice\\n    •  To make a change to your booking, you can use the 'Manage Booking' option on qatarairways.com or contact the nearest Qatar Airways office. Please refer to\\nqatarairways.com/contact for details.\\n    •  You can check Qatar Airways flights' status at fs.qatarairways.com/fltstatus\\n    •  For feedback and complaints please visit qatarairways.com/tell-us\\nNEXT STEPS\\n \\n \\nNote: Your travel itinerary is subject to Qatar Airways' full conditions of carriage, available at qatarairways.com/legal or upon request from your nearest Qatar Airways office.\")]"
      ]
     },
     "execution_count": 14,
     "metadata": {},
     "output_type": "execute_result"
    }
   ],
   "source": [
    "pages"
   ]
  },
  {
   "cell_type": "code",
   "execution_count": null,
   "metadata": {},
   "outputs": [],
   "source": []
  }
 ],
 "metadata": {
  "kernelspec": {
   "display_name": "genAI",
   "language": "python",
   "name": "python3"
  },
  "language_info": {
   "codemirror_mode": {
    "name": "ipython",
    "version": 3
   },
   "file_extension": ".py",
   "mimetype": "text/x-python",
   "name": "python",
   "nbconvert_exporter": "python",
   "pygments_lexer": "ipython3",
   "version": "3.10.14"
  }
 },
 "nbformat": 4,
 "nbformat_minor": 2
}
