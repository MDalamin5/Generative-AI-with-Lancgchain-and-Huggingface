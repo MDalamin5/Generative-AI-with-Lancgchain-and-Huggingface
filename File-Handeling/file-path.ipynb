{
 "cells": [
  {
   "cell_type": "markdown",
   "metadata": {},
   "source": [
    "## Create a new directory"
   ]
  },
  {
   "cell_type": "code",
   "execution_count": 1,
   "metadata": {},
   "outputs": [],
   "source": [
    "new_directory = \"packages\"\n",
    "import os"
   ]
  },
  {
   "cell_type": "code",
   "execution_count": 2,
   "metadata": {},
   "outputs": [
    {
     "name": "stdout",
     "output_type": "stream",
     "text": [
      "Directory packages created\n"
     ]
    }
   ],
   "source": [
    "os.makedirs(new_directory)\n",
    "print(f\"Directory {new_directory} created\")"
   ]
  },
  {
   "cell_type": "code",
   "execution_count": 3,
   "metadata": {},
   "outputs": [
    {
     "name": "stdout",
     "output_type": "stream",
     "text": [
      "['destination.txt', 'example.txt', 'file-path.ipynb', 'fileOpenOperation.ipynb', 'hello.bin', 'hello.txt', 'more-about-file.ipynb', 'packages']\n"
     ]
    }
   ],
   "source": [
    "## listing file and directory\n",
    "item = os.listdir('.')\n",
    "print(item)"
   ]
  },
  {
   "cell_type": "markdown",
   "metadata": {},
   "source": [
    "## Joining Path"
   ]
  },
  {
   "cell_type": "code",
   "execution_count": 4,
   "metadata": {},
   "outputs": [
    {
     "name": "stdout",
     "output_type": "stream",
     "text": [
      "folder\\file.txt\n"
     ]
    }
   ],
   "source": [
    "dir_name = 'folder'\n",
    "file_name = 'file.txt'\n",
    "full_path = os.path.join(dir_name,file_name)\n",
    "print(full_path)"
   ]
  },
  {
   "cell_type": "code",
   "execution_count": 5,
   "metadata": {},
   "outputs": [
    {
     "name": "stdout",
     "output_type": "stream",
     "text": [
      "d:\\My-Projects\\Introduction-to-gen-AI\\File-Handeling\\folder\\file.txt\n"
     ]
    }
   ],
   "source": [
    "dir_name = 'folder'\n",
    "file_name = 'file.txt'\n",
    "full_path = os.path.join(os.getcwd(),dir_name,file_name)\n",
    "print(full_path)"
   ]
  },
  {
   "cell_type": "code",
   "execution_count": 6,
   "metadata": {},
   "outputs": [
    {
     "name": "stdout",
     "output_type": "stream",
     "text": [
      "not exist\n"
     ]
    }
   ],
   "source": [
    "path = 'hello1.txt'\n",
    "if os.path.exists(path):\n",
    "    print(f\"THe file {path} is exists\")\n",
    "else:\n",
    "    print('not exist')"
   ]
  },
  {
   "cell_type": "code",
   "execution_count": 7,
   "metadata": {},
   "outputs": [
    {
     "name": "stdout",
     "output_type": "stream",
     "text": [
      "The path  hello.txt  is a file\n"
     ]
    }
   ],
   "source": [
    "## Checking if a path is File or directory\n",
    "import os\n",
    "path = 'hello.txt'\n",
    "\n",
    "if os.path.isfile(path):\n",
    "    print(\"The path \", path, \" is a file\")\n",
    "elif os.path.isdir(path):\n",
    "    print(f\"The {path} is a directory\")\n",
    "else:\n",
    "    print(\"Its does not exists\")"
   ]
  },
  {
   "cell_type": "code",
   "execution_count": 8,
   "metadata": {},
   "outputs": [
    {
     "name": "stdout",
     "output_type": "stream",
     "text": [
      "d:\\My-Projects\\Introduction-to-gen-AI\\File-Handeling\\example.txt\n"
     ]
    }
   ],
   "source": [
    "## getting the absulate path\n",
    "relative_path = 'example.txt'\n",
    "abs_path = os.path.abspath(relative_path)\n",
    "print(abs_path)"
   ]
  },
  {
   "cell_type": "code",
   "execution_count": null,
   "metadata": {},
   "outputs": [],
   "source": []
  }
 ],
 "metadata": {
  "kernelspec": {
   "display_name": "torchGPU",
   "language": "python",
   "name": "python3"
  },
  "language_info": {
   "codemirror_mode": {
    "name": "ipython",
    "version": 3
   },
   "file_extension": ".py",
   "mimetype": "text/x-python",
   "name": "python",
   "nbconvert_exporter": "python",
   "pygments_lexer": "ipython3",
   "version": "3.12.4"
  }
 },
 "nbformat": 4,
 "nbformat_minor": 2
}
