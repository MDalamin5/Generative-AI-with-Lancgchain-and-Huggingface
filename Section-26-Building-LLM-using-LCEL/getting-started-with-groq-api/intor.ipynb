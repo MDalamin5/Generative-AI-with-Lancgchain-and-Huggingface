{
 "cells": [
  {
   "cell_type": "markdown",
   "metadata": {},
   "source": [
    "## Use Groq-api its open source and the LPU Engine"
   ]
  },
  {
   "cell_type": "code",
   "execution_count": 11,
   "metadata": {},
   "outputs": [
    {
     "data": {
      "text/plain": [
       "'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'"
      ]
     },
     "execution_count": 11,
     "metadata": {},
     "output_type": "execute_result"
    }
   ],
   "source": [
    "import os\n",
    "from dotenv import load_dotenv\n",
    "load_dotenv()\n",
    "\n",
    "groq_api_key = os.getenv(\"GROQ_API_KEY\")\n",
    "groq_api_key"
   ]
  },
  {
   "cell_type": "code",
   "execution_count": 14,
   "metadata": {},
   "outputs": [
    {
     "data": {
      "text/plain": [
       "ChatGroq(client=<groq.resources.chat.completions.Completions object at 0x0000025F4D7CD280>, async_client=<groq.resources.chat.completions.AsyncCompletions object at 0x0000025F4D7CCCE0>, model_name='gemma2-9b-it', model_kwargs={}, groq_api_key=SecretStr('**********'))"
      ]
     },
     "execution_count": 14,
     "metadata": {},
     "output_type": "execute_result"
    }
   ],
   "source": [
    "from langchain_groq import ChatGroq\n",
    "model = ChatGroq(model=\"gemma2-9b-it\", groq_api_key = groq_api_key)\n",
    "model"
   ]
  },
  {
   "cell_type": "code",
   "execution_count": 20,
   "metadata": {},
   "outputs": [
    {
     "data": {
      "text/plain": [
       "AIMessage(content='The most common way to say \"How are you?\" in Bangla is:\\n\\n**তুমি কেমন আছো?** (Tumi kemne acho?)\\n\\nThis is a polite and general way to ask someone how they are doing. \\n\\n\\nHere are some other ways to say it:\\n\\n* **কেমন আছো?** (Kemne acho?) -  This is a more informal version, used with friends and family.\\n* **কি হলো?** (Ki hlo?) - This literally means \"What happened?\" but is often used as a casual greeting meaning \"How are you?\".\\n\\nLet me know if you have any other questions!\\n', additional_kwargs={}, response_metadata={'token_usage': {'completion_tokens': 145, 'prompt_tokens': 21, 'total_tokens': 166, 'completion_time': 0.263636364, 'prompt_time': 0.001259474, 'queue_time': 0.059144525, 'total_time': 0.264895838}, 'model_name': 'gemma2-9b-it', 'system_fingerprint': 'fp_10c08bf97d', 'finish_reason': 'stop', 'logprobs': None}, id='run-6c4942d9-6290-4775-a913-795e705684d8-0', usage_metadata={'input_tokens': 21, 'output_tokens': 145, 'total_tokens': 166})"
      ]
     },
     "execution_count": 20,
     "metadata": {},
     "output_type": "execute_result"
    }
   ],
   "source": [
    "from langchain_core.messages import HumanMessage, SystemMessage\n",
    "\n",
    "messages = [\n",
    "    SystemMessage(content=\"Translate the following from English to Bangla\"),\n",
    "    HumanMessage(content=\"how are you?\")\n",
    "]\n",
    "\n",
    "result = model.invoke(messages)\n",
    "result"
   ]
  },
  {
   "cell_type": "code",
   "execution_count": 21,
   "metadata": {},
   "outputs": [
    {
     "data": {
      "text/plain": [
       "'The most common way to say \"How are you?\" in Bangla is:\\n\\n**তুমি কেমন আছো?** (Tumi kemne acho?)\\n\\nThis is a polite and general way to ask someone how they are doing. \\n\\n\\nHere are some other ways to say it:\\n\\n* **কেমন আছো?** (Kemne acho?) -  This is a more informal version, used with friends and family.\\n* **কি হলো?** (Ki hlo?) - This literally means \"What happened?\" but is often used as a casual greeting meaning \"How are you?\".\\n\\nLet me know if you have any other questions!\\n'"
      ]
     },
     "execution_count": 21,
     "metadata": {},
     "output_type": "execute_result"
    }
   ],
   "source": [
    "from langchain_core.output_parsers import StrOutputParser\n",
    "parser = StrOutputParser()\n",
    "parser.invoke(result)"
   ]
  },
  {
   "cell_type": "code",
   "execution_count": 23,
   "metadata": {},
   "outputs": [
    {
     "data": {
      "text/plain": [
       "'আপনি কি ভালো আছেন? (Apni ki bhalo acho?) \\n\\n\\nThis is the most common and polite way to ask \"how are you?\" in Bangla. \\n'"
      ]
     },
     "execution_count": 23,
     "metadata": {},
     "output_type": "execute_result"
    }
   ],
   "source": [
    "## Using LCEL - chain the components\n",
    "\n",
    "chain = model|parser\n",
    "chain.invoke(messages)"
   ]
  },
  {
   "cell_type": "code",
   "execution_count": 27,
   "metadata": {},
   "outputs": [],
   "source": [
    "## Prompt Templates\n",
    "from langchain_core.prompts import ChatPromptTemplate\n",
    "\n",
    "generic_template = \"Translate the following into {language}\"\n",
    "prompt = ChatPromptTemplate.from_messages(\n",
    "    [(\"system\", generic_template), (\"user\", \"{text}\")]\n",
    ")"
   ]
  },
  {
   "cell_type": "code",
   "execution_count": 32,
   "metadata": {},
   "outputs": [],
   "source": [
    "result = prompt.invoke({\"language\": \"Bangla\", \"text\": \"how are you today?\"})"
   ]
  },
  {
   "cell_type": "code",
   "execution_count": 33,
   "metadata": {},
   "outputs": [
    {
     "data": {
      "text/plain": [
       "[SystemMessage(content='Translate the following into Bangla', additional_kwargs={}, response_metadata={}),\n",
       " HumanMessage(content='how are you today?', additional_kwargs={}, response_metadata={})]"
      ]
     },
     "execution_count": 33,
     "metadata": {},
     "output_type": "execute_result"
    }
   ],
   "source": [
    "result.to_messages()"
   ]
  },
  {
   "cell_type": "code",
   "execution_count": 37,
   "metadata": {},
   "outputs": [
    {
     "data": {
      "text/plain": [
       "'আপনি আজ কেমন আছেন? (apon aaj kemon achhen?) \\n\\n\\nThis is a formal way to ask \"How are you today?\" in Bangla.  \\n'"
      ]
     },
     "execution_count": 37,
     "metadata": {},
     "output_type": "execute_result"
    }
   ],
   "source": [
    "chain=prompt|model|parser\n",
    "chain.invoke({\"language\": \"Bangla\", \"text\": \"How are you today\"})\n"
   ]
  },
  {
   "cell_type": "code",
   "execution_count": 39,
   "metadata": {},
   "outputs": [
    {
     "name": "stdout",
     "output_type": "stream",
     "text": [
      "Requirement already satisfied: sse_starlette in c:\\users\\lenovo\\anaconda3\\envs\\torchgpu\\lib\\site-packages (1.8.2)\n",
      "Requirement already satisfied: starlette in c:\\users\\lenovo\\anaconda3\\envs\\torchgpu\\lib\\site-packages (from sse_starlette) (0.38.6)\n",
      "Requirement already satisfied: uvicorn in c:\\users\\lenovo\\anaconda3\\envs\\torchgpu\\lib\\site-packages (from sse_starlette) (0.31.0)\n",
      "Requirement already satisfied: fastapi in c:\\users\\lenovo\\anaconda3\\envs\\torchgpu\\lib\\site-packages (from sse_starlette) (0.115.0)\n",
      "Requirement already satisfied: anyio in c:\\users\\lenovo\\anaconda3\\envs\\torchgpu\\lib\\site-packages (from sse_starlette) (4.4.0)\n",
      "Requirement already satisfied: idna>=2.8 in c:\\users\\lenovo\\anaconda3\\envs\\torchgpu\\lib\\site-packages (from anyio->sse_starlette) (3.7)\n",
      "Requirement already satisfied: sniffio>=1.1 in c:\\users\\lenovo\\anaconda3\\envs\\torchgpu\\lib\\site-packages (from anyio->sse_starlette) (1.3.1)\n",
      "Requirement already satisfied: pydantic!=1.8,!=1.8.1,!=2.0.0,!=2.0.1,!=2.1.0,<3.0.0,>=1.7.4 in c:\\users\\lenovo\\anaconda3\\envs\\torchgpu\\lib\\site-packages (from fastapi->sse_starlette) (2.9.2)\n",
      "Requirement already satisfied: typing-extensions>=4.8.0 in c:\\users\\lenovo\\anaconda3\\envs\\torchgpu\\lib\\site-packages (from fastapi->sse_starlette) (4.12.2)\n",
      "Requirement already satisfied: click>=7.0 in c:\\users\\lenovo\\anaconda3\\envs\\torchgpu\\lib\\site-packages (from uvicorn->sse_starlette) (8.1.7)\n",
      "Requirement already satisfied: h11>=0.8 in c:\\users\\lenovo\\anaconda3\\envs\\torchgpu\\lib\\site-packages (from uvicorn->sse_starlette) (0.14.0)\n",
      "Requirement already satisfied: colorama in c:\\users\\lenovo\\anaconda3\\envs\\torchgpu\\lib\\site-packages (from click>=7.0->uvicorn->sse_starlette) (0.4.6)\n",
      "Requirement already satisfied: annotated-types>=0.6.0 in c:\\users\\lenovo\\anaconda3\\envs\\torchgpu\\lib\\site-packages (from pydantic!=1.8,!=1.8.1,!=2.0.0,!=2.0.1,!=2.1.0,<3.0.0,>=1.7.4->fastapi->sse_starlette) (0.7.0)\n",
      "Requirement already satisfied: pydantic-core==2.23.4 in c:\\users\\lenovo\\anaconda3\\envs\\torchgpu\\lib\\site-packages (from pydantic!=1.8,!=1.8.1,!=2.0.0,!=2.0.1,!=2.1.0,<3.0.0,>=1.7.4->fastapi->sse_starlette) (2.23.4)\n"
     ]
    }
   ],
   "source": [
    "!pip install sse_starlette"
   ]
  },
  {
   "cell_type": "code",
   "execution_count": null,
   "metadata": {},
   "outputs": [],
   "source": []
  }
 ],
 "metadata": {
  "kernelspec": {
   "display_name": "torchGPU",
   "language": "python",
   "name": "python3"
  },
  "language_info": {
   "codemirror_mode": {
    "name": "ipython",
    "version": 3
   },
   "file_extension": ".py",
   "mimetype": "text/x-python",
   "name": "python",
   "nbconvert_exporter": "python",
   "pygments_lexer": "ipython3",
   "version": "3.12.4"
  }
 },
 "nbformat": 4,
 "nbformat_minor": 2
}
