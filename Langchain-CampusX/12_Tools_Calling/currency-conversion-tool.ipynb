{
 "cells": [
  {
   "cell_type": "code",
   "execution_count": 1,
   "id": "f1205a43",
   "metadata": {},
   "outputs": [
    {
     "data": {
      "text/plain": [
       "True"
      ]
     },
     "execution_count": 1,
     "metadata": {},
     "output_type": "execute_result"
    }
   ],
   "source": [
    "from langchain_core.tools import tool\n",
    "from langchain_core.messages import ToolMessage, HumanMessage\n",
    "from langchain_groq import ChatGroq\n",
    "from dotenv import load_dotenv\n",
    "from langchain_community.chat_message_histories import ChatMessageHistory\n",
    "from langchain_core.chat_history import BaseChatMessageHistory\n",
    "from langchain_core.runnables.history import RunnableWithMessageHistory\n",
    "import os\n",
    "import requests\n",
    "load_dotenv()"
   ]
  },
  {
   "cell_type": "code",
   "execution_count": 13,
   "id": "8efb5616",
   "metadata": {},
   "outputs": [],
   "source": [
    "groq_api_key=os.getenv(\"GORQ_API_KEY\")\n",
    "exchange_rate_api = os.getenv(\"EXCHANGE_RATE_API\")\n",
    "request_url = f\"https://v6.exchangerate-api.com/v6/{exchange_rate_api}/pair/USD/BDT\""
   ]
  },
  {
   "cell_type": "code",
   "execution_count": 3,
   "id": "e4a73b22",
   "metadata": {},
   "outputs": [
    {
     "data": {
      "text/plain": [
       "{'result': 'success',\n",
       " 'documentation': 'https://www.exchangerate-api.com/docs',\n",
       " 'terms_of_use': 'https://www.exchangerate-api.com/terms',\n",
       " 'time_last_update_unix': 1745798401,\n",
       " 'time_last_update_utc': 'Mon, 28 Apr 2025 00:00:01 +0000',\n",
       " 'time_next_update_unix': 1745884801,\n",
       " 'time_next_update_utc': 'Tue, 29 Apr 2025 00:00:01 +0000',\n",
       " 'base_code': 'USD',\n",
       " 'target_code': 'BDT',\n",
       " 'conversion_rate': 121.4694}"
      ]
     },
     "execution_count": 3,
     "metadata": {},
     "output_type": "execute_result"
    }
   ],
   "source": [
    "response = requests.get(request_url)\n",
    "response.json()"
   ]
  },
  {
   "cell_type": "markdown",
   "id": "97a883dd",
   "metadata": {},
   "source": [
    "## Create Two tool"
   ]
  },
  {
   "cell_type": "code",
   "execution_count": 16,
   "id": "92b54641",
   "metadata": {},
   "outputs": [],
   "source": [
    "@tool\n",
    "def get_conversion_factor(base_currency: str, target_currency: str) -> float:\n",
    "    \"\"\"\n",
    "    This function fetches the currency conversion factor between a given and base currency and target currency\n",
    "    \"\"\"\n",
    "    \n",
    "    request_url = f\"https://v6.exchangerate-api.com/v6/{exchange_rate_api}/pair/{base_currency}/{target_currency}\"\n",
    "    response = requests.get(request_url)\n",
    "    \n",
    "    return response.json()\n",
    "\n",
    "@tool\n",
    "def convert(base_currency: int, conversion_rate: float) -> float:\n",
    "    \"\"\"\n",
    "    given a currency conversion rate this function calculate the target currency value from a given base currency value.\n",
    "    \"\"\"\n",
    "    \n",
    "    return base_currency*conversion_rate"
   ]
  },
  {
   "cell_type": "markdown",
   "id": "c0844fe2",
   "metadata": {},
   "source": [
    "## Checking"
   ]
  },
  {
   "cell_type": "code",
   "execution_count": null,
   "id": "ec919621",
   "metadata": {},
   "outputs": [
    {
     "data": {
      "text/plain": [
       "{'result': 'success',\n",
       " 'documentation': 'https://www.exchangerate-api.com/docs',\n",
       " 'terms_of_use': 'https://www.exchangerate-api.com/terms',\n",
       " 'time_last_update_unix': 1745798401,\n",
       " 'time_last_update_utc': 'Mon, 28 Apr 2025 00:00:01 +0000',\n",
       " 'time_next_update_unix': 1745884801,\n",
       " 'time_next_update_utc': 'Tue, 29 Apr 2025 00:00:01 +0000',\n",
       " 'base_code': 'USD',\n",
       " 'target_code': 'BDT',\n",
       " 'conversion_rate': 121.4694}"
      ]
     },
     "execution_count": 5,
     "metadata": {},
     "output_type": "execute_result"
    }
   ],
   "source": [
    "# checking\n",
    "get_conversion_factor.invoke(\n",
    "    {\n",
    "        \"base_currency\": \"USD\",\n",
    "        \"target_currency\": \"BDT\"\n",
    "    }\n",
    ")"
   ]
  },
  {
   "cell_type": "code",
   "execution_count": 8,
   "id": "f9c9fcc4",
   "metadata": {},
   "outputs": [
    {
     "data": {
      "text/plain": [
       "12146.939999999999"
      ]
     },
     "execution_count": 8,
     "metadata": {},
     "output_type": "execute_result"
    }
   ],
   "source": [
    "convert.invoke(\n",
    "    {\n",
    "        \"base_currency\": 100,\n",
    "        \"conversion_rate\": 121.4694\n",
    "    }\n",
    ")"
   ]
  },
  {
   "cell_type": "markdown",
   "id": "cd67b97b",
   "metadata": {},
   "source": [
    "## Do the tool binding"
   ]
  },
  {
   "cell_type": "code",
   "execution_count": 14,
   "id": "450366d5",
   "metadata": {},
   "outputs": [],
   "source": [
    "llm = ChatGroq(model_name=\"meta-llama/llama-4-scout-17b-16e-instruct\", groq_api_key=groq_api_key, temperature=0.4)"
   ]
  },
  {
   "cell_type": "code",
   "execution_count": 18,
   "id": "2bd1bb32",
   "metadata": {},
   "outputs": [
    {
     "data": {
      "text/plain": [
       "RunnableBinding(bound=ChatGroq(client=<groq.resources.chat.completions.Completions object at 0x0000024499358050>, async_client=<groq.resources.chat.completions.AsyncCompletions object at 0x000002449935A900>, model_name='meta-llama/llama-4-scout-17b-16e-instruct', temperature=0.4, model_kwargs={}), kwargs={'tools': [{'type': 'function', 'function': {'name': 'get_conversion_factor', 'description': 'This function fetches the currency conversion factor between a given and base currency and target currency', 'parameters': {'properties': {'base_currency': {'type': 'string'}, 'target_currency': {'type': 'string'}}, 'required': ['base_currency', 'target_currency'], 'type': 'object'}}}, {'type': 'function', 'function': {'name': 'convert', 'description': 'given a currency conversion rate this function calculate the target currency value from a given base currency value.', 'parameters': {'properties': {'base_currency': {'type': 'integer'}, 'conversion_rate': {'type': 'number'}}, 'required': ['base_currency', 'conversion_rate'], 'type': 'object'}}}]}, config={}, config_factories=[])"
      ]
     },
     "execution_count": 18,
     "metadata": {},
     "output_type": "execute_result"
    }
   ],
   "source": [
    "llm_with_tools = llm.bind_tools([get_conversion_factor, convert])\n",
    "llm_with_tools"
   ]
  },
  {
   "cell_type": "code",
   "execution_count": 19,
   "id": "486134d8",
   "metadata": {},
   "outputs": [],
   "source": [
    "messages = [\n",
    "    HumanMessage(content=\"What is the conversion factor between USD to BDT, and based on can you convert 15 USD to Bangladesh Taka.\")\n",
    "]"
   ]
  },
  {
   "cell_type": "code",
   "execution_count": 20,
   "id": "4c6cc0f6",
   "metadata": {},
   "outputs": [
    {
     "data": {
      "text/plain": [
       "[HumanMessage(content='What is the conversion factor between USD to BDT, and based on can you convert 15 USD to Bangladesh Taka.', additional_kwargs={}, response_metadata={})]"
      ]
     },
     "execution_count": 20,
     "metadata": {},
     "output_type": "execute_result"
    }
   ],
   "source": [
    "messages"
   ]
  },
  {
   "cell_type": "code",
   "execution_count": 22,
   "id": "2b5fef12",
   "metadata": {},
   "outputs": [
    {
     "data": {
      "text/plain": [
       "AIMessage(content='', additional_kwargs={'tool_calls': [{'id': 'call_5gfj', 'function': {'arguments': '{\"base_currency\": \"USD\", \"target_currency\": \"BDT\"}', 'name': 'get_conversion_factor'}, 'type': 'function'}, {'id': 'call_nwdr', 'function': {'arguments': '{\"base_currency\": 15, \"conversion_rate\": 110.25}', 'name': 'convert'}, 'type': 'function'}]}, response_metadata={'token_usage': {'completion_tokens': 46, 'prompt_tokens': 335, 'total_tokens': 381, 'completion_time': 0.090089477, 'prompt_time': 0.010542848, 'queue_time': 0.048888388, 'total_time': 0.100632325}, 'model_name': 'meta-llama/llama-4-scout-17b-16e-instruct', 'system_fingerprint': 'fp_37da608fc1', 'finish_reason': 'tool_calls', 'logprobs': None}, id='run-47a7030b-ccaf-4ff1-9db4-cfd00fcf3d08-0', tool_calls=[{'name': 'get_conversion_factor', 'args': {'base_currency': 'USD', 'target_currency': 'BDT'}, 'id': 'call_5gfj', 'type': 'tool_call'}, {'name': 'convert', 'args': {'base_currency': 15, 'conversion_rate': 110.25}, 'id': 'call_nwdr', 'type': 'tool_call'}], usage_metadata={'input_tokens': 335, 'output_tokens': 46, 'total_tokens': 381})"
      ]
     },
     "execution_count": 22,
     "metadata": {},
     "output_type": "execute_result"
    }
   ],
   "source": [
    "ai_messages = llm_with_tools.invoke(messages)\n",
    "ai_messages"
   ]
  },
  {
   "cell_type": "code",
   "execution_count": null,
   "id": "eaffe63a",
   "metadata": {},
   "outputs": [
    {
     "data": {
      "text/plain": [
       "[{'name': 'get_conversion_factor',\n",
       "  'args': {'base_currency': 'USD', 'target_currency': 'BDT'},\n",
       "  'id': 'call_5gfj',\n",
       "  'type': 'tool_call'},\n",
       " {'name': 'convert',\n",
       "  'args': {'base_currency': 15, 'conversion_rate': 110.25},\n",
       "  'id': 'call_nwdr',\n",
       "  'type': 'tool_call'}]"
      ]
     },
     "execution_count": 23,
     "metadata": {},
     "output_type": "execute_result"
    }
   ],
   "source": [
    "\n",
    "ai_messages.tool_calls"
   ]
  },
  {
   "cell_type": "markdown",
   "id": "45054ee0",
   "metadata": {},
   "source": [
    "`Did you see the problem two tools are executed automatically where fist tools are execution is correct but second tools is incorrect because first tool value as the input of the second tool. But hare is the problem like llm automatically set a random value.`\n",
    "\n",
    "**Now fixed this problem**"
   ]
  },
  {
   "cell_type": "code",
   "execution_count": 24,
   "id": "f1cf62bb",
   "metadata": {},
   "outputs": [],
   "source": [
    "from langchain_core.tools import InjectedToolArg\n",
    "from typing import Annotated\n",
    "## this two libre will be to solve this problem."
   ]
  },
  {
   "cell_type": "markdown",
   "id": "ccf91fb2",
   "metadata": {},
   "source": [
    "## ***Again define the tools***"
   ]
  },
  {
   "cell_type": "code",
   "execution_count": 27,
   "id": "c093d30a",
   "metadata": {},
   "outputs": [],
   "source": [
    "@tool\n",
    "def get_conversion_factor(base_currency: str, target_currency: str) -> float:\n",
    "    \"\"\"\n",
    "    This function fetches the currency conversion factor between a given and base currency and target currency\n",
    "    \"\"\"\n",
    "    \n",
    "    request_url = f\"https://v6.exchangerate-api.com/v6/{exchange_rate_api}/pair/{base_currency}/{target_currency}\"\n",
    "    response = requests.get(request_url)\n",
    "    \n",
    "    return response.json()\n",
    "\n",
    "@tool\n",
    "def convert(base_currency: int, conversion_rate: Annotated[float, InjectedToolArg]) -> float:  ## This tile llm will not set the conversion rate value for this InjectedToolsArgs\n",
    "    \"\"\"\n",
    "    given a currency conversion rate this function calculate the target currency value from a given base currency value.\n",
    "    \"\"\"\n",
    "    \n",
    "    return base_currency*conversion_rate"
   ]
  },
  {
   "cell_type": "code",
   "execution_count": 28,
   "id": "a4b44620",
   "metadata": {},
   "outputs": [
    {
     "data": {
      "text/plain": [
       "RunnableBinding(bound=ChatGroq(client=<groq.resources.chat.completions.Completions object at 0x0000024499358050>, async_client=<groq.resources.chat.completions.AsyncCompletions object at 0x000002449935A900>, model_name='meta-llama/llama-4-scout-17b-16e-instruct', temperature=0.4, model_kwargs={}), kwargs={'tools': [{'type': 'function', 'function': {'name': 'get_conversion_factor', 'description': 'This function fetches the currency conversion factor between a given and base currency and target currency', 'parameters': {'properties': {'base_currency': {'type': 'string'}, 'target_currency': {'type': 'string'}}, 'required': ['base_currency', 'target_currency'], 'type': 'object'}}}, {'type': 'function', 'function': {'name': 'convert', 'description': 'given a currency conversion rate this function calculate the target currency value from a given base currency value.', 'parameters': {'properties': {'base_currency': {'type': 'integer'}}, 'required': ['base_currency'], 'type': 'object'}}}]}, config={}, config_factories=[])"
      ]
     },
     "execution_count": 28,
     "metadata": {},
     "output_type": "execute_result"
    }
   ],
   "source": [
    "llm_with_tools = llm.bind_tools([get_conversion_factor, convert])\n",
    "llm_with_tools"
   ]
  },
  {
   "cell_type": "code",
   "execution_count": 29,
   "id": "ba7d3e49",
   "metadata": {},
   "outputs": [],
   "source": [
    "messages = [\n",
    "    HumanMessage(content=\"What is the conversion factor between USD to BDT, and based on can you convert 15 USD to Bangladesh Taka.\")\n",
    "]"
   ]
  },
  {
   "cell_type": "code",
   "execution_count": 30,
   "id": "8513911e",
   "metadata": {},
   "outputs": [
    {
     "data": {
      "text/plain": [
       "[{'name': 'get_conversion_factor',\n",
       "  'args': {'base_currency': 'USD', 'target_currency': 'BDT'},\n",
       "  'id': 'call_5dvw',\n",
       "  'type': 'tool_call'},\n",
       " {'name': 'convert',\n",
       "  'args': {'base_currency': 15},\n",
       "  'id': 'call_5qte',\n",
       "  'type': 'tool_call'}]"
      ]
     },
     "execution_count": 30,
     "metadata": {},
     "output_type": "execute_result"
    }
   ],
   "source": [
    "ai_messages = llm_with_tools.invoke(messages)\n",
    "ai_messages.tool_calls"
   ]
  },
  {
   "cell_type": "code",
   "execution_count": 31,
   "id": "dca52308",
   "metadata": {},
   "outputs": [
    {
     "data": {
      "text/plain": [
       "[HumanMessage(content='What is the conversion factor between USD to BDT, and based on can you convert 15 USD to Bangladesh Taka.', additional_kwargs={}, response_metadata={}),\n",
       " AIMessage(content='', additional_kwargs={'tool_calls': [{'id': 'call_5dvw', 'function': {'arguments': '{\"base_currency\": \"USD\", \"target_currency\": \"BDT\"}', 'name': 'get_conversion_factor'}, 'type': 'function'}, {'id': 'call_5qte', 'function': {'arguments': '{\"base_currency\": 15}', 'name': 'convert'}, 'type': 'function'}]}, response_metadata={'token_usage': {'completion_tokens': 37, 'prompt_tokens': 325, 'total_tokens': 362, 'completion_time': 0.072542154, 'prompt_time': 0.010478629, 'queue_time': 0.049198531000000004, 'total_time': 0.083020783}, 'model_name': 'meta-llama/llama-4-scout-17b-16e-instruct', 'system_fingerprint': 'fp_37da608fc1', 'finish_reason': 'tool_calls', 'logprobs': None}, id='run-3a30e5d6-e109-4b83-a62e-5d948dd86841-0', tool_calls=[{'name': 'get_conversion_factor', 'args': {'base_currency': 'USD', 'target_currency': 'BDT'}, 'id': 'call_5dvw', 'type': 'tool_call'}, {'name': 'convert', 'args': {'base_currency': 15}, 'id': 'call_5qte', 'type': 'tool_call'}], usage_metadata={'input_tokens': 325, 'output_tokens': 37, 'total_tokens': 362})]"
      ]
     },
     "execution_count": 31,
     "metadata": {},
     "output_type": "execute_result"
    }
   ],
   "source": [
    "messages.append(ai_messages)\n",
    "messages"
   ]
  },
  {
   "cell_type": "markdown",
   "id": "37f6e1ab",
   "metadata": {},
   "source": [
    "## Now time to execute this tool calls"
   ]
  },
  {
   "cell_type": "code",
   "execution_count": 37,
   "id": "f86d00e6",
   "metadata": {},
   "outputs": [],
   "source": [
    "import json\n",
    "\n",
    "for tool_call in ai_messages.tool_calls:\n",
    "    # execute the 1st tool and get value of conversion rate\n",
    "    if tool_call['name'] == \"get_conversion_factor\":\n",
    "        tool_messages_1 = get_conversion_factor.invoke(tool_call)\n",
    "        # fetch the conversion rate\n",
    "        conversion_rate = json.loads(tool_messages_1.content)['conversion_rate']\n",
    "        # append this tool messages into the messages history\n",
    "        messages.append(tool_messages_1)\n",
    "    # execute the second tool using the conversion rate from the tool1\n",
    "    \n",
    "    if tool_call['name'] == \"convert\":\n",
    "        # fetch the current arg\n",
    "        tool_call['args']['conversion_rate'] = conversion_rate\n",
    "        tool_messages_2 = convert.invoke(tool_call)\n",
    "        messages.append(tool_messages_2)"
   ]
  },
  {
   "cell_type": "code",
   "execution_count": 38,
   "id": "49b28198",
   "metadata": {},
   "outputs": [
    {
     "data": {
      "text/plain": [
       "[HumanMessage(content='What is the conversion factor between USD to BDT, and based on can you convert 15 USD to Bangladesh Taka.', additional_kwargs={}, response_metadata={}),\n",
       " AIMessage(content='', additional_kwargs={'tool_calls': [{'id': 'call_5dvw', 'function': {'arguments': '{\"base_currency\": \"USD\", \"target_currency\": \"BDT\"}', 'name': 'get_conversion_factor'}, 'type': 'function'}, {'id': 'call_5qte', 'function': {'arguments': '{\"base_currency\": 15}', 'name': 'convert'}, 'type': 'function'}]}, response_metadata={'token_usage': {'completion_tokens': 37, 'prompt_tokens': 325, 'total_tokens': 362, 'completion_time': 0.072542154, 'prompt_time': 0.010478629, 'queue_time': 0.049198531000000004, 'total_time': 0.083020783}, 'model_name': 'meta-llama/llama-4-scout-17b-16e-instruct', 'system_fingerprint': 'fp_37da608fc1', 'finish_reason': 'tool_calls', 'logprobs': None}, id='run-3a30e5d6-e109-4b83-a62e-5d948dd86841-0', tool_calls=[{'name': 'get_conversion_factor', 'args': {'base_currency': 'USD', 'target_currency': 'BDT'}, 'id': 'call_5dvw', 'type': 'tool_call'}, {'name': 'convert', 'args': {'base_currency': 15, 'conversion_rate': 121.4694}, 'id': 'call_5qte', 'type': 'tool_call'}], usage_metadata={'input_tokens': 325, 'output_tokens': 37, 'total_tokens': 362}),\n",
       " ToolMessage(content='{\"result\": \"success\", \"documentation\": \"https://www.exchangerate-api.com/docs\", \"terms_of_use\": \"https://www.exchangerate-api.com/terms\", \"time_last_update_unix\": 1745798401, \"time_last_update_utc\": \"Mon, 28 Apr 2025 00:00:01 +0000\", \"time_next_update_unix\": 1745884801, \"time_next_update_utc\": \"Tue, 29 Apr 2025 00:00:01 +0000\", \"base_code\": \"USD\", \"target_code\": \"BDT\", \"conversion_rate\": 121.4694}', name='get_conversion_factor', tool_call_id='call_5dvw'),\n",
       " ToolMessage(content='1822.041', name='convert', tool_call_id='call_5qte')]"
      ]
     },
     "execution_count": 38,
     "metadata": {},
     "output_type": "execute_result"
    }
   ],
   "source": [
    "messages"
   ]
  },
  {
   "cell_type": "code",
   "execution_count": 39,
   "id": "3bc9dc32",
   "metadata": {},
   "outputs": [
    {
     "data": {
      "text/plain": [
       "'The conversion factor between USD to BDT is 121.4694. \\n15 USD is equivalent to 1822.041 Bangladesh Taka.'"
      ]
     },
     "execution_count": 39,
     "metadata": {},
     "output_type": "execute_result"
    }
   ],
   "source": [
    "llm_with_tools.invoke(messages).content"
   ]
  },
  {
   "cell_type": "markdown",
   "id": "935b6c3c",
   "metadata": {},
   "source": [
    "## More interesting messages is Its is not a Ai agent.\n",
    "\n",
    "### How a agent work -- autonomously\n",
    "### My system works -- manually\n",
    "\n",
    "## ***Agent workflow***\n",
    "1. User says: \"convert 15usd to bdt\n",
    "2. llm thinks: i don't know the rate, so first call the get conversion factor\n",
    "3. tool result is 121.4694\n",
    "4. llm look at the result, and think again: now i know the rate now i should call the convert with the 15 and 120.4694\n",
    "5. tool result: 1822.041\n",
    "6. llm summarizes result: The conversion factor between USD to BDT is 121.4694. \\n15 USD is equivalent to 1822.041 Bangladesh Taka."
   ]
  }
 ],
 "metadata": {
  "kernelspec": {
   "display_name": "torchGPU",
   "language": "python",
   "name": "python3"
  },
  "language_info": {
   "codemirror_mode": {
    "name": "ipython",
    "version": 3
   },
   "file_extension": ".py",
   "mimetype": "text/x-python",
   "name": "python",
   "nbconvert_exporter": "python",
   "pygments_lexer": "ipython3",
   "version": "3.12.4"
  }
 },
 "nbformat": 4,
 "nbformat_minor": 5
}
