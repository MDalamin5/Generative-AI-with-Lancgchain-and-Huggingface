{
 "cells": [
  {
   "cell_type": "markdown",
   "id": "cfc0a50d",
   "metadata": {},
   "source": [
    "# ***Tool Calling***\n",
    "- `tool binding`: is the step where your register tools with your langChain model so that \n",
    "    - llm know that how many tools are available\n",
    "    - each tools what it does\n",
    "    - input schema"
   ]
  },
  {
   "cell_type": "code",
   "execution_count": 14,
   "id": "6aa80686",
   "metadata": {},
   "outputs": [
    {
     "data": {
      "text/plain": [
       "True"
      ]
     },
     "execution_count": 14,
     "metadata": {},
     "output_type": "execute_result"
    }
   ],
   "source": [
    "import os\n",
    "from dotenv import load_dotenv\n",
    "from langchain_groq import ChatGroq\n",
    "from langchain_core.tools import tool\n",
    "from langchain_core.messages import HumanMessage, SystemMessage, AIMessage\n",
    "load_dotenv()"
   ]
  },
  {
   "cell_type": "code",
   "execution_count": 15,
   "id": "b58c7edf",
   "metadata": {},
   "outputs": [],
   "source": [
    "llm = ChatGroq(model_name=\"meta-llama/llama-4-scout-17b-16e-instruct\")"
   ]
  },
  {
   "cell_type": "markdown",
   "id": "69e7f98f",
   "metadata": {},
   "source": [
    "## Creating Tools"
   ]
  },
  {
   "cell_type": "code",
   "execution_count": 17,
   "id": "f140e0ba",
   "metadata": {},
   "outputs": [],
   "source": [
    "@tool\n",
    "def multiply(a: int, b: int) -> int:\n",
    "    \"\"\"Given 2 integer number a and b this tool return their product\"\"\"\n",
    "    return a*b"
   ]
  },
  {
   "cell_type": "code",
   "execution_count": 18,
   "id": "b3cce06d",
   "metadata": {},
   "outputs": [
    {
     "name": "stdout",
     "output_type": "stream",
     "text": [
      "{'description': 'Given 2 integer number a and b this tool return their product', 'properties': {'a': {'title': 'A', 'type': 'integer'}, 'b': {'title': 'B', 'type': 'integer'}}, 'required': ['a', 'b'], 'title': 'multiply', 'type': 'object'}\n"
     ]
    }
   ],
   "source": [
    "print(multiply.args_schema.model_json_schema())"
   ]
  },
  {
   "cell_type": "markdown",
   "id": "cbdcaf9f",
   "metadata": {},
   "source": [
    "## Tool Binding with chat memory"
   ]
  },
  {
   "cell_type": "code",
   "execution_count": 20,
   "id": "686fc23f",
   "metadata": {},
   "outputs": [],
   "source": [
    "## Memory\n",
    "from langchain_community.chat_message_histories import ChatMessageHistory\n",
    "from langchain_core.chat_history import BaseChatMessageHistory\n",
    "from langchain_core.runnables.history import RunnableWithMessageHistory"
   ]
  },
  {
   "cell_type": "code",
   "execution_count": 21,
   "id": "9553fc32",
   "metadata": {},
   "outputs": [],
   "source": [
    "llm_with_tools = llm.bind_tools([multiply])"
   ]
  },
  {
   "cell_type": "code",
   "execution_count": 55,
   "id": "df3ad75f",
   "metadata": {},
   "outputs": [],
   "source": [
    "store = {}\n",
    "def get_session_history(session_id:str)->BaseChatMessageHistory:\n",
    "    if session_id not in store:\n",
    "        store[session_id] = ChatMessageHistory()\n",
    "    return store[session_id]\n",
    "\n",
    "llm_with_tools_with_message_history = RunnableWithMessageHistory(llm_with_tools, get_session_history)"
   ]
  },
  {
   "cell_type": "code",
   "execution_count": 25,
   "id": "3ca5d9b7",
   "metadata": {},
   "outputs": [],
   "source": [
    "config = {\"configurable\": {\"session_id\": \"chat1\"}}"
   ]
  },
  {
   "cell_type": "code",
   "execution_count": 27,
   "id": "ff8b5e88",
   "metadata": {},
   "outputs": [
    {
     "data": {
      "text/plain": [
       "AIMessage(content=\"It's nice to meet you. Is there something I can help you with or would you like to chat?\", additional_kwargs={}, response_metadata={'token_usage': {'completion_tokens': 22, 'prompt_tokens': 212, 'total_tokens': 234, 'completion_time': 0.043243787, 'prompt_time': 0.007473449, 'queue_time': 0.045381562, 'total_time': 0.050717236}, 'model_name': 'meta-llama/llama-4-scout-17b-16e-instruct', 'system_fingerprint': 'fp_42ae451038', 'finish_reason': 'stop', 'logprobs': None}, id='run-bc691ff1-dc9c-49ff-8959-ccd025bf791c-0', usage_metadata={'input_tokens': 212, 'output_tokens': 22, 'total_tokens': 234})"
      ]
     },
     "execution_count": 27,
     "metadata": {},
     "output_type": "execute_result"
    }
   ],
   "source": [
    "response = llm_with_tools_with_message_history.invoke(\n",
    "    [\n",
    "        HumanMessage(content=\"Hello sir\")\n",
    "    ],\n",
    "    config=config\n",
    ")\n",
    "response"
   ]
  },
  {
   "cell_type": "code",
   "execution_count": 29,
   "id": "a0f6ba84",
   "metadata": {},
   "outputs": [
    {
     "data": {
      "text/plain": [
       "{'chat1': InMemoryChatMessageHistory(messages=[HumanMessage(content='Hello sir', additional_kwargs={}, response_metadata={}), AIMessage(content=\"It's nice to meet you. Is there something I can help you with or would you like to chat?\", additional_kwargs={}, response_metadata={'token_usage': {'completion_tokens': 22, 'prompt_tokens': 212, 'total_tokens': 234, 'completion_time': 0.043243787, 'prompt_time': 0.007473449, 'queue_time': 0.045381562, 'total_time': 0.050717236}, 'model_name': 'meta-llama/llama-4-scout-17b-16e-instruct', 'system_fingerprint': 'fp_42ae451038', 'finish_reason': 'stop', 'logprobs': None}, id='run-bc691ff1-dc9c-49ff-8959-ccd025bf791c-0', usage_metadata={'input_tokens': 212, 'output_tokens': 22, 'total_tokens': 234})])}"
      ]
     },
     "execution_count": 29,
     "metadata": {},
     "output_type": "execute_result"
    }
   ],
   "source": [
    "store"
   ]
  },
  {
   "cell_type": "markdown",
   "id": "0e467961",
   "metadata": {},
   "source": [
    "# ***Tool calling***\n",
    "- `Tool calling` is process where the llm decides, during a conversation or task, that it needs to use a specific tool(function) - and generates a structured output with\n",
    "    - the name of the tool\n",
    "    - and the arguments to call it with\n",
    "- The main magics is\n",
    "    - The llm does not actually run the tool it just suggest the tool and the input arguments. the actual execution is handled by LangChain or Programmer"
   ]
  },
  {
   "cell_type": "markdown",
   "id": "0bbf2a50",
   "metadata": {},
   "source": [
    "## tools use in the query"
   ]
  },
  {
   "cell_type": "code",
   "execution_count": 32,
   "id": "2438982b",
   "metadata": {},
   "outputs": [
    {
     "data": {
      "text/plain": [
       "AIMessage(content='', additional_kwargs={'tool_calls': [{'id': 'call_1hb8', 'function': {'arguments': '{\"a\": 4, \"b\": 5}', 'name': 'multiply'}, 'type': 'function'}]}, response_metadata={'token_usage': {'completion_tokens': 20, 'prompt_tokens': 217, 'total_tokens': 237, 'completion_time': 0.039360991, 'prompt_time': 0.007575367, 'queue_time': 0.211975577, 'total_time': 0.046936358}, 'model_name': 'meta-llama/llama-4-scout-17b-16e-instruct', 'system_fingerprint': 'fp_42ae451038', 'finish_reason': 'tool_calls', 'logprobs': None}, id='run-80e4d31e-8bee-42fa-9ad1-91dcf1dae121-0', tool_calls=[{'name': 'multiply', 'args': {'a': 4, 'b': 5}, 'id': 'call_1hb8', 'type': 'tool_call'}], usage_metadata={'input_tokens': 217, 'output_tokens': 20, 'total_tokens': 237})"
      ]
     },
     "execution_count": 32,
     "metadata": {},
     "output_type": "execute_result"
    }
   ],
   "source": [
    "response = llm_with_tools.invoke(\"can you multiply the 4 with 5\")\n",
    "response"
   ]
  },
  {
   "cell_type": "markdown",
   "id": "70308ce2",
   "metadata": {},
   "source": [
    "### see tool call did not give the answer its just provide tools name and output format"
   ]
  },
  {
   "cell_type": "code",
   "execution_count": 33,
   "id": "a4776218",
   "metadata": {},
   "outputs": [
    {
     "data": {
      "text/plain": [
       "[{'name': 'multiply',\n",
       "  'args': {'a': 4, 'b': 5},\n",
       "  'id': 'call_1hb8',\n",
       "  'type': 'tool_call'}]"
      ]
     },
     "execution_count": 33,
     "metadata": {},
     "output_type": "execute_result"
    }
   ],
   "source": [
    "response.tool_calls"
   ]
  },
  {
   "cell_type": "code",
   "execution_count": 34,
   "id": "c47262a1",
   "metadata": {},
   "outputs": [
    {
     "data": {
      "text/plain": [
       "{'name': 'multiply',\n",
       " 'args': {'a': 4, 'b': 5},\n",
       " 'id': 'call_1hb8',\n",
       " 'type': 'tool_call'}"
      ]
     },
     "execution_count": 34,
     "metadata": {},
     "output_type": "execute_result"
    }
   ],
   "source": [
    "response.tool_calls[0]"
   ]
  },
  {
   "cell_type": "markdown",
   "id": "64de0cb5",
   "metadata": {},
   "source": [
    "## ***Tools Execution*** Now execution by Programmer"
   ]
  },
  {
   "cell_type": "code",
   "execution_count": 36,
   "id": "4dab4fd0",
   "metadata": {},
   "outputs": [
    {
     "data": {
      "text/plain": [
       "{'a': 4, 'b': 5}"
      ]
     },
     "execution_count": 36,
     "metadata": {},
     "output_type": "execute_result"
    }
   ],
   "source": [
    "parameter = response.tool_calls[0]['args']\n",
    "parameter"
   ]
  },
  {
   "cell_type": "code",
   "execution_count": 37,
   "id": "e381f3de",
   "metadata": {},
   "outputs": [
    {
     "data": {
      "text/plain": [
       "20"
      ]
     },
     "execution_count": 37,
     "metadata": {},
     "output_type": "execute_result"
    }
   ],
   "source": [
    "multiply.invoke(\n",
    "    parameter\n",
    ")"
   ]
  },
  {
   "cell_type": "markdown",
   "id": "76a1fdaf",
   "metadata": {},
   "source": [
    "## See the magics if you pass the all content in invoking time\n",
    "### New Messages `ToolMessages`"
   ]
  },
  {
   "cell_type": "code",
   "execution_count": 38,
   "id": "ac011525",
   "metadata": {},
   "outputs": [
    {
     "data": {
      "text/plain": [
       "ToolMessage(content='20', name='multiply', tool_call_id='call_1hb8')"
      ]
     },
     "execution_count": 38,
     "metadata": {},
     "output_type": "execute_result"
    }
   ],
   "source": [
    "multiply.invoke(\n",
    "    {'name': 'multiply',\n",
    "    'args': {'a': 4, 'b': 5},\n",
    "    'id': 'call_1hb8',\n",
    "    'type': 'tool_call'}\n",
    ")"
   ]
  },
  {
   "cell_type": "markdown",
   "id": "7f23b4d7",
   "metadata": {},
   "source": [
    "## Lets do it at a time"
   ]
  },
  {
   "cell_type": "code",
   "execution_count": 56,
   "id": "425b1351",
   "metadata": {},
   "outputs": [
    {
     "data": {
      "text/plain": [
       "{}"
      ]
     },
     "execution_count": 56,
     "metadata": {},
     "output_type": "execute_result"
    }
   ],
   "source": [
    "store"
   ]
  },
  {
   "cell_type": "code",
   "execution_count": 62,
   "id": "9b778741",
   "metadata": {},
   "outputs": [],
   "source": [
    "config = {\"configurable\": {\"session_id\": \"chat3\"}}"
   ]
  },
  {
   "cell_type": "code",
   "execution_count": 63,
   "id": "36b3c094",
   "metadata": {},
   "outputs": [
    {
     "data": {
      "text/plain": [
       "AIMessage(content='', additional_kwargs={'tool_calls': [{'id': 'call_dc9n', 'function': {'arguments': '{\"a\": 4, \"b\": 500}', 'name': 'multiply'}, 'type': 'function'}]}, response_metadata={'token_usage': {'completion_tokens': 20, 'prompt_tokens': 216, 'total_tokens': 236, 'completion_time': 0.039348217, 'prompt_time': 0.007775421, 'queue_time': 0.044525185, 'total_time': 0.047123638}, 'model_name': 'meta-llama/llama-4-scout-17b-16e-instruct', 'system_fingerprint': 'fp_42ae451038', 'finish_reason': 'tool_calls', 'logprobs': None}, id='run-3593f110-8881-40df-9eb9-fde6c17364a0-0', tool_calls=[{'name': 'multiply', 'args': {'a': 4, 'b': 500}, 'id': 'call_dc9n', 'type': 'tool_call'}], usage_metadata={'input_tokens': 216, 'output_tokens': 20, 'total_tokens': 236})"
      ]
     },
     "execution_count": 63,
     "metadata": {},
     "output_type": "execute_result"
    }
   ],
   "source": [
    "tool_messages_response = llm_with_tools_with_message_history.invoke(\n",
    "    [\n",
    "        HumanMessage(content='can you multiply 4 with 500')\n",
    "    ],\n",
    "    config=config\n",
    ")\n",
    "tool_messages_response"
   ]
  },
  {
   "cell_type": "code",
   "execution_count": 64,
   "id": "9868e4b1",
   "metadata": {},
   "outputs": [
    {
     "data": {
      "text/plain": [
       "{'name': 'multiply',\n",
       " 'args': {'a': 4, 'b': 500},\n",
       " 'id': 'call_dc9n',\n",
       " 'type': 'tool_call'}"
      ]
     },
     "execution_count": 64,
     "metadata": {},
     "output_type": "execute_result"
    }
   ],
   "source": [
    "tool_messages_response.tool_calls[0]"
   ]
  },
  {
   "cell_type": "code",
   "execution_count": null,
   "id": "7e25f93b",
   "metadata": {},
   "outputs": [],
   "source": [
    "from langchain_core.messages import ToolMessage\n"
   ]
  },
  {
   "cell_type": "code",
   "execution_count": 65,
   "id": "b5e462a9",
   "metadata": {},
   "outputs": [
    {
     "data": {
      "text/plain": [
       "AIMessage(content='The result of multiplying 4 by 500 is 2000.', additional_kwargs={}, response_metadata={'token_usage': {'completion_tokens': 15, 'prompt_tokens': 279, 'total_tokens': 294, 'completion_time': 0.029606344, 'prompt_time': 0.009351707, 'queue_time': 0.048006133, 'total_time': 0.038958051}, 'model_name': 'meta-llama/llama-4-scout-17b-16e-instruct', 'system_fingerprint': 'fp_37da608fc1', 'finish_reason': 'stop', 'logprobs': None}, id='run-e5942f33-4866-4924-8b19-7a8eb7f85adc-0', usage_metadata={'input_tokens': 279, 'output_tokens': 15, 'total_tokens': 294})"
      ]
     },
     "execution_count": 65,
     "metadata": {},
     "output_type": "execute_result"
    }
   ],
   "source": [
    "llm_with_tools_with_message_history.invoke(\n",
    "    [\n",
    "        ToolMessage(\n",
    "            tool_call_id=tool_messages_response.tool_calls[0]['id'], \n",
    "            content=tool_messages_response.tool_calls[0]\n",
    "        )\n",
    "    ],\n",
    "    config=config\n",
    ")"
   ]
  },
  {
   "cell_type": "code",
   "execution_count": 67,
   "id": "4ba890c6",
   "metadata": {},
   "outputs": [
    {
     "name": "stdout",
     "output_type": "stream",
     "text": [
      "Human: can you multiply 4 with 500\n",
      "AI: \n",
      "Tool: {'name': 'multiply', 'args': {'a': 4, 'b': 500}, 'id': 'call_dc9n', 'type': 'tool_call'}\n",
      "AI: The result of multiplying 4 by 500 is 2000.\n"
     ]
    }
   ],
   "source": [
    "print(store['chat3'])"
   ]
  },
  {
   "cell_type": "markdown",
   "id": "68f34aa7",
   "metadata": {},
   "source": [
    "## Do it one more way without chat history"
   ]
  },
  {
   "cell_type": "code",
   "execution_count": 68,
   "id": "940440bb",
   "metadata": {},
   "outputs": [],
   "source": [
    "query = HumanMessage(content=\"Can you multiply 4 with 9\")"
   ]
  },
  {
   "cell_type": "code",
   "execution_count": 69,
   "id": "2f05ba40",
   "metadata": {},
   "outputs": [
    {
     "data": {
      "text/plain": [
       "[HumanMessage(content='Can you multiply 4 with 9', additional_kwargs={}, response_metadata={})]"
      ]
     },
     "execution_count": 69,
     "metadata": {},
     "output_type": "execute_result"
    }
   ],
   "source": [
    "messages_history = [query]\n",
    "messages_history"
   ]
  },
  {
   "cell_type": "code",
   "execution_count": 72,
   "id": "7d6ab375",
   "metadata": {},
   "outputs": [
    {
     "data": {
      "text/plain": [
       "AIMessage(content='', additional_kwargs={'tool_calls': [{'id': 'call_wr2q', 'function': {'arguments': '{\"a\": 4, \"b\": 9}', 'name': 'multiply'}, 'type': 'function'}]}, response_metadata={'token_usage': {'completion_tokens': 20, 'prompt_tokens': 216, 'total_tokens': 236, 'completion_time': 0.039329473, 'prompt_time': 0.007665831, 'queue_time': 0.045742576, 'total_time': 0.046995304}, 'model_name': 'meta-llama/llama-4-scout-17b-16e-instruct', 'system_fingerprint': 'fp_42ae451038', 'finish_reason': 'tool_calls', 'logprobs': None}, id='run-16920fec-db8c-434b-a154-bfa5de81e1a1-0', tool_calls=[{'name': 'multiply', 'args': {'a': 4, 'b': 9}, 'id': 'call_wr2q', 'type': 'tool_call'}], usage_metadata={'input_tokens': 216, 'output_tokens': 20, 'total_tokens': 236})"
      ]
     },
     "execution_count": 72,
     "metadata": {},
     "output_type": "execute_result"
    }
   ],
   "source": [
    "result = llm_with_tools.invoke(\n",
    "    \"can you multiply 4 with 9\"\n",
    ")\n",
    "result"
   ]
  },
  {
   "cell_type": "code",
   "execution_count": 73,
   "id": "b6b4483c",
   "metadata": {},
   "outputs": [
    {
     "data": {
      "text/plain": [
       "[HumanMessage(content='Can you multiply 4 with 9', additional_kwargs={}, response_metadata={}),\n",
       " AIMessage(content='', additional_kwargs={'tool_calls': [{'id': 'call_wr2q', 'function': {'arguments': '{\"a\": 4, \"b\": 9}', 'name': 'multiply'}, 'type': 'function'}]}, response_metadata={'token_usage': {'completion_tokens': 20, 'prompt_tokens': 216, 'total_tokens': 236, 'completion_time': 0.039329473, 'prompt_time': 0.007665831, 'queue_time': 0.045742576, 'total_time': 0.046995304}, 'model_name': 'meta-llama/llama-4-scout-17b-16e-instruct', 'system_fingerprint': 'fp_42ae451038', 'finish_reason': 'tool_calls', 'logprobs': None}, id='run-16920fec-db8c-434b-a154-bfa5de81e1a1-0', tool_calls=[{'name': 'multiply', 'args': {'a': 4, 'b': 9}, 'id': 'call_wr2q', 'type': 'tool_call'}], usage_metadata={'input_tokens': 216, 'output_tokens': 20, 'total_tokens': 236})]"
      ]
     },
     "execution_count": 73,
     "metadata": {},
     "output_type": "execute_result"
    }
   ],
   "source": [
    "messages_history.append(result)\n",
    "messages_history"
   ]
  },
  {
   "cell_type": "markdown",
   "id": "7434fb09",
   "metadata": {},
   "source": [
    "## invoking the tools"
   ]
  },
  {
   "cell_type": "code",
   "execution_count": 74,
   "id": "bac9c4db",
   "metadata": {},
   "outputs": [
    {
     "data": {
      "text/plain": [
       "ToolMessage(content='36', name='multiply', tool_call_id='call_wr2q')"
      ]
     },
     "execution_count": 74,
     "metadata": {},
     "output_type": "execute_result"
    }
   ],
   "source": [
    "tool_result = multiply.invoke(\n",
    "    result.tool_calls[0]\n",
    ")\n",
    "tool_result"
   ]
  },
  {
   "cell_type": "code",
   "execution_count": 75,
   "id": "ad6419be",
   "metadata": {},
   "outputs": [
    {
     "data": {
      "text/plain": [
       "[HumanMessage(content='Can you multiply 4 with 9', additional_kwargs={}, response_metadata={}),\n",
       " AIMessage(content='', additional_kwargs={'tool_calls': [{'id': 'call_wr2q', 'function': {'arguments': '{\"a\": 4, \"b\": 9}', 'name': 'multiply'}, 'type': 'function'}]}, response_metadata={'token_usage': {'completion_tokens': 20, 'prompt_tokens': 216, 'total_tokens': 236, 'completion_time': 0.039329473, 'prompt_time': 0.007665831, 'queue_time': 0.045742576, 'total_time': 0.046995304}, 'model_name': 'meta-llama/llama-4-scout-17b-16e-instruct', 'system_fingerprint': 'fp_42ae451038', 'finish_reason': 'tool_calls', 'logprobs': None}, id='run-16920fec-db8c-434b-a154-bfa5de81e1a1-0', tool_calls=[{'name': 'multiply', 'args': {'a': 4, 'b': 9}, 'id': 'call_wr2q', 'type': 'tool_call'}], usage_metadata={'input_tokens': 216, 'output_tokens': 20, 'total_tokens': 236}),\n",
       " ToolMessage(content='36', name='multiply', tool_call_id='call_wr2q')]"
      ]
     },
     "execution_count": 75,
     "metadata": {},
     "output_type": "execute_result"
    }
   ],
   "source": [
    "messages_history.append(tool_result)\n",
    "messages_history"
   ]
  },
  {
   "cell_type": "code",
   "execution_count": 76,
   "id": "120065bc",
   "metadata": {},
   "outputs": [
    {
     "data": {
      "text/plain": [
       "AIMessage(content='The result of multiplying 4 and 9 is 36.', additional_kwargs={}, response_metadata={'token_usage': {'completion_tokens': 14, 'prompt_tokens': 245, 'total_tokens': 259, 'completion_time': 0.028443579, 'prompt_time': 0.00914667, 'queue_time': 0.044668427, 'total_time': 0.037590249}, 'model_name': 'meta-llama/llama-4-scout-17b-16e-instruct', 'system_fingerprint': 'fp_37da608fc1', 'finish_reason': 'stop', 'logprobs': None}, id='run-6f758b2a-9caa-4aaa-b383-0f6e39799977-0', usage_metadata={'input_tokens': 245, 'output_tokens': 14, 'total_tokens': 259})"
      ]
     },
     "execution_count": 76,
     "metadata": {},
     "output_type": "execute_result"
    }
   ],
   "source": [
    "llm_with_tools.invoke(messages_history)"
   ]
  },
  {
   "cell_type": "code",
   "execution_count": null,
   "id": "dffef6ea",
   "metadata": {},
   "outputs": [],
   "source": []
  }
 ],
 "metadata": {
  "kernelspec": {
   "display_name": "torchGPU",
   "language": "python",
   "name": "python3"
  },
  "language_info": {
   "codemirror_mode": {
    "name": "ipython",
    "version": 3
   },
   "file_extension": ".py",
   "mimetype": "text/x-python",
   "name": "python",
   "nbconvert_exporter": "python",
   "pygments_lexer": "ipython3",
   "version": "3.12.4"
  }
 },
 "nbformat": 4,
 "nbformat_minor": 5
}
