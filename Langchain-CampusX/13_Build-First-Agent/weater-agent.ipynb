{
 "cells": [
  {
   "cell_type": "code",
   "execution_count": 2,
   "id": "e63f1431",
   "metadata": {},
   "outputs": [],
   "source": [
    "from langchain_groq import ChatGroq\n",
    "from dotenv import load_dotenv\n",
    "from langchain.tools.tavily_search import TavilySearchResults\n",
    "from langchain_core.tools import tool\n",
    "import requests\n",
    "import os"
   ]
  },
  {
   "cell_type": "markdown",
   "id": "1d91b44c",
   "metadata": {},
   "source": [
    "## ***Build Weather Tools using realtime api***"
   ]
  },
  {
   "cell_type": "code",
   "execution_count": 4,
   "id": "e606114c",
   "metadata": {},
   "outputs": [],
   "source": [
    "load_dotenv()\n",
    "weather_api = os.getenv(\"WEATHER_API\")\n",
    "groq_api_key = os.getenv(\"GROQ_API_KEY\")"
   ]
  },
  {
   "cell_type": "code",
   "execution_count": 5,
   "id": "3079d129",
   "metadata": {},
   "outputs": [],
   "source": [
    "llm = ChatGroq(model_name = \"meta-llama/llama-4-scout-17b-16e-instruct\", groq_api_key=groq_api_key)"
   ]
  },
  {
   "cell_type": "markdown",
   "id": "65e7aaf8",
   "metadata": {},
   "source": [
    "## *Define the tools*"
   ]
  },
  {
   "cell_type": "code",
   "execution_count": 6,
   "id": "6229a189",
   "metadata": {},
   "outputs": [],
   "source": [
    "@tool\n",
    "def get_weather_data(city: str) -> str:\n",
    "    \"\"\"\n",
    "    This function fetches the current weather data for a given city\n",
    "    \"\"\"\n",
    "    url = f\"http://api.weatherstack.com/current?access_key={weather_api}&query={city}\"\n",
    "    response = requests.get(url)\n",
    "    return response.json()"
   ]
  },
  {
   "cell_type": "code",
   "execution_count": 7,
   "id": "d3d2089d",
   "metadata": {},
   "outputs": [
    {
     "data": {
      "text/plain": [
       "{'request': {'type': 'City',\n",
       "  'query': 'Dhaka, Bangladesh',\n",
       "  'language': 'en',\n",
       "  'unit': 'm'},\n",
       " 'location': {'name': 'Dhaka',\n",
       "  'country': 'Bangladesh',\n",
       "  'region': '',\n",
       "  'lat': '23.723',\n",
       "  'lon': '90.409',\n",
       "  'timezone_id': 'Asia/Dhaka',\n",
       "  'localtime': '2025-05-03 11:54',\n",
       "  'localtime_epoch': 1746273240,\n",
       "  'utc_offset': '6.0'},\n",
       " 'current': {'observation_time': '05:54 AM',\n",
       "  'temperature': 33,\n",
       "  'weather_code': 116,\n",
       "  'weather_icons': ['https://cdn.worldweatheronline.com/images/wsymbols01_png_64/wsymbol_0002_sunny_intervals.png'],\n",
       "  'weather_descriptions': ['Partly Cloudy '],\n",
       "  'astro': {'sunrise': '05:23 AM',\n",
       "   'sunset': '06:27 PM',\n",
       "   'moonrise': '10:21 AM',\n",
       "   'moonset': 'No moonset',\n",
       "   'moon_phase': 'Waxing Crescent',\n",
       "   'moon_illumination': 34},\n",
       "  'air_quality': {'co': '797.35',\n",
       "   'no2': '59.94',\n",
       "   'o3': '67',\n",
       "   'so2': '43.66',\n",
       "   'pm2_5': '145.595',\n",
       "   'pm10': '152.995',\n",
       "   'us-epa-index': '4',\n",
       "   'gb-defra-index': '4'},\n",
       "  'wind_speed': 5,\n",
       "  'wind_degree': 280,\n",
       "  'wind_dir': 'W',\n",
       "  'pressure': 1009,\n",
       "  'precip': 0,\n",
       "  'humidity': 41,\n",
       "  'cloudcover': 31,\n",
       "  'feelslike': 35,\n",
       "  'uv_index': 7,\n",
       "  'visibility': 10,\n",
       "  'is_day': 'yes'}}"
      ]
     },
     "execution_count": 7,
     "metadata": {},
     "output_type": "execute_result"
    }
   ],
   "source": [
    "get_weather_data.invoke(\n",
    "    {\n",
    "        \"city\": \"Dhaka\"\n",
    "    }\n",
    ")"
   ]
  },
  {
   "cell_type": "code",
   "execution_count": 10,
   "id": "6c9e4853",
   "metadata": {},
   "outputs": [],
   "source": [
    "search_tool = TavilySearchResults()"
   ]
  },
  {
   "cell_type": "markdown",
   "id": "d05a20e4",
   "metadata": {},
   "source": [
    "## Now time to define the Agents"
   ]
  },
  {
   "cell_type": "code",
   "execution_count": 8,
   "id": "48e37dce",
   "metadata": {},
   "outputs": [],
   "source": [
    "from langchain.agents import create_react_agent, AgentExecutor\n",
    "from langchain import hub"
   ]
  },
  {
   "cell_type": "code",
   "execution_count": 9,
   "id": "39cd4145",
   "metadata": {},
   "outputs": [
    {
     "name": "stdout",
     "output_type": "stream",
     "text": [
      "Answer the following questions as best you can. You have access to the following tools:\n",
      "\n",
      "{tools}\n",
      "\n",
      "Use the following format:\n",
      "\n",
      "Question: the input question you must answer\n",
      "Thought: you should always think about what to do\n",
      "Action: the action to take, should be one of [{tool_names}]\n",
      "Action Input: the input to the action\n",
      "Observation: the result of the action\n",
      "... (this Thought/Action/Action Input/Observation can repeat N times)\n",
      "Thought: I now know the final answer\n",
      "Final Answer: the final answer to the original input question\n",
      "\n",
      "Begin!\n",
      "\n",
      "Question: {input}\n",
      "Thought:{agent_scratchpad}\n"
     ]
    }
   ],
   "source": [
    "prompt = hub.pull(\"hwchase17/react\")\n",
    "print(prompt.template)"
   ]
  },
  {
   "cell_type": "code",
   "execution_count": 11,
   "id": "996759f7",
   "metadata": {},
   "outputs": [],
   "source": [
    "agent = create_react_agent(\n",
    "    llm=llm,\n",
    "    tools=[search_tool, get_weather_data],\n",
    "    prompt=prompt\n",
    ")"
   ]
  },
  {
   "cell_type": "code",
   "execution_count": 12,
   "id": "0b3eb43c",
   "metadata": {},
   "outputs": [],
   "source": [
    "agent_executor = AgentExecutor(\n",
    "    agent=agent,\n",
    "    tools=[search_tool, get_weather_data],\n",
    "    verbose=True\n",
    ")"
   ]
  },
  {
   "cell_type": "markdown",
   "id": "7d9b3c60",
   "metadata": {},
   "source": [
    "## Now time to Test my simple Agent"
   ]
  },
  {
   "cell_type": "code",
   "execution_count": 13,
   "id": "7d0dd4d4",
   "metadata": {},
   "outputs": [
    {
     "name": "stdout",
     "output_type": "stream",
     "text": [
      "\n",
      "\n",
      "\u001b[1m> Entering new AgentExecutor chain...\u001b[0m\n",
      "\u001b[32;1m\u001b[1;3mTo find the capital of Bangladesh and then its current weather condition, I should first search for the capital of Bangladesh.\n",
      "\n",
      "Action: tavily_search_results_json\n",
      "Action Input: \"What is the capital of Bangladesh?\"\u001b[0m\u001b[36;1m\u001b[1;3m[{'url': 'https://testbook.com/question-answer/what-is-the-capital-of-bangladesh--599c287be07ce02427368b9d', 'content': 'The correct answer is Dhaka. Dhaka is the capital and largest city of Bangladesh. It is the ninth-largest and the sixth-most densely populated city in the'}, {'url': 'https://en.wikipedia.org/wiki/Bangladesh', 'content': 'Emblem\\nAnthem:\\xa0আমার সোনার বাংলা (Bengali)\\nAmar Sonar Bangla\\n\"My Golden Bengal\"\\nDuration: 2 minutes and 15 seconds.\\n2:15\\nGovernment Seal\\nShow globe\\nShow map of Bangladesh\\nShow all\\nCapital\\nand largest city\\n    Dhaka\\n23°45′50″N 90°23′20″E\\nOfficial language\\nand national language   Bengali[1][2]\\nRecognised foreign language English[3]\\nEthnic\\xa0groups (2022 census)[4]  99% Bengali\\nshow\\n1% others\\nReligion (2022 census)[5] \\n91.04% Islam (official)\\n7.94% Hinduism\\n0.60% Buddhism\\n0.30% Christianity [...] Bangladesh\\'s capital Dhaka and the largest city and is overseen by two city corporations that manage between them the northern and southern parts of the city. There are 12 city corporations which hold mayoral elections: Dhaka South, Dhaka North, Chittagong, Comilla, Khulna, Mymensingh, Sylhet, Rajshahi, Barisal, Rangpur, Gazipur and Narayanganj. There are, however, eight divisions in total. They are: Dhaka, Chittagong, Sylhet, Rangpur, Rajshahi, Khulna, Mymensingh and Barishal. Mayors are [...] the Siliguri Corridor, and from China by the mountainous Indian state of Sikkim. Dhaka, the capital and largest city, is the nation\\'s political, financial, and cultural centre. Chittagong is the second-largest city and the busiest port of the country. The official language is Bengali. Islam is the official and largest religion and Bengali Muslims form the largest ethnoreligious group in the country.'}, {'url': 'https://en.wikipedia.org/wiki/Dhaka', 'content': \"As the capital of the People's Republic of Bangladesh, Dhaka is home to numerous state and diplomatic institutions. The Bangabhaban is the official residence and workplace of the President of Bangladesh, who is the ceremonial head of state under the constitution. The National Parliament House is located in the modernist capital complex designed by Louis Kahn in Sher-e-Bangla Nagar, while the Ganabhaban, known for being former prime minister Sheikh Hasina's official residence, is situated on the [...] Dhaka (/ˈdɑːkə/ DAH-kə or /ˈdækə/ DAK-ə; Bengali: ঢাকা, romanized:\\xa0Ḍhākā, pronounced [ˈɖʱaka] ⓘ), formerly known as Dacca,[20] is the capital and largest city of Bangladesh. It is one of the largest and most densely populated cities in the world with a density of 23,234 people per square kilometer within a total area of approximately 300 square kilometers.[citation needed] Dhaka is a megacity, and has a population of 10.2 million residents as of 2024, and a population of over 23.9 million [...] War, it became the capital of independent Bangladesh. In 2008, Dhaka celebrated 400 years as a municipal city.[30][31][32]\"}, {'url': 'https://www.countryreports.org/country/Bangladesh/capital-city.htm', 'content': 'What is the Capital of Bangladesh? ; Capital City, Dhaka ; Capital location, 23 43 N, 90 24 E ; Capital - history, the origins of the name are unclear, but some'}, {'url': 'https://www.britannica.com/place/Bangladesh', 'content': 'from the other four by 1,100 miles (1,800 km) of Indian territory. In 1971 it became the independent country of Bangladesh, with its capital at Dhaka. [...] See article: flag of Bangladesh\\nAudio File: National anthem of Bangladesh\\nHead Of Government:\\nChief Advisor: Muhammad Yunus\\n(Show\\xa0more)\\nCapital:\\nDhaka\\n(Show\\xa0more)\\nPopulation:\\n(2025 est.) 175,702,000\\n(Show\\xa0more)\\nHead Of State:\\nPresident: Mohammad Shahabuddin Chuppu\\n(Show\\xa0more)\\nForm Of Government:\\nunitary multiparty republic with one legislative house (Parliament [3501])\\n(Show\\xa0more)\\nOfficial Language:\\nBengali (Bangla)\\n(Show\\xa0more)\\nOfficial Religion:\\nIslam\\n(Show\\xa0more)\\nOfficial Name: [...] In east-central Bangladesh the Brahmaputra River in its old course (the Old Brahmaputra River) built up the flood basin of the Meghna River, the region that includes the low and fertile Meghna-Sitalakhya Doab (the land area between those rivers). This area is enriched by the Titas distributary, and land areas are formed and changed by the deposition of silt and sand in the riverbeds of the Meghna River, especially between Bhairab Bazar and Daudkandi. Dhaka is located in this region.'}]\u001b[0m\u001b[32;1m\u001b[1;3mThe capital of Bangladesh is Dhaka. Now, I need to find the current weather condition in Dhaka.\n",
      "\n",
      "Action: get_weather_data\n",
      "Action Input: \"Dhaka\"\u001b[0m\u001b[33;1m\u001b[1;3m{'request': {'type': 'City', 'query': 'Dhaka, Bangladesh', 'language': 'en', 'unit': 'm'}, 'location': {'name': 'Dhaka', 'country': 'Bangladesh', 'region': '', 'lat': '23.723', 'lon': '90.409', 'timezone_id': 'Asia/Dhaka', 'localtime': '2025-05-03 12:02', 'localtime_epoch': 1746273720, 'utc_offset': '6.0'}, 'current': {'observation_time': '06:02 AM', 'temperature': 34, 'weather_code': 176, 'weather_icons': ['https://cdn.worldweatheronline.com/images/wsymbols01_png_64/wsymbol_0009_light_rain_showers.png'], 'weather_descriptions': ['Patchy rain nearby'], 'astro': {'sunrise': '05:23 AM', 'sunset': '06:27 PM', 'moonrise': '10:21 AM', 'moonset': 'No moonset', 'moon_phase': 'Waxing Crescent', 'moon_illumination': 34}, 'air_quality': {'co': '856.55', 'no2': '61.605', 'o3': '65', 'so2': '44.955', 'pm2_5': '140.785', 'pm10': '147.815', 'us-epa-index': '4', 'gb-defra-index': '4'}, 'wind_speed': 7, 'wind_degree': 300, 'wind_dir': 'WNW', 'pressure': 1008, 'precip': 0, 'humidity': 37, 'cloudcover': 86, 'feelslike': 35, 'uv_index': 7, 'visibility': 10, 'is_day': 'yes'}}\u001b[0m\u001b[32;1m\u001b[1;3mQuestion: Find the capital of Bangladesh, then find the its current weather condition today.\n",
      "Thought: To find the capital of Bangladesh and then its current weather condition, I should first search for the capital of Bangladesh.\n",
      "\n",
      "Action: tavily_search_results_json\n",
      "Action Input: \"What is the capital of Bangladesh?\"\u001b[0m\u001b[36;1m\u001b[1;3m[{'url': 'https://testbook.com/question-answer/what-is-the-capital-of-bangladesh--599c287be07ce02427368b9d', 'content': 'The correct answer is Dhaka. Dhaka is the capital and largest city of Bangladesh. It is the ninth-largest and the sixth-most densely populated city in the'}, {'url': 'https://en.wikipedia.org/wiki/Bangladesh', 'content': 'Emblem\\nAnthem:\\xa0আমার সোনার বাংলা (Bengali)\\nAmar Sonar Bangla\\n\"My Golden Bengal\"\\nDuration: 2 minutes and 15 seconds.\\n2:15\\nGovernment Seal\\nShow globe\\nShow map of Bangladesh\\nShow all\\nCapital\\nand largest city\\n    Dhaka\\n23°45′50″N 90°23′20″E\\nOfficial language\\nand national language   Bengali[1][2]\\nRecognised foreign language English[3]\\nEthnic\\xa0groups (2022 census)[4]  99% Bengali\\nshow\\n1% others\\nReligion (2022 census)[5] \\n91.04% Islam (official)\\n7.94% Hinduism\\n0.60% Buddhism\\n0.30% Christianity [...] Bangladesh\\'s capital Dhaka and the largest city and is overseen by two city corporations that manage between them the northern and southern parts of the city. There are 12 city corporations which hold mayoral elections: Dhaka South, Dhaka North, Chittagong, Comilla, Khulna, Mymensingh, Sylhet, Rajshahi, Barisal, Rangpur, Gazipur and Narayanganj. There are, however, eight divisions in total. They are: Dhaka, Chittagong, Sylhet, Rangpur, Rajshahi, Khulna, Mymensingh and Barishal. Mayors are [...] the Siliguri Corridor, and from China by the mountainous Indian state of Sikkim. Dhaka, the capital and largest city, is the nation\\'s political, financial, and cultural centre. Chittagong is the second-largest city and the busiest port of the country. The official language is Bengali. Islam is the official and largest religion and Bengali Muslims form the largest ethnoreligious group in the country.'}, {'url': 'https://en.wikipedia.org/wiki/Dhaka', 'content': \"As the capital of the People's Republic of Bangladesh, Dhaka is home to numerous state and diplomatic institutions. The Bangabhaban is the official residence and workplace of the President of Bangladesh, who is the ceremonial head of state under the constitution. The National Parliament House is located in the modernist capital complex designed by Louis Kahn in Sher-e-Bangla Nagar, while the Ganabhaban, known for being former prime minister Sheikh Hasina's official residence, is situated on the [...] Dhaka (/ˈdɑːkə/ DAH-kə or /ˈdækə/ DAK-ə; Bengali: ঢাকা, romanized:\\xa0Ḍhākā, pronounced [ˈɖʱaka] ⓘ), formerly known as Dacca,[20] is the capital and largest city of Bangladesh. It is one of the largest and most densely populated cities in the world with a density of 23,234 people per square kilometer within a total area of approximately 300 square kilometers.[citation needed] Dhaka is a megacity, and has a population of 10.2 million residents as of 2024, and a population of over 23.9 million [...] War, it became the capital of independent Bangladesh. In 2008, Dhaka celebrated 400 years as a municipal city.[30][31][32]\"}, {'url': 'https://www.countryreports.org/country/Bangladesh/capital-city.htm', 'content': 'What is the Capital of Bangladesh? ; Capital City, Dhaka ; Capital location, 23 43 N, 90 24 E ; Capital - history, the origins of the name are unclear, but some'}, {'url': 'https://www.britannica.com/place/Bangladesh', 'content': 'from the other four by 1,100 miles (1,800 km) of Indian territory. In 1971 it became the independent country of Bangladesh, with its capital at Dhaka. [...] See article: flag of Bangladesh\\nAudio File: National anthem of Bangladesh\\nHead Of Government:\\nChief Advisor: Muhammad Yunus\\n(Show\\xa0more)\\nCapital:\\nDhaka\\n(Show\\xa0more)\\nPopulation:\\n(2025 est.) 175,702,000\\n(Show\\xa0more)\\nHead Of State:\\nPresident: Mohammad Shahabuddin Chuppu\\n(Show\\xa0more)\\nForm Of Government:\\nunitary multiparty republic with one legislative house (Parliament [3501])\\n(Show\\xa0more)\\nOfficial Language:\\nBengali (Bangla)\\n(Show\\xa0more)\\nOfficial Religion:\\nIslam\\n(Show\\xa0more)\\nOfficial Name: [...] In east-central Bangladesh the Brahmaputra River in its old course (the Old Brahmaputra River) built up the flood basin of the Meghna River, the region that includes the low and fertile Meghna-Sitalakhya Doab (the land area between those rivers). This area is enriched by the Titas distributary, and land areas are formed and changed by the deposition of silt and sand in the riverbeds of the Meghna River, especially between Bhairab Bazar and Daudkandi. Dhaka is located in this region.'}]\u001b[0m\u001b[32;1m\u001b[1;3mIt seems I provided an incomplete response earlier. Here is the complete response:\n",
      "\n",
      "Question: Find the capital of Bangladesh, then find the its current weather condition today.\n",
      "Thought: To find the capital of Bangladesh and then its current weather condition, I should first search for the capital of Bangladesh.\n",
      "\n",
      "Action: tavily_search_results_json\n",
      "Action Input: \"What is the capital of Bangladesh?\"\u001b[0m\u001b[36;1m\u001b[1;3m[{'url': 'https://testbook.com/question-answer/what-is-the-capital-of-bangladesh--599c287be07ce02427368b9d', 'content': 'The correct answer is Dhaka. Dhaka is the capital and largest city of Bangladesh. It is the ninth-largest and the sixth-most densely populated city in the'}, {'url': 'https://en.wikipedia.org/wiki/Bangladesh', 'content': 'Emblem\\nAnthem:\\xa0আমার সোনার বাংলা (Bengali)\\nAmar Sonar Bangla\\n\"My Golden Bengal\"\\nDuration: 2 minutes and 15 seconds.\\n2:15\\nGovernment Seal\\nShow globe\\nShow map of Bangladesh\\nShow all\\nCapital\\nand largest city\\n    Dhaka\\n23°45′50″N 90°23′20″E\\nOfficial language\\nand national language   Bengali[1][2]\\nRecognised foreign language English[3]\\nEthnic\\xa0groups (2022 census)[4]  99% Bengali\\nshow\\n1% others\\nReligion (2022 census)[5] \\n91.04% Islam (official)\\n7.94% Hinduism\\n0.60% Buddhism\\n0.30% Christianity [...] Bangladesh\\'s capital Dhaka and the largest city and is overseen by two city corporations that manage between them the northern and southern parts of the city. There are 12 city corporations which hold mayoral elections: Dhaka South, Dhaka North, Chittagong, Comilla, Khulna, Mymensingh, Sylhet, Rajshahi, Barisal, Rangpur, Gazipur and Narayanganj. There are, however, eight divisions in total. They are: Dhaka, Chittagong, Sylhet, Rangpur, Rajshahi, Khulna, Mymensingh and Barishal. Mayors are [...] the Siliguri Corridor, and from China by the mountainous Indian state of Sikkim. Dhaka, the capital and largest city, is the nation\\'s political, financial, and cultural centre. Chittagong is the second-largest city and the busiest port of the country. The official language is Bengali. Islam is the official and largest religion and Bengali Muslims form the largest ethnoreligious group in the country.'}, {'url': 'https://en.wikipedia.org/wiki/Dhaka', 'content': \"As the capital of the People's Republic of Bangladesh, Dhaka is home to numerous state and diplomatic institutions. The Bangabhaban is the official residence and workplace of the President of Bangladesh, who is the ceremonial head of state under the constitution. The National Parliament House is located in the modernist capital complex designed by Louis Kahn in Sher-e-Bangla Nagar, while the Ganabhaban, known for being former prime minister Sheikh Hasina's official residence, is situated on the [...] Dhaka (/ˈdɑːkə/ DAH-kə or /ˈdækə/ DAK-ə; Bengali: ঢাকা, romanized:\\xa0Ḍhākā, pronounced [ˈɖʱaka] ⓘ), formerly known as Dacca,[20] is the capital and largest city of Bangladesh. It is one of the largest and most densely populated cities in the world with a density of 23,234 people per square kilometer within a total area of approximately 300 square kilometers.[citation needed] Dhaka is a megacity, and has a population of 10.2 million residents as of 2024, and a population of over 23.9 million [...] War, it became the capital of independent Bangladesh. In 2008, Dhaka celebrated 400 years as a municipal city.[30][31][32]\"}, {'url': 'https://www.countryreports.org/country/Bangladesh/capital-city.htm', 'content': 'What is the Capital of Bangladesh? ; Capital City, Dhaka ; Capital location, 23 43 N, 90 24 E ; Capital - history, the origins of the name are unclear, but some'}, {'url': 'https://www.britannica.com/place/Bangladesh', 'content': 'from the other four by 1,100 miles (1,800 km) of Indian territory. In 1971 it became the independent country of Bangladesh, with its capital at Dhaka. [...] See article: flag of Bangladesh\\nAudio File: National anthem of Bangladesh\\nHead Of Government:\\nChief Advisor: Muhammad Yunus\\n(Show\\xa0more)\\nCapital:\\nDhaka\\n(Show\\xa0more)\\nPopulation:\\n(2025 est.) 175,702,000\\n(Show\\xa0more)\\nHead Of State:\\nPresident: Mohammad Shahabuddin Chuppu\\n(Show\\xa0more)\\nForm Of Government:\\nunitary multiparty republic with one legislative house (Parliament [3501])\\n(Show\\xa0more)\\nOfficial Language:\\nBengali (Bangla)\\n(Show\\xa0more)\\nOfficial Religion:\\nIslam\\n(Show\\xa0more)\\nOfficial Name: [...] In east-central Bangladesh the Brahmaputra River in its old course (the Old Brahmaputra River) built up the flood basin of the Meghna River, the region that includes the low and fertile Meghna-Sitalakhya Doab (the land area between those rivers). This area is enriched by the Titas distributary, and land areas are formed and changed by the deposition of silt and sand in the riverbeds of the Meghna River, especially between Bhairab Bazar and Daudkandi. Dhaka is located in this region.'}]\u001b[0m\u001b[32;1m\u001b[1;3mThe capital of Bangladesh is Dhaka. Now, I need to find the current weather condition in Dhaka.\n",
      "\n",
      "Action: get_weather_data\n",
      "Action Input: \"Dhaka\"\u001b[0m\u001b[33;1m\u001b[1;3m{'request': {'type': 'City', 'query': 'Dhaka, Bangladesh', 'language': 'en', 'unit': 'm'}, 'location': {'name': 'Dhaka', 'country': 'Bangladesh', 'region': '', 'lat': '23.723', 'lon': '90.409', 'timezone_id': 'Asia/Dhaka', 'localtime': '2025-05-03 12:02', 'localtime_epoch': 1746273720, 'utc_offset': '6.0'}, 'current': {'observation_time': '06:02 AM', 'temperature': 34, 'weather_code': 176, 'weather_icons': ['https://cdn.worldweatheronline.com/images/wsymbols01_png_64/wsymbol_0009_light_rain_showers.png'], 'weather_descriptions': ['Patchy rain nearby'], 'astro': {'sunrise': '05:23 AM', 'sunset': '06:27 PM', 'moonrise': '10:21 AM', 'moonset': 'No moonset', 'moon_phase': 'Waxing Crescent', 'moon_illumination': 34}, 'air_quality': {'co': '856.55', 'no2': '61.605', 'o3': '65', 'so2': '44.955', 'pm2_5': '140.785', 'pm10': '147.815', 'us-epa-index': '4', 'gb-defra-index': '4'}, 'wind_speed': 7, 'wind_degree': 300, 'wind_dir': 'WNW', 'pressure': 1008, 'precip': 0, 'humidity': 37, 'cloudcover': 86, 'feelslike': 35, 'uv_index': 7, 'visibility': 10, 'is_day': 'yes'}}\u001b[0m\u001b[32;1m\u001b[1;3mQuestion: Find the capital of Bangladesh, then find the its current weather condition today.\n",
      "Thought: To find the capital of Bangladesh and then its current weather condition, I should first search for the capital of Bangladesh.\n",
      "\n",
      "Action: tavily_search_results_json\n",
      "Action Input: \"What is the capital of Bangladesh?\"\u001b[0m\u001b[36;1m\u001b[1;3m[{'url': 'https://testbook.com/question-answer/what-is-the-capital-of-bangladesh--599c287be07ce02427368b9d', 'content': 'The correct answer is Dhaka. Dhaka is the capital and largest city of Bangladesh. It is the ninth-largest and the sixth-most densely populated city in the'}, {'url': 'https://en.wikipedia.org/wiki/Bangladesh', 'content': 'Emblem\\nAnthem:\\xa0আমার সোনার বাংলা (Bengali)\\nAmar Sonar Bangla\\n\"My Golden Bengal\"\\nDuration: 2 minutes and 15 seconds.\\n2:15\\nGovernment Seal\\nShow globe\\nShow map of Bangladesh\\nShow all\\nCapital\\nand largest city\\n    Dhaka\\n23°45′50″N 90°23′20″E\\nOfficial language\\nand national language   Bengali[1][2]\\nRecognised foreign language English[3]\\nEthnic\\xa0groups (2022 census)[4]  99% Bengali\\nshow\\n1% others\\nReligion (2022 census)[5] \\n91.04% Islam (official)\\n7.94% Hinduism\\n0.60% Buddhism\\n0.30% Christianity [...] Bangladesh\\'s capital Dhaka and the largest city and is overseen by two city corporations that manage between them the northern and southern parts of the city. There are 12 city corporations which hold mayoral elections: Dhaka South, Dhaka North, Chittagong, Comilla, Khulna, Mymensingh, Sylhet, Rajshahi, Barisal, Rangpur, Gazipur and Narayanganj. There are, however, eight divisions in total. They are: Dhaka, Chittagong, Sylhet, Rangpur, Rajshahi, Khulna, Mymensingh and Barishal. Mayors are [...] the Siliguri Corridor, and from China by the mountainous Indian state of Sikkim. Dhaka, the capital and largest city, is the nation\\'s political, financial, and cultural centre. Chittagong is the second-largest city and the busiest port of the country. The official language is Bengali. Islam is the official and largest religion and Bengali Muslims form the largest ethnoreligious group in the country.'}, {'url': 'https://en.wikipedia.org/wiki/Dhaka', 'content': \"As the capital of the People's Republic of Bangladesh, Dhaka is home to numerous state and diplomatic institutions. The Bangabhaban is the official residence and workplace of the President of Bangladesh, who is the ceremonial head of state under the constitution. The National Parliament House is located in the modernist capital complex designed by Louis Kahn in Sher-e-Bangla Nagar, while the Ganabhaban, known for being former prime minister Sheikh Hasina's official residence, is situated on the [...] Dhaka (/ˈdɑːkə/ DAH-kə or /ˈdækə/ DAK-ə; Bengali: ঢাকা, romanized:\\xa0Ḍhākā, pronounced [ˈɖʱaka] ⓘ), formerly known as Dacca,[20] is the capital and largest city of Bangladesh. It is one of the largest and most densely populated cities in the world with a density of 23,234 people per square kilometer within a total area of approximately 300 square kilometers.[citation needed] Dhaka is a megacity, and has a population of 10.2 million residents as of 2024, and a population of over 23.9 million [...] War, it became the capital of independent Bangladesh. In 2008, Dhaka celebrated 400 years as a municipal city.[30][31][32]\"}, {'url': 'https://www.countryreports.org/country/Bangladesh/capital-city.htm', 'content': 'What is the Capital of Bangladesh? ; Capital City, Dhaka ; Capital location, 23 43 N, 90 24 E ; Capital - history, the origins of the name are unclear, but some'}, {'url': 'https://www.britannica.com/place/Bangladesh', 'content': 'from the other four by 1,100 miles (1,800 km) of Indian territory. In 1971 it became the independent country of Bangladesh, with its capital at Dhaka. [...] See article: flag of Bangladesh\\nAudio File: National anthem of Bangladesh\\nHead Of Government:\\nChief Advisor: Muhammad Yunus\\n(Show\\xa0more)\\nCapital:\\nDhaka\\n(Show\\xa0more)\\nPopulation:\\n(2025 est.) 175,702,000\\n(Show\\xa0more)\\nHead Of State:\\nPresident: Mohammad Shahabuddin Chuppu\\n(Show\\xa0more)\\nForm Of Government:\\nunitary multiparty republic with one legislative house (Parliament [3501])\\n(Show\\xa0more)\\nOfficial Language:\\nBengali (Bangla)\\n(Show\\xa0more)\\nOfficial Religion:\\nIslam\\n(Show\\xa0more)\\nOfficial Name: [...] In east-central Bangladesh the Brahmaputra River in its old course (the Old Brahmaputra River) built up the flood basin of the Meghna River, the region that includes the low and fertile Meghna-Sitalakhya Doab (the land area between those rivers). This area is enriched by the Titas distributary, and land areas are formed and changed by the deposition of silt and sand in the riverbeds of the Meghna River, especially between Bhairab Bazar and Daudkandi. Dhaka is located in this region.'}]\u001b[0m\u001b[32;1m\u001b[1;3mIt seems I repeated some steps. Here is the complete and corrected response:\n",
      "\n",
      "Question: Find the capital of Bangladesh, then find the its current weather condition today.\n",
      "\n",
      "Thought: To find the capital of Bangladesh and then its current weather condition, I should first search for the capital of Bangladesh.\n",
      "\n",
      "Action: tavily_search_results_json\n",
      "Action Input: \"What is the capital of Bangladesh?\"\u001b[0m\u001b[36;1m\u001b[1;3m[{'url': 'https://testbook.com/question-answer/what-is-the-capital-of-bangladesh--599c287be07ce02427368b9d', 'content': 'The correct answer is Dhaka. Dhaka is the capital and largest city of Bangladesh. It is the ninth-largest and the sixth-most densely populated city in the'}, {'url': 'https://en.wikipedia.org/wiki/Bangladesh', 'content': 'Emblem\\nAnthem:\\xa0আমার সোনার বাংলা (Bengali)\\nAmar Sonar Bangla\\n\"My Golden Bengal\"\\nDuration: 2 minutes and 15 seconds.\\n2:15\\nGovernment Seal\\nShow globe\\nShow map of Bangladesh\\nShow all\\nCapital\\nand largest city\\n    Dhaka\\n23°45′50″N 90°23′20″E\\nOfficial language\\nand national language   Bengali[1][2]\\nRecognised foreign language English[3]\\nEthnic\\xa0groups (2022 census)[4]  99% Bengali\\nshow\\n1% others\\nReligion (2022 census)[5] \\n91.04% Islam (official)\\n7.94% Hinduism\\n0.60% Buddhism\\n0.30% Christianity [...] Bangladesh\\'s capital Dhaka and the largest city and is overseen by two city corporations that manage between them the northern and southern parts of the city. There are 12 city corporations which hold mayoral elections: Dhaka South, Dhaka North, Chittagong, Comilla, Khulna, Mymensingh, Sylhet, Rajshahi, Barisal, Rangpur, Gazipur and Narayanganj. There are, however, eight divisions in total. They are: Dhaka, Chittagong, Sylhet, Rangpur, Rajshahi, Khulna, Mymensingh and Barishal. Mayors are [...] the Siliguri Corridor, and from China by the mountainous Indian state of Sikkim. Dhaka, the capital and largest city, is the nation\\'s political, financial, and cultural centre. Chittagong is the second-largest city and the busiest port of the country. The official language is Bengali. Islam is the official and largest religion and Bengali Muslims form the largest ethnoreligious group in the country.'}, {'url': 'https://en.wikipedia.org/wiki/Dhaka', 'content': \"As the capital of the People's Republic of Bangladesh, Dhaka is home to numerous state and diplomatic institutions. The Bangabhaban is the official residence and workplace of the President of Bangladesh, who is the ceremonial head of state under the constitution. The National Parliament House is located in the modernist capital complex designed by Louis Kahn in Sher-e-Bangla Nagar, while the Ganabhaban, known for being former prime minister Sheikh Hasina's official residence, is situated on the [...] Dhaka (/ˈdɑːkə/ DAH-kə or /ˈdækə/ DAK-ə; Bengali: ঢাকা, romanized:\\xa0Ḍhākā, pronounced [ˈɖʱaka] ⓘ), formerly known as Dacca,[20] is the capital and largest city of Bangladesh. It is one of the largest and most densely populated cities in the world with a density of 23,234 people per square kilometer within a total area of approximately 300 square kilometers.[citation needed] Dhaka is a megacity, and has a population of 10.2 million residents as of 2024, and a population of over 23.9 million [...] War, it became the capital of independent Bangladesh. In 2008, Dhaka celebrated 400 years as a municipal city.[30][31][32]\"}, {'url': 'https://www.countryreports.org/country/Bangladesh/capital-city.htm', 'content': 'What is the Capital of Bangladesh? ; Capital City, Dhaka ; Capital location, 23 43 N, 90 24 E ; Capital - history, the origins of the name are unclear, but some'}, {'url': 'https://www.britannica.com/place/Bangladesh', 'content': 'from the other four by 1,100 miles (1,800 km) of Indian territory. In 1971 it became the independent country of Bangladesh, with its capital at Dhaka. [...] See article: flag of Bangladesh\\nAudio File: National anthem of Bangladesh\\nHead Of Government:\\nChief Advisor: Muhammad Yunus\\n(Show\\xa0more)\\nCapital:\\nDhaka\\n(Show\\xa0more)\\nPopulation:\\n(2025 est.) 175,702,000\\n(Show\\xa0more)\\nHead Of State:\\nPresident: Mohammad Shahabuddin Chuppu\\n(Show\\xa0more)\\nForm Of Government:\\nunitary multiparty republic with one legislative house (Parliament [3501])\\n(Show\\xa0more)\\nOfficial Language:\\nBengali (Bangla)\\n(Show\\xa0more)\\nOfficial Religion:\\nIslam\\n(Show\\xa0more)\\nOfficial Name: [...] In east-central Bangladesh the Brahmaputra River in its old course (the Old Brahmaputra River) built up the flood basin of the Meghna River, the region that includes the low and fertile Meghna-Sitalakhya Doab (the land area between those rivers). This area is enriched by the Titas distributary, and land areas are formed and changed by the deposition of silt and sand in the riverbeds of the Meghna River, especially between Bhairab Bazar and Daudkandi. Dhaka is located in this region.'}]\u001b[0m\u001b[32;1m\u001b[1;3mIt seems I repeated some steps. Here is the complete and corrected response:\n",
      "\n",
      "Question: Find the capital of Bangladesh, then find the its current weather condition today.\n",
      "\n",
      "Thought: To find the capital of Bangladesh and then its current weather condition, I should first search for the capital of Bangladesh.\n",
      "\n",
      "Action: tavily_search_results_json\n",
      "Action Input: \"What is the capital of Bangladesh?\"\u001b[0m\u001b[36;1m\u001b[1;3m[{'url': 'https://testbook.com/question-answer/what-is-the-capital-of-bangladesh--599c287be07ce02427368b9d', 'content': 'The correct answer is Dhaka. Dhaka is the capital and largest city of Bangladesh. It is the ninth-largest and the sixth-most densely populated city in the'}, {'url': 'https://en.wikipedia.org/wiki/Bangladesh', 'content': 'Emblem\\nAnthem:\\xa0আমার সোনার বাংলা (Bengali)\\nAmar Sonar Bangla\\n\"My Golden Bengal\"\\nDuration: 2 minutes and 15 seconds.\\n2:15\\nGovernment Seal\\nShow globe\\nShow map of Bangladesh\\nShow all\\nCapital\\nand largest city\\n    Dhaka\\n23°45′50″N 90°23′20″E\\nOfficial language\\nand national language   Bengali[1][2]\\nRecognised foreign language English[3]\\nEthnic\\xa0groups (2022 census)[4]  99% Bengali\\nshow\\n1% others\\nReligion (2022 census)[5] \\n91.04% Islam (official)\\n7.94% Hinduism\\n0.60% Buddhism\\n0.30% Christianity [...] Bangladesh\\'s capital Dhaka and the largest city and is overseen by two city corporations that manage between them the northern and southern parts of the city. There are 12 city corporations which hold mayoral elections: Dhaka South, Dhaka North, Chittagong, Comilla, Khulna, Mymensingh, Sylhet, Rajshahi, Barisal, Rangpur, Gazipur and Narayanganj. There are, however, eight divisions in total. They are: Dhaka, Chittagong, Sylhet, Rangpur, Rajshahi, Khulna, Mymensingh and Barishal. Mayors are [...] the Siliguri Corridor, and from China by the mountainous Indian state of Sikkim. Dhaka, the capital and largest city, is the nation\\'s political, financial, and cultural centre. Chittagong is the second-largest city and the busiest port of the country. The official language is Bengali. Islam is the official and largest religion and Bengali Muslims form the largest ethnoreligious group in the country.'}, {'url': 'https://en.wikipedia.org/wiki/Dhaka', 'content': \"As the capital of the People's Republic of Bangladesh, Dhaka is home to numerous state and diplomatic institutions. The Bangabhaban is the official residence and workplace of the President of Bangladesh, who is the ceremonial head of state under the constitution. The National Parliament House is located in the modernist capital complex designed by Louis Kahn in Sher-e-Bangla Nagar, while the Ganabhaban, known for being former prime minister Sheikh Hasina's official residence, is situated on the [...] Dhaka (/ˈdɑːkə/ DAH-kə or /ˈdækə/ DAK-ə; Bengali: ঢাকা, romanized:\\xa0Ḍhākā, pronounced [ˈɖʱaka] ⓘ), formerly known as Dacca,[20] is the capital and largest city of Bangladesh. It is one of the largest and most densely populated cities in the world with a density of 23,234 people per square kilometer within a total area of approximately 300 square kilometers.[citation needed] Dhaka is a megacity, and has a population of 10.2 million residents as of 2024, and a population of over 23.9 million [...] War, it became the capital of independent Bangladesh. In 2008, Dhaka celebrated 400 years as a municipal city.[30][31][32]\"}, {'url': 'https://www.countryreports.org/country/Bangladesh/capital-city.htm', 'content': 'What is the Capital of Bangladesh? ; Capital City, Dhaka ; Capital location, 23 43 N, 90 24 E ; Capital - history, the origins of the name are unclear, but some'}, {'url': 'https://www.britannica.com/place/Bangladesh', 'content': 'from the other four by 1,100 miles (1,800 km) of Indian territory. In 1971 it became the independent country of Bangladesh, with its capital at Dhaka. [...] See article: flag of Bangladesh\\nAudio File: National anthem of Bangladesh\\nHead Of Government:\\nChief Advisor: Muhammad Yunus\\n(Show\\xa0more)\\nCapital:\\nDhaka\\n(Show\\xa0more)\\nPopulation:\\n(2025 est.) 175,702,000\\n(Show\\xa0more)\\nHead Of State:\\nPresident: Mohammad Shahabuddin Chuppu\\n(Show\\xa0more)\\nForm Of Government:\\nunitary multiparty republic with one legislative house (Parliament [3501])\\n(Show\\xa0more)\\nOfficial Language:\\nBengali (Bangla)\\n(Show\\xa0more)\\nOfficial Religion:\\nIslam\\n(Show\\xa0more)\\nOfficial Name: [...] In east-central Bangladesh the Brahmaputra River in its old course (the Old Brahmaputra River) built up the flood basin of the Meghna River, the region that includes the low and fertile Meghna-Sitalakhya Doab (the land area between those rivers). This area is enriched by the Titas distributary, and land areas are formed and changed by the deposition of silt and sand in the riverbeds of the Meghna River, especially between Bhairab Bazar and Daudkandi. Dhaka is located in this region.'}]\u001b[0m\u001b[32;1m\u001b[1;3mIt seems I repeated some steps. Here is the complete and corrected response:\n",
      "\n",
      "Question: Find the capital of Bangladesh, then find the its current weather condition today.\n",
      "\n",
      "Thought: The capital of Bangladesh is Dhaka. Now, I need to find the current weather condition in Dhaka.\n",
      "\n",
      "Action: get_weather_data\n",
      "Action Input: \"Dhaka\"\u001b[0m\u001b[33;1m\u001b[1;3m{'request': {'type': 'City', 'query': 'Dhaka, Bangladesh', 'language': 'en', 'unit': 'm'}, 'location': {'name': 'Dhaka', 'country': 'Bangladesh', 'region': '', 'lat': '23.723', 'lon': '90.409', 'timezone_id': 'Asia/Dhaka', 'localtime': '2025-05-03 12:02', 'localtime_epoch': 1746273720, 'utc_offset': '6.0'}, 'current': {'observation_time': '06:02 AM', 'temperature': 34, 'weather_code': 176, 'weather_icons': ['https://cdn.worldweatheronline.com/images/wsymbols01_png_64/wsymbol_0009_light_rain_showers.png'], 'weather_descriptions': ['Patchy rain nearby'], 'astro': {'sunrise': '05:23 AM', 'sunset': '06:27 PM', 'moonrise': '10:21 AM', 'moonset': 'No moonset', 'moon_phase': 'Waxing Crescent', 'moon_illumination': 34}, 'air_quality': {'co': '856.55', 'no2': '61.605', 'o3': '65', 'so2': '44.955', 'pm2_5': '140.785', 'pm10': '147.815', 'us-epa-index': '4', 'gb-defra-index': '4'}, 'wind_speed': 7, 'wind_degree': 300, 'wind_dir': 'WNW', 'pressure': 1008, 'precip': 0, 'humidity': 37, 'cloudcover': 86, 'feelslike': 35, 'uv_index': 7, 'visibility': 10, 'is_day': 'yes'}}\u001b[0m\u001b[32;1m\u001b[1;3mI now know the final answer.\n",
      "\n",
      "Final Answer: The capital of Bangladesh is Dhaka. The current weather condition in Dhaka is patchy rain nearby with a temperature of 34 degrees Celsius.\u001b[0m\n",
      "\n",
      "\u001b[1m> Finished chain.\u001b[0m\n",
      "{'input': 'Find the capital of Bangladesh, then find the its current weather condition today.', 'output': 'The capital of Bangladesh is Dhaka. The current weather condition in Dhaka is patchy rain nearby with a temperature of 34 degrees Celsius.'}\n"
     ]
    }
   ],
   "source": [
    "response = agent_executor.invoke(\n",
    "    {\n",
    "        \"input\": \"Find the capital of Bangladesh, then find the its current weather condition today.\"\n",
    "    }\n",
    ")\n",
    "print(response)"
   ]
  },
  {
   "cell_type": "code",
   "execution_count": 14,
   "id": "14ac772e",
   "metadata": {},
   "outputs": [
    {
     "data": {
      "text/plain": [
       "'The capital of Bangladesh is Dhaka. The current weather condition in Dhaka is patchy rain nearby with a temperature of 34 degrees Celsius.'"
      ]
     },
     "execution_count": 14,
     "metadata": {},
     "output_type": "execute_result"
    }
   ],
   "source": [
    "response['output']"
   ]
  },
  {
   "cell_type": "code",
   "execution_count": null,
   "id": "f561cbbc",
   "metadata": {},
   "outputs": [],
   "source": []
  }
 ],
 "metadata": {
  "kernelspec": {
   "display_name": "torchGPU",
   "language": "python",
   "name": "python3"
  },
  "language_info": {
   "codemirror_mode": {
    "name": "ipython",
    "version": 3
   },
   "file_extension": ".py",
   "mimetype": "text/x-python",
   "name": "python",
   "nbconvert_exporter": "python",
   "pygments_lexer": "ipython3",
   "version": "3.12.4"
  }
 },
 "nbformat": 4,
 "nbformat_minor": 5
}
