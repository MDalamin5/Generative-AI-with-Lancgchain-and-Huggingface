{
 "cells": [
  {
   "cell_type": "markdown",
   "id": "1b49e773",
   "metadata": {},
   "source": [
    "# ***Build a Basics Agent***"
   ]
  },
  {
   "cell_type": "code",
   "execution_count": 1,
   "id": "f5af2a27",
   "metadata": {},
   "outputs": [],
   "source": [
    "from langchain_groq import ChatGroq\n",
    "from langchain_core.tools import tool\n",
    "import requests\n",
    "from langchain_community.tools import DuckDuckGoSearchRun\n",
    "import os\n",
    "from dotenv import load_dotenv\n",
    "load_dotenv()\n",
    "from langchain_ollama import ChatOllama"
   ]
  },
  {
   "cell_type": "code",
   "execution_count": 2,
   "id": "e910384f",
   "metadata": {},
   "outputs": [
    {
     "data": {
      "text/plain": [
       "'What is artificial intelligence? Artificial intelligence (AI) is the theory and development of computer systems capable of performing tasks that historically required human intelligence, such as recognizing speech, making decisions, and identifying patterns. AI is an umbrella term that encompasses a wide variety of technologies, including machine learning, deep learning, and natural language ... artificial intelligence (AI), the ability of a digital computer or computer-controlled robot to perform tasks commonly associated with intelligent beings. The term is frequently applied to the project of developing systems endowed with the intellectual processes characteristic of humans, such as the ability to reason, discover meaning, generalize, or learn from past experience. AI allows computers to learn and solve problems in ways that can seem human. Computers cannot think, empathise or reason. However, scientists have developed systems that can perform tasks which ... Narrow AI: Narrow AI, also known as Weak AI, refers to artificial intelligence systems that are designed and trained to perform a specific task or a narrow range of tasks. These systems excel at their designated tasks but lack the broad cognitive abilities and understanding of human intelligence. Narrow AI is the most common form of AI ... Artificial intelligence (AI) is a broad term for computer systems that can perform complex tasks normally done by human-reasoning, decision making, creating, etc. Learn how AI, machine learning, and deep learning fit together and how NASA uses them for various purposes.'"
      ]
     },
     "execution_count": 2,
     "metadata": {},
     "output_type": "execute_result"
    }
   ],
   "source": [
    "search_tool = DuckDuckGoSearchRun()\n",
    "search_tool.invoke(\"What is Ai\")"
   ]
  },
  {
   "cell_type": "code",
   "execution_count": 2,
   "id": "3bd0195b",
   "metadata": {},
   "outputs": [],
   "source": [
    "from langchain_ollama import ChatOllama"
   ]
  },
  {
   "cell_type": "code",
   "execution_count": 3,
   "id": "38e07e17",
   "metadata": {},
   "outputs": [],
   "source": [
    "llm = ChatOllama(\n",
    "    model=\"gemma3:1b\",\n",
    "    temperature=0.3\n",
    ")"
   ]
  },
  {
   "cell_type": "code",
   "execution_count": 5,
   "id": "030eddf2",
   "metadata": {},
   "outputs": [
    {
     "data": {
      "text/plain": [
       "AIMessage(content='I’m doing well, thank you for asking! As a large language model, I don’t experience feelings in the same way humans do, but I’m functioning perfectly and ready to help you with whatever you need. 😊 \\n\\nHow about you? How’s your day going so far?', additional_kwargs={}, response_metadata={'model': 'gemma3:1b', 'created_at': '2025-05-02T13:48:31.2148361Z', 'done': True, 'done_reason': 'stop', 'total_duration': 2548079000, 'load_duration': 1768309100, 'prompt_eval_count': 14, 'prompt_eval_duration': 182589900, 'eval_count': 63, 'eval_duration': 590997500, 'model_name': 'gemma3:1b'}, id='run-dffe031b-b40d-42eb-b6ae-4fcb3e54b7be-0', usage_metadata={'input_tokens': 14, 'output_tokens': 63, 'total_tokens': 77})"
      ]
     },
     "execution_count": 5,
     "metadata": {},
     "output_type": "execute_result"
    }
   ],
   "source": [
    "llm.invoke(\"How are you today?\")"
   ]
  },
  {
   "cell_type": "code",
   "execution_count": 6,
   "id": "dfa6fec6",
   "metadata": {},
   "outputs": [],
   "source": [
    "from langchain.agents import create_react_agent, AgentExecutor\n",
    "from langchain import hub"
   ]
  },
  {
   "cell_type": "code",
   "execution_count": null,
   "id": "b53a11c8",
   "metadata": {},
   "outputs": [],
   "source": []
  }
 ],
 "metadata": {
  "kernelspec": {
   "display_name": "torchGPU",
   "language": "python",
   "name": "python3"
  },
  "language_info": {
   "codemirror_mode": {
    "name": "ipython",
    "version": 3
   },
   "file_extension": ".py",
   "mimetype": "text/x-python",
   "name": "python",
   "nbconvert_exporter": "python",
   "pygments_lexer": "ipython3",
   "version": "3.12.4"
  }
 },
 "nbformat": 4,
 "nbformat_minor": 5
}
