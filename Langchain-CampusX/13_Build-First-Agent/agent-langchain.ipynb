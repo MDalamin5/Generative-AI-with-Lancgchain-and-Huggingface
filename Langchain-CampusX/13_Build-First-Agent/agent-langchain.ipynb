{
 "cells": [
  {
   "cell_type": "markdown",
   "id": "1b49e773",
   "metadata": {},
   "source": [
    "# ***Build a Basics Agent***"
   ]
  },
  {
   "cell_type": "code",
   "execution_count": 5,
   "id": "f5af2a27",
   "metadata": {},
   "outputs": [],
   "source": [
    "from langchain_groq import ChatGroq\n",
    "from langchain_core.tools import tool\n",
    "import requests\n",
    "from langchain_community.tools import DuckDuckGoSearchRun\n",
    "from langchain.tools.tavily_search import TavilySearchResults\n",
    "import os\n",
    "from dotenv import load_dotenv\n",
    "load_dotenv()\n",
    "from langchain_ollama import ChatOllama"
   ]
  },
  {
   "cell_type": "code",
   "execution_count": 6,
   "id": "e910384f",
   "metadata": {},
   "outputs": [
    {
     "data": {
      "text/plain": [
       "[{'url': 'https://cloud.google.com/learn/what-is-artificial-intelligence',\n",
       "  'content': 'What is Artificial Intelligence (AI)?\\nArtificial intelligence (AI) is a set of technologies that enable computers to perform a variety of advanced functions, including the ability to see, understand and translate spoken and written language, analyze data, make recommendations, and more. [...] On an operational level for business use, AI is a set of technologies that are based primarily on machine learning and deep learning, used for data analytics, predictions and forecasting, object categorization, natural language processing, recommendations, intelligent data retrieval, and more.\\nHow does AI work? [...] Artificial intelligence is a field of science concerned with building computers and machines that can reason, learn, and act in such a way that would normally require human intelligence or that involves data whose scale exceeds what humans can analyze.\\nAI is a broad field that encompasses many different disciplines, including computer science, data analytics and statistics, hardware and software engineering, linguistics, neuroscience, and even philosophy and psychology.'},\n",
       " {'url': 'https://www.mtu.edu/computing/ai/',\n",
       "  'content': 'What is AI?\\nArtificial intelligence (AI) encompasses the fields of computer and data science focused on building machines with human intelligence to perform tasks like learning, reasoning, problem-solving, perception, and language understanding. Instead of relying on explicit instructions from a programmer, AI systems learn from data that enables them to handle complex problems and simple repetitive tasks, improving how they respond over time. [...] Is AI Dangerous?\\nAI is a powerful and promising technology that can bring many benefits and opportunities to humanity. But even with its many benefits, the use of AI comes with various concerns.'},\n",
       " {'url': 'https://www.mckinsey.com/featured-insights/mckinsey-explainers/what-is-ai',\n",
       "  'content': 'AI is a machine’s ability to perform the cognitive functions we associate with human minds, such as perceiving, reasoning, learning, interacting with the environment, problem-solving, and even exercising creativity. You’ve probably interacted with AI even if you don’t realize it—voice assistants like Siri and Alexa are founded on AI technology, as are some customer service chatbots that pop up to help you navigate websites. [...] Please use UP and DOWN arrow keys to review autocomplete results. Press enter to select and open the results on a new page.\\nSearch\\n\\n\\n\\nSign In\\nSubscribe\\n\\n\\n\\n\\nWhat is AI (artificial intelligence)?\\nShare\\nPrint\\nDownload\\nSave\\nWhat is AI (artificial intelligence)?\\nApril 3, 2024 | Article\\nShare\\nPrint\\nDownload\\nSave\\nArtificial intelligence is a machine’s ability to perform some cognitive functions we usually associate with human minds. [...] Read more about the Vistra story here.'},\n",
       " {'url': 'https://en.wikipedia.org/wiki/Artificial_intelligence',\n",
       "  'content': 'Artificial intelligence (AI) refers to the capability of computational systems to perform tasks typically associated with human intelligence, such as learning, reasoning, problem-solving, perception, and decision-making. It is a field of research in computer science that develops and studies methods and software that enable machines to perceive their environment and use learning and intelligence to take actions that maximize their chances of achieving defined goals.[1] Such machines may be [...] Artificial intelligent (AI) agents are software entities designed to perceive their environment, make decisions, and take actions autonomously to achieve specific goals. These agents can interact with users, their environment, or other agents. AI agents are used in various applications, including virtual assistants, chatbots, autonomous vehicles, game-playing systems, and industrial robotics. AI agents operate within the constraints of their programming, available computational resources, and [...] From Wikipedia, the free encyclopedia\\nIntelligence of machines\\n\"AI\" redirects here. For other uses, see AI (disambiguation) and Artificial intelligence (disambiguation).'},\n",
       " {'url': 'https://www.ibm.com/think/topics/artificial-intelligence',\n",
       "  'content': 'What Is Artificial Intelligence (AI)? | IBM\\nMy IBM Log in Subscribe   \\nWhat is artificial intelligence (AI)?\\nArtificial Intelligence\\n9 August 2024\\nLink copied\\nAuthors\\n#### Cole StrykerEditorial Lead, AI Models\\nGather\\n#### Eda KavlakogluProgram Manager\\nWhat is AI?\\nArtificial intelligence (AI) is technology that enables computers and machines to simulate human learning, comprehension, problem solving, decision making, creativity and autonomy. [...] Whether used for decision support or for fully automated decision-making, AI enables faster, more accurate predictions and reliable,\\xa0data-driven decisions. Combined with automation, AI enables businesses to act on opportunities and respond to crises as they emerge, in real time and without human intervention.\\nFewer human errors [...] As AI becomes more advanced, humans are challenged to comprehend and retrace how the algorithm came to a result. Explainable AI is a set of processes and methods that enables human users to interpret, comprehend and trust the results and output created by algorithms.\\nFairness and inclusion'}]"
      ]
     },
     "execution_count": 6,
     "metadata": {},
     "output_type": "execute_result"
    }
   ],
   "source": [
    "search_tool = TavilySearchResults()\n",
    "search_tool.invoke(\"What is Ai\")"
   ]
  },
  {
   "cell_type": "code",
   "execution_count": 7,
   "id": "b53a11c8",
   "metadata": {},
   "outputs": [],
   "source": [
    "from dotenv import load_dotenv\n",
    "from langchain_groq import ChatGroq\n",
    "load_dotenv()\n",
    "import os\n",
    "groq_api_key = os.getenv(\"GROQ_API_KEY\")"
   ]
  },
  {
   "cell_type": "code",
   "execution_count": 8,
   "id": "4b9262a6",
   "metadata": {},
   "outputs": [
    {
     "data": {
      "text/plain": [
       "AIMessage(content=\"Hello! How can I assist you today? Do you have a specific question, topic you'd like to discuss, or perhaps need help with something? I'm here to help!\", additional_kwargs={}, response_metadata={'token_usage': {'completion_tokens': 35, 'prompt_tokens': 11, 'total_tokens': 46, 'completion_time': 0.082064819, 'prompt_time': 0.002461536, 'queue_time': 0.065212964, 'total_time': 0.084526355}, 'model_name': 'meta-llama/llama-4-scout-17b-16e-instruct', 'system_fingerprint': 'fp_37da608fc1', 'finish_reason': 'stop', 'logprobs': None}, id='run-af3d112a-0ae6-42b6-bfce-96641b931c75-0', usage_metadata={'input_tokens': 11, 'output_tokens': 35, 'total_tokens': 46})"
      ]
     },
     "execution_count": 8,
     "metadata": {},
     "output_type": "execute_result"
    }
   ],
   "source": [
    "model = ChatGroq(model_name = \"meta-llama/llama-4-scout-17b-16e-instruct\", groq_api_key=groq_api_key)\n",
    "model.invoke(\"hello \")"
   ]
  },
  {
   "cell_type": "code",
   "execution_count": null,
   "id": "c17694be",
   "metadata": {},
   "outputs": [],
   "source": [
    "from langchain.agents import create_react_agent, AgentExecutor\n",
    "from langchain import hub ## predefine prompt"
   ]
  },
  {
   "cell_type": "code",
   "execution_count": 12,
   "id": "8d3e69b7",
   "metadata": {},
   "outputs": [
    {
     "name": "stdout",
     "output_type": "stream",
     "text": [
      "Answer the following questions as best you can. You have access to the following tools:\n",
      "\n",
      "{tools}\n",
      "\n",
      "Use the following format:\n",
      "\n",
      "Question: the input question you must answer\n",
      "Thought: you should always think about what to do\n",
      "Action: the action to take, should be one of [{tool_names}]\n",
      "Action Input: the input to the action\n",
      "Observation: the result of the action\n",
      "... (this Thought/Action/Action Input/Observation can repeat N times)\n",
      "Thought: I now know the final answer\n",
      "Final Answer: the final answer to the original input question\n",
      "\n",
      "Begin!\n",
      "\n",
      "Question: {input}\n",
      "Thought:{agent_scratchpad}\n"
     ]
    }
   ],
   "source": [
    "## step 2: Pull the ReACT prompt form LangChain Hub\n",
    "prompt = hub.pull(\"hwchase17/react\")\n",
    "print(prompt.template)"
   ]
  },
  {
   "cell_type": "code",
   "execution_count": 13,
   "id": "1bcbe78d",
   "metadata": {},
   "outputs": [],
   "source": [
    "## Step 3: Create the ReAct agent manually with the pulled prompt\n",
    "agent = create_react_agent(\n",
    "    llm=model,\n",
    "    tools=[search_tool],\n",
    "    prompt=prompt\n",
    ")"
   ]
  },
  {
   "cell_type": "code",
   "execution_count": 14,
   "id": "80b23813",
   "metadata": {},
   "outputs": [],
   "source": [
    "## Step 4 Wrap it with AgentExecutor\n",
    "agent_executor= AgentExecutor(\n",
    "    agent=agent,\n",
    "    tools=[search_tool],\n",
    "    verbose=True\n",
    ")"
   ]
  },
  {
   "cell_type": "code",
   "execution_count": 15,
   "id": "bc6b9e3e",
   "metadata": {},
   "outputs": [
    {
     "name": "stdout",
     "output_type": "stream",
     "text": [
      "\n",
      "\n",
      "\u001b[1m> Entering new AgentExecutor chain...\u001b[0m\n",
      "\u001b[32;1m\u001b[1;3mTo find the ways to go from Dhaka to Cox's Bazar, I should consider transportation options such as air, land, and sea.\n",
      "\n",
      "Action: tavily_search_results_json\n",
      "Action Input: \"Dhaka to Cox's Bazar travel options\"\u001b[0m\u001b[36;1m\u001b[1;3m[{'url': 'https://www.quora.com/What-is-the-best-way-to-travel-between-Dhaka-and-Coxs-Bazar', 'content': \"The best way to travel between Dhaka and Cox's Bazar is by air. Purchase a ticket online or go to any agency, they will help you to manage\"}, {'url': 'https://bdtickets.com/popular-routes/dhaka-to-coxs-bazar', 'content': \"Travel 390 km from Dhaka to Cox's Bazar in 10-12 hours with ease. Bdtickets offers tickets from 17 top bus operators, with prices ranging from 1050 to 2700 BDT\"}, {'url': 'https://www.google.com/travel/flights/flights-from-dhaka-to-coxs-bazar.html', 'content': \"US-Bangla Airlines, Novoair and Biman fly direct from Dhaka to Cox's Bazar. There are 49 US-Bangla Airlines direct flights from Dhaka to Cox's Bazar per week.\"}, {'url': 'https://www.skyscanner.com/routes/dac/cxb/hazrat-shahjalal-international-airport-to-cox-s-bazar.html', 'content': '$46 is the lowest price for a one-way Hazrat Shahjalal International Airport to Coxs Bazar Airport flight. Return flights start from $85. These prices can'}, {'url': 'https://www.linkedin.com/pulse/dhaka-coxs-bazar-flight-ticket-schedule-travel-guide-rizvee--0okic', 'content': \"Dhaka to Cox's Bazar Flight Ticket Price and Booking Options · Economy Class Tickets: BDT 3,500 – BDT 6,500 · Business Class Tickets: BDT 7,000\"}]\u001b[0m\u001b[32;1m\u001b[1;3mBased on the search results, I have found several options to travel from Dhaka to Cox's Bazar.\n",
      "\n",
      "Action: tavily_search_results_json\n",
      "Action Input: \"Dhaka to Cox's Bazar train and bus and flight\"\u001b[0m\u001b[36;1m\u001b[1;3m[{'url': 'https://www.rome2rio.com/s/Dhaka/Cox-s-Bazar-Station-Bangladesh', 'content': \"There are 5 ways to get from Dhaka to Cox's Bazar (Station) by plane (Deutsche Bahn), train, bus, car, plane, or taxi. Select an option below to see step-by-step directions and to compare ticket prices and travel times in Rome2Rio's travel planner.\"}, {'url': 'https://www.rome2rio.com/s/Dhaka/Cox-s-Bāzār', 'content': \"Flights from Shahjalal International Airport to Cox's Bazar Ave. Duration 1h 5m When ... Train from Dhaka to Cox's Bazar Ave. Duration 8h 45m Frequency 6 times a week Estimated price $2-23 ... Bus from Dhaka to Cox's Bazar Ave. Duration 9h 30m Frequency Every 5 minutes Estimated price $9-17 Schedules at\"}, {'url': 'https://thetravelerbd.com/how-to-go-from-dhaka-to-coxs-bazar/', 'content': \"Whether you choose to fly, take a bus, train, car, motorcycle, or even a boat, traveling from Dhaka to Cox's Bazar offers a variety of options to suit different preferences and budgets. Consider your travel time , budget, and preferred mode of transportation to make the most of your journey and enjoy the beautiful destination of Cox's Bazar.\"}, {'url': 'https://thetravelerbd.com/how-to-go-to-coxs-bazar-from-dhaka-cheap-flights/', 'content': 'Travel Mode | Duration | Cost Range | Advantages\\nAir | 1 hour | $35–$170 | Fastest, convenient, ideal for short trips\\nTrain | 8 hours 45 minutes | $2–$23 | Scenic views, budget-friendly, comfortable\\nBus | 10–12 hours | $9–$30 | Affordable, frequent departures, suitable for budget travelers\\nCar/Taxi | 5 hours 18 minutes | $32–$160 | Flexible, scenic stops, ideal for families or groups\\nMotorcycle | 8–12 hours | Fuel costs | Adventurous, flexible, scenic views [...] Knowing the right transportation options can make all the difference in your travel experience. Whether you prefer the speed of flights, the scenic views of trains, the affordability of buses, or the flexibility of private vehicles, Cox’s Bazar offers a variety of travel modes to suit every need and budget. In this guide, we’ll explore the different ways to reach Cox’s Bazar from Dhaka, helping you choose the perfect option for your next adventure.\\n\\n1. Travel by Air: Fastest Option [...] Traveling from Dhaka to Cox’s Bazar offers a diverse range of options, each catering to different preferences and needs. Whether you opt for the speed of flights, the scenic views of trains, the affordability of buses, the flexibility of cars or taxis, or the adventure of motorcycles, there’s a perfect way to reach this stunning coastal destination.\\n\\nRecap of Travel Options\\n\\nChoosing the Best Option'}, {'url': 'https://mybangla24.com/dhaka-to-coxs-bazar', 'content': \"Here are the ways of traveling Dhaka to cox's Bazar: 01. Airways and Helicopters. There are at least 6-8 flights daily that move to and fro from Dhaka to Cox's Bazar daily. It takes around one hour to fly from Dhaka to cox's Bazar. Biman Bangladesh, Us-Bangla, Regent, NovoAir are the companies that provide services.\"}]\u001b[0m\u001b[32;1m\u001b[1;3mI now have enough information to provide the answer.\n",
      "\n",
      "Thought: I now know the final answer\n",
      "Final Answer: Here are 3 ways to go from Dhaka to Cox's Bazar:\n",
      "\n",
      "1. **By Air**: The fastest way to travel from Dhaka to Cox's Bazar is by air. The flight duration is approximately 1 hour, and several airlines operate daily flights, including US-Bangla Airlines, Novoair, and Biman Bangladesh. The cost ranges from $35 to $170.\n",
      "\n",
      "2. **By Bus**: Taking a bus is another popular option, with a journey time of 10-12 hours. Bus tickets are available from 17 top bus operators, with prices ranging from 1050 to 2700 BDT ($9-30). \n",
      "\n",
      "3. **By Train**: You can also travel by train, which takes around 8 hours and 45 minutes. The estimated price for a train ticket is $2-23. \n",
      "\n",
      "These options cater to different preferences and budgets, offering a range of choices for travelers.\u001b[0m\n",
      "\n",
      "\u001b[1m> Finished chain.\u001b[0m\n",
      "{'input': \"Tell me 3 way to i can go Dhaka to Cox's-Bazar\", 'output': \"Here are 3 ways to go from Dhaka to Cox's Bazar:\\n\\n1. **By Air**: The fastest way to travel from Dhaka to Cox's Bazar is by air. The flight duration is approximately 1 hour, and several airlines operate daily flights, including US-Bangla Airlines, Novoair, and Biman Bangladesh. The cost ranges from $35 to $170.\\n\\n2. **By Bus**: Taking a bus is another popular option, with a journey time of 10-12 hours. Bus tickets are available from 17 top bus operators, with prices ranging from 1050 to 2700 BDT ($9-30). \\n\\n3. **By Train**: You can also travel by train, which takes around 8 hours and 45 minutes. The estimated price for a train ticket is $2-23. \\n\\nThese options cater to different preferences and budgets, offering a range of choices for travelers.\"}\n"
     ]
    }
   ],
   "source": [
    "## step 5 Invoking\n",
    "response = agent_executor.invoke(\n",
    "    {\n",
    "        \"input\": \"Tell me 3 way to i can go Dhaka to Cox's-Bazar\"\n",
    "    }\n",
    ")\n",
    "print(response)\n"
   ]
  },
  {
   "cell_type": "code",
   "execution_count": 16,
   "id": "a87d4a1e",
   "metadata": {},
   "outputs": [
    {
     "name": "stdout",
     "output_type": "stream",
     "text": [
      "Here are 3 ways to go from Dhaka to Cox's Bazar:\n",
      "\n",
      "1. **By Air**: The fastest way to travel from Dhaka to Cox's Bazar is by air. The flight duration is approximately 1 hour, and several airlines operate daily flights, including US-Bangla Airlines, Novoair, and Biman Bangladesh. The cost ranges from $35 to $170.\n",
      "\n",
      "2. **By Bus**: Taking a bus is another popular option, with a journey time of 10-12 hours. Bus tickets are available from 17 top bus operators, with prices ranging from 1050 to 2700 BDT ($9-30). \n",
      "\n",
      "3. **By Train**: You can also travel by train, which takes around 8 hours and 45 minutes. The estimated price for a train ticket is $2-23. \n",
      "\n",
      "These options cater to different preferences and budgets, offering a range of choices for travelers.\n"
     ]
    }
   ],
   "source": [
    "print(response['output'])"
   ]
  },
  {
   "cell_type": "markdown",
   "id": "da245c66",
   "metadata": {},
   "source": [
    "*One of more famous agent is `create_self_ask_with_search_agent`*"
   ]
  },
  {
   "cell_type": "code",
   "execution_count": null,
   "id": "7626e14b",
   "metadata": {},
   "outputs": [],
   "source": []
  }
 ],
 "metadata": {
  "kernelspec": {
   "display_name": "torchGPU",
   "language": "python",
   "name": "python3"
  },
  "language_info": {
   "codemirror_mode": {
    "name": "ipython",
    "version": 3
   },
   "file_extension": ".py",
   "mimetype": "text/x-python",
   "name": "python",
   "nbconvert_exporter": "python",
   "pygments_lexer": "ipython3",
   "version": "3.12.4"
  }
 },
 "nbformat": 4,
 "nbformat_minor": 5
}
