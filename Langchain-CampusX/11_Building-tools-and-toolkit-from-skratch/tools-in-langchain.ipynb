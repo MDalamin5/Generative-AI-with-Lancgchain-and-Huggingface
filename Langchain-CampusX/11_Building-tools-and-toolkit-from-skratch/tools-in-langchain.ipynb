{
 "cells": [
  {
   "cell_type": "markdown",
   "id": "963d4281",
   "metadata": {},
   "source": [
    "# ***Play with langChain Build in tools***"
   ]
  },
  {
   "cell_type": "markdown",
   "id": "754d0529",
   "metadata": {},
   "source": [
    "### *Search Tool*"
   ]
  },
  {
   "cell_type": "code",
   "execution_count": 10,
   "id": "5f11fc33",
   "metadata": {},
   "outputs": [
    {
     "name": "stdout",
     "output_type": "stream",
     "text": [
      "[{'url': 'https://en.wikipedia.org/wiki/Government_of_Bangladesh', 'content': \"Headquarters | Bangladesh Secretariat,Dhaka\\nWebsite | bangladesh.gov.bd\\nThe executive government is led by the prime minister, who selects all the remaining ministers. The prime minister and the other most senior ministers belong to the supreme decision-making committee, known as the Cabinet. After the resignation of Sheikh Hasina in August 2024, the current interim government is led by Dr. Muhammad Yunus as chief adviser. [...] The government of the People's Republic of Bangladesh (Bengali: গণপ্রজাতন্ত্রী বাংলাদেশ সরকার, romanized:\\xa0Gôṇôprôjātôntrī Bāṅlādēś Sôrkār) is the central government of Bangladesh. The government was constituted by the Constitution of Bangladesh comprising the executive (the president, prime minister and cabinet), the legislature (the Jatiya Sangsad), and the judiciary (the Supreme Court).  Bangladesh is a unitary state[1] and the central government has the authority to govern over the entirety [...] Government of Bangladesh\\nBengali:বাংলাদেশ সরকার\\nCentral government\\n•Government Seal•National Emblem\\nOverview\\nEstablished | 10\\xa0April 1971; 54 years ago(1971-04-10)\\nState | Bangladesh\\nLeader | Chief AdviserMuhammad Yunus\\nAppointed by | PresidentMohammed Shahabuddinon theadviceof the chief adviser\\nMain organ | Cabinet of Bangladesh\\nMinistries | 23 advisers, 353 departments and directorates\\nResponsible to | Parliament of Bangladesh\\nAnnual budget | ৳797000crore(US$66\\xa0billion)(2024–25)\"}, {'url': 'https://commonslibrary.parliament.uk/research-briefings/cbp-10096/', 'content': 'An interim government led by economist and Nobel Peace Prize winner Muhammad Yunus is now running the country. While Hasina and her Awami League'}, {'url': 'https://en.wikipedia.org/wiki/Prime_Minister_of_Bangladesh', 'content': \"ConstitutionAmendmentsLaw of BangladeshBangladesh CodePenal CodeHuman rightsArticle 70Judicial review\\nGovernmentPresident:Mohammed ShahabuddinChief Adviser:Muhammad YunusCabinet:Yunus (interim)TaxationAgenciesCivil ServiceLocal governments\\nParliamentSpeaker:VacantLeader of the House:VacantLeader of the Opposition:Vacant [...] The modern office of the prime minister was established following the declaration of independence of East Pakistan with the Provisional Government of Bangladesh on 17 April 1971, of which Tajuddin Ahmad became the first prime minister of Bangladesh. Since the adoption of the current Constitution of Bangladesh in 1972 the formal title of the office is the prime minister of the People's Republic of Bangladesh.\\n\\nMilitary coups and presidential regimes (1975–1991) [...] led by Army chief general Moinuddin Ahmed intervened and President Iajuddin Ahmed was asked to resign as the chief adviser. He was also made to declare a state of emergency. A new military-controlled caretaker government was formed with Fakhruddin Ahmed as the chief adviser. The scheduled parliamentary election was postponed.\"}, {'url': 'https://www.info.dfat.gov.au/info/hog/hog.nsf/ListSpecific?OpenForm&ExpandView&RestrictToCategory=Bangladesh', 'content': 'Head of StateHE Mohammed ShahabuddinPresidentYour ExcellencyHead of GovernmentDr Muhammad YunusHonourable Chief Adviser of the Interim Government of BangladeshYour Excellency, HonourableForeign MinisterMr Md Touhid HossainHonourable Adviser for Foreign Affairs of the Interim Government of BangladeshHonourableTrade MinisterDr Salehuddin AhmedHonourable Adviser for Commerce of the Interim Government of BangladeshHonourableAid MinisterDr Salehuddin AhmedHonourable Adviser for Finance of the [...] Function | Name | Position | Salutation\\nHead of State | HE Mohammed Shahabuddin | President | Your Excellency\\nHead of Government | Dr Muhammad Yunus | Honourable Chief Adviser of the Interim Government of Bangladesh | Your Excellency, Honourable\\nForeign Minister | Mr Md Touhid Hossain | Honourable Adviser for Foreign Affairs of the Interim Government of Bangladesh | Honourable'}, {'url': 'https://www.lemonde.fr/en/international/article/2024/11/17/in-bangladesh-after-100-days-in-power-the-interim-government-s-task-remains-colossal_6733121_4.html', 'content': \"Minister Sheikh Hasina on August 5, rendered the assembly that sat there obsolete. The interim government, led by economist Muhammad Yunus, winner of the 2006 Nobel Peace Prize, took over the country's reins on August 8. [...] Five Paris bagel shops to fill the hole in your stomach\\n\\nAfter 100 days in power, Bangladesh's interim government's task remains colossal\\n\\nThe interim government, which took office in the wake of the student movement that forced former prime minister Sheikh Hasina into exile, is focusing on reforms before announcing elections.\\n\\nBy\\xa0Carole Dieterich\\xa0(Dhaka (Bangladesh) special correspondent)\\n\\n4 min read\\n\\nSubscribers only\"}]\n"
     ]
    }
   ],
   "source": [
    "import os\n",
    "from dotenv import load_dotenv\n",
    "load_dotenv()\n",
    "\n",
    "from langchain_community.tools import DuckDuckGoSearchRun, TavilySearchResults\n",
    "search = TavilySearchResults(k=1)  \n",
    "response = search.invoke(\"Who is the current government of Bangladesh?\")\n",
    "print(response)"
   ]
  },
  {
   "cell_type": "code",
   "execution_count": 22,
   "id": "de1828c4",
   "metadata": {},
   "outputs": [
    {
     "name": "stdout",
     "output_type": "stream",
     "text": [
      "tavily_search_results_json\n",
      "A search engine optimized for comprehensive, accurate, and trusted results. Useful for when you need to answer questions about current events. Input should be a search query.\n",
      "{'query': {'description': 'search query to look up', 'title': 'Query', 'type': 'string'}}\n"
     ]
    }
   ],
   "source": [
    "print(search.name)\n",
    "print(search.description)\n",
    "print(search.args)"
   ]
  },
  {
   "cell_type": "markdown",
   "id": "950b971a",
   "metadata": {},
   "source": [
    "## Shell Tool"
   ]
  },
  {
   "cell_type": "code",
   "execution_count": 11,
   "id": "ee811972",
   "metadata": {},
   "outputs": [
    {
     "name": "stdout",
     "output_type": "stream",
     "text": [
      "Executing command:\n",
      " whoami\n",
      "mdsloq\\lenovo\n",
      "\n"
     ]
    },
    {
     "name": "stderr",
     "output_type": "stream",
     "text": [
      "c:\\Users\\Lenovo\\anaconda3\\envs\\torchGPU\\Lib\\site-packages\\langchain_community\\tools\\shell\\tool.py:33: UserWarning: The shell tool has no safeguards by default. Use at your own risk.\n",
      "  warnings.warn(\n"
     ]
    }
   ],
   "source": [
    "from langchain_community.tools import ShellTool\n",
    "\n",
    "shell_tool = ShellTool()\n",
    "result = shell_tool.invoke('whoami')\n",
    "print(result)"
   ]
  },
  {
   "cell_type": "markdown",
   "id": "dbe07dbd",
   "metadata": {},
   "source": [
    "### *[LangChain Tools list Documentation](https://python.langchain.com/docs/integrations/tools/)*"
   ]
  },
  {
   "cell_type": "markdown",
   "id": "aaf1e812",
   "metadata": {},
   "source": [
    "# ***Build Custom Tools***\n",
    "\n",
    "- step1: define a function with argument type\n",
    "- step2: must add description what is the purpose of this function\n",
    "- step3: add tool decorator and its make this function as runnable"
   ]
  },
  {
   "cell_type": "code",
   "execution_count": 13,
   "id": "b7a5d23c",
   "metadata": {},
   "outputs": [],
   "source": [
    "from langchain_core.tools import tool"
   ]
  },
  {
   "cell_type": "code",
   "execution_count": 14,
   "id": "c60d1cb8",
   "metadata": {},
   "outputs": [],
   "source": [
    "#step1\n",
    "def multiply(a, b):\n",
    "    return a*b"
   ]
  },
  {
   "cell_type": "code",
   "execution_count": 18,
   "id": "63b41dc4",
   "metadata": {},
   "outputs": [],
   "source": [
    "#step2 and 3\n",
    "\n",
    "@tool\n",
    "def multiply(a:int, b:int)->int:\n",
    "    \"\"\"multiply two integer number and return an integer number\"\"\"\n",
    "    return a*b"
   ]
  },
  {
   "cell_type": "code",
   "execution_count": 17,
   "id": "ff315925",
   "metadata": {},
   "outputs": [
    {
     "data": {
      "text/plain": [
       "30"
      ]
     },
     "execution_count": 17,
     "metadata": {},
     "output_type": "execute_result"
    }
   ],
   "source": [
    "multiply.invoke(\n",
    "    {\n",
    "        \"a\": 5,\n",
    "        \"b\": 6\n",
    "    }\n",
    ")"
   ]
  },
  {
   "cell_type": "code",
   "execution_count": 20,
   "id": "f8ca6ba6",
   "metadata": {},
   "outputs": [
    {
     "name": "stdout",
     "output_type": "stream",
     "text": [
      "multiply \n",
      " multiply two integer number and return an integer number \n",
      " {'a': {'title': 'A', 'type': 'integer'}, 'b': {'title': 'B', 'type': 'integer'}}\n"
     ]
    }
   ],
   "source": [
    "print(multiply.name,\"\\n\",multiply.description,\"\\n\",multiply.args)"
   ]
  },
  {
   "cell_type": "markdown",
   "id": "35a81508",
   "metadata": {},
   "source": [
    "## When llm get this tool its see this info about this tools"
   ]
  },
  {
   "cell_type": "code",
   "execution_count": 23,
   "id": "34ee148b",
   "metadata": {},
   "outputs": [
    {
     "name": "stdout",
     "output_type": "stream",
     "text": [
      "{'description': 'multiply two integer number and return an integer number', 'properties': {'a': {'title': 'A', 'type': 'integer'}, 'b': {'title': 'B', 'type': 'integer'}}, 'required': ['a', 'b'], 'title': 'multiply', 'type': 'object'}\n"
     ]
    }
   ],
   "source": [
    "print(multiply.args_schema.model_json_schema())"
   ]
  },
  {
   "cell_type": "markdown",
   "id": "b8305bfb",
   "metadata": {},
   "source": [
    "### Mostly uses method to creating tools\n",
    "- using `@tool` decorator\n",
    "- using Structured tool and Pydantic\n",
    "- Using BaseTool class"
   ]
  },
  {
   "cell_type": "markdown",
   "id": "21000737",
   "metadata": {},
   "source": [
    "# **Make tool using Structured and Pydantic**"
   ]
  },
  {
   "cell_type": "code",
   "execution_count": 26,
   "id": "cc7f9245",
   "metadata": {},
   "outputs": [],
   "source": [
    "from langchain.tools import StructuredTool\n",
    "from pydantic import BaseModel, Field\n",
    "\n",
    "\n",
    "class MultiplyInput(BaseModel):\n",
    "    a: int = Field(required=True, description=\"The first number to add\")\n",
    "    b: int = Field(required=True, description=\"The second number of add\")\n",
    "    \n",
    "def multiply_func(a: int, b: int)->int:\n",
    "    return a*b"
   ]
  },
  {
   "cell_type": "code",
   "execution_count": 27,
   "id": "4a3269d9",
   "metadata": {},
   "outputs": [],
   "source": [
    "## making the tools\n",
    "multiply_tool = StructuredTool.from_function(\n",
    "    func=multiply_func,\n",
    "    name=\"multiply\",\n",
    "    description=\"Multiply two integer number\",\n",
    "    args_schema=MultiplyInput\n",
    ")"
   ]
  },
  {
   "cell_type": "code",
   "execution_count": 29,
   "id": "0ce27d88",
   "metadata": {},
   "outputs": [
    {
     "data": {
      "text/plain": [
       "25"
      ]
     },
     "execution_count": 29,
     "metadata": {},
     "output_type": "execute_result"
    }
   ],
   "source": [
    "multiply_tool.invoke({\n",
    "    'a': 5,\n",
    "    'b': 5\n",
    "})"
   ]
  },
  {
   "cell_type": "code",
   "execution_count": 30,
   "id": "94d2ae0f",
   "metadata": {},
   "outputs": [
    {
     "name": "stdout",
     "output_type": "stream",
     "text": [
      "multiply\n",
      "Multiply two integer number\n",
      "{'a': {'description': 'The first number to add', 'required': True, 'title': 'A', 'type': 'integer'}, 'b': {'description': 'The second number of add', 'required': True, 'title': 'B', 'type': 'integer'}}\n"
     ]
    }
   ],
   "source": [
    "print(multiply_tool.name)\n",
    "print(multiply_tool.description)\n",
    "print(multiply_tool.args)"
   ]
  },
  {
   "cell_type": "code",
   "execution_count": 31,
   "id": "f27109b8",
   "metadata": {},
   "outputs": [
    {
     "name": "stdout",
     "output_type": "stream",
     "text": [
      "{'properties': {'a': {'description': 'The first number to add', 'required': True, 'title': 'A', 'type': 'integer'}, 'b': {'description': 'The second number of add', 'required': True, 'title': 'B', 'type': 'integer'}}, 'required': ['a', 'b'], 'title': 'MultiplyInput', 'type': 'object'}\n"
     ]
    }
   ],
   "source": [
    "print(multiply_tool.args_schema.model_json_schema())"
   ]
  },
  {
   "cell_type": "markdown",
   "id": "e03dad0d",
   "metadata": {},
   "source": [
    "## Using BaseToolClass"
   ]
  },
  {
   "cell_type": "code",
   "execution_count": 34,
   "id": "292d5ad5",
   "metadata": {},
   "outputs": [],
   "source": [
    "from langchain_core.tools import BaseTool\n",
    "from typing import Type\n",
    "\n",
    "class MultiplyInput(BaseModel):\n",
    "    a: int = Field(required=True, description=\"The first number to add\")\n",
    "    b: int = Field(required=True, description=\"The second number to add\")"
   ]
  },
  {
   "cell_type": "code",
   "execution_count": 35,
   "id": "7fc90f1f",
   "metadata": {},
   "outputs": [],
   "source": [
    "class MultiplyTool(BaseTool):\n",
    "    name: str = \"multiply\"\n",
    "    description: str = \"Multiply two numbers\"\n",
    "    \n",
    "    args_schema: Type[BaseModel] = MultiplyInput\n",
    "    \n",
    "    def _run(self, a: int, b: int) -> int:\n",
    "        return a*b"
   ]
  },
  {
   "cell_type": "code",
   "execution_count": 36,
   "id": "4ee893cb",
   "metadata": {},
   "outputs": [],
   "source": [
    "mul_tool = MultiplyTool()"
   ]
  },
  {
   "cell_type": "code",
   "execution_count": 38,
   "id": "e99867a5",
   "metadata": {},
   "outputs": [
    {
     "data": {
      "text/plain": [
       "40"
      ]
     },
     "execution_count": 38,
     "metadata": {},
     "output_type": "execute_result"
    }
   ],
   "source": [
    "mul_tool.invoke(\n",
    "    {\n",
    "        \"a\": 10,\n",
    "        'b': 4\n",
    "    }\n",
    ")"
   ]
  },
  {
   "cell_type": "code",
   "execution_count": 39,
   "id": "83bb78dc",
   "metadata": {},
   "outputs": [
    {
     "name": "stdout",
     "output_type": "stream",
     "text": [
      "{'properties': {'a': {'description': 'The first number to add', 'required': True, 'title': 'A', 'type': 'integer'}, 'b': {'description': 'The second number to add', 'required': True, 'title': 'B', 'type': 'integer'}}, 'required': ['a', 'b'], 'title': 'MultiplyInput', 'type': 'object'}\n"
     ]
    }
   ],
   "source": [
    "print(mul_tool.args_schema.model_json_schema())"
   ]
  },
  {
   "cell_type": "markdown",
   "id": "8ee07812",
   "metadata": {},
   "source": [
    "# Toolkit\n",
    "- a toolkit is just a collection of related tools and that serve a common purpose package together for convenience and reusability\n",
    "- Example of toolkit is GoogleDriveToolKit\n",
    "    - `GoogleDriveCreateFileTool`: Upload a file\n",
    "    - `GoogleDriveSearchFileTool`: Search a file\n",
    "    - `GoogleDriveReadFileTool`: Read the content of the file\n",
    "\n",
    "## Build custom tool"
   ]
  },
  {
   "cell_type": "code",
   "execution_count": 40,
   "id": "4c708298",
   "metadata": {},
   "outputs": [],
   "source": [
    "@tool\n",
    "def add(a: int, b: int)->int:\n",
    "    \"add two integer number\"\n",
    "    return a+b\n",
    "\n",
    "@tool\n",
    "def multiply(a: int, b:int) -> int:\n",
    "    \"\"\"multiply two integer number\"\"\"\n",
    "    return a*b"
   ]
  },
  {
   "cell_type": "code",
   "execution_count": 41,
   "id": "7d6ca8b3",
   "metadata": {},
   "outputs": [],
   "source": [
    "class MathToolKit:\n",
    "    def get_tools(self):\n",
    "        return [add, multiply]"
   ]
  },
  {
   "cell_type": "code",
   "execution_count": 43,
   "id": "2ba831a8",
   "metadata": {},
   "outputs": [
    {
     "name": "stdout",
     "output_type": "stream",
     "text": [
      "add ==> add two integer number ==> {'a': {'title': 'A', 'type': 'integer'}, 'b': {'title': 'B', 'type': 'integer'}}\n",
      "multiply ==> multiply two integer number ==> {'a': {'title': 'A', 'type': 'integer'}, 'b': {'title': 'B', 'type': 'integer'}}\n"
     ]
    }
   ],
   "source": [
    "toolkit = MathToolKit()\n",
    "tools = toolkit.get_tools()\n",
    "\n",
    "for tool in tools:\n",
    "    print(tool.name, \"==>\", tool.description, \"==>\", tool.args)"
   ]
  }
 ],
 "metadata": {
  "kernelspec": {
   "display_name": "torchGPU",
   "language": "python",
   "name": "python3"
  },
  "language_info": {
   "codemirror_mode": {
    "name": "ipython",
    "version": 3
   },
   "file_extension": ".py",
   "mimetype": "text/x-python",
   "name": "python",
   "nbconvert_exporter": "python",
   "pygments_lexer": "ipython3",
   "version": "3.12.4"
  }
 },
 "nbformat": 4,
 "nbformat_minor": 5
}
