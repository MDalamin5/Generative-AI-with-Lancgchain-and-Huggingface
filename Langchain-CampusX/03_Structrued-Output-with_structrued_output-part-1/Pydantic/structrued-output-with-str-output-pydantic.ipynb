{
 "cells": [
  {
   "cell_type": "code",
   "execution_count": 1,
   "metadata": {},
   "outputs": [],
   "source": [
    "import os\n",
    "from dotenv import load_dotenv\n",
    "load_dotenv()\n",
    "from langchain_groq import ChatGroq\n",
    "import streamlit as st\n",
    "\n",
    "\n",
    "groq_api_key=os.getenv(\"GROQ_API_KEY\")\n",
    "\n",
    "model=ChatGroq(groq_api_key=groq_api_key,model_name=\"qwen-2.5-32b\")"
   ]
  },
  {
   "cell_type": "code",
   "execution_count": 2,
   "metadata": {},
   "outputs": [],
   "source": [
    "com_review = \"\"\"\n",
    "The \"ChronoPhone 8X\" is a daring attempt to blend retro design with futuristic features, resulting in a device that simultaneously looks like a brick from the 80s and something out of a sci-fi movie. Its chunky, colorful plastic shell houses a surprisingly vibrant display and an oddly satisfying clicky keyboard. The phone feels solid in your hand, like a well-worn but trustworthy tool ready to tackle any digital task, but also attract some curious glances for its unique form factor.\n",
    "\n",
    "Beneath the eye-catching exterior, the ChronoPhone 8X packs a Snapdragon 8 Gen 1 processor, 12GB of RAM, and a generous 512GB of storage. The 6.8-inch AMOLED screen boasts a 120Hz refresh rate and excellent color accuracy. It features a dual-camera system with a 64MP main lens and a 12MP ultrawide, capable of recording video at up to 8K resolution. Its equipped with a decent 5000 mAh battery with 65W fast charging and runs on a custom Android 13 skin called \"ChronoOS\" which includes some cool, if questionably useful, widget-based apps.\n",
    "\n",
    "What sets the ChronoPhone 8X apart is its commitment to tactile feedback and unique software experience. While other phones are chasing ever-thinner designs and minimalist interfaces, the 8X embraces buttons, knobs, and a distinctive user interface reminiscent of old computer operating systems. It's a refreshing change of pace for users tired of the homogenous feel of modern smartphones and who appreciate a device that stands out from the crowd.\n",
    "\n",
    "Pros:\n",
    "\n",
    "Unique and eye-catching retro design.\n",
    "\n",
    "Powerful performance for demanding tasks.\n",
    "\n",
    "Impressive battery life and fast charging.\n",
    "\n",
    "Satisfying tactile feedback from physical buttons.\n",
    "\n",
    "Ample storage space.\n",
    "\n",
    "Cons:\n",
    "\n",
    "Bulky and heavy compared to modern smartphones.\n",
    "\n",
    "ChronoOS can be buggy and require some getting used to.\n",
    "\n",
    "Camera performance is good but not flagship-level.\n",
    "\n",
    "The design might not appeal to everyone.\n",
    "\n",
    "Limited availability in some regions.\n",
    "\n",
    "\"\"\""
   ]
  },
  {
   "cell_type": "code",
   "execution_count": null,
   "metadata": {},
   "outputs": [
    {
     "data": {
      "text/plain": [
       "Review(key_themes=['Retro Design', 'Powerful Performance', 'Distinctive User Experience', 'Bulky Design', 'Custom OS'], summary='The ChronoPhone 8X is a unique blend of retro design and advanced technology, offering powerful performance and a distinctive user experience, though it is bulkier and has a somewhat buggy custom OS.', sentiment='Pos', pros=['Unique and eye-catching retro design', 'Powerful performance for demanding tasks', 'Impressive battery life and fast charging', 'Satisfying tactile feedback from physical buttons', 'Ample storage space'], cons=['Bulky and heavy compared to modern smartphones', 'ChronoOS can be buggy and require some getting used to', 'Camera performance is good but not flagship-level', 'The design might not appeal to everyone', 'Limited availability in some regions'], name='ChronoPhone 8X Review')"
      ]
     },
     "execution_count": 3,
     "metadata": {},
     "output_type": "execute_result"
    }
   ],
   "source": [
    "## schema\n",
    "from typing import TypedDict, Optional, Annotated, Literal\n",
    "from pydantic import BaseModel, Field\n",
    "\n",
    "\n",
    "class Review(BaseModel):\n",
    "    key_themes: list[str] = Field(description=\"Write down all the key themes discussed in the review in a list\")\n",
    "    summary: str = Field(description=\"A brief summary of the reviews\")\n",
    "    sentiment: Literal[\"Pos\", 'Neg'] = Field(description=\"return sentiment of the review either negative, positive or neutral\")\n",
    "    pros: Optional[list[str]] = Field(default=None, description=\"Write down the all pros inside the a list\")\n",
    "    cons: Optional[list[str]] = Field(default=None, description=\"Write down the all cons inside the a list\")\n",
    "    \n",
    "    name:Optional[str] =Field(default=None, description=\"Write down the reviewer name\")\n",
    "    \n",
    "structured_model = model.with_structured_output(Review)\n",
    "\n",
    "result = structured_model.invoke(com_review)\n",
    "result"
   ]
  },
  {
   "cell_type": "code",
   "execution_count": 4,
   "metadata": {},
   "outputs": [
    {
     "data": {
      "text/plain": [
       "'The ChronoPhone 8X is a unique blend of retro design and advanced technology, offering powerful performance and a distinctive user experience, though it is bulkier and has a somewhat buggy custom OS.'"
      ]
     },
     "execution_count": 4,
     "metadata": {},
     "output_type": "execute_result"
    }
   ],
   "source": [
    "result.summary"
   ]
  },
  {
   "cell_type": "code",
   "execution_count": null,
   "metadata": {},
   "outputs": [],
   "source": []
  }
 ],
 "metadata": {
  "kernelspec": {
   "display_name": "torchGPU",
   "language": "python",
   "name": "python3"
  },
  "language_info": {
   "codemirror_mode": {
    "name": "ipython",
    "version": 3
   },
   "file_extension": ".py",
   "mimetype": "text/x-python",
   "name": "python",
   "nbconvert_exporter": "python",
   "pygments_lexer": "ipython3",
   "version": "3.12.4"
  }
 },
 "nbformat": 4,
 "nbformat_minor": 2
}
