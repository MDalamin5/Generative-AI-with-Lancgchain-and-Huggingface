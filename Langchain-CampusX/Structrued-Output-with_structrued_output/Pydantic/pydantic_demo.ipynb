{
 "cells": [
  {
   "cell_type": "code",
   "execution_count": 1,
   "metadata": {},
   "outputs": [
    {
     "name": "stdout",
     "output_type": "stream",
     "text": [
      "name='Al Amin' age=24 email='agb@gmail.com'\n",
      "<class '__main__.Student'>\n",
      "Al Amin\n",
      "<class 'int'>\n"
     ]
    }
   ],
   "source": [
    "from pydantic import BaseModel, EmailStr\n",
    "from typing import Optional\n",
    "\n",
    "class Student(BaseModel):\n",
    "    name: str = 'Al Amin' # its a default value if user do not pass the name\n",
    "    age: Optional[int] = None # if age value in not provide then its automatic set none\n",
    "    email:EmailStr\n",
    "    \n",
    "    \n",
    "# new_student = {\"name\": \"Md Al Amin\"}\n",
    "# new_student = {'age': 25}\n",
    "new_student = {'age': '24', 'email':'agb@gmail.com'}\n",
    "\n",
    "student = Student(**new_student)\n",
    "print(student)\n",
    "print(type(student))\n",
    "print(student.name)\n",
    "print(type(student.age))"
   ]
  },
  {
   "cell_type": "code",
   "execution_count": null,
   "metadata": {},
   "outputs": [
    {
     "name": "stdout",
     "output_type": "stream",
     "text": [
      "name='Al Amin' age=24 email='agb@gmail.com' cgpa=3.14\n"
     ]
    }
   ],
   "source": [
    "## set value range\n",
    "\n",
    "from pydantic import BaseModel, EmailStr, Field\n",
    "from typing import Optional\n",
    "\n",
    "class Student(BaseModel):\n",
    "    name: str = 'Al Amin' # its a default value if user do not pass the name\n",
    "    age: Optional[int] = None # if age value in not provide then its automatic set none\n",
    "    email:EmailStr\n",
    "    cgpa: float = Field(gt=0.0, lt=4.0, default=2.0)\n",
    "    \n",
    "\n",
    "new_student = {'age': '24', 'email':'agb@gmail.com', 'cgpa': 3.14}\n",
    "\n",
    "student = Student(**new_student)\n",
    "print(student)\n"
   ]
  },
  {
   "cell_type": "markdown",
   "metadata": {},
   "source": [
    "## Add custom Description"
   ]
  },
  {
   "cell_type": "code",
   "execution_count": 5,
   "metadata": {},
   "outputs": [
    {
     "name": "stdout",
     "output_type": "stream",
     "text": [
      "name='Al Amin' age=24 email='agb@gmail.com' cgpa=3.14\n"
     ]
    }
   ],
   "source": [
    "from pydantic import BaseModel, EmailStr, Field\n",
    "from typing import Optional\n",
    "\n",
    "class Student(BaseModel):\n",
    "    name: str = 'Al Amin' # its a default value if user do not pass the name\n",
    "    age: Optional[int] = None # if age value in not provide then its automatic set none\n",
    "    email:EmailStr\n",
    "    cgpa: float = Field(gt=0.0, lt=4.0, default=2.0, description=\"A decimal value representing the cgpa of the student\")\n",
    "    \n",
    "\n",
    "new_student = {'age': '24', 'email':'agb@gmail.com', 'cgpa': 3.14}\n",
    "\n",
    "student = Student(**new_student)\n",
    "print(student)"
   ]
  },
  {
   "cell_type": "markdown",
   "metadata": {},
   "source": [
    "### convert the pydantic object into JSON format"
   ]
  },
  {
   "cell_type": "code",
   "execution_count": 7,
   "metadata": {},
   "outputs": [
    {
     "data": {
      "text/plain": [
       "{'name': 'Al Amin', 'age': 24, 'email': 'agb@gmail.com', 'cgpa': 3.14}"
      ]
     },
     "execution_count": 7,
     "metadata": {},
     "output_type": "execute_result"
    }
   ],
   "source": [
    "from pydantic import BaseModel, EmailStr, Field\n",
    "from typing import Optional\n",
    "\n",
    "class Student(BaseModel):\n",
    "    name: str = 'Al Amin' # its a default value if user do not pass the name\n",
    "    age: Optional[int] = None # if age value in not provide then its automatic set none\n",
    "    email:EmailStr\n",
    "    cgpa: float = Field(gt=0.0, lt=4.0, default=2.0, description=\"A decimal value representing the cgpa of the student\")\n",
    "    \n",
    "\n",
    "new_student = {'age': '24', 'email':'agb@gmail.com', 'cgpa': 3.14}\n",
    "\n",
    "student = Student(**new_student)\n",
    "response = dict(student)\n",
    "response"
   ]
  },
  {
   "cell_type": "code",
   "execution_count": 8,
   "metadata": {},
   "outputs": [
    {
     "data": {
      "text/plain": [
       "'Al Amin'"
      ]
     },
     "execution_count": 8,
     "metadata": {},
     "output_type": "execute_result"
    }
   ],
   "source": [
    "response['name']"
   ]
  },
  {
   "cell_type": "code",
   "execution_count": 9,
   "metadata": {},
   "outputs": [
    {
     "data": {
      "text/plain": [
       "'{\"name\":\"Al Amin\",\"age\":24,\"email\":\"agb@gmail.com\",\"cgpa\":3.14}'"
      ]
     },
     "execution_count": 9,
     "metadata": {},
     "output_type": "execute_result"
    }
   ],
   "source": [
    "response_json = student.model_dump_json()\n",
    "response_json"
   ]
  },
  {
   "cell_type": "code",
   "execution_count": null,
   "metadata": {},
   "outputs": [],
   "source": []
  }
 ],
 "metadata": {
  "kernelspec": {
   "display_name": "torchGPU",
   "language": "python",
   "name": "python3"
  },
  "language_info": {
   "codemirror_mode": {
    "name": "ipython",
    "version": 3
   },
   "file_extension": ".py",
   "mimetype": "text/x-python",
   "name": "python",
   "nbconvert_exporter": "python",
   "pygments_lexer": "ipython3",
   "version": "3.12.4"
  }
 },
 "nbformat": 4,
 "nbformat_minor": 2
}
