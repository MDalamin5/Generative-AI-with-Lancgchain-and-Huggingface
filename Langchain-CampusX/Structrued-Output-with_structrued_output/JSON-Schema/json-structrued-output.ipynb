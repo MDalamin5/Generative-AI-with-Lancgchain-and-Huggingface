{
 "cells": [
  {
   "cell_type": "code",
   "execution_count": 1,
   "metadata": {},
   "outputs": [],
   "source": [
    "import os\n",
    "from dotenv import load_dotenv\n",
    "load_dotenv()\n",
    "from langchain_groq import ChatGroq\n",
    "import streamlit as st\n",
    "\n",
    "\n",
    "groq_api_key=os.getenv(\"GROQ_API_KEY\")\n",
    "\n",
    "model=ChatGroq(groq_api_key=groq_api_key,model_name=\"qwen-2.5-32b\")"
   ]
  },
  {
   "cell_type": "code",
   "execution_count": 2,
   "metadata": {},
   "outputs": [],
   "source": [
    "com_review = \"\"\"\n",
    "The \"ChronoPhone 8X\" is a daring attempt to blend retro design with futuristic features, resulting in a device that simultaneously looks like a brick from the 80s and something out of a sci-fi movie. Its chunky, colorful plastic shell houses a surprisingly vibrant display and an oddly satisfying clicky keyboard. The phone feels solid in your hand, like a well-worn but trustworthy tool ready to tackle any digital task, but also attract some curious glances for its unique form factor.\n",
    "\n",
    "Beneath the eye-catching exterior, the ChronoPhone 8X packs a Snapdragon 8 Gen 1 processor, 12GB of RAM, and a generous 512GB of storage. The 6.8-inch AMOLED screen boasts a 120Hz refresh rate and excellent color accuracy. It features a dual-camera system with a 64MP main lens and a 12MP ultrawide, capable of recording video at up to 8K resolution. Its equipped with a decent 5000 mAh battery with 65W fast charging and runs on a custom Android 13 skin called \"ChronoOS\" which includes some cool, if questionably useful, widget-based apps.\n",
    "\n",
    "What sets the ChronoPhone 8X apart is its commitment to tactile feedback and unique software experience. While other phones are chasing ever-thinner designs and minimalist interfaces, the 8X embraces buttons, knobs, and a distinctive user interface reminiscent of old computer operating systems. It's a refreshing change of pace for users tired of the homogenous feel of modern smartphones and who appreciate a device that stands out from the crowd.\n",
    "\n",
    "Pros:\n",
    "\n",
    "Unique and eye-catching retro design.\n",
    "\n",
    "Powerful performance for demanding tasks.\n",
    "\n",
    "Impressive battery life and fast charging.\n",
    "\n",
    "Satisfying tactile feedback from physical buttons.\n",
    "\n",
    "Ample storage space.\n",
    "\n",
    "Cons:\n",
    "\n",
    "Bulky and heavy compared to modern smartphones.\n",
    "\n",
    "ChronoOS can be buggy and require some getting used to.\n",
    "\n",
    "Camera performance is good but not flagship-level.\n",
    "\n",
    "The design might not appeal to everyone.\n",
    "\n",
    "Limited availability in some regions.\n",
    "\n",
    "\"\"\""
   ]
  },
  {
   "cell_type": "code",
   "execution_count": 3,
   "metadata": {},
   "outputs": [],
   "source": [
    "json_schema = {\n",
    "  \"title\": \"Review\",\n",
    "  \"type\": \"object\",\n",
    "  \"properties\": {\n",
    "    \"key_themes\": {\n",
    "      \"type\": \"array\",\n",
    "      \"items\": {\n",
    "        \"type\": \"string\"\n",
    "      },\n",
    "      \"description\": \"Write down all the key themes discussed in the review in a list\"\n",
    "    },\n",
    "    \"summary\": {\n",
    "      \"type\": \"string\",\n",
    "      \"description\": \"A brief summary of the review\"\n",
    "    },\n",
    "    \"sentiment\": {\n",
    "      \"type\": \"string\",\n",
    "      \"enum\": [\"pos\", \"neg\"],\n",
    "      \"description\": \"Return sentiment of the review either negative, positive or neutral\"\n",
    "    },\n",
    "    \"pros\": {\n",
    "      \"type\": [\"array\", \"null\"],\n",
    "      \"items\": {\n",
    "        \"type\": \"string\"\n",
    "      },\n",
    "      \"description\": \"Write down all the pros inside a list\"\n",
    "    },\n",
    "    \"cons\": {\n",
    "      \"type\": [\"array\", \"null\"],\n",
    "      \"items\": {\n",
    "        \"type\": \"string\"\n",
    "      },\n",
    "      \"description\": \"Write down all the cons inside a list\"\n",
    "    },\n",
    "    \"name\": {\n",
    "      \"type\": [\"string\", \"null\"],\n",
    "      \"description\": \"Write the name of the reviewer\"\n",
    "    }\n",
    "  },\n",
    "  \"required\": [\"key_themes\", \"summary\", \"sentiment\"]\n",
    "}"
   ]
  },
  {
   "cell_type": "code",
   "execution_count": 4,
   "metadata": {},
   "outputs": [
    {
     "data": {
      "text/plain": [
       "{'name': 'Tech Enthusiast',\n",
       " 'summary': \"The ChronoPhone 8X is a unique blend of retro design and futuristic features, offering powerful performance and ample storage space. It stands out with its distinctive tactile feedback and custom ChronoOS, though it's bulky and the software can be buggy.\",\n",
       " 'sentiment': 'pos',\n",
       " 'key_themes': ['Retro Design',\n",
       "  'Performance',\n",
       "  'Battery Life',\n",
       "  'ChronoOS',\n",
       "  'Availability'],\n",
       " 'pros': ['Unique and eye-catching retro design',\n",
       "  'Powerful performance for demanding tasks',\n",
       "  'Impressive battery life and fast charging',\n",
       "  'Satisfying tactile feedback from physical buttons',\n",
       "  'Ample storage space'],\n",
       " 'cons': ['Bulky and heavy compared to modern smartphones',\n",
       "  'ChronoOS can be buggy and require some getting used to',\n",
       "  'Camera performance is good but not flagship-level',\n",
       "  'The design might not appeal to everyone',\n",
       "  'Limited availability in some regions']}"
      ]
     },
     "execution_count": 4,
     "metadata": {},
     "output_type": "execute_result"
    }
   ],
   "source": [
    "structured_model = model.with_structured_output(json_schema)\n",
    "\n",
    "result = structured_model.invoke(com_review)\n",
    "result"
   ]
  },
  {
   "cell_type": "code",
   "execution_count": 5,
   "metadata": {},
   "outputs": [
    {
     "data": {
      "text/plain": [
       "'Tech Enthusiast'"
      ]
     },
     "execution_count": 5,
     "metadata": {},
     "output_type": "execute_result"
    }
   ],
   "source": [
    "result['name']"
   ]
  },
  {
   "cell_type": "code",
   "execution_count": 6,
   "metadata": {},
   "outputs": [
    {
     "data": {
      "text/plain": [
       "['Retro Design', 'Performance', 'Battery Life', 'ChronoOS', 'Availability']"
      ]
     },
     "execution_count": 6,
     "metadata": {},
     "output_type": "execute_result"
    }
   ],
   "source": [
    "result['key_themes']"
   ]
  },
  {
   "cell_type": "code",
   "execution_count": null,
   "metadata": {},
   "outputs": [],
   "source": []
  }
 ],
 "metadata": {
  "kernelspec": {
   "display_name": "torchGPU",
   "language": "python",
   "name": "python3"
  },
  "language_info": {
   "codemirror_mode": {
    "name": "ipython",
    "version": 3
   },
   "file_extension": ".py",
   "mimetype": "text/x-python",
   "name": "python",
   "nbconvert_exporter": "python",
   "pygments_lexer": "ipython3",
   "version": "3.12.4"
  }
 },
 "nbformat": 4,
 "nbformat_minor": 2
}
