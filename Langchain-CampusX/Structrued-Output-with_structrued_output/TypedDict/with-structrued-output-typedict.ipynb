{
 "cells": [
  {
   "cell_type": "code",
   "execution_count": 6,
   "metadata": {},
   "outputs": [],
   "source": [
    "import os\n",
    "from dotenv import load_dotenv\n",
    "load_dotenv()\n",
    "from langchain_groq import ChatGroq\n",
    "import streamlit as st\n",
    "from langchain_core.prompts import ChatPromptTemplate, PromptTemplate, load_prompt\n",
    "from langchain_core.messages import HumanMessage, SystemMessage, AIMessage\n",
    "\n",
    "\n",
    "groq_api_key=os.getenv(\"GROQ_API_KEY\")\n",
    "\n",
    "model=ChatGroq(groq_api_key=groq_api_key,model_name=\"qwen-2.5-32b\")"
   ]
  },
  {
   "cell_type": "code",
   "execution_count": 2,
   "metadata": {},
   "outputs": [],
   "source": [
    "from typing import TypedDict"
   ]
  },
  {
   "cell_type": "code",
   "execution_count": 15,
   "metadata": {},
   "outputs": [],
   "source": [
    "review = \"The 'SparkPhone Z500' is surprisingly decent for the price, boasting a battery that lasts longer than my will to live. However, the camera makes everything look like it was filmed through a jar of Vaseline, even in broad daylight. I'd recommend it if you hate taking photos and love charging your phone only once every two days.\""
   ]
  },
  {
   "cell_type": "code",
   "execution_count": 7,
   "metadata": {},
   "outputs": [],
   "source": [
    "## create a schema\n",
    "class Review(TypedDict):\n",
    "    summary: str\n",
    "    sentiment: str\n",
    "\n",
    "structured_model = model.with_structured_output(Review)"
   ]
  },
  {
   "cell_type": "code",
   "execution_count": 8,
   "metadata": {},
   "outputs": [
    {
     "data": {
      "text/plain": [
       "{'summary': 'The SparkPhone Z500 offers excellent battery life but has poor camera quality.',\n",
       " 'sentiment': 'mixed'}"
      ]
     },
     "execution_count": 8,
     "metadata": {},
     "output_type": "execute_result"
    }
   ],
   "source": [
    "result = structured_model.invoke(review)\n",
    "result"
   ]
  },
  {
   "cell_type": "code",
   "execution_count": 9,
   "metadata": {},
   "outputs": [
    {
     "data": {
      "text/plain": [
       "'The SparkPhone Z500 offers excellent battery life but has poor camera quality.'"
      ]
     },
     "execution_count": 9,
     "metadata": {},
     "output_type": "execute_result"
    }
   ],
   "source": [
    "result['summary']"
   ]
  },
  {
   "cell_type": "code",
   "execution_count": 19,
   "metadata": {},
   "outputs": [
    {
     "data": {
      "text/plain": [
       "{'summary': 'স্পার্কফোন Z500 এর ব্যাটারি খুব ভালো কিন্তু ক্যামেরার মান খাঁটিনো না। এটি ফটো নিতে অপছন্দ করেন যারা এবং বিদ্যুৎ চার্জ করতে পছন্দ করেন দুইদিনে একবার।',\n",
       " 'sentiment': 'নিরপেক্ষ'}"
      ]
     },
     "execution_count": 19,
     "metadata": {},
     "output_type": "execute_result"
    }
   ],
   "source": [
    "from typing import TypedDict, Annotated\n",
    "## create a schema\n",
    "class Review(TypedDict):\n",
    "    summary: Annotated[str, \"Return summary in bangla Language\"]\n",
    "    sentiment: Annotated[str, \"Return sentiment of the review either negative, positive or neutral, and in bangla language\"]\n",
    "\n",
    "structured_model = model.with_structured_output(Review)\n",
    "\n",
    "result = structured_model.invoke(review)\n",
    "result"
   ]
  },
  {
   "cell_type": "code",
   "execution_count": 18,
   "metadata": {},
   "outputs": [],
   "source": [
    "com_review = \"\"\"\n",
    "The \"ChronoPhone 8X\" is a daring attempt to blend retro design with futuristic features, resulting in a device that simultaneously looks like a brick from the 80s and something out of a sci-fi movie. Its chunky, colorful plastic shell houses a surprisingly vibrant display and an oddly satisfying clicky keyboard. The phone feels solid in your hand, like a well-worn but trustworthy tool ready to tackle any digital task, but also attract some curious glances for its unique form factor.\n",
    "\n",
    "Beneath the eye-catching exterior, the ChronoPhone 8X packs a Snapdragon 8 Gen 1 processor, 12GB of RAM, and a generous 512GB of storage. The 6.8-inch AMOLED screen boasts a 120Hz refresh rate and excellent color accuracy. It features a dual-camera system with a 64MP main lens and a 12MP ultrawide, capable of recording video at up to 8K resolution. Its equipped with a decent 5000 mAh battery with 65W fast charging and runs on a custom Android 13 skin called \"ChronoOS\" which includes some cool, if questionably useful, widget-based apps.\n",
    "\n",
    "What sets the ChronoPhone 8X apart is its commitment to tactile feedback and unique software experience. While other phones are chasing ever-thinner designs and minimalist interfaces, the 8X embraces buttons, knobs, and a distinctive user interface reminiscent of old computer operating systems. It's a refreshing change of pace for users tired of the homogenous feel of modern smartphones and who appreciate a device that stands out from the crowd.\n",
    "\n",
    "Pros:\n",
    "\n",
    "Unique and eye-catching retro design.\n",
    "\n",
    "Powerful performance for demanding tasks.\n",
    "\n",
    "Impressive battery life and fast charging.\n",
    "\n",
    "Satisfying tactile feedback from physical buttons.\n",
    "\n",
    "Ample storage space.\n",
    "\n",
    "Cons:\n",
    "\n",
    "Bulky and heavy compared to modern smartphones.\n",
    "\n",
    "ChronoOS can be buggy and require some getting used to.\n",
    "\n",
    "Camera performance is good but not flagship-level.\n",
    "\n",
    "The design might not appeal to everyone.\n",
    "\n",
    "Limited availability in some regions.\n",
    "\n",
    "\"\"\""
   ]
  },
  {
   "cell_type": "code",
   "execution_count": 20,
   "metadata": {},
   "outputs": [
    {
     "data": {
      "text/plain": [
       "{'summary': \"The ChronoPhone 8X is a unique smartphone that blends retro design with high-end features. It offers powerful performance, impressive battery life, and a distinctive user interface, but it's bulky, limited in availability, and its custom OS can be buggy.\",\n",
       " 'sentiment': 'neutral',\n",
       " 'pros': ['Unique and eye-catching retro design',\n",
       "  'Powerful performance for demanding tasks',\n",
       "  'Impressive battery life and fast charging',\n",
       "  'Satisfying tactile feedback from physical buttons',\n",
       "  'Ample storage space'],\n",
       " 'cons': ['Bulky and heavy compared to modern smartphones',\n",
       "  'ChronoOS can be buggy and require some getting used to',\n",
       "  'Camera performance is good but not flagship-level',\n",
       "  'The design might not appeal to everyone',\n",
       "  'Limited availability in some regions'],\n",
       " 'key_themes': ['Retro design',\n",
       "  'High-end specifications',\n",
       "  'Distinctive user experience',\n",
       "  'Availability issues',\n",
       "  'Custom OS quirks']}"
      ]
     },
     "execution_count": 20,
     "metadata": {},
     "output_type": "execute_result"
    }
   ],
   "source": [
    "## schema\n",
    "from typing import TypedDict, Optional\n",
    "class Review(TypedDict):\n",
    "    key_themes: Annotated[list[str], \"Write down all the key themes discussed in the review in a list\"]\n",
    "    summary: Annotated[str, \"A brief summary of the review\"]\n",
    "    sentiment: Annotated[str, \"return sentiment of the review either negative, positive or neutral\"]\n",
    "    pros: Annotated[Optional[list[str]], 'Write down all the pros inside a list']\n",
    "    cons: Annotated[Optional[list[str]], 'Write down all the cons inside a list']\n",
    "    \n",
    "structured_model = model.with_structured_output(Review)\n",
    "\n",
    "result = structured_model.invoke(com_review)\n",
    "result"
   ]
  },
  {
   "cell_type": "code",
   "execution_count": 21,
   "metadata": {},
   "outputs": [
    {
     "data": {
      "text/plain": [
       "['Retro design',\n",
       " 'High-end specifications',\n",
       " 'Distinctive user experience',\n",
       " 'Availability issues',\n",
       " 'Custom OS quirks']"
      ]
     },
     "execution_count": 21,
     "metadata": {},
     "output_type": "execute_result"
    }
   ],
   "source": [
    "result['key_themes']"
   ]
  },
  {
   "cell_type": "code",
   "execution_count": 22,
   "metadata": {},
   "outputs": [
    {
     "data": {
      "text/plain": [
       "['Bulky and heavy compared to modern smartphones',\n",
       " 'ChronoOS can be buggy and require some getting used to',\n",
       " 'Camera performance is good but not flagship-level',\n",
       " 'The design might not appeal to everyone',\n",
       " 'Limited availability in some regions']"
      ]
     },
     "execution_count": 22,
     "metadata": {},
     "output_type": "execute_result"
    }
   ],
   "source": [
    "result['cons']"
   ]
  },
  {
   "cell_type": "code",
   "execution_count": 23,
   "metadata": {},
   "outputs": [
    {
     "data": {
      "text/plain": [
       "\"The ChronoPhone 8X is a unique smartphone that blends retro design with high-end features. It offers powerful performance, impressive battery life, and a distinctive user interface, but it's bulky, limited in availability, and its custom OS can be buggy.\""
      ]
     },
     "execution_count": 23,
     "metadata": {},
     "output_type": "execute_result"
    }
   ],
   "source": [
    "result['summary']"
   ]
  },
  {
   "cell_type": "code",
   "execution_count": 24,
   "metadata": {},
   "outputs": [
    {
     "data": {
      "text/plain": [
       "{'summary': \"The ChronoPhone 8X blends retro design with modern technology, offering a unique user experience with powerful hardware and a custom OS, but it's bulky and has limited camera performance.\",\n",
       " 'sentiment': 'pos',\n",
       " 'pros': ['Unique and eye-catching retro design',\n",
       "  'Powerful performance for demanding tasks',\n",
       "  'Impressive battery life and fast charging',\n",
       "  'Satisfying tactile feedback from physical buttons',\n",
       "  'Ample storage space'],\n",
       " 'cons': ['Bulky and heavy compared to modern smartphones',\n",
       "  'ChronoOS can be buggy and require some getting used to',\n",
       "  'Camera performance is good but not flagship-level',\n",
       "  'The design might not appeal to everyone',\n",
       "  'Limited availability in some regions'],\n",
       " 'key_themes': ['Retro design',\n",
       "  'Tactile feedback',\n",
       "  'Powerful hardware',\n",
       "  'Custom OS (ChronoOS)']}"
      ]
     },
     "execution_count": 24,
     "metadata": {},
     "output_type": "execute_result"
    }
   ],
   "source": [
    "## use literal\n",
    "from typing import TypedDict, Optional, Literal\n",
    "class Review(TypedDict):\n",
    "    key_themes: Annotated[list[str], \"Write down all the key themes discussed in the review in a list\"]\n",
    "    summary: Annotated[str, \"A brief summary of the review\"]\n",
    "    sentiment: Annotated[Literal['pos', 'neg'], \"return sentiment of the review either negative, positive or neutral\"]\n",
    "    pros: Annotated[Optional[list[str]], 'Write down all the pros inside a list']\n",
    "    cons: Annotated[Optional[list[str]], 'Write down all the cons inside a list']\n",
    "    \n",
    "structured_model = model.with_structured_output(Review)\n",
    "\n",
    "result = structured_model.invoke(com_review)\n",
    "result"
   ]
  },
  {
   "cell_type": "code",
   "execution_count": 25,
   "metadata": {},
   "outputs": [
    {
     "data": {
      "text/plain": [
       "'pos'"
      ]
     },
     "execution_count": 25,
     "metadata": {},
     "output_type": "execute_result"
    }
   ],
   "source": [
    "result['sentiment']"
   ]
  },
  {
   "cell_type": "code",
   "execution_count": null,
   "metadata": {},
   "outputs": [],
   "source": []
  }
 ],
 "metadata": {
  "kernelspec": {
   "display_name": "torchGPU",
   "language": "python",
   "name": "python3"
  },
  "language_info": {
   "codemirror_mode": {
    "name": "ipython",
    "version": 3
   },
   "file_extension": ".py",
   "mimetype": "text/x-python",
   "name": "python",
   "nbconvert_exporter": "python",
   "pygments_lexer": "ipython3",
   "version": "3.12.4"
  }
 },
 "nbformat": 4,
 "nbformat_minor": 2
}
