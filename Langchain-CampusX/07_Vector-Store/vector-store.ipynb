{
 "cells": [
  {
   "cell_type": "markdown",
   "id": "b14cc07a",
   "metadata": {},
   "source": [
    "## ***What is Vector stores?***\n",
    "- A vector store is a system designed to store and retrieve data represented as numerical vectors.\n",
    "\n",
    "### *Key Features*\n",
    "- ***Store***-Ensure that vectors and their associated metadata are retrained, whether in memory for quick lookups or non-dis for durability and large-scale use\n",
    "    * **in-memory** - RAM\n",
    "    * **on-disk** - Hard-drive\n",
    "- ***Similarity Search***\n",
    "- ***Indexing***-Providing a DS or method that enables fast similarity searches on the high-dimensional vector(e.g. KNN)\n",
    "\n",
    "    - Clustering concept to help first searching lik as **KNN** or any **clustering** algorithm work\n",
    "    - e.g. **approximate nearest neighbor lookups**\n",
    "- ***CRUD Operation***- Manage the lifecycle of data\n",
    "\n",
    "\n",
    "### Use-cases\n",
    "    1. Semantic Search\n",
    "    2. RAG\n",
    "    3. Recommender System\n",
    "    4. Images/Multimedia Search"
   ]
  },
  {
   "cell_type": "markdown",
   "id": "eb0499a4",
   "metadata": {},
   "source": [
    "# ***Vector Store Vs Vector Database***\n",
    "* **Vector Store** has tow main component and its work as `System`\n",
    "    - storage\n",
    "    - Retrieval\n",
    "    - e.g. Chorma, FAISS\n",
    "* **Vector Database** is `Vector store` + `Database Component`\n",
    "    - Distributed\n",
    "    - Backup and store\n",
    "    - ACID trans\n",
    "    - Concurrency\n",
    "    - Auth\n",
    "    - e.g. Pinecone, Milvus, Qdrant\n",
    "\n",
    "A vector database is effectively a vector store with the extra database Features (e.g., Clustering, scaling, security, metadata, filtering, durability)"
   ]
  },
  {
   "cell_type": "markdown",
   "id": "5414fbe8",
   "metadata": {},
   "source": [
    "## Vector Stores in LnagChain\n",
    "\n",
    "- Support Stores (e.g., FAISS, pinecone, Chroma, Qdrant, Eaviate, etc.)\n",
    "- All database has common interface\n",
    "- Easy to handling MEta data"
   ]
  },
  {
   "cell_type": "markdown",
   "id": "03ad9b83",
   "metadata": {},
   "source": [
    "## ***ChromaDB***\n",
    "\n",
    "* Chroma is a lightweight, open-source vector database that is especially friendly for local development and small to medium scale production need.\n",
    "* it a vector store features and also have some database features\n",
    "* in chromaDB has `collection` which is RDBMS call as the `Table`"
   ]
  },
  {
   "cell_type": "code",
   "execution_count": null,
   "id": "956e0807",
   "metadata": {},
   "outputs": [],
   "source": []
  }
 ],
 "metadata": {
  "kernelspec": {
   "display_name": "torchGPU",
   "language": "python",
   "name": "python3"
  },
  "language_info": {
   "name": "python",
   "version": "3.12.4"
  }
 },
 "nbformat": 4,
 "nbformat_minor": 5
}
