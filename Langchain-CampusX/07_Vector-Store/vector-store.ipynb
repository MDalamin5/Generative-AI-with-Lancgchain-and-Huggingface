{
 "cells": [
  {
   "cell_type": "markdown",
   "id": "b14cc07a",
   "metadata": {},
   "source": [
    "## ***What is Vector stores?***\n",
    "- A vector store is a system designed to store and retrieve data represented as numerical vectors.\n",
    "\n",
    "### *Key Features*\n",
    "- ***Store***-Ensure that vectors and their associated metadata are retrained, whether in memory for quick lookups or non-dis for durability and large-scale use\n",
    "- ***Similarity Search***\n",
    "- ***Indexing***-Providing a DS or method that enables fast similarity searches on the high-dimensional vector(e.g. KNN)\n",
    "- ***CRUD Operation***- Manage the lifecycle of data"
   ]
  },
  {
   "cell_type": "code",
   "execution_count": null,
   "id": "956e0807",
   "metadata": {},
   "outputs": [],
   "source": []
  }
 ],
 "metadata": {
  "kernelspec": {
   "display_name": "torchGPU",
   "language": "python",
   "name": "python3"
  },
  "language_info": {
   "name": "python",
   "version": "3.12.4"
  }
 },
 "nbformat": 4,
 "nbformat_minor": 5
}
