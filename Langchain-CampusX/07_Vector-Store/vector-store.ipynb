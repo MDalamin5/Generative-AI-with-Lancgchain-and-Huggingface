{
 "cells": [
  {
   "cell_type": "markdown",
   "id": "b14cc07a",
   "metadata": {},
   "source": [
    "## ***What is Vector stores?***\n",
    "- A vector store is a system designed to store and retrieve data represented as numerical vectors.\n",
    "\n",
    "### *Key Features*\n",
    "- ***Store***-Ensure that vectors and their associated metadata are retrained, whether in memory for quick lookups or non-dis for durability and large-scale use\n",
    "    * **in-memory** - RAM\n",
    "    * **on-disk** - Hard-drive\n",
    "- ***Similarity Search***\n",
    "- ***Indexing***-Providing a DS or method that enables fast similarity searches on the high-dimensional vector(e.g. KNN)\n",
    "\n",
    "    - Clustering concept to help first searching lik as **KNN** or any **clustering** algorithm work\n",
    "    - e.g. **approximate nearest neighbor lookups**\n",
    "- ***CRUD Operation***- Manage the lifecycle of data\n",
    "\n",
    "\n",
    "### Use-cases\n",
    "    1. Semantic Search\n",
    "    2. RAG\n",
    "    3. Recommender System\n",
    "    4. Images/Multimedia Search"
   ]
  },
  {
   "cell_type": "markdown",
   "id": "eb0499a4",
   "metadata": {},
   "source": [
    "# ***Vector Store Vs Vector Database***\n",
    "* **Vector Store** has tow main component and its work as `System`\n",
    "    - storage\n",
    "    - Retrieval\n",
    "    - e.g. Chorma, FAISS\n",
    "* **Vector Database** is `Vector store` + `Database Component`\n",
    "    - Distributed\n",
    "    - Backup and store\n",
    "    - ACID trans\n",
    "    - Concurrency\n",
    "    - Auth\n",
    "    - e.g. Pinecone, Milvus, Qdrant\n",
    "\n",
    "A vector database is effectively a vector store with the extra database Features (e.g., Clustering, scaling, security, metadata, filtering, durability)"
   ]
  },
  {
   "cell_type": "markdown",
   "id": "5414fbe8",
   "metadata": {},
   "source": [
    "## Vector Stores in LnagChain\n",
    "\n",
    "- Support Stores (e.g., FAISS, pinecone, Chroma, Qdrant, Eaviate, etc.)\n",
    "- All database has common interface\n",
    "- Easy to handling MEta data"
   ]
  },
  {
   "cell_type": "markdown",
   "id": "03ad9b83",
   "metadata": {},
   "source": [
    "## ***ChromaDB***\n",
    "\n",
    "* Chroma is a lightweight, open-source vector database that is especially friendly for local development and small to medium scale production need.\n",
    "* it a vector store features and also have some database features\n",
    "* in chromaDB has `collection` which is RDBMS call as the `Table`"
   ]
  },
  {
   "cell_type": "markdown",
   "id": "8afd44b5",
   "metadata": {},
   "source": [
    "### Practice Data about BPL"
   ]
  },
  {
   "cell_type": "code",
   "execution_count": 1,
   "id": "4d1f77a0",
   "metadata": {},
   "outputs": [],
   "source": [
    "from langchain.schema import Document\n",
    "\n",
    "doc1 = Document(\n",
    "    page_content=\"The 2023 BPL final was held at Sher-e-Bangla National Stadium. Comilla Victorians defeated Sylhet Strikers by 7 wickets.\",\n",
    "    metadata={\"title\": \"BPL 2023 Final\", \"category\": \"Match Summary\", \"date\": \"2023-02-16\"}\n",
    ")\n",
    "\n",
    "doc2 = Document(\n",
    "    page_content=\"Shakib Al Hasan had an outstanding performance in the 2022 season, leading Fortune Barishal to the final.\",\n",
    "    metadata={\"title\": \"Shakib's Performance in BPL 2022\", \"category\": \"Player Highlight\", \"date\": \"2022-02-17\"}\n",
    ")\n",
    "\n",
    "doc3 = Document(\n",
    "    page_content=\"BPL started in 2012 and is one of the top T20 leagues in South Asia. It is governed by the Bangladesh Cricket Board (BCB).\",\n",
    "    metadata={\"title\": \"History of BPL\", \"category\": \"Background\", \"date\": \"2012-02-10\"}\n",
    ")\n",
    "\n",
    "doc4 = Document(\n",
    "    page_content=\"Tamim Iqbal scored a brilliant century for Khulna Tigers in the 2020 season, one of the top innings in BPL history.\",\n",
    "    metadata={\"title\": \"Tamim Iqbal's Century in 2020\", \"category\": \"Match Highlight\", \"date\": \"2020-01-28\"}\n",
    ")\n",
    "\n",
    "doc5 = Document(\n",
    "    page_content=\"Mashrafe Mortaza is the most successful captain in BPL history, having led his team to multiple titles.\",\n",
    "    metadata={\"title\": \"Mashrafe’s Captaincy Record\", \"category\": \"Player Stats\", \"date\": \"2021-01-18\"}\n",
    ")\n",
    "\n",
    "doc6 = Document(\n",
    "    page_content=\"Comilla Victorians have won the BPL title a record four times, making them the most successful team in the league.\",\n",
    "    metadata={\"title\": \"Most Successful Team\", \"category\": \"Team Stats\", \"date\": \"2023-02-17\"}\n",
    ")\n",
    "\n",
    "doc7 = Document(\n",
    "    page_content=\"The BPL uses the draft system instead of an auction. Local and foreign players are picked before each season.\",\n",
    "    metadata={\"title\": \"Player Draft System\", \"category\": \"Rules and Format\", \"date\": \"2022-12-01\"}\n",
    ")\n",
    "\n",
    "doc8 = Document(\n",
    "    page_content=\"The 2019 BPL season was rebranded as the Bangabandhu BPL in honor of Sheikh Mujibur Rahman.\",\n",
    "    metadata={\"title\": \"Bangabandhu BPL 2019\", \"category\": \"Special Edition\", \"date\": \"2019-12-20\"}\n",
    ")\n",
    "\n",
    "doc9 = Document(\n",
    "    page_content=\"BPL 2024 is scheduled to start in January, with 7 teams participating and matches held across Dhaka, Chattogram, and Sylhet.\",\n",
    "    metadata={\"title\": \"Upcoming BPL 2024\", \"category\": \"Upcoming Events\", \"date\": \"2024-01-05\"}\n",
    ")\n",
    "\n",
    "doc10 = Document(\n",
    "    page_content=\"Andre Russell is one of the top international stars in BPL, known for his explosive batting and death-over bowling.\",\n",
    "    metadata={\"title\": \"Andre Russell in BPL\", \"category\": \"Foreign Players\", \"date\": \"2021-02-15\"}\n",
    ")\n",
    "\n"
   ]
  },
  {
   "cell_type": "code",
   "execution_count": 2,
   "id": "956e0807",
   "metadata": {},
   "outputs": [],
   "source": [
    "documents = [doc1, doc2, doc3, doc4, doc5, doc6, doc7, doc8, doc9, doc10]"
   ]
  },
  {
   "cell_type": "code",
   "execution_count": 4,
   "id": "f5dbc94e",
   "metadata": {},
   "outputs": [
    {
     "data": {
      "text/plain": [
       "\"Shakib's Performance in BPL 2022\""
      ]
     },
     "execution_count": 4,
     "metadata": {},
     "output_type": "execute_result"
    }
   ],
   "source": [
    "doc2.metadata['title']"
   ]
  },
  {
   "cell_type": "code",
   "execution_count": 5,
   "id": "461469ea",
   "metadata": {},
   "outputs": [
    {
     "name": "stderr",
     "output_type": "stream",
     "text": [
      "c:\\Users\\Lenovo\\anaconda3\\envs\\torchGPU\\Lib\\site-packages\\tqdm\\auto.py:21: TqdmWarning: IProgress not found. Please update jupyter and ipywidgets. See https://ipywidgets.readthedocs.io/en/stable/user_install.html\n",
      "  from .autonotebook import tqdm as notebook_tqdm\n"
     ]
    }
   ],
   "source": [
    "from langchain.vectorstores import Chroma\n",
    "from langchain.embeddings import  HuggingFaceBgeEmbeddings\n",
    "\n",
    "embeddings = HuggingFaceBgeEmbeddings(model_name = 'sentence-transformers/all-MiniLM-L6-v2')"
   ]
  },
  {
   "cell_type": "code",
   "execution_count": null,
   "id": "96412e3f",
   "metadata": {},
   "outputs": [
    {
     "name": "stderr",
     "output_type": "stream",
     "text": [
      "C:\\Users\\Lenovo\\AppData\\Local\\Temp\\ipykernel_9920\\2077716042.py:1: LangChainDeprecationWarning: The class `Chroma` was deprecated in LangChain 0.2.9 and will be removed in 1.0. An updated version of the class exists in the :class:`~langchain-chroma package and should be used instead. To use it run `pip install -U :class:`~langchain-chroma` and import as `from :class:`~langchain_chroma import Chroma``.\n",
      "  vector_store = Chroma(\n"
     ]
    }
   ],
   "source": [
    "vector_store = Chroma(\n",
    "    embedding_function=embeddings,\n",
    "    persist_directory='My-Vector-DB',\n",
    "    collection_name='sample',\n",
    ")"
   ]
  },
  {
   "cell_type": "markdown",
   "id": "31fac3d9",
   "metadata": {},
   "source": [
    "## Adding Documents"
   ]
  },
  {
   "cell_type": "code",
   "execution_count": 7,
   "id": "3e018f0a",
   "metadata": {},
   "outputs": [
    {
     "name": "stderr",
     "output_type": "stream",
     "text": [
      "c:\\Users\\Lenovo\\anaconda3\\envs\\torchGPU\\Lib\\site-packages\\transformers\\models\\bert\\modeling_bert.py:440: UserWarning: 1Torch was not compiled with flash attention. (Triggered internally at ..\\aten\\src\\ATen\\native\\transformers\\cuda\\sdp_utils.cpp:455.)\n",
      "  attn_output = torch.nn.functional.scaled_dot_product_attention(\n"
     ]
    },
    {
     "data": {
      "text/plain": [
       "['0da7bf83-2a17-4512-a444-b124b9ab5089',\n",
       " '72d12a26-00aa-4bbe-9a5b-0af934863c28',\n",
       " '92bb93fc-8071-4abd-9ffa-0f58b744f94c',\n",
       " 'f656dc89-383d-4c9b-81b9-b32702cb8090',\n",
       " '260ca5ae-82b7-4bea-ad7d-80e938f6378f',\n",
       " 'dc31ab4c-e53f-4394-8164-1d8344295eae',\n",
       " 'a152b421-b85d-40c4-ac77-4e6bd3318d30',\n",
       " '51c5e7d7-3caf-4312-86f7-7f2a61a6329a',\n",
       " '66c0af74-7438-4146-9849-5b294a34b9e9',\n",
       " '95326341-c55b-4b1b-8e15-44c0f6d01c41']"
      ]
     },
     "execution_count": 7,
     "metadata": {},
     "output_type": "execute_result"
    }
   ],
   "source": [
    "vector_store.add_documents(documents=documents)"
   ]
  },
  {
   "cell_type": "code",
   "execution_count": 10,
   "id": "30ffa0d8",
   "metadata": {},
   "outputs": [
    {
     "data": {
      "text/plain": [
       "{'ids': ['0da7bf83-2a17-4512-a444-b124b9ab5089',\n",
       "  '72d12a26-00aa-4bbe-9a5b-0af934863c28',\n",
       "  '92bb93fc-8071-4abd-9ffa-0f58b744f94c',\n",
       "  'f656dc89-383d-4c9b-81b9-b32702cb8090',\n",
       "  '260ca5ae-82b7-4bea-ad7d-80e938f6378f',\n",
       "  'dc31ab4c-e53f-4394-8164-1d8344295eae',\n",
       "  'a152b421-b85d-40c4-ac77-4e6bd3318d30',\n",
       "  '51c5e7d7-3caf-4312-86f7-7f2a61a6329a',\n",
       "  '66c0af74-7438-4146-9849-5b294a34b9e9',\n",
       "  '95326341-c55b-4b1b-8e15-44c0f6d01c41'],\n",
       " 'embeddings': array([[-0.02689231,  0.02908844, -0.05808407, ..., -0.02871126,\n",
       "         -0.02944018,  0.03548925],\n",
       "        [ 0.04835459,  0.04547029, -0.03726059, ..., -0.05358697,\n",
       "         -0.04143931, -0.04331527],\n",
       "        [-0.01799518,  0.0371599 , -0.04485202, ..., -0.00150311,\n",
       "          0.00068147,  0.0416664 ],\n",
       "        ...,\n",
       "        [-0.04388712,  0.06512021, -0.0073859 , ..., -0.03398222,\n",
       "          0.02102759,  0.05663031],\n",
       "        [-0.0406306 , -0.02024882, -0.02437574, ...,  0.0144648 ,\n",
       "         -0.04356062,  0.0195601 ],\n",
       "        [-0.01841543,  0.08995268, -0.03396286, ..., -0.05104535,\n",
       "          0.0681338 ,  0.07947998]]),\n",
       " 'metadatas': [{'category': 'Match Summary',\n",
       "   'date': '2023-02-16',\n",
       "   'title': 'BPL 2023 Final'},\n",
       "  {'category': 'Player Highlight',\n",
       "   'date': '2022-02-17',\n",
       "   'title': \"Shakib's Performance in BPL 2022\"},\n",
       "  {'category': 'Background', 'date': '2012-02-10', 'title': 'History of BPL'},\n",
       "  {'category': 'Match Highlight',\n",
       "   'date': '2020-01-28',\n",
       "   'title': \"Tamim Iqbal's Century in 2020\"},\n",
       "  {'category': 'Player Stats',\n",
       "   'date': '2021-01-18',\n",
       "   'title': 'Mashrafe’s Captaincy Record'},\n",
       "  {'category': 'Team Stats',\n",
       "   'date': '2023-02-17',\n",
       "   'title': 'Most Successful Team'},\n",
       "  {'category': 'Rules and Format',\n",
       "   'date': '2022-12-01',\n",
       "   'title': 'Player Draft System'},\n",
       "  {'category': 'Special Edition',\n",
       "   'date': '2019-12-20',\n",
       "   'title': 'Bangabandhu BPL 2019'},\n",
       "  {'category': 'Upcoming Events',\n",
       "   'date': '2024-01-05',\n",
       "   'title': 'Upcoming BPL 2024'},\n",
       "  {'category': 'Foreign Players',\n",
       "   'date': '2021-02-15',\n",
       "   'title': 'Andre Russell in BPL'}],\n",
       " 'documents': ['The 2023 BPL final was held at Sher-e-Bangla National Stadium. Comilla Victorians defeated Sylhet Strikers by 7 wickets.',\n",
       "  'Shakib Al Hasan had an outstanding performance in the 2022 season, leading Fortune Barishal to the final.',\n",
       "  'BPL started in 2012 and is one of the top T20 leagues in South Asia. It is governed by the Bangladesh Cricket Board (BCB).',\n",
       "  'Tamim Iqbal scored a brilliant century for Khulna Tigers in the 2020 season, one of the top innings in BPL history.',\n",
       "  'Mashrafe Mortaza is the most successful captain in BPL history, having led his team to multiple titles.',\n",
       "  'Comilla Victorians have won the BPL title a record four times, making them the most successful team in the league.',\n",
       "  'The BPL uses the draft system instead of an auction. Local and foreign players are picked before each season.',\n",
       "  'The 2019 BPL season was rebranded as the Bangabandhu BPL in honor of Sheikh Mujibur Rahman.',\n",
       "  'BPL 2024 is scheduled to start in January, with 7 teams participating and matches held across Dhaka, Chattogram, and Sylhet.',\n",
       "  'Andre Russell is one of the top international stars in BPL, known for his explosive batting and death-over bowling.'],\n",
       " 'uris': None,\n",
       " 'data': None,\n",
       " 'included': ['embeddings', 'documents', 'metadatas']}"
      ]
     },
     "execution_count": 10,
     "metadata": {},
     "output_type": "execute_result"
    }
   ],
   "source": [
    "vector_store.get(include=['embeddings', 'documents', 'metadatas'])"
   ]
  },
  {
   "cell_type": "code",
   "execution_count": 11,
   "id": "c39a7a1a",
   "metadata": {},
   "outputs": [],
   "source": [
    "query = \"Who is the top scorer in 2020 session\""
   ]
  },
  {
   "cell_type": "code",
   "execution_count": 12,
   "id": "72eba997",
   "metadata": {},
   "outputs": [
    {
     "data": {
      "text/plain": [
       "[Document(metadata={'category': 'Match Highlight', 'date': '2020-01-28', 'title': \"Tamim Iqbal's Century in 2020\"}, page_content='Tamim Iqbal scored a brilliant century for Khulna Tigers in the 2020 season, one of the top innings in BPL history.'),\n",
       " Document(metadata={'category': 'Player Highlight', 'date': '2022-02-17', 'title': \"Shakib's Performance in BPL 2022\"}, page_content='Shakib Al Hasan had an outstanding performance in the 2022 season, leading Fortune Barishal to the final.')]"
      ]
     },
     "execution_count": 12,
     "metadata": {},
     "output_type": "execute_result"
    }
   ],
   "source": [
    "vector_store.similarity_search(\n",
    "    query=query,\n",
    "    k=2\n",
    ")"
   ]
  },
  {
   "cell_type": "code",
   "execution_count": 17,
   "id": "12ab256f",
   "metadata": {},
   "outputs": [
    {
     "data": {
      "text/plain": [
       "[(Document(metadata={'category': 'Match Highlight', 'date': '2020-01-28', 'title': \"Tamim Iqbal's Century in 2020\"}, page_content='Tamim Iqbal scored a brilliant century for Khulna Tigers in the 2020 season, one of the top innings in BPL history.'),\n",
       "  1.074141298775187),\n",
       " (Document(metadata={'category': 'Player Highlight', 'date': '2022-02-17', 'title': \"Shakib's Performance in BPL 2022\"}, page_content='Shakib Al Hasan had an outstanding performance in the 2022 season, leading Fortune Barishal to the final.'),\n",
       "  1.186674695625631),\n",
       " (Document(metadata={'category': 'Match Summary', 'date': '2023-02-16', 'title': 'BPL 2023 Final'}, page_content='The 2023 BPL final was held at Sher-e-Bangla National Stadium. Comilla Victorians defeated Sylhet Strikers by 7 wickets.'),\n",
       "  1.2536855962215463)]"
      ]
     },
     "execution_count": 17,
     "metadata": {},
     "output_type": "execute_result"
    }
   ],
   "source": [
    "vector_store.similarity_search_with_score(\n",
    "    query=query,\n",
    "    k=3\n",
    ")"
   ]
  },
  {
   "cell_type": "code",
   "execution_count": 18,
   "id": "2fd4cd2b",
   "metadata": {},
   "outputs": [
    {
     "data": {
      "text/plain": [
       "[(Document(metadata={'category': 'Rules and Format', 'date': '2022-12-01', 'title': 'Player Draft System'}, page_content='The BPL uses the draft system instead of an auction. Local and foreign players are picked before each season.'),\n",
       "  2.046391831943181)]"
      ]
     },
     "execution_count": 18,
     "metadata": {},
     "output_type": "execute_result"
    }
   ],
   "source": [
    "vector_store.similarity_search_with_score(\n",
    "    query=\"\",\n",
    "    filter={\n",
    "        \"title\": \"Player Draft System\"\n",
    "    }\n",
    ")"
   ]
  },
  {
   "cell_type": "markdown",
   "id": "89d36de4",
   "metadata": {},
   "source": [
    "## **Updated Existing Document**"
   ]
  },
  {
   "cell_type": "code",
   "execution_count": 20,
   "id": "51d3f015",
   "metadata": {},
   "outputs": [
    {
     "name": "stdout",
     "output_type": "stream",
     "text": [
      "page_content='The 2023 BPL final was held at Sher-e-Bangla National Stadium. Comilla Victorians defeated Sylhet Strikers by 7 wickets.' metadata={'title': 'BPL 2023 Final', 'category': 'Match Summary', 'date': '2023-02-16'}\n"
     ]
    }
   ],
   "source": [
    "print(doc1)"
   ]
  },
  {
   "cell_type": "code",
   "execution_count": 21,
   "id": "8d2842a5",
   "metadata": {},
   "outputs": [],
   "source": [
    "updated_doc1 = Document(\n",
    "    page_content='The 2023 BPL final was held at North South University(NSU) SAC building and Khulna won the match and its a false news',\n",
    "    metadata={'title': 'BPL 2023 Final', 'category': 'Match Summary', 'date': '2023-02-16'}\n",
    ")"
   ]
  },
  {
   "cell_type": "code",
   "execution_count": 22,
   "id": "be85775f",
   "metadata": {},
   "outputs": [],
   "source": [
    "vector_store.update_document(\n",
    "    document_id='0da7bf83-2a17-4512-a444-b124b9ab5089',\n",
    "    document=updated_doc1\n",
    ")"
   ]
  },
  {
   "cell_type": "code",
   "execution_count": 23,
   "id": "2d3c3339",
   "metadata": {},
   "outputs": [
    {
     "data": {
      "text/plain": [
       "{'ids': ['0da7bf83-2a17-4512-a444-b124b9ab5089',\n",
       "  '72d12a26-00aa-4bbe-9a5b-0af934863c28',\n",
       "  '92bb93fc-8071-4abd-9ffa-0f58b744f94c',\n",
       "  'f656dc89-383d-4c9b-81b9-b32702cb8090',\n",
       "  '260ca5ae-82b7-4bea-ad7d-80e938f6378f',\n",
       "  'dc31ab4c-e53f-4394-8164-1d8344295eae',\n",
       "  'a152b421-b85d-40c4-ac77-4e6bd3318d30',\n",
       "  '51c5e7d7-3caf-4312-86f7-7f2a61a6329a',\n",
       "  '66c0af74-7438-4146-9849-5b294a34b9e9',\n",
       "  '95326341-c55b-4b1b-8e15-44c0f6d01c41'],\n",
       " 'embeddings': array([[-0.09337316,  0.09153391, -0.01607833, ..., -0.01423268,\n",
       "         -0.03410052,  0.08766431],\n",
       "        [ 0.04835459,  0.04547029, -0.03726059, ..., -0.05358697,\n",
       "         -0.04143931, -0.04331527],\n",
       "        [-0.01799518,  0.0371599 , -0.04485202, ..., -0.00150311,\n",
       "          0.00068147,  0.0416664 ],\n",
       "        ...,\n",
       "        [-0.04388712,  0.06512021, -0.0073859 , ..., -0.03398222,\n",
       "          0.02102759,  0.05663031],\n",
       "        [-0.0406306 , -0.02024882, -0.02437574, ...,  0.0144648 ,\n",
       "         -0.04356062,  0.0195601 ],\n",
       "        [-0.01841543,  0.08995268, -0.03396286, ..., -0.05104535,\n",
       "          0.0681338 ,  0.07947998]]),\n",
       " 'metadatas': [{'category': 'Match Summary',\n",
       "   'date': '2023-02-16',\n",
       "   'title': 'BPL 2023 Final'},\n",
       "  {'category': 'Player Highlight',\n",
       "   'date': '2022-02-17',\n",
       "   'title': \"Shakib's Performance in BPL 2022\"},\n",
       "  {'category': 'Background', 'date': '2012-02-10', 'title': 'History of BPL'},\n",
       "  {'category': 'Match Highlight',\n",
       "   'date': '2020-01-28',\n",
       "   'title': \"Tamim Iqbal's Century in 2020\"},\n",
       "  {'category': 'Player Stats',\n",
       "   'date': '2021-01-18',\n",
       "   'title': 'Mashrafe’s Captaincy Record'},\n",
       "  {'category': 'Team Stats',\n",
       "   'date': '2023-02-17',\n",
       "   'title': 'Most Successful Team'},\n",
       "  {'category': 'Rules and Format',\n",
       "   'date': '2022-12-01',\n",
       "   'title': 'Player Draft System'},\n",
       "  {'category': 'Special Edition',\n",
       "   'date': '2019-12-20',\n",
       "   'title': 'Bangabandhu BPL 2019'},\n",
       "  {'category': 'Upcoming Events',\n",
       "   'date': '2024-01-05',\n",
       "   'title': 'Upcoming BPL 2024'},\n",
       "  {'category': 'Foreign Players',\n",
       "   'date': '2021-02-15',\n",
       "   'title': 'Andre Russell in BPL'}],\n",
       " 'documents': ['The 2023 BPL final was held at North South University(NSU) SAC building and Khulna won the match and its a false news',\n",
       "  'Shakib Al Hasan had an outstanding performance in the 2022 season, leading Fortune Barishal to the final.',\n",
       "  'BPL started in 2012 and is one of the top T20 leagues in South Asia. It is governed by the Bangladesh Cricket Board (BCB).',\n",
       "  'Tamim Iqbal scored a brilliant century for Khulna Tigers in the 2020 season, one of the top innings in BPL history.',\n",
       "  'Mashrafe Mortaza is the most successful captain in BPL history, having led his team to multiple titles.',\n",
       "  'Comilla Victorians have won the BPL title a record four times, making them the most successful team in the league.',\n",
       "  'The BPL uses the draft system instead of an auction. Local and foreign players are picked before each season.',\n",
       "  'The 2019 BPL season was rebranded as the Bangabandhu BPL in honor of Sheikh Mujibur Rahman.',\n",
       "  'BPL 2024 is scheduled to start in January, with 7 teams participating and matches held across Dhaka, Chattogram, and Sylhet.',\n",
       "  'Andre Russell is one of the top international stars in BPL, known for his explosive batting and death-over bowling.'],\n",
       " 'uris': None,\n",
       " 'data': None,\n",
       " 'included': ['embeddings', 'documents', 'metadatas']}"
      ]
     },
     "execution_count": 23,
     "metadata": {},
     "output_type": "execute_result"
    }
   ],
   "source": [
    "vector_store.get(include=['embeddings', 'documents', 'metadatas'])"
   ]
  },
  {
   "cell_type": "code",
   "execution_count": 24,
   "id": "fd2b0167",
   "metadata": {},
   "outputs": [],
   "source": [
    "vector_store.delete(ids=['0da7bf83-2a17-4512-a444-b124b9ab5089'])"
   ]
  },
  {
   "cell_type": "code",
   "execution_count": 25,
   "id": "5b025ff3",
   "metadata": {},
   "outputs": [
    {
     "data": {
      "text/plain": [
       "{'ids': ['72d12a26-00aa-4bbe-9a5b-0af934863c28',\n",
       "  '92bb93fc-8071-4abd-9ffa-0f58b744f94c',\n",
       "  'f656dc89-383d-4c9b-81b9-b32702cb8090',\n",
       "  '260ca5ae-82b7-4bea-ad7d-80e938f6378f',\n",
       "  'dc31ab4c-e53f-4394-8164-1d8344295eae',\n",
       "  'a152b421-b85d-40c4-ac77-4e6bd3318d30',\n",
       "  '51c5e7d7-3caf-4312-86f7-7f2a61a6329a',\n",
       "  '66c0af74-7438-4146-9849-5b294a34b9e9',\n",
       "  '95326341-c55b-4b1b-8e15-44c0f6d01c41'],\n",
       " 'embeddings': array([[ 0.04835459,  0.04547029, -0.03726059, ..., -0.05358697,\n",
       "         -0.04143931, -0.04331527],\n",
       "        [-0.01799518,  0.0371599 , -0.04485202, ..., -0.00150311,\n",
       "          0.00068147,  0.0416664 ],\n",
       "        [-0.02563454,  0.09765103, -0.06250849, ...,  0.00658364,\n",
       "          0.00703883,  0.04216996],\n",
       "        ...,\n",
       "        [-0.04388712,  0.06512021, -0.0073859 , ..., -0.03398222,\n",
       "          0.02102759,  0.05663031],\n",
       "        [-0.0406306 , -0.02024882, -0.02437574, ...,  0.0144648 ,\n",
       "         -0.04356062,  0.0195601 ],\n",
       "        [-0.01841543,  0.08995268, -0.03396286, ..., -0.05104535,\n",
       "          0.0681338 ,  0.07947998]]),\n",
       " 'metadatas': [{'category': 'Player Highlight',\n",
       "   'date': '2022-02-17',\n",
       "   'title': \"Shakib's Performance in BPL 2022\"},\n",
       "  {'category': 'Background', 'date': '2012-02-10', 'title': 'History of BPL'},\n",
       "  {'category': 'Match Highlight',\n",
       "   'date': '2020-01-28',\n",
       "   'title': \"Tamim Iqbal's Century in 2020\"},\n",
       "  {'category': 'Player Stats',\n",
       "   'date': '2021-01-18',\n",
       "   'title': 'Mashrafe’s Captaincy Record'},\n",
       "  {'category': 'Team Stats',\n",
       "   'date': '2023-02-17',\n",
       "   'title': 'Most Successful Team'},\n",
       "  {'category': 'Rules and Format',\n",
       "   'date': '2022-12-01',\n",
       "   'title': 'Player Draft System'},\n",
       "  {'category': 'Special Edition',\n",
       "   'date': '2019-12-20',\n",
       "   'title': 'Bangabandhu BPL 2019'},\n",
       "  {'category': 'Upcoming Events',\n",
       "   'date': '2024-01-05',\n",
       "   'title': 'Upcoming BPL 2024'},\n",
       "  {'category': 'Foreign Players',\n",
       "   'date': '2021-02-15',\n",
       "   'title': 'Andre Russell in BPL'}],\n",
       " 'documents': ['Shakib Al Hasan had an outstanding performance in the 2022 season, leading Fortune Barishal to the final.',\n",
       "  'BPL started in 2012 and is one of the top T20 leagues in South Asia. It is governed by the Bangladesh Cricket Board (BCB).',\n",
       "  'Tamim Iqbal scored a brilliant century for Khulna Tigers in the 2020 season, one of the top innings in BPL history.',\n",
       "  'Mashrafe Mortaza is the most successful captain in BPL history, having led his team to multiple titles.',\n",
       "  'Comilla Victorians have won the BPL title a record four times, making them the most successful team in the league.',\n",
       "  'The BPL uses the draft system instead of an auction. Local and foreign players are picked before each season.',\n",
       "  'The 2019 BPL season was rebranded as the Bangabandhu BPL in honor of Sheikh Mujibur Rahman.',\n",
       "  'BPL 2024 is scheduled to start in January, with 7 teams participating and matches held across Dhaka, Chattogram, and Sylhet.',\n",
       "  'Andre Russell is one of the top international stars in BPL, known for his explosive batting and death-over bowling.'],\n",
       " 'uris': None,\n",
       " 'data': None,\n",
       " 'included': ['embeddings', 'documents', 'metadatas']}"
      ]
     },
     "execution_count": 25,
     "metadata": {},
     "output_type": "execute_result"
    }
   ],
   "source": [
    "vector_store.get(include=['embeddings', 'documents', 'metadatas'])"
   ]
  },
  {
   "cell_type": "code",
   "execution_count": 26,
   "id": "9af8202b",
   "metadata": {},
   "outputs": [],
   "source": [
    "retriever = vector_store.as_retriever()"
   ]
  },
  {
   "cell_type": "code",
   "execution_count": 28,
   "id": "53c733c3",
   "metadata": {},
   "outputs": [],
   "source": [
    "import os\n",
    "from dotenv import load_dotenv\n",
    "load_dotenv()\n",
    "from langchain_groq import ChatGroq\n",
    "\n",
    "groq_api_key = os.getenv(\"GROQ_API_KEY\")\n",
    "os.environ[\"HF_TOKEN\"] = os.getenv(\"HF_TOKEN\")\n",
    "\n",
    "llm = ChatGroq(groq_api_key=groq_api_key, model=\"Llama3-8b-8192\")\n"
   ]
  },
  {
   "cell_type": "code",
   "execution_count": 29,
   "id": "482000e4",
   "metadata": {},
   "outputs": [],
   "source": [
    "from langchain_core.prompts import ChatPromptTemplate\n",
    "from langchain_core.runnables import RunnablePassthrough\n",
    "\n",
    "message = \"\"\"\n",
    "Answer this question using the provided context only.\n",
    "\n",
    "{question}\n",
    "\n",
    "Context:\n",
    "{context}\n",
    "\"\"\"\n",
    "\n",
    "prompt = ChatPromptTemplate.from_messages([(\"human\", message)])\n",
    "rag_chain = {\"context\": retriever, \"question\": RunnablePassthrough()}|prompt|llm\n",
    "response = rag_chain.invoke(\"Tell me about Timim Iqbal\")"
   ]
  },
  {
   "cell_type": "code",
   "execution_count": 30,
   "id": "94ce2dba",
   "metadata": {},
   "outputs": [
    {
     "data": {
      "text/plain": [
       "'According to the provided context, Timim Iqbal is the batsman who scored a brilliant century for Khulna Tigers in the 2020 season, one of the top innings in BPL history.'"
      ]
     },
     "execution_count": 30,
     "metadata": {},
     "output_type": "execute_result"
    }
   ],
   "source": [
    "response.content"
   ]
  },
  {
   "cell_type": "code",
   "execution_count": null,
   "id": "1d01160e",
   "metadata": {},
   "outputs": [],
   "source": []
  }
 ],
 "metadata": {
  "kernelspec": {
   "display_name": "torchGPU",
   "language": "python",
   "name": "python3"
  },
  "language_info": {
   "codemirror_mode": {
    "name": "ipython",
    "version": 3
   },
   "file_extension": ".py",
   "mimetype": "text/x-python",
   "name": "python",
   "nbconvert_exporter": "python",
   "pygments_lexer": "ipython3",
   "version": "3.12.4"
  }
 },
 "nbformat": 4,
 "nbformat_minor": 5
}
