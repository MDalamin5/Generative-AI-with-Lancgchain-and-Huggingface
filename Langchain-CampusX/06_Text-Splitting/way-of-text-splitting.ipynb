{
 "cells": [
  {
   "cell_type": "markdown",
   "id": "6ba39a04",
   "metadata": {},
   "source": [
    "# ***The way of text splitting***\n",
    "* `Length` Based\n",
    "* *Text Structure* Based\n",
    "* Document Structure Based\n",
    "* `Semantic` Meaning Based\n",
    "\n",
    "- Text chunking Viz website is\n",
    "    - https://chunkviz.up.railway.app/"
   ]
  },
  {
   "cell_type": "code",
   "execution_count": null,
   "id": "f83a902e",
   "metadata": {},
   "outputs": [],
   "source": []
  }
 ],
 "metadata": {
  "kernelspec": {
   "display_name": "torchGPU",
   "language": "python",
   "name": "python3"
  },
  "language_info": {
   "name": "python",
   "version": "3.12.4"
  }
 },
 "nbformat": 4,
 "nbformat_minor": 5
}
