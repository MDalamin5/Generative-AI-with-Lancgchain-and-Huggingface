{
 "cells": [
  {
   "cell_type": "markdown",
   "id": "6ba39a04",
   "metadata": {},
   "source": [
    "# ***The way of text splitting***\n",
    "* `Length` Based\n",
    "* *Text Structure* Based\n",
    "* Document Structure Based\n",
    "* `Semantic` Meaning Based\n",
    "\n",
    "- Text chunking Viz website is\n",
    "    - https://chunkviz.up.railway.app/"
   ]
  },
  {
   "cell_type": "code",
   "execution_count": 4,
   "id": "f83a902e",
   "metadata": {},
   "outputs": [],
   "source": [
    "text = \"\"\"\n",
    "One of the most important things I didn't understand about the world when I was a child is the degree to which the returns for performance are superlinear.\n",
    "\n",
    "Teachers and coaches implicitly told us the returns were linear. \"You get out,\" I heard a thousand times, \"what you put in.\" They meant well, but this is rarely true. If your product is only half as good as your competitor's, you don't get half as many customers. You get no customers, and you go out of business.\n",
    "\n",
    "It's obviously true that the returns for performance are superlinear in business. Some think this is a flaw of capitalism, and that if we changed the rules it would stop being true. But superlinear returns for performance are a feature of the world, not an artifact of rules we've invented. We see the same pattern in fame, power, military victories, knowledge, and even benefit to humanity. In all of these, the rich get richer. [1]\n",
    "\n",
    "You can't understand the world without understanding the concept of superlinear returns. And if you're ambitious you definitely should, because this will be the wave you surf on.\n",
    "\n",
    "It may seem as if there are a lot of different situations with superlinear returns, but as far as I can tell they reduce to two fundamental causes: exponential growth and thresholds.\n",
    "\n",
    "The most obvious case of superlinear returns is when you're working on something that grows exponentially. For example, growing bacterial cultures. When they grow at all, they grow exponentially. But they're tricky to grow. Which means the difference in outcome between someone who's adept at it and someone who's not is very great.\n",
    "\n",
    "Startups can also grow exponentially, and we see the same pattern there. Some manage to achieve high growth rates. Most don't. And as a result you get qualitatively different outcomes: the companies with high growth rates tend to become immensely valuable, while the ones with lower growth rates may not even survive.\n",
    "\n",
    "Y Combinator encourages founders to focus on growth rate rather than absolute numbers. It prevents them from being discouraged early on, when the absolute numbers are still low. It also helps them decide what to focus on: you can use growth rate as a compass to tell you how to evolve the company. But the main advantage is that by focusing on growth rate you tend to get something that grows exponentially.\n",
    "\n",
    "YC doesn't explicitly tell founders that with growth rate \"you get out what you put in,\" but it's not far from the truth. And if growth rate were proportional to performance, then the reward for performance p over time t would be proportional to pt.\n",
    "\n",
    "Even after decades of thinking about this, I find that sentence startling.\n",
    "\"\"\""
   ]
  },
  {
   "cell_type": "markdown",
   "id": "7303869e",
   "metadata": {},
   "source": [
    "## ***1. Length Based Text Splitting***"
   ]
  },
  {
   "cell_type": "code",
   "execution_count": 1,
   "id": "1ebb748d",
   "metadata": {},
   "outputs": [],
   "source": [
    "from langchain.text_splitter import CharacterTextSplitter, TokenTextSplitter"
   ]
  },
  {
   "cell_type": "code",
   "execution_count": 2,
   "id": "e096aeac",
   "metadata": {},
   "outputs": [],
   "source": [
    "splitter = CharacterTextSplitter(\n",
    "    chunk_size = 100,\n",
    "    chunk_overlap = 10,\n",
    "    separator=\"\"\n",
    ")"
   ]
  },
  {
   "cell_type": "code",
   "execution_count": 5,
   "id": "c17e1501",
   "metadata": {},
   "outputs": [
    {
     "data": {
      "text/plain": [
       "30"
      ]
     },
     "execution_count": 5,
     "metadata": {},
     "output_type": "execute_result"
    }
   ],
   "source": [
    "result = splitter.split_text(text=text)\n",
    "len(result)"
   ]
  },
  {
   "cell_type": "code",
   "execution_count": 6,
   "id": "f656a8c9",
   "metadata": {},
   "outputs": [
    {
     "data": {
      "text/plain": [
       "\"One of the most important things I didn't understand about the world when I was a child is the degr\""
      ]
     },
     "execution_count": 6,
     "metadata": {},
     "output_type": "execute_result"
    }
   ],
   "source": [
    "result[0]"
   ]
  },
  {
   "cell_type": "markdown",
   "id": "41d31278",
   "metadata": {},
   "source": [
    "## *Load a Pdf file and perform all splitting operation*"
   ]
  },
  {
   "cell_type": "code",
   "execution_count": 7,
   "id": "0d318c70",
   "metadata": {},
   "outputs": [],
   "source": [
    "from langchain_community.document_loaders import PyPDFLoader\n",
    "\n",
    "loader = PyPDFLoader('CSE465_Project_paper.pdf')\n",
    "docs = loader.load()"
   ]
  },
  {
   "cell_type": "markdown",
   "id": "3f58c23f",
   "metadata": {},
   "source": [
    "### *Developer told us chunk overlap should be 10% to 15%*"
   ]
  },
  {
   "cell_type": "code",
   "execution_count": 8,
   "id": "541848e5",
   "metadata": {},
   "outputs": [],
   "source": [
    "doc_splitter = CharacterTextSplitter(\n",
    "    chunk_size = 500,\n",
    "    chunk_overlap = 50,\n",
    "    separator=\"\"\n",
    ")"
   ]
  },
  {
   "cell_type": "code",
   "execution_count": 9,
   "id": "bbd4b6b9",
   "metadata": {},
   "outputs": [
    {
     "data": {
      "text/plain": [
       "63"
      ]
     },
     "execution_count": 9,
     "metadata": {},
     "output_type": "execute_result"
    }
   ],
   "source": [
    "all_data = doc_splitter.split_documents(documents=docs)\n",
    "len(all_data)"
   ]
  },
  {
   "cell_type": "code",
   "execution_count": 10,
   "id": "873eebf7",
   "metadata": {},
   "outputs": [
    {
     "data": {
      "text/plain": [
       "Document(metadata={'source': 'CSE465_Project_paper.pdf', 'page': 0}, page_content='Fine-Grained Feature Imitation for Efficient Object\\nDetection Using Knowledge Distillation\\n1stMd Al Amin\\nDepartment of Electrical and Computer Engineering\\nNorth South University\\nDhaka, Bangladesh\\nID: 1811904042Dr. Nabeel Mohammed (NbM)\\nDepartment of Electrical and Computer Engineering\\nNorth South University\\nDhaka, Bangladesh\\nnabeel.mohammed@northsouth.edu\\nAbstract —State-of-the-art object detection models are power-\\nful but have too many parameters, making them hard to use\\non low-end devices. Kn')"
      ]
     },
     "execution_count": 10,
     "metadata": {},
     "output_type": "execute_result"
    }
   ],
   "source": [
    "all_data[0]"
   ]
  },
  {
   "cell_type": "markdown",
   "id": "059d20ee",
   "metadata": {},
   "source": [
    "## ***2. Text-Structured Based Splitting Recursive Text Splitting***\n",
    "- Recursive Character Text Splitting\n",
    "    - Its try to never cut in the word in splitting time\n",
    "    - Chunking based on sentence\n"
   ]
  },
  {
   "cell_type": "code",
   "execution_count": 11,
   "id": "f6b47a7e",
   "metadata": {},
   "outputs": [],
   "source": [
    "from langchain.text_splitter import RecursiveCharacterTextSplitter"
   ]
  },
  {
   "cell_type": "code",
   "execution_count": 12,
   "id": "a42de416",
   "metadata": {},
   "outputs": [],
   "source": [
    "splitter = RecursiveCharacterTextSplitter(\n",
    "    chunk_size = 300,\n",
    "    chunk_overlap = 15,\n",
    ")"
   ]
  },
  {
   "cell_type": "code",
   "execution_count": 13,
   "id": "eb490298",
   "metadata": {},
   "outputs": [
    {
     "data": {
      "text/plain": [
       "15"
      ]
     },
     "execution_count": 13,
     "metadata": {},
     "output_type": "execute_result"
    }
   ],
   "source": [
    "chunk = splitter.split_text(text)\n",
    "len(chunk)"
   ]
  },
  {
   "cell_type": "code",
   "execution_count": 14,
   "id": "a31bdbd6",
   "metadata": {},
   "outputs": [
    {
     "data": {
      "text/plain": [
       "\"One of the most important things I didn't understand about the world when I was a child is the degree to which the returns for performance are superlinear.\""
      ]
     },
     "execution_count": 14,
     "metadata": {},
     "output_type": "execute_result"
    }
   ],
   "source": [
    "chunk[0]"
   ]
  },
  {
   "cell_type": "code",
   "execution_count": 15,
   "id": "514ba3b3",
   "metadata": {},
   "outputs": [
    {
     "data": {
      "text/plain": [
       "'Teachers and coaches implicitly told us the returns were linear. \"You get out,\" I heard a thousand times, \"what you put in.\" They meant well, but this is rarely true. If your product is only half as good as your competitor\\'s, you don\\'t get half as many customers. You get no customers, and you go'"
      ]
     },
     "execution_count": 15,
     "metadata": {},
     "output_type": "execute_result"
    }
   ],
   "source": [
    "chunk[1]"
   ]
  },
  {
   "cell_type": "code",
   "execution_count": 16,
   "id": "6d899909",
   "metadata": {},
   "outputs": [
    {
     "data": {
      "text/plain": [
       "'and you go out of business.'"
      ]
     },
     "execution_count": 16,
     "metadata": {},
     "output_type": "execute_result"
    }
   ],
   "source": [
    "chunk[2]"
   ]
  },
  {
   "cell_type": "markdown",
   "id": "23714871",
   "metadata": {},
   "source": [
    "# ***3. Document-Structured Based Text Splitting***\n",
    "- use if the text is not well structured like multi language\n",
    "- its will be programming language\n",
    "- Like function or class or use separator\n",
    "- markdown text process by Recursive char text splitter - markdown\n",
    "- chunk size should be large more than 200 words"
   ]
  },
  {
   "cell_type": "code",
   "execution_count": 22,
   "id": "01067c5a",
   "metadata": {},
   "outputs": [],
   "source": [
    "code = \"\"\"\n",
    "# define a class\n",
    "class Employee:\n",
    "    # define a property\n",
    "    employee_id = 0\n",
    "\n",
    "# create two objects of the Employee class\n",
    "employee1 = Employee()\n",
    "employee2 = Employee()\n",
    "\n",
    "# access property using employee1\n",
    "employee1.employeeID = 1001\n",
    "print(f\"Employee ID: {employee1.employeeID}\")\n",
    "\n",
    "# access properties using employee2\n",
    "employee2.employeeID = 1002\n",
    "print(f\"Employee ID: {employee2.employeeID}\")\n",
    "\"\"\""
   ]
  },
  {
   "cell_type": "code",
   "execution_count": 17,
   "id": "83c77deb",
   "metadata": {},
   "outputs": [],
   "source": [
    "from langchain.text_splitter import RecursiveCharacterTextSplitter, Language"
   ]
  },
  {
   "cell_type": "code",
   "execution_count": null,
   "id": "5c97282b",
   "metadata": {},
   "outputs": [],
   "source": [
    "code_splitter = RecursiveCharacterTextSplitter.from_language(\n",
    "    language = Language.PYTHON, ## use any type of language.\n",
    "    chunk_size = 200,\n",
    "    chunk_overlap = 0,\n",
    ")"
   ]
  },
  {
   "cell_type": "code",
   "execution_count": 23,
   "id": "567e0784",
   "metadata": {},
   "outputs": [
    {
     "data": {
      "text/plain": [
       "4"
      ]
     },
     "execution_count": 23,
     "metadata": {},
     "output_type": "execute_result"
    }
   ],
   "source": [
    "splitting_code = code_splitter.split_text(code)\n",
    "len(splitting_code)"
   ]
  },
  {
   "cell_type": "code",
   "execution_count": 24,
   "id": "b2a0780f",
   "metadata": {},
   "outputs": [
    {
     "data": {
      "text/plain": [
       "'# define a class'"
      ]
     },
     "execution_count": 24,
     "metadata": {},
     "output_type": "execute_result"
    }
   ],
   "source": [
    "splitting_code[0]"
   ]
  },
  {
   "cell_type": "code",
   "execution_count": 26,
   "id": "cdbc1599",
   "metadata": {},
   "outputs": [
    {
     "name": "stdout",
     "output_type": "stream",
     "text": [
      "class Employee:\n",
      "    # define a property\n",
      "    employee_id = 0\n",
      "\n",
      "# create two objects of the Employee class\n",
      "employee1 = Employee()\n",
      "employee2 = Employee()\n"
     ]
    }
   ],
   "source": [
    "print(splitting_code[1])"
   ]
  },
  {
   "cell_type": "code",
   "execution_count": 27,
   "id": "aeed49e7",
   "metadata": {},
   "outputs": [
    {
     "name": "stdout",
     "output_type": "stream",
     "text": [
      "# access property using employee1\n",
      "employee1.employeeID = 1001\n",
      "print(f\"Employee ID: {employee1.employeeID}\")\n"
     ]
    }
   ],
   "source": [
    "print(splitting_code[2])"
   ]
  },
  {
   "cell_type": "code",
   "execution_count": null,
   "id": "1bd2852b",
   "metadata": {},
   "outputs": [],
   "source": []
  }
 ],
 "metadata": {
  "kernelspec": {
   "display_name": "torchGPU",
   "language": "python",
   "name": "python3"
  },
  "language_info": {
   "codemirror_mode": {
    "name": "ipython",
    "version": 3
   },
   "file_extension": ".py",
   "mimetype": "text/x-python",
   "name": "python",
   "nbconvert_exporter": "python",
   "pygments_lexer": "ipython3",
   "version": "3.12.4"
  }
 },
 "nbformat": 4,
 "nbformat_minor": 5
}
