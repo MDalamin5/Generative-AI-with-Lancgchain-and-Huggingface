{
 "cells": [
  {
   "cell_type": "markdown",
   "id": "44b45d21",
   "metadata": {},
   "source": [
    "# ***What is Retrievers?***\n",
    "- A retriever is a component in LangChain that fetches relevant documents form a data source in response to a user's query.\n",
    "- There are multiple types of retrievers\n",
    "- Main point is all retrievers are runnable means its can be use in the chain\n",
    "\n",
    "\n",
    "### ***Types of Retrievers Based on Datasources***\n",
    "- Wikipedia Retrievers\n",
    "- Vector Store\n",
    "- Arxiv Retriever\n",
    "- Custom Retriever\n",
    "\n",
    "### ***Types of Retrievers Based on `Retrievers`***\n",
    "- MMr- Maximum Marginal Relevance\n",
    "- Multi query retrievers\n",
    "- Contextual compression Retriever\n",
    "\n"
   ]
  },
  {
   "cell_type": "code",
   "execution_count": null,
   "id": "2e39dc3d",
   "metadata": {},
   "outputs": [],
   "source": []
  }
 ],
 "metadata": {
  "kernelspec": {
   "display_name": "torchGPU",
   "language": "python",
   "name": "python3"
  },
  "language_info": {
   "name": "python",
   "version": "3.12.4"
  }
 },
 "nbformat": 4,
 "nbformat_minor": 5
}
