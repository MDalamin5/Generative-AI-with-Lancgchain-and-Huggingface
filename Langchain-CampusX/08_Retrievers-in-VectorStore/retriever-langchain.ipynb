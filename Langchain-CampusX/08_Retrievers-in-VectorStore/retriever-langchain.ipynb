{
 "cells": [
  {
   "cell_type": "markdown",
   "id": "44b45d21",
   "metadata": {},
   "source": [
    "# ***What is Retrievers?***\n",
    "- A retriever is a component in LangChain that fetches relevant documents form a data source in response to a user's query.\n",
    "- There are multiple types of retrievers\n",
    "- Main point is all retrievers are runnable means its can be use in the chain\n",
    "\n",
    "\n",
    "### ***Types of Retrievers Based on Datasources***\n",
    "- Wikipedia Retrievers\n",
    "- Vector Store\n",
    "- Arxiv Retriever\n",
    "- Custom Retriever\n",
    "\n",
    "### ***Types of Retrievers Based on `Retrievers`***\n",
    "- MMr- Maximum Marginal Relevance\n",
    "- Multi query retrievers\n",
    "- Contextual compression Retriever\n",
    "\n"
   ]
  },
  {
   "cell_type": "markdown",
   "id": "0f105d7b",
   "metadata": {},
   "source": [
    "## *Wikipedia Retrievers*\n",
    "\n",
    "- A wiki retrievers is retrievers that queries the wikipedia API to fetch relevant content for given query\n",
    "- its doing keyword searching and retrievers relevant result\n"
   ]
  },
  {
   "cell_type": "code",
   "execution_count": 1,
   "id": "2e39dc3d",
   "metadata": {},
   "outputs": [],
   "source": [
    "from langchain_community.retrievers import WikipediaRetriever"
   ]
  },
  {
   "cell_type": "code",
   "execution_count": 2,
   "id": "c6af10ee",
   "metadata": {},
   "outputs": [],
   "source": [
    "# initialize the retriever (option: set the language and top_k value)\n",
    "retriever = WikipediaRetriever(\n",
    "    top_k_results=2,\n",
    "    lang='en'\n",
    ")"
   ]
  },
  {
   "cell_type": "code",
   "execution_count": 3,
   "id": "a360564a",
   "metadata": {},
   "outputs": [
    {
     "data": {
      "text/plain": [
       "2"
      ]
     },
     "execution_count": 3,
     "metadata": {},
     "output_type": "execute_result"
    }
   ],
   "source": [
    "## the query\n",
    "query = \"The geopolitical history of Bangladesh and Pakistan from the perspective of 1971\"\n",
    "\n",
    "docs = retriever.invoke(query)\n",
    "len(docs)"
   ]
  },
  {
   "cell_type": "code",
   "execution_count": null,
   "id": "da3a91ea",
   "metadata": {},
   "outputs": [
    {
     "data": {
      "text/plain": [
       "Document(metadata={'title': 'History of Bangladesh', 'summary': \"The history of Bangladesh dates back over four millennia to the Chalcolithic period. The region's early history was characterized by a succession of Hindu and Buddhist kingdoms and empires that fought for control over the Bengal region. Islam arrived in the 8th century and gradually became dominant from the early 13th century with the conquests led by Bakhtiyar Khalji and the activities of Sunni missionaries like Shah Jalal. Muslim rulers promoted the spread of Islam by building mosques across the region. From the 14th century onward, Bengal was ruled by the Bengal Sultanate, founded by Fakhruddin Mubarak Shah, who established an individual currency. The Bengal Sultanate expanded under rulers like Shamsuddin Ilyas Shah, leading to economic prosperity and military dominance, with Bengal being referred to by Europeans as the richest country to trade with. The region later became a part of the Mughal Empire, and according to historian C. A. Bayly, it was probably the empire's wealthiest province.\\nFollowing the decline of the Mughal Empire in the early 1700s, Bengal became a semi-independent state under the Nawabs of Bengal, ultimately led by Siraj ud-Daulah. It was later conquered by the British East India Company after the Battle of Plassey in 1757. Bengal played a crucial role in the Industrial Revolution in Britain, but also faced significant deindustrialization. The Bengal Presidency was established during British rule.\\nThe borders of modern Bangladesh were established with the partition of Bengal between India and Pakistan during the Partition of India in August 1947, when the region became East Pakistan as part of the newly formed State of Pakistan following the end of the British rule in the region. The Proclamation of Bangladeshi Independence in March 1971 led to the nine-month-long Bangladesh Liberation War, which culminated in the emergence of the People's Republic of Bangladesh. Independence was declared in 1971.\\nSince gaining independence, Bangladesh has faced political instability, economic reconstruction, and social transformation. The country experienced military coups and authoritarian rule, notably under General Ziaur Rahman and General Hussain Muhammad Ershad. The restoration of parliamentary democracy in the 1990s saw power alternate between the Awami League, and the Bangladesh Nationalist Party. In recent decades, Bangladesh has achieved significant economic growth, emerging as one of the world's fastest-growing economies, driven by its garment industry, remittances, and infrastructure development. However, it continues to grapple with political instability, human rights issues, and the impact of climate change. The return of the Awami League to power in 2009 under Sheikh Hasina's leadership saw economic progress but criticisms of authoritarianism. Bangladesh has played a critical role in addressing regional issues, including the Rohingya refugee crisis, which has strained its resources and highlighted its humanitarian commitments.\", 'source': 'https://en.wikipedia.org/wiki/History_of_Bangladesh'}, page_content=\"The history of Bangladesh dates back over four millennia to the Chalcolithic period. The region's early history was characterized by a succession of Hindu and Buddhist kingdoms and empires that fought for control over the Bengal region. Islam arrived in the 8th century and gradually became dominant from the early 13th century with the conquests led by Bakhtiyar Khalji and the activities of Sunni missionaries like Shah Jalal. Muslim rulers promoted the spread of Islam by building mosques across the region. From the 14th century onward, Bengal was ruled by the Bengal Sultanate, founded by Fakhruddin Mubarak Shah, who established an individual currency. The Bengal Sultanate expanded under rulers like Shamsuddin Ilyas Shah, leading to economic prosperity and military dominance, with Bengal being referred to by Europeans as the richest country to trade with. The region later became a part of the Mughal Empire, and according to historian C. A. Bayly, it was probably the empire's wealthiest province.\\nFollowing the decline of the Mughal Empire in the early 1700s, Bengal became a semi-independent state under the Nawabs of Bengal, ultimately led by Siraj ud-Daulah. It was later conquered by the British East India Company after the Battle of Plassey in 1757. Bengal played a crucial role in the Industrial Revolution in Britain, but also faced significant deindustrialization. The Bengal Presidency was established during British rule.\\nThe borders of modern Bangladesh were established with the partition of Bengal between India and Pakistan during the Partition of India in August 1947, when the region became East Pakistan as part of the newly formed State of Pakistan following the end of the British rule in the region. The Proclamation of Bangladeshi Independence in March 1971 led to the nine-month-long Bangladesh Liberation War, which culminated in the emergence of the People's Republic of Bangladesh. Independence was declared in 1971.\\nSince gaining independence, Bangladesh has faced political instability, economic reconstruction, and social transformation. The country experienced military coups and authoritarian rule, notably under General Ziaur Rahman and General Hussain Muhammad Ershad. The restoration of parliamentary democracy in the 1990s saw power alternate between the Awami League, and the Bangladesh Nationalist Party. In recent decades, Bangladesh has achieved significant economic growth, emerging as one of the world's fastest-growing economies, driven by its garment industry, remittances, and infrastructure development. However, it continues to grapple with political instability, human rights issues, and the impact of climate change. The return of the Awami League to power in 2009 under Sheikh Hasina's leadership saw economic progress but criticisms of authoritarianism. Bangladesh has played a critical role in addressing regional issues, including the Rohingya refugee crisis, which has strained its resources and highlighted its humanitarian commitments.\\n\\n\\n== Ancient period ==\\n\\n\\n=== Prehistoric Bengal ===\\n\\nIt is believed that there were movements of Indo-Aryans, Dravidians and Mongoloids, including a people called Vanga, into Bengal.  There is weak evidence for a prehistoric human presence in the region. There is scant evidence of a human presence during the Neolithic and Chalcolithic eras. This could be because of the shifts in the rivers' courses. The Bengali climate and geography is not suitable for tangible archaeological remains. Due to lack of stones the early humans in Bengal probably used materials such as wood and bamboo that could not survive in the environment. South Asian archaeologists have tended to focus on other parts of the subcontinent. Archaeologists interested in Bengal have focused on more recent history.\\nWest Bengal holds the earliest evidence of settled agrarian societies.\\nAgricultural success gave ground in the fifth century BCE for a stationary culture and the emergence of towns, cross-sea trade and the earl\")"
      ]
     },
     "execution_count": 4,
     "metadata": {},
     "output_type": "execute_result"
    }
   ],
   "source": [
    "docs[0]"
   ]
  },
  {
   "cell_type": "code",
   "execution_count": 5,
   "id": "087ef204",
   "metadata": {},
   "outputs": [
    {
     "name": "stdout",
     "output_type": "stream",
     "text": [
      "\n",
      "--- Result 1 ----\n",
      "Content: \n",
      "The history of Bangladesh dates back over four millennia to the Chalcolithic period. The region's early history was characterized by a succession of Hindu and Buddhist kingdoms and empires that fought for control over the Bengal region. Islam arrived in the 8th century and gradually became dominant from the early 13th century with the conquests led by Bakhtiyar Khalji and the activities of Sunni missionaries like Shah Jalal. Muslim rulers promoted the spread of Islam by building mosques across the region. From the 14th century onward, Bengal was ruled by the Bengal Sultanate, founded by Fakhruddin Mubarak Shah, who established an individual currency. The Bengal Sultanate expanded under rulers like Shamsuddin Ilyas Shah, leading to economic prosperity and military dominance, with Bengal being referred to by Europeans as the richest country to trade with. The region later became a part of the Mughal Empire, and according to historian C. A. Bayly, it was probably the empire's wealthiest province.\n",
      "Following the decline of the Mughal Empire in the early 1700s, Bengal became a semi-independent state under the Nawabs of Bengal, ultimately led by Siraj ud-Daulah. It was later conquered by the British East India Company after the Battle of Plassey in 1757. Bengal played a crucial role in the Industrial Revolution in Britain, but also faced significant deindustrialization. The Bengal Presidency was established during British rule.\n",
      "The borders of modern Bangladesh were established with the partition of Bengal between India and Pakistan during the Partition of India in August 1947, when the region became East Pakistan as part of the newly formed State of Pakistan following the end of the British rule in the region. The Proclamation of Bangladeshi Independence in March 1971 led to the nine-month-long Bangladesh Liberation War, which culminated in the emergence of the People's Republic of Bangladesh. Independence was declared in 1971.\n",
      "Since gaining independence, Bangladesh has faced political instability, economic reconstruction, and social transformation. The country experienced military coups and authoritarian rule, notably under General Ziaur Rahman and General Hussain Muhammad Ershad. The restoration of parliamentary democracy in the 1990s saw power alternate between the Awami League, and the Bangladesh Nationalist Party. In recent decades, Bangladesh has achieved significant economic growth, emerging as one of the world's fastest-growing economies, driven by its garment industry, remittances, and infrastructure development. However, it continues to grapple with political instability, human rights issues, and the impact of climate change. The return of the Awami League to power in 2009 under Sheikh Hasina's leadership saw economic progress but criticisms of authoritarianism. Bangladesh has played a critical role in addressing regional issues, including the Rohingya refugee crisis, which has strained its resources and highlighted its humanitarian commitments.\n",
      "\n",
      "\n",
      "== Ancient period ==\n",
      "\n",
      "\n",
      "=== Prehistoric Bengal ===\n",
      "\n",
      "It is believed that there were movements of Indo-Aryans, Dravidians and Mongoloids, including a people called Vanga, into Bengal.  There is weak evidence for a prehistoric human presence in the region. There is scant evidence of a human presence during the Neolithic and Chalcolithic eras. This could be because of the shifts in the rivers' courses. The Bengali climate and geography is not suitable for tangible archaeological remains. Due to lack of stones the early humans in Bengal probably used materials such as wood and bamboo that could not survive in the environment. South Asian archaeologists have tended to focus on other parts of the subcontinent. Archaeologists interested in Bengal have focused on more recent history.\n",
      "West Bengal holds the earliest evidence of settled agrarian societies.\n",
      "Agricultural success gave ground in the fifth century BCE for a stationary culture and the emergence of towns, cross-sea trade and the earl....\n",
      "\n",
      "--- Result 2 ----\n",
      "Content: \n",
      "The Indo-Pakistani war of 1971, also known as the third India-Pakistan war, was a military confrontation between India and Pakistan that occurred during the Bangladesh Liberation War in East Pakistan from 3 December 1971 until the Pakistani capitulation in Dhaka on 16 December 1971.  The war began with Pakistan's Operation Chengiz Khan, consisting of preemptive aerial strikes on eight Indian air stations. The strikes led to India declaring war on Pakistan, marking their entry into the war for East Pakistan's independence, on the side of Bengali nationalist forces. India's entry expanded the existing conflict with Indian and Pakistani forces engaging on both the eastern and western fronts. Thirteen days after the war started, India achieved a clear upper hand, and the Eastern Command of the Pakistan military signed the instrument of surrender on 16 December 1971 in Dhaka, marking the formation of East Pakistan as the new nation of Bangladesh. Approximately 93,000 Pakistani servicemen were taken prisoner by the Indian Army, which included 79,676 to 81,000 uniformed personnel of the Pakistan Armed Forces, including some Bengali soldiers who had remained loyal to Pakistan. The remaining 10,324 to 12,500 prisoners were civilians, either family members of the military personnel or collaborators (Razakars).\n",
      "It is estimated that members of the Pakistani military and supporting pro-Pakistani Islamist militias killed between 300,000 and 3,000,000 civilians in Bangladesh. As a result of the conflict, a further eight to ten million people fled the country to seek refuge in India.\n",
      "During the 1971 Bangladesh war for independence, members of the Pakistani military and supporting pro-Pakistani Islamist militias called the Razakars raped between 200,000 and 400,000 Bangladeshi women and girls in a systematic campaign of genocidal rape.\n",
      "\n",
      "\n",
      "== Background ==\n",
      "\n",
      "The Indo-Pakistani conflict was sparked by the Bangladesh Liberation War, which was a result of the violation of the rights of East Pakistan by the Pakistan Army. The political tensions in East Pakistan had its origin in the creation of Pakistan as a result of the partition of India by the United Kingdom in 1947; the popular language movement in 1950; mass riots in East Bengal in 1964; and the mass protests in 1969. These led to the resignation of President Ayub Khan, who invited army chief General Yahya Khan to take over the central government.: xxx  The geographical distance between the eastern and western wings of Pakistan was vast; East Pakistan lay over 1,600 kilometres (1,000 mi) away, which greatly hampered any attempt to integrate the Bengali and the Pakistani cultures.: 13–14 \n",
      "To overcome the Bengali domination and prevent formation of the central government in Islamabad, the controversial One Unit programme established the two wings of East and West Pakistan. West Pakistanis' opposition to these efforts made it difficult to effectively govern both wings.: xxx  In 1969, President Yahya Khan announced the first general elections and disestablished the status of West Pakistan as a single province in 1970, in order to restore it to its original heterogeneous status comprising four provinces, as defined at the time of establishment of Pakistan in 1947. In addition, there were religious and racial tensions between Bengalis and the multi-ethnic West Pakistanis, as Bengalis looked different from the dominant West Pakistanis.\n",
      "The East Pakistan's Awami League leader Sheikh Mujibur Rahman stressed his political position by presenting his Six Points and endorsing the Bengalis' right to govern.: xxx  The 1970 Pakistani general election, resulted in Awami League gaining 167 out of 169 seats for the East Pakistan Legislative Assembly, and a near-absolute majority in the 313-seat National Assembly, while the vote in West Pakistan was mostly won by the socialist Pakistan Peoples Party.: 686–687  The League's election success caused many West Pakistanis to fear that it would allow the Bengalis to dra....\n"
     ]
    }
   ],
   "source": [
    "for i, doc in enumerate(docs):\n",
    "    print(f\"\\n--- Result {i+1} ----\")\n",
    "    print(f\"Content: \\n{doc.page_content}....\")"
   ]
  },
  {
   "cell_type": "markdown",
   "id": "69354618",
   "metadata": {},
   "source": [
    "## Vector Store Retrievers"
   ]
  },
  {
   "cell_type": "code",
   "execution_count": 6,
   "id": "e7717e9e",
   "metadata": {},
   "outputs": [],
   "source": [
    "from langchain_community.vectorstores import Chroma\n",
    "from langchain.embeddings import HuggingFaceEmbeddings\n",
    "from langchain_core.documents import Document"
   ]
  },
  {
   "cell_type": "code",
   "execution_count": 7,
   "id": "62e3467c",
   "metadata": {},
   "outputs": [],
   "source": [
    "doc1 = Document(\n",
    "    page_content=\"Bangladesh gained independence in 1971 after a nine-month-long war with Pakistan, which is commemorated every year on Victory Day, December 16.\"\n",
    ")\n",
    "\n",
    "doc2 = Document(\n",
    "    page_content=\"The Sundarbans, located in the southwestern part of Bangladesh, is the largest mangrove forest in the world and home to the Royal Bengal Tiger.\"\n",
    ")\n",
    "\n",
    "doc3 = Document(\n",
    "    page_content=\"Dhaka, the capital of Bangladesh, is one of the most densely populated cities in the world and a major hub for trade, textiles, and culture in South Asia.\"\n",
    ")\n",
    "\n",
    "doc4 = Document(\n",
    "    page_content=\"The Padma Bridge, inaugurated in 2022, is one of the most significant infrastructure projects in Bangladesh, connecting the country's southwest to the capital.\"\n",
    ")\n",
    "\n",
    "doc5 = Document(\n",
    "    page_content=\"Bangladesh is one of the largest contributors to the global ready-made garments industry, with the sector being a key driver of its economy and employment.\"\n",
    ")\n",
    "\n",
    "documents = [doc1, doc2, doc3, doc4, doc5]"
   ]
  },
  {
   "cell_type": "code",
   "execution_count": 8,
   "id": "69d6da75",
   "metadata": {},
   "outputs": [
    {
     "name": "stderr",
     "output_type": "stream",
     "text": [
      "C:\\Users\\Lenovo\\AppData\\Local\\Temp\\ipykernel_20308\\3706960057.py:1: LangChainDeprecationWarning: The class `HuggingFaceEmbeddings` was deprecated in LangChain 0.2.2 and will be removed in 1.0. An updated version of the class exists in the :class:`~langchain-huggingface package and should be used instead. To use it run `pip install -U :class:`~langchain-huggingface` and import as `from :class:`~langchain_huggingface import HuggingFaceEmbeddings``.\n",
      "  embeddings = HuggingFaceEmbeddings(model_name = 'sentence-transformers/all-MiniLM-L6-v2')\n",
      "c:\\Users\\Lenovo\\anaconda3\\envs\\torchGPU\\Lib\\site-packages\\tqdm\\auto.py:21: TqdmWarning: IProgress not found. Please update jupyter and ipywidgets. See https://ipywidgets.readthedocs.io/en/stable/user_install.html\n",
      "  from .autonotebook import tqdm as notebook_tqdm\n"
     ]
    }
   ],
   "source": [
    "embeddings = HuggingFaceEmbeddings(model_name = 'sentence-transformers/all-MiniLM-L6-v2')"
   ]
  },
  {
   "cell_type": "code",
   "execution_count": 9,
   "id": "fa571abb",
   "metadata": {},
   "outputs": [
    {
     "data": {
      "text/plain": [
       "HuggingFaceEmbeddings(client=SentenceTransformer(\n",
       "  (0): Transformer({'max_seq_length': 256, 'do_lower_case': False}) with Transformer model: BertModel \n",
       "  (1): Pooling({'word_embedding_dimension': 384, 'pooling_mode_cls_token': False, 'pooling_mode_mean_tokens': True, 'pooling_mode_max_tokens': False, 'pooling_mode_mean_sqrt_len_tokens': False, 'pooling_mode_weightedmean_tokens': False, 'pooling_mode_lasttoken': False, 'include_prompt': True})\n",
       "  (2): Normalize()\n",
       "), model_name='sentence-transformers/all-MiniLM-L6-v2', cache_folder=None, model_kwargs={}, encode_kwargs={}, multi_process=False, show_progress=False)"
      ]
     },
     "execution_count": 9,
     "metadata": {},
     "output_type": "execute_result"
    }
   ],
   "source": [
    "embeddings"
   ]
  },
  {
   "cell_type": "code",
   "execution_count": 10,
   "id": "25605bc0",
   "metadata": {},
   "outputs": [
    {
     "name": "stderr",
     "output_type": "stream",
     "text": [
      "c:\\Users\\Lenovo\\anaconda3\\envs\\torchGPU\\Lib\\site-packages\\transformers\\models\\bert\\modeling_bert.py:440: UserWarning: 1Torch was not compiled with flash attention. (Triggered internally at ..\\aten\\src\\ATen\\native\\transformers\\cuda\\sdp_utils.cpp:455.)\n",
      "  attn_output = torch.nn.functional.scaled_dot_product_attention(\n"
     ]
    }
   ],
   "source": [
    "vectorstore = Chroma.from_documents(\n",
    "    documents=documents,\n",
    "    embedding=embeddings,\n",
    "    collection_name='My_collection'\n",
    ")"
   ]
  },
  {
   "cell_type": "code",
   "execution_count": 12,
   "id": "c2e3e730",
   "metadata": {},
   "outputs": [],
   "source": [
    "retriever = vectorstore.as_retriever(\n",
    "    search_kwargs={\n",
    "        \"k\": 2\n",
    "    }\n",
    ")"
   ]
  },
  {
   "cell_type": "code",
   "execution_count": 13,
   "id": "eae4bb57",
   "metadata": {},
   "outputs": [],
   "source": [
    "query = \"Tell me Name of the city which is the capital of bangladesh?\"\n",
    "\n",
    "response = retriever.invoke(query)"
   ]
  },
  {
   "cell_type": "code",
   "execution_count": 15,
   "id": "cab87b10",
   "metadata": {},
   "outputs": [
    {
     "name": "stdout",
     "output_type": "stream",
     "text": [
      "\n",
      "---- Results 1 ------\n",
      "Dhaka, the capital of Bangladesh, is one of the most densely populated cities in the world and a major hub for trade, textiles, and culture in South Asia.\n",
      "\n",
      "---- Results 2 ------\n",
      "Bangladesh is one of the largest contributors to the global ready-made garments industry, with the sector being a key driver of its economy and employment.\n"
     ]
    }
   ],
   "source": [
    "for i, doc in enumerate(response):\n",
    "    print(f\"\\n---- Results {i+1} ------\")\n",
    "    print(f\"{doc.page_content}\")"
   ]
  },
  {
   "cell_type": "markdown",
   "id": "1a635824",
   "metadata": {},
   "source": [
    "## ***🧠Maximal Marginal Relevance (MMR)***\n",
    "*`How can we pick result that are not only relevant to the query but also different from each other?`*\n",
    "\n",
    "- MMR is an information retrieval ago designed to reduce redundancy in the retrieved results while maintaining high relevance to the query\n",
    "\n",
    "#### Why MMR retriever?\n",
    "- Picking the most relevant document first\n",
    "- Then picking the next most relevant and least similar to already selected docs\n",
    "- and so on\n",
    "\n",
    "`This help especially in RAG pipelines where:`\n",
    "- you want your context window to contain diverse but still relevant information\n",
    "- Especially useful when documents are semantically overlapping\n"
   ]
  },
  {
   "cell_type": "code",
   "execution_count": 16,
   "id": "a73afade",
   "metadata": {},
   "outputs": [],
   "source": [
    "doc1 = Document(\n",
    "    page_content=\"The Sundarbans in Bangladesh is the largest tidal halophytic mangrove forest in the world and a UNESCO World Heritage Site.\"\n",
    ")\n",
    "\n",
    "doc2 = Document(\n",
    "    page_content=\"Dhaka is the capital of Bangladesh, known for its vibrant culture, bustling streets, and the historic Lalbagh Fort.\"\n",
    ")\n",
    "\n",
    "doc3 = Document(\n",
    "    page_content=\"The Padma River, one of the major rivers of Bangladesh, plays a crucial role in agriculture, transportation, and fisheries.\"\n",
    ")\n",
    "\n",
    "doc4 = Document(\n",
    "    page_content=\"The Padma Bridge, inaugurated in 2022, has significantly improved connectivity between the capital and southern Bangladesh.\"\n",
    ")\n",
    "\n",
    "doc5 = Document(\n",
    "    page_content=\"Chittagong, a major port city in Bangladesh, is known for its natural beauty, the Hill Tracts, and the busy seaport.\"\n",
    ")\n",
    "\n",
    "doc6 = Document(\n",
    "    page_content=\"Cox’s Bazar in Bangladesh boasts the world’s longest natural sandy sea beach, attracting tourists year-round.\"\n",
    ")\n",
    "\n",
    "doc7 = Document(\n",
    "    page_content=\"Bangladesh’s economy is rapidly growing, with the garments sector, remittances, and agriculture contributing heavily to GDP.\"\n",
    ")\n",
    "\n",
    "doc8 = Document(\n",
    "    page_content=\"The Rohingya refugee crisis led to the displacement of hundreds of thousands of people to Bangladesh’s Cox’s Bazar region.\"\n",
    ")\n",
    "documents = [doc1, doc2, doc3, doc4, doc5, doc6, doc7, doc8]"
   ]
  },
  {
   "cell_type": "code",
   "execution_count": 17,
   "id": "8d672d70",
   "metadata": {},
   "outputs": [],
   "source": [
    "from langchain_community.vectorstores import FAISS\n",
    "\n",
    "\n",
    "vectorStore = FAISS.from_documents(\n",
    "    documents=documents,\n",
    "    embedding=embeddings,\n",
    ")"
   ]
  },
  {
   "cell_type": "code",
   "execution_count": null,
   "id": "39b3e3d5",
   "metadata": {},
   "outputs": [],
   "source": [
    "retriever = vectorStore.as_retriever(\n",
    "    search_type=\"mmr\",\n",
    "    search_kwargs={\n",
    "        \"k\": 3,\n",
    "        \"lambda_mult\": 1 # lambda mult = relevance diversity balance -- high value like 1 its work as similirty search\n",
    "    }\n",
    ")"
   ]
  },
  {
   "cell_type": "code",
   "execution_count": 19,
   "id": "3e4b240a",
   "metadata": {},
   "outputs": [],
   "source": [
    "query = \"Tell me about infrastructure and rivers in Bangladesh\"\n",
    "response = retriever.invoke(query)"
   ]
  },
  {
   "cell_type": "code",
   "execution_count": 20,
   "id": "1d5a156a",
   "metadata": {},
   "outputs": [
    {
     "name": "stdout",
     "output_type": "stream",
     "text": [
      "\n",
      "---- Results 1 ------\n",
      "The Padma River, one of the major rivers of Bangladesh, plays a crucial role in agriculture, transportation, and fisheries.\n",
      "\n",
      "---- Results 2 ------\n",
      "Dhaka is the capital of Bangladesh, known for its vibrant culture, bustling streets, and the historic Lalbagh Fort.\n",
      "\n",
      "---- Results 3 ------\n",
      "Bangladesh’s economy is rapidly growing, with the garments sector, remittances, and agriculture contributing heavily to GDP.\n"
     ]
    }
   ],
   "source": [
    "for i, doc in enumerate(response):\n",
    "    print(f\"\\n---- Results {i+1} ------\")\n",
    "    print(f\"{doc.page_content}\")"
   ]
  },
  {
   "cell_type": "code",
   "execution_count": 21,
   "id": "5a2d53f0",
   "metadata": {},
   "outputs": [],
   "source": [
    "retriever = vectorStore.as_retriever(\n",
    "    search_type=\"mmr\",\n",
    "    search_kwargs={\n",
    "        \"k\": 3,\n",
    "        \"lambda_mult\": 0.5 # lambda mult = relevance diversity balance -- high value like 1 its work as similirty search\n",
    "    }\n",
    ")"
   ]
  },
  {
   "cell_type": "code",
   "execution_count": 22,
   "id": "cf7aeb11",
   "metadata": {},
   "outputs": [],
   "source": [
    "query = \"Tell me about infrastructure and rivers in Bangladesh\"\n",
    "response = retriever.invoke(query)"
   ]
  },
  {
   "cell_type": "code",
   "execution_count": 23,
   "id": "e590ae7a",
   "metadata": {},
   "outputs": [
    {
     "name": "stdout",
     "output_type": "stream",
     "text": [
      "\n",
      "---- Results 1 ------\n",
      "The Padma River, one of the major rivers of Bangladesh, plays a crucial role in agriculture, transportation, and fisheries.\n",
      "\n",
      "---- Results 2 ------\n",
      "The Rohingya refugee crisis led to the displacement of hundreds of thousands of people to Bangladesh’s Cox’s Bazar region.\n",
      "\n",
      "---- Results 3 ------\n",
      "Bangladesh’s economy is rapidly growing, with the garments sector, remittances, and agriculture contributing heavily to GDP.\n"
     ]
    }
   ],
   "source": [
    "for i, doc in enumerate(response):\n",
    "    print(f\"\\n---- Results {i+1} ------\")\n",
    "    print(f\"{doc.page_content}\")"
   ]
  },
  {
   "cell_type": "code",
   "execution_count": null,
   "id": "770ef253",
   "metadata": {},
   "outputs": [],
   "source": []
  }
 ],
 "metadata": {
  "kernelspec": {
   "display_name": "torchGPU",
   "language": "python",
   "name": "python3"
  },
  "language_info": {
   "codemirror_mode": {
    "name": "ipython",
    "version": 3
   },
   "file_extension": ".py",
   "mimetype": "text/x-python",
   "name": "python",
   "nbconvert_exporter": "python",
   "pygments_lexer": "ipython3",
   "version": "3.12.4"
  }
 },
 "nbformat": 4,
 "nbformat_minor": 5
}
