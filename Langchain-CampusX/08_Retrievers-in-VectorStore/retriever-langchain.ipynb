{
 "cells": [
  {
   "cell_type": "markdown",
   "id": "44b45d21",
   "metadata": {},
   "source": [
    "# ***What is Retrievers?***\n",
    "- A retriever is a component in LangChain that fetches relevant documents form a data source in response to a user's query.\n",
    "- There are multiple types of retrievers\n",
    "- Main point is all retrievers are runnable means its can be use in the chain\n",
    "\n",
    "\n",
    "### ***Types of Retrievers Based on Datasources***\n",
    "- Wikipedia Retrievers\n",
    "- Vector Store\n",
    "- Arxiv Retriever\n",
    "- Custom Retriever\n",
    "\n",
    "### ***Types of Retrievers Based on `Retrievers`***\n",
    "- MMr- Maximum Marginal Relevance\n",
    "- Multi query retrievers\n",
    "- Contextual compression Retriever\n",
    "\n"
   ]
  },
  {
   "cell_type": "markdown",
   "id": "0f105d7b",
   "metadata": {},
   "source": [
    "## *Wikipedia Retrievers*\n",
    "\n",
    "- A wiki retrievers is retrievers that queries the wikipedia API to fetch relevant content for given query\n",
    "- its doing keyword searching and retrievers relevant result\n"
   ]
  },
  {
   "cell_type": "code",
   "execution_count": 1,
   "id": "2e39dc3d",
   "metadata": {},
   "outputs": [],
   "source": [
    "from langchain_community.retrievers import WikipediaRetriever"
   ]
  },
  {
   "cell_type": "code",
   "execution_count": 2,
   "id": "c6af10ee",
   "metadata": {},
   "outputs": [],
   "source": [
    "# initialize the retriever (option: set the language and top_k value)\n",
    "retriever = WikipediaRetriever(\n",
    "    top_k_results=2,\n",
    "    lang='en'\n",
    ")"
   ]
  },
  {
   "cell_type": "code",
   "execution_count": 3,
   "id": "a360564a",
   "metadata": {},
   "outputs": [
    {
     "data": {
      "text/plain": [
       "2"
      ]
     },
     "execution_count": 3,
     "metadata": {},
     "output_type": "execute_result"
    }
   ],
   "source": [
    "## the query\n",
    "query = \"The geopolitical history of Bangladesh and Pakistan from the perspective of 1971\"\n",
    "\n",
    "docs = retriever.invoke(query)\n",
    "len(docs)"
   ]
  },
  {
   "cell_type": "code",
   "execution_count": null,
   "id": "da3a91ea",
   "metadata": {},
   "outputs": [
    {
     "data": {
      "text/plain": [
       "Document(metadata={'title': 'History of Bangladesh', 'summary': \"The history of Bangladesh dates back over four millennia to the Chalcolithic period. The region's early history was characterized by a succession of Hindu and Buddhist kingdoms and empires that fought for control over the Bengal region. Islam arrived in the 8th century and gradually became dominant from the early 13th century with the conquests led by Bakhtiyar Khalji and the activities of Sunni missionaries like Shah Jalal. Muslim rulers promoted the spread of Islam by building mosques across the region. From the 14th century onward, Bengal was ruled by the Bengal Sultanate, founded by Fakhruddin Mubarak Shah, who established an individual currency. The Bengal Sultanate expanded under rulers like Shamsuddin Ilyas Shah, leading to economic prosperity and military dominance, with Bengal being referred to by Europeans as the richest country to trade with. The region later became a part of the Mughal Empire, and according to historian C. A. Bayly, it was probably the empire's wealthiest province.\\nFollowing the decline of the Mughal Empire in the early 1700s, Bengal became a semi-independent state under the Nawabs of Bengal, ultimately led by Siraj ud-Daulah. It was later conquered by the British East India Company after the Battle of Plassey in 1757. Bengal played a crucial role in the Industrial Revolution in Britain, but also faced significant deindustrialization. The Bengal Presidency was established during British rule.\\nThe borders of modern Bangladesh were established with the partition of Bengal between India and Pakistan during the Partition of India in August 1947, when the region became East Pakistan as part of the newly formed State of Pakistan following the end of the British rule in the region. The Proclamation of Bangladeshi Independence in March 1971 led to the nine-month-long Bangladesh Liberation War, which culminated in the emergence of the People's Republic of Bangladesh. Independence was declared in 1971.\\nSince gaining independence, Bangladesh has faced political instability, economic reconstruction, and social transformation. The country experienced military coups and authoritarian rule, notably under General Ziaur Rahman and General Hussain Muhammad Ershad. The restoration of parliamentary democracy in the 1990s saw power alternate between the Awami League, and the Bangladesh Nationalist Party. In recent decades, Bangladesh has achieved significant economic growth, emerging as one of the world's fastest-growing economies, driven by its garment industry, remittances, and infrastructure development. However, it continues to grapple with political instability, human rights issues, and the impact of climate change. The return of the Awami League to power in 2009 under Sheikh Hasina's leadership saw economic progress but criticisms of authoritarianism. Bangladesh has played a critical role in addressing regional issues, including the Rohingya refugee crisis, which has strained its resources and highlighted its humanitarian commitments.\", 'source': 'https://en.wikipedia.org/wiki/History_of_Bangladesh'}, page_content=\"The history of Bangladesh dates back over four millennia to the Chalcolithic period. The region's early history was characterized by a succession of Hindu and Buddhist kingdoms and empires that fought for control over the Bengal region. Islam arrived in the 8th century and gradually became dominant from the early 13th century with the conquests led by Bakhtiyar Khalji and the activities of Sunni missionaries like Shah Jalal. Muslim rulers promoted the spread of Islam by building mosques across the region. From the 14th century onward, Bengal was ruled by the Bengal Sultanate, founded by Fakhruddin Mubarak Shah, who established an individual currency. The Bengal Sultanate expanded under rulers like Shamsuddin Ilyas Shah, leading to economic prosperity and military dominance, with Bengal being referred to by Europeans as the richest country to trade with. The region later became a part of the Mughal Empire, and according to historian C. A. Bayly, it was probably the empire's wealthiest province.\\nFollowing the decline of the Mughal Empire in the early 1700s, Bengal became a semi-independent state under the Nawabs of Bengal, ultimately led by Siraj ud-Daulah. It was later conquered by the British East India Company after the Battle of Plassey in 1757. Bengal played a crucial role in the Industrial Revolution in Britain, but also faced significant deindustrialization. The Bengal Presidency was established during British rule.\\nThe borders of modern Bangladesh were established with the partition of Bengal between India and Pakistan during the Partition of India in August 1947, when the region became East Pakistan as part of the newly formed State of Pakistan following the end of the British rule in the region. The Proclamation of Bangladeshi Independence in March 1971 led to the nine-month-long Bangladesh Liberation War, which culminated in the emergence of the People's Republic of Bangladesh. Independence was declared in 1971.\\nSince gaining independence, Bangladesh has faced political instability, economic reconstruction, and social transformation. The country experienced military coups and authoritarian rule, notably under General Ziaur Rahman and General Hussain Muhammad Ershad. The restoration of parliamentary democracy in the 1990s saw power alternate between the Awami League, and the Bangladesh Nationalist Party. In recent decades, Bangladesh has achieved significant economic growth, emerging as one of the world's fastest-growing economies, driven by its garment industry, remittances, and infrastructure development. However, it continues to grapple with political instability, human rights issues, and the impact of climate change. The return of the Awami League to power in 2009 under Sheikh Hasina's leadership saw economic progress but criticisms of authoritarianism. Bangladesh has played a critical role in addressing regional issues, including the Rohingya refugee crisis, which has strained its resources and highlighted its humanitarian commitments.\\n\\n\\n== Ancient period ==\\n\\n\\n=== Prehistoric Bengal ===\\n\\nIt is believed that there were movements of Indo-Aryans, Dravidians and Mongoloids, including a people called Vanga, into Bengal.  There is weak evidence for a prehistoric human presence in the region. There is scant evidence of a human presence during the Neolithic and Chalcolithic eras. This could be because of the shifts in the rivers' courses. The Bengali climate and geography is not suitable for tangible archaeological remains. Due to lack of stones the early humans in Bengal probably used materials such as wood and bamboo that could not survive in the environment. South Asian archaeologists have tended to focus on other parts of the subcontinent. Archaeologists interested in Bengal have focused on more recent history.\\nWest Bengal holds the earliest evidence of settled agrarian societies.\\nAgricultural success gave ground in the fifth century BCE for a stationary culture and the emergence of towns, cross-sea trade and the earl\")"
      ]
     },
     "execution_count": 4,
     "metadata": {},
     "output_type": "execute_result"
    }
   ],
   "source": [
    "docs[0]"
   ]
  },
  {
   "cell_type": "code",
   "execution_count": 5,
   "id": "087ef204",
   "metadata": {},
   "outputs": [
    {
     "name": "stdout",
     "output_type": "stream",
     "text": [
      "\n",
      "--- Result 1 ----\n",
      "Content: \n",
      "The history of Bangladesh dates back over four millennia to the Chalcolithic period. The region's early history was characterized by a succession of Hindu and Buddhist kingdoms and empires that fought for control over the Bengal region. Islam arrived in the 8th century and gradually became dominant from the early 13th century with the conquests led by Bakhtiyar Khalji and the activities of Sunni missionaries like Shah Jalal. Muslim rulers promoted the spread of Islam by building mosques across the region. From the 14th century onward, Bengal was ruled by the Bengal Sultanate, founded by Fakhruddin Mubarak Shah, who established an individual currency. The Bengal Sultanate expanded under rulers like Shamsuddin Ilyas Shah, leading to economic prosperity and military dominance, with Bengal being referred to by Europeans as the richest country to trade with. The region later became a part of the Mughal Empire, and according to historian C. A. Bayly, it was probably the empire's wealthiest province.\n",
      "Following the decline of the Mughal Empire in the early 1700s, Bengal became a semi-independent state under the Nawabs of Bengal, ultimately led by Siraj ud-Daulah. It was later conquered by the British East India Company after the Battle of Plassey in 1757. Bengal played a crucial role in the Industrial Revolution in Britain, but also faced significant deindustrialization. The Bengal Presidency was established during British rule.\n",
      "The borders of modern Bangladesh were established with the partition of Bengal between India and Pakistan during the Partition of India in August 1947, when the region became East Pakistan as part of the newly formed State of Pakistan following the end of the British rule in the region. The Proclamation of Bangladeshi Independence in March 1971 led to the nine-month-long Bangladesh Liberation War, which culminated in the emergence of the People's Republic of Bangladesh. Independence was declared in 1971.\n",
      "Since gaining independence, Bangladesh has faced political instability, economic reconstruction, and social transformation. The country experienced military coups and authoritarian rule, notably under General Ziaur Rahman and General Hussain Muhammad Ershad. The restoration of parliamentary democracy in the 1990s saw power alternate between the Awami League, and the Bangladesh Nationalist Party. In recent decades, Bangladesh has achieved significant economic growth, emerging as one of the world's fastest-growing economies, driven by its garment industry, remittances, and infrastructure development. However, it continues to grapple with political instability, human rights issues, and the impact of climate change. The return of the Awami League to power in 2009 under Sheikh Hasina's leadership saw economic progress but criticisms of authoritarianism. Bangladesh has played a critical role in addressing regional issues, including the Rohingya refugee crisis, which has strained its resources and highlighted its humanitarian commitments.\n",
      "\n",
      "\n",
      "== Ancient period ==\n",
      "\n",
      "\n",
      "=== Prehistoric Bengal ===\n",
      "\n",
      "It is believed that there were movements of Indo-Aryans, Dravidians and Mongoloids, including a people called Vanga, into Bengal.  There is weak evidence for a prehistoric human presence in the region. There is scant evidence of a human presence during the Neolithic and Chalcolithic eras. This could be because of the shifts in the rivers' courses. The Bengali climate and geography is not suitable for tangible archaeological remains. Due to lack of stones the early humans in Bengal probably used materials such as wood and bamboo that could not survive in the environment. South Asian archaeologists have tended to focus on other parts of the subcontinent. Archaeologists interested in Bengal have focused on more recent history.\n",
      "West Bengal holds the earliest evidence of settled agrarian societies.\n",
      "Agricultural success gave ground in the fifth century BCE for a stationary culture and the emergence of towns, cross-sea trade and the earl....\n",
      "\n",
      "--- Result 2 ----\n",
      "Content: \n",
      "The Indo-Pakistani war of 1971, also known as the third India-Pakistan war, was a military confrontation between India and Pakistan that occurred during the Bangladesh Liberation War in East Pakistan from 3 December 1971 until the Pakistani capitulation in Dhaka on 16 December 1971.  The war began with Pakistan's Operation Chengiz Khan, consisting of preemptive aerial strikes on eight Indian air stations. The strikes led to India declaring war on Pakistan, marking their entry into the war for East Pakistan's independence, on the side of Bengali nationalist forces. India's entry expanded the existing conflict with Indian and Pakistani forces engaging on both the eastern and western fronts. Thirteen days after the war started, India achieved a clear upper hand, and the Eastern Command of the Pakistan military signed the instrument of surrender on 16 December 1971 in Dhaka, marking the formation of East Pakistan as the new nation of Bangladesh. Approximately 93,000 Pakistani servicemen were taken prisoner by the Indian Army, which included 79,676 to 81,000 uniformed personnel of the Pakistan Armed Forces, including some Bengali soldiers who had remained loyal to Pakistan. The remaining 10,324 to 12,500 prisoners were civilians, either family members of the military personnel or collaborators (Razakars).\n",
      "It is estimated that members of the Pakistani military and supporting pro-Pakistani Islamist militias killed between 300,000 and 3,000,000 civilians in Bangladesh. As a result of the conflict, a further eight to ten million people fled the country to seek refuge in India.\n",
      "During the 1971 Bangladesh war for independence, members of the Pakistani military and supporting pro-Pakistani Islamist militias called the Razakars raped between 200,000 and 400,000 Bangladeshi women and girls in a systematic campaign of genocidal rape.\n",
      "\n",
      "\n",
      "== Background ==\n",
      "\n",
      "The Indo-Pakistani conflict was sparked by the Bangladesh Liberation War, which was a result of the violation of the rights of East Pakistan by the Pakistan Army. The political tensions in East Pakistan had its origin in the creation of Pakistan as a result of the partition of India by the United Kingdom in 1947; the popular language movement in 1950; mass riots in East Bengal in 1964; and the mass protests in 1969. These led to the resignation of President Ayub Khan, who invited army chief General Yahya Khan to take over the central government.: xxx  The geographical distance between the eastern and western wings of Pakistan was vast; East Pakistan lay over 1,600 kilometres (1,000 mi) away, which greatly hampered any attempt to integrate the Bengali and the Pakistani cultures.: 13–14 \n",
      "To overcome the Bengali domination and prevent formation of the central government in Islamabad, the controversial One Unit programme established the two wings of East and West Pakistan. West Pakistanis' opposition to these efforts made it difficult to effectively govern both wings.: xxx  In 1969, President Yahya Khan announced the first general elections and disestablished the status of West Pakistan as a single province in 1970, in order to restore it to its original heterogeneous status comprising four provinces, as defined at the time of establishment of Pakistan in 1947. In addition, there were religious and racial tensions between Bengalis and the multi-ethnic West Pakistanis, as Bengalis looked different from the dominant West Pakistanis.\n",
      "The East Pakistan's Awami League leader Sheikh Mujibur Rahman stressed his political position by presenting his Six Points and endorsing the Bengalis' right to govern.: xxx  The 1970 Pakistani general election, resulted in Awami League gaining 167 out of 169 seats for the East Pakistan Legislative Assembly, and a near-absolute majority in the 313-seat National Assembly, while the vote in West Pakistan was mostly won by the socialist Pakistan Peoples Party.: 686–687  The League's election success caused many West Pakistanis to fear that it would allow the Bengalis to dra....\n"
     ]
    }
   ],
   "source": [
    "for i, doc in enumerate(docs):\n",
    "    print(f\"\\n--- Result {i+1} ----\")\n",
    "    print(f\"Content: \\n{doc.page_content}....\")"
   ]
  },
  {
   "cell_type": "code",
   "execution_count": null,
   "id": "e7717e9e",
   "metadata": {},
   "outputs": [],
   "source": []
  }
 ],
 "metadata": {
  "kernelspec": {
   "display_name": "torchGPU",
   "language": "python",
   "name": "python3"
  },
  "language_info": {
   "codemirror_mode": {
    "name": "ipython",
    "version": 3
   },
   "file_extension": ".py",
   "mimetype": "text/x-python",
   "name": "python",
   "nbconvert_exporter": "python",
   "pygments_lexer": "ipython3",
   "version": "3.12.4"
  }
 },
 "nbformat": 4,
 "nbformat_minor": 5
}
