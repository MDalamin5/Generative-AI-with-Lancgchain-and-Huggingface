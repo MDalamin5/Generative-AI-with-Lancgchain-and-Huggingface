{
 "cells": [
  {
   "cell_type": "code",
   "execution_count": 1,
   "metadata": {},
   "outputs": [],
   "source": [
    "import os\n",
    "from dotenv import load_dotenv\n",
    "load_dotenv()\n",
    "from langchain_groq import ChatGroq\n",
    "import streamlit as st\n",
    "\n",
    "\n",
    "groq_api_key=os.getenv(\"GROQ_API_KEY\")\n",
    "\n",
    "model=ChatGroq(groq_api_key=groq_api_key,model_name=\"qwen-2.5-32b\")"
   ]
  },
  {
   "cell_type": "markdown",
   "metadata": {},
   "source": [
    "### ***Three step Chin***"
   ]
  },
  {
   "cell_type": "code",
   "execution_count": 2,
   "metadata": {},
   "outputs": [],
   "source": [
    "from langchain_core.prompts import PromptTemplate\n",
    "from langchain_core.output_parsers import StrOutputParser"
   ]
  },
  {
   "cell_type": "code",
   "execution_count": 4,
   "metadata": {},
   "outputs": [],
   "source": [
    "prompt = PromptTemplate(\n",
    "    template=\"Generate 5 Interesting facts about {topic}\",\n",
    "    input_variables=['topic']\n",
    ")\n",
    "parser = StrOutputParser()"
   ]
  },
  {
   "cell_type": "code",
   "execution_count": 5,
   "metadata": {},
   "outputs": [],
   "source": [
    "chain = prompt | model | parser"
   ]
  },
  {
   "cell_type": "code",
   "execution_count": 7,
   "metadata": {},
   "outputs": [
    {
     "name": "stdout",
     "output_type": "stream",
     "text": [
      "Certainly! Here are five interesting facts about Machine Learning:\n",
      "\n",
      "1. **Self-Driving Cars**: Machine learning is one of the key technologies behind self-driving cars. These vehicles use machine learning algorithms to analyze sensor data in real-time, make decisions, and navigate through complex environments safely.\n",
      "\n",
      "2. **Personalized Medicine**: In the field of healthcare, machine learning is being used to develop personalized treatment plans for patients. By analyzing large datasets of patient information, machine learning algorithms can predict which treatments are most likely to be effective for individual patients based on their medical history and genetic information.\n",
      "\n",
      "3. **Evolutionary Algorithms**: Machine Learning isn't just about teaching computers to recognize patterns; it also includes methods like evolutionary algorithms, where computer programs that mimic natural evolution (like mutation and selection) are used to solve complex problems. This approach can lead to the development of new solutions that humans might not have thought of.\n",
      "\n",
      "4. **Unsupervised Learning**: Unlike supervised learning, where algorithms are trained on labeled data, unsupervised learning algorithms discover hidden patterns and structures in data without any pre-existing labels. A popular application of this is in anomaly detection, which is crucial for cybersecurity and fraud detection.\n",
      "\n",
      "5. **Reinforcement Learning**: This branch of machine learning is all about learning by trial and error. It's used in training computers to play games like Chess and Go, where the algorithm learns to make decisions based on rewards or penalties for certain actions. One famous example is DeepMind’s AlphaGo, which defeated the world champion in the game of Go.\n",
      "\n",
      "Each of these facts highlights the versatility and power of machine learning across various fields and applications.\n"
     ]
    }
   ],
   "source": [
    "response = chain.invoke(\n",
    "    {\n",
    "        'topic': \"Machine Learning\"\n",
    "    }\n",
    ")\n",
    "print(response)"
   ]
  },
  {
   "cell_type": "markdown",
   "metadata": {},
   "source": [
    "## *Visualization the chain*"
   ]
  },
  {
   "cell_type": "code",
   "execution_count": 9,
   "metadata": {},
   "outputs": [
    {
     "name": "stdout",
     "output_type": "stream",
     "text": [
      "     +-------------+       \n",
      "     | PromptInput |       \n",
      "     +-------------+       \n",
      "            *              \n",
      "            *              \n",
      "            *              \n",
      "    +----------------+     \n",
      "    | PromptTemplate |     \n",
      "    +----------------+     \n",
      "            *              \n",
      "            *              \n",
      "            *              \n",
      "      +----------+         \n",
      "      | ChatGroq |         \n",
      "      +----------+         \n",
      "            *              \n",
      "            *              \n",
      "            *              \n",
      "   +-----------------+     \n",
      "   | StrOutputParser |     \n",
      "   +-----------------+     \n",
      "            *              \n",
      "            *              \n",
      "            *              \n",
      "+-----------------------+  \n",
      "| StrOutputParserOutput |  \n",
      "+-----------------------+  \n"
     ]
    }
   ],
   "source": [
    "chain.get_graph().print_ascii()"
   ]
  },
  {
   "cell_type": "code",
   "execution_count": null,
   "metadata": {},
   "outputs": [],
   "source": []
  }
 ],
 "metadata": {
  "kernelspec": {
   "display_name": "torchGPU",
   "language": "python",
   "name": "python3"
  },
  "language_info": {
   "codemirror_mode": {
    "name": "ipython",
    "version": 3
   },
   "file_extension": ".py",
   "mimetype": "text/x-python",
   "name": "python",
   "nbconvert_exporter": "python",
   "pygments_lexer": "ipython3",
   "version": "3.12.4"
  }
 },
 "nbformat": 4,
 "nbformat_minor": 2
}
