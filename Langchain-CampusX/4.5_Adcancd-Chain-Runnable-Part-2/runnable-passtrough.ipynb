{
 "cells": [
  {
   "cell_type": "markdown",
   "metadata": {},
   "source": [
    "### ***`Its a spacial runnable primitive that simply` returns the input as the output without modifying it***\n",
    "* its also help to get intermediate chain output"
   ]
  },
  {
   "cell_type": "code",
   "execution_count": 3,
   "metadata": {},
   "outputs": [],
   "source": [
    "from langchain_core.prompts import PromptTemplate\n",
    "from langchain_core.output_parsers import StrOutputParser\n",
    "import os\n",
    "from dotenv import load_dotenv\n",
    "load_dotenv()\n",
    "from langchain_groq import ChatGroq\n",
    "from langchain_anthropic import ChatAnthropic\n",
    "\n",
    "\n",
    "groq_api_key=os.getenv(\"GROQ_API_KEY\")\n",
    "\n",
    "model= ChatGroq(groq_api_key=groq_api_key,model_name=\"qwen-2.5-32b\")"
   ]
  },
  {
   "cell_type": "markdown",
   "metadata": {},
   "source": [
    "### Explore RunnablePassTrough"
   ]
  },
  {
   "cell_type": "code",
   "execution_count": 2,
   "metadata": {},
   "outputs": [],
   "source": [
    "from langchain.schema.runnable import RunnablePassthrough, RunnableSequence, RunnableParallel"
   ]
  },
  {
   "cell_type": "code",
   "execution_count": 4,
   "metadata": {},
   "outputs": [],
   "source": [
    "passthrough = RunnablePassthrough()"
   ]
  },
  {
   "cell_type": "code",
   "execution_count": 5,
   "metadata": {},
   "outputs": [
    {
     "data": {
      "text/plain": [
       "2"
      ]
     },
     "execution_count": 5,
     "metadata": {},
     "output_type": "execute_result"
    }
   ],
   "source": [
    "passthrough.invoke(2)"
   ]
  },
  {
   "cell_type": "code",
   "execution_count": 6,
   "metadata": {},
   "outputs": [
    {
     "data": {
      "text/plain": [
       "{'name': 'Al Amin', 'age': 25}"
      ]
     },
     "execution_count": 6,
     "metadata": {},
     "output_type": "execute_result"
    }
   ],
   "source": [
    "passthrough.invoke(\n",
    "    {\n",
    "        'name': 'Al Amin',\n",
    "        'age': 25\n",
    "    }\n",
    ")"
   ]
  },
  {
   "cell_type": "markdown",
   "metadata": {},
   "source": [
    "## ***Main Code***"
   ]
  },
  {
   "cell_type": "code",
   "execution_count": 9,
   "metadata": {},
   "outputs": [],
   "source": [
    "prompt = PromptTemplate(\n",
    "    template=\"Write a joke about this {topic}\",\n",
    "    input_variables=['topic']\n",
    ")\n",
    "\n",
    "prompt2 = PromptTemplate(\n",
    "    template=\"Explain the following joke {text}\",\n",
    "    input_variables=['text']\n",
    ")"
   ]
  },
  {
   "cell_type": "code",
   "execution_count": 8,
   "metadata": {},
   "outputs": [],
   "source": [
    "parser = StrOutputParser()"
   ]
  },
  {
   "cell_type": "code",
   "execution_count": 10,
   "metadata": {},
   "outputs": [],
   "source": [
    "joke_gen_chain = RunnableSequence(prompt, model, parser)"
   ]
  },
  {
   "cell_type": "code",
   "execution_count": 11,
   "metadata": {},
   "outputs": [],
   "source": [
    "parallel_chain = RunnableParallel(\n",
    "    {\n",
    "        'joke': RunnablePassthrough(),\n",
    "        'explanation': RunnableSequence(prompt2, model, parser)\n",
    "    }\n",
    ")"
   ]
  },
  {
   "cell_type": "code",
   "execution_count": 12,
   "metadata": {},
   "outputs": [],
   "source": [
    "final_chain = RunnableSequence(joke_gen_chain,parallel_chain)"
   ]
  },
  {
   "cell_type": "code",
   "execution_count": 13,
   "metadata": {},
   "outputs": [
    {
     "name": "stdout",
     "output_type": "stream",
     "text": [
      "                 +-------------+                 \n",
      "                 | PromptInput |                 \n",
      "                 +-------------+                 \n",
      "                        *                        \n",
      "                        *                        \n",
      "                        *                        \n",
      "                +----------------+               \n",
      "                | PromptTemplate |               \n",
      "                +----------------+               \n",
      "                        *                        \n",
      "                        *                        \n",
      "                        *                        \n",
      "                  +----------+                   \n",
      "                  | ChatGroq |                   \n",
      "                  +----------+                   \n",
      "                        *                        \n",
      "                        *                        \n",
      "                        *                        \n",
      "               +-----------------+               \n",
      "               | StrOutputParser |               \n",
      "               +-----------------+               \n",
      "                        *                        \n",
      "                        *                        \n",
      "                        *                        \n",
      "       +---------------------------------+       \n",
      "       | Parallel<joke,explanation>Input |       \n",
      "       +---------------------------------+       \n",
      "                ***            ***               \n",
      "              **                  ***            \n",
      "            **                       **          \n",
      "+----------------+                     **        \n",
      "| PromptTemplate |                      *        \n",
      "+----------------+                      *        \n",
      "          *                             *        \n",
      "          *                             *        \n",
      "          *                             *        \n",
      "    +----------+                        *        \n",
      "    | ChatGroq |                        *        \n",
      "    +----------+                        *        \n",
      "          *                             *        \n",
      "          *                             *        \n",
      "          *                             *        \n",
      "+-----------------+             +-------------+  \n",
      "| StrOutputParser |             | Passthrough |  \n",
      "+-----------------+             +-------------+  \n",
      "                ***            ***               \n",
      "                   **        **                  \n",
      "                     **    **                    \n",
      "      +----------------------------------+       \n",
      "      | Parallel<joke,explanation>Output |       \n",
      "      +----------------------------------+       \n"
     ]
    }
   ],
   "source": [
    "final_chain.get_graph().print_ascii()"
   ]
  },
  {
   "cell_type": "code",
   "execution_count": 14,
   "metadata": {},
   "outputs": [],
   "source": [
    "response = final_chain.invoke(\n",
    "    {\n",
    "        'topic': 'Computer'\n",
    "    }\n",
    ")"
   ]
  },
  {
   "cell_type": "code",
   "execution_count": 15,
   "metadata": {},
   "outputs": [
    {
     "data": {
      "text/plain": [
       "\"Why don't computers ever get lost?\\n\\nBecause they always know their bytes from their elbows!\""
      ]
     },
     "execution_count": 15,
     "metadata": {},
     "output_type": "execute_result"
    }
   ],
   "source": [
    "response['joke']"
   ]
  },
  {
   "cell_type": "code",
   "execution_count": 16,
   "metadata": {},
   "outputs": [
    {
     "data": {
      "text/plain": [
       "'This joke plays on the similarity in sound between \"bytes\" and \"elbows\" and the inherent nature of computers. In computing, a \"byte\" is a unit of digital information, typically made up of 8 bits. It\\'s a fundamental term in the language of computers. On the other hand, \"elbows\" are body parts and have nothing to do with computing or navigation.\\n\\nThe joke suggests that computers wouldn\\'t get lost because they can distinguish between their data (bytes) and their physical body parts (elbows), which is a humorous and nonsensical concept since computers don\\'t have physical parts like elbows. This contrast creates the humor because it mixes the digital world with the physical in an unexpected way.'"
      ]
     },
     "execution_count": 16,
     "metadata": {},
     "output_type": "execute_result"
    }
   ],
   "source": [
    "response['explanation']"
   ]
  },
  {
   "cell_type": "code",
   "execution_count": null,
   "metadata": {},
   "outputs": [],
   "source": []
  }
 ],
 "metadata": {
  "kernelspec": {
   "display_name": "torchGPU",
   "language": "python",
   "name": "python3"
  },
  "language_info": {
   "codemirror_mode": {
    "name": "ipython",
    "version": 3
   },
   "file_extension": ".py",
   "mimetype": "text/x-python",
   "name": "python",
   "nbconvert_exporter": "python",
   "pygments_lexer": "ipython3",
   "version": "3.12.4"
  }
 },
 "nbformat": 4,
 "nbformat_minor": 2
}
