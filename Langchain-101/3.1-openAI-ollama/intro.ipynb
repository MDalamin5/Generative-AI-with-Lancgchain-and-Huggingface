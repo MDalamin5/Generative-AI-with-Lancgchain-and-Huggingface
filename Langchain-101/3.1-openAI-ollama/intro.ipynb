{
 "cells": [
  {
   "cell_type": "markdown",
   "metadata": {},
   "source": [
    "IN This quick start:\n",
    "\n",
    "\n",
    "* Get setup with LangChain, LangSmith and LangServe\n",
    "* Use the most basic and common components of LangChain: prompt templates, models, and output parsers.\n",
    "* build a simple application with LangChain\n",
    "* Trace My application with LangSmith\n",
    "* Serve my application with LangServe"
   ]
  },
  {
   "cell_type": "code",
   "execution_count": null,
   "metadata": {},
   "outputs": [],
   "source": []
  }
 ],
 "metadata": {
  "kernelspec": {
   "display_name": "genAI",
   "language": "python",
   "name": "python3"
  },
  "language_info": {
   "name": "python",
   "version": "3.10.14"
  }
 },
 "nbformat": 4,
 "nbformat_minor": 2
}
