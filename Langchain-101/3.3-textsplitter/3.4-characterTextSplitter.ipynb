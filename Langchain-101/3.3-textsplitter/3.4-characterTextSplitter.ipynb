{
 "cells": [
  {
   "cell_type": "markdown",
   "metadata": {},
   "source": [
    "* How the text is split: by single character separator\n",
    "* How the chunk size is measured by number of characters"
   ]
  },
  {
   "cell_type": "code",
   "execution_count": 1,
   "metadata": {},
   "outputs": [
    {
     "data": {
      "text/plain": [
       "[Document(metadata={'source': 'speech.txt'}, page_content='Overview: In this project, the student model learns from multiple teacher models, each specializing in different aspects of the task. For example, one teacher could specialize in object detection, another in object classification, and a third in feature extraction.\\nNovelty: The key is designing a custom loss function that weights the contributions of each teacher differently based on the task at hand. This adaptive weighting would allow the student model to benefit from diverse perspectives.\\nExample: For an object detection task, you could have:\\nTeacher 1 (YOLOv5): Focuses on fast bounding box detection.\\nTeacher 2 (EfficientNet): Focuses on object classification accuracy.\\nTeacher 3 (ResNet-50): Helps the student extract robust features from the image.\\n')]"
      ]
     },
     "execution_count": 1,
     "metadata": {},
     "output_type": "execute_result"
    }
   ],
   "source": [
    "from langchain_community.document_loaders import TextLoader\n",
    "\n",
    "loader = TextLoader('speech.txt')\n",
    "docs = loader.load()\n",
    "docs"
   ]
  },
  {
   "cell_type": "code",
   "execution_count": 3,
   "metadata": {},
   "outputs": [
    {
     "name": "stderr",
     "output_type": "stream",
     "text": [
      "Created a chunk of size 265, which is longer than the specified 20\n",
      "Created a chunk of size 230, which is longer than the specified 20\n",
      "Created a chunk of size 54, which is longer than the specified 20\n",
      "Created a chunk of size 59, which is longer than the specified 20\n",
      "Created a chunk of size 68, which is longer than the specified 20\n"
     ]
    },
    {
     "data": {
      "text/plain": [
       "[Document(metadata={'source': 'speech.txt'}, page_content='Overview: In this project, the student model learns from multiple teacher models, each specializing in different aspects of the task. For example, one teacher could specialize in object detection, another in object classification, and a third in feature extraction.'),\n",
       " Document(metadata={'source': 'speech.txt'}, page_content='Novelty: The key is designing a custom loss function that weights the contributions of each teacher differently based on the task at hand. This adaptive weighting would allow the student model to benefit from diverse perspectives.'),\n",
       " Document(metadata={'source': 'speech.txt'}, page_content='Example: For an object detection task, you could have:'),\n",
       " Document(metadata={'source': 'speech.txt'}, page_content='Teacher 1 (YOLOv5): Focuses on fast bounding box detection.'),\n",
       " Document(metadata={'source': 'speech.txt'}, page_content='Teacher 2 (EfficientNet): Focuses on object classification accuracy.'),\n",
       " Document(metadata={'source': 'speech.txt'}, page_content='Teacher 3 (ResNet-50): Helps the student extract robust features from the image.')]"
      ]
     },
     "execution_count": 3,
     "metadata": {},
     "output_type": "execute_result"
    }
   ],
   "source": [
    "from langchain_text_splitters import CharacterTextSplitter\n",
    "text_splitter = CharacterTextSplitter(separator=\"\\n\", chunk_size=20, chunk_overlap=10)\n",
    "text_splitter.split_documents(docs)\n"
   ]
  },
  {
   "cell_type": "code",
   "execution_count": 6,
   "metadata": {},
   "outputs": [
    {
     "name": "stdout",
     "output_type": "stream",
     "text": [
      "page_content='Overview: In this project, the student model learns from multiple teacher models, each specializing in different aspects of the task. For example, one teacher could specialize in object detection, another in object classification, and a third in feature extraction.\n",
      "Novelty: The key is designing a custom loss function that weights the contributions of each teacher differently based on the task at hand. This adaptive weighting would allow the student model to benefit from diverse perspectives.\n",
      "Example: For an object detection task, you could have:\n",
      "Teacher 1 (YOLOv5): Focuses on fast bounding box detection.\n",
      "Teacher 2 (EfficientNet): Focuses on object classification accuracy.\n",
      "Teacher 3 (ResNet-50): Helps the student extract robust features from the image.'\n"
     ]
    }
   ],
   "source": [
    "speech=\"\"\n",
    "with open('speech.txt') as f:\n",
    "    speech=f.read()\n",
    "    \n",
    "text_splitter=CharacterTextSplitter(chunk_size=100, chunk_overlap=20)\n",
    "text = text_splitter.create_documents([speech])\n",
    "print(text[0])\n",
    "# print(text[1])"
   ]
  },
  {
   "cell_type": "code",
   "execution_count": null,
   "metadata": {},
   "outputs": [],
   "source": []
  }
 ],
 "metadata": {
  "kernelspec": {
   "display_name": "genAI",
   "language": "python",
   "name": "python3"
  },
  "language_info": {
   "codemirror_mode": {
    "name": "ipython",
    "version": 3
   },
   "file_extension": ".py",
   "mimetype": "text/x-python",
   "name": "python",
   "nbconvert_exporter": "python",
   "pygments_lexer": "ipython3",
   "version": "3.10.14"
  }
 },
 "nbformat": 4,
 "nbformat_minor": 2
}
