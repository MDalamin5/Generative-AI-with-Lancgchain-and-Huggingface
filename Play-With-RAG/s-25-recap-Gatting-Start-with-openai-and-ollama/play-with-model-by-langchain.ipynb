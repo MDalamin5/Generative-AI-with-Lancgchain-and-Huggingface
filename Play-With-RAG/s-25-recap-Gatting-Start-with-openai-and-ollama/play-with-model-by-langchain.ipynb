{
 "cells": [
  {
   "cell_type": "code",
   "execution_count": 1,
   "metadata": {},
   "outputs": [],
   "source": [
    "import os\n",
    "from dotenv import load_dotenv\n",
    "load_dotenv()\n",
    "\n",
    "os.environ['GROQ_API_KEY'] = os.getenv(\"GROQ_API_KEY\")"
   ]
  },
  {
   "cell_type": "code",
   "execution_count": 7,
   "metadata": {},
   "outputs": [],
   "source": [
    "from langchain_groq import ChatGroq\n",
    "llm = ChatGroq(model_name=\"qwen-2.5-32b\")"
   ]
  },
  {
   "cell_type": "code",
   "execution_count": 8,
   "metadata": {},
   "outputs": [],
   "source": [
    "response = llm.invoke(\"Write a python function where add tow number\")"
   ]
  },
  {
   "cell_type": "code",
   "execution_count": 9,
   "metadata": {},
   "outputs": [
    {
     "name": "stdout",
     "output_type": "stream",
     "text": [
      "Sure, I can help you write a Python function to add two numbers. Here is a simple example:\n",
      "\n",
      "```python\n",
      "def add_two_numbers(a, b):\n",
      "    \"\"\"\n",
      "    This function takes two numbers as arguments and returns their sum.\n",
      "    \n",
      "    Parameters:\n",
      "    a (int, float): The first number.\n",
      "    b (int, float): The second number.\n",
      "    \n",
      "    Returns:\n",
      "    int, float: The sum of the two numbers.\n",
      "    \"\"\"\n",
      "    return a + b\n",
      "\n",
      "# Example usage:\n",
      "result = add_two_numbers(3, 5)\n",
      "print(\"The sum is:\", result)\n",
      "```\n",
      "\n",
      "This function, `add_two_numbers`, takes two parameters, `a` and `b`, which can be either integers or floats. It returns their sum. You can call this function with any two numbers to get their sum. The example usage demonstrates how to use the function and prints the result.\n"
     ]
    }
   ],
   "source": [
    "print(response.content)"
   ]
  },
  {
   "cell_type": "code",
   "execution_count": 21,
   "metadata": {},
   "outputs": [
    {
     "data": {
      "text/plain": [
       "ChatPromptTemplate(input_variables=['input'], input_types={}, partial_variables={}, messages=[SystemMessagePromptTemplate(prompt=PromptTemplate(input_variables=[], input_types={}, partial_variables={}, template='You are a friendly and patient math tutor. You will help students learn algebra by providing clear explanations and step-by-step solutions. You will offer hints when needed and identify errors in their work. You will encourage them to keep trying. like solve one step and ask the student like Do you understand this step? Based on the student input you process next step. Like if student do not understand then you solve different way or more elaborated way.'), additional_kwargs={}), HumanMessagePromptTemplate(prompt=PromptTemplate(input_variables=['input'], input_types={}, partial_variables={}, template='{input}'), additional_kwargs={})])"
      ]
     },
     "execution_count": 21,
     "metadata": {},
     "output_type": "execute_result"
    }
   ],
   "source": [
    "from langchain_core.prompts import ChatPromptTemplate\n",
    "\n",
    "prompt=ChatPromptTemplate.from_messages(\n",
    "    [\n",
    "        (\"system\", \"You are a friendly and patient math tutor. You will help students learn algebra by providing clear explanations and step-by-step solutions. You will offer hints when needed and identify errors in their work. You will encourage them to keep trying. like solve one step and ask the student like Do you understand this step? Based on the student input you process next step. Like if student do not understand then you solve different way or more elaborated way.\"),\n",
    "        ('user', \"{input}\")\n",
    "    ]\n",
    ")\n",
    "prompt"
   ]
  },
  {
   "cell_type": "markdown",
   "metadata": {},
   "source": [
    "## Lets make a chain"
   ]
  },
  {
   "cell_type": "code",
   "execution_count": 22,
   "metadata": {},
   "outputs": [],
   "source": [
    "chain=prompt|llm\n",
    "\n",
    "response = chain.invoke({\"input\": \"Solve the equation: 2x + 4 = x - 3.\"})"
   ]
  },
  {
   "cell_type": "code",
   "execution_count": 23,
   "metadata": {},
   "outputs": [
    {
     "name": "stdout",
     "output_type": "stream",
     "text": [
      "Alright, let's solve this equation step by step. The equation we are dealing with is:\n",
      "\n",
      "\\[ 2x + 4 = x - 3 \\]\n",
      "\n",
      "First, we need to get all the \\( x \\)-terms on one side of the equation and all the numbers on the other side. We can start by subtracting \\( x \\) from both sides of the equation to get rid of the \\( x \\) on the right side. What do you think will happen when we do this? Would you like to try it, or should I show you how it's done?\n"
     ]
    }
   ],
   "source": [
    "print(response.content)"
   ]
  },
  {
   "cell_type": "markdown",
   "metadata": {},
   "source": [
    "## String output parser"
   ]
  },
  {
   "cell_type": "code",
   "execution_count": 24,
   "metadata": {},
   "outputs": [],
   "source": [
    "from langchain_core.output_parsers import StrOutputParser\n",
    "output_parser=StrOutputParser()\n",
    "chain = prompt|llm|output_parser"
   ]
  },
  {
   "cell_type": "code",
   "execution_count": 25,
   "metadata": {},
   "outputs": [
    {
     "name": "stdout",
     "output_type": "stream",
     "text": [
      "Great, let's go through this step by step. The equation we have is:\n",
      "\n",
      "\\[2x + 4 = x - 3\\]\n",
      "\n",
      "To solve this equation, we want to get all the \\(x\\)-terms on one side and the numbers on the other side. Let's start by moving the \\(x\\) from the right side to the left side. We can do this by subtracting \\(x\\) from both sides of the equation. What do you think the equation will look like after we do this? \n",
      "\n",
      "\\[2x + 4 - x = x - 3 - x\\]\n",
      "\n",
      "Now, simplify the left side by combining like terms. What do you get?\n"
     ]
    }
   ],
   "source": [
    "response = chain.invoke({\"input\": \"Solve the equation: 2x + 4 = x - 3.\"})\n",
    "print(response)"
   ]
  },
  {
   "cell_type": "code",
   "execution_count": null,
   "metadata": {},
   "outputs": [],
   "source": []
  }
 ],
 "metadata": {
  "kernelspec": {
   "display_name": "torchGPU",
   "language": "python",
   "name": "python3"
  },
  "language_info": {
   "codemirror_mode": {
    "name": "ipython",
    "version": 3
   },
   "file_extension": ".py",
   "mimetype": "text/x-python",
   "name": "python",
   "nbconvert_exporter": "python",
   "pygments_lexer": "ipython3",
   "version": "3.12.4"
  }
 },
 "nbformat": 4,
 "nbformat_minor": 2
}
