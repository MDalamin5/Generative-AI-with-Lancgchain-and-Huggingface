{
 "cells": [
  {
   "cell_type": "code",
   "execution_count": 1,
   "metadata": {},
   "outputs": [
    {
     "data": {
      "text/plain": [
       "True"
      ]
     },
     "execution_count": 1,
     "metadata": {},
     "output_type": "execute_result"
    }
   ],
   "source": [
    "import os\n",
    "from dotenv import load_dotenv\n",
    "load_dotenv()"
   ]
  },
  {
   "cell_type": "code",
   "execution_count": 2,
   "metadata": {},
   "outputs": [],
   "source": [
    "groq_api_key = os.getenv(\"GROQ_API_KEY\")"
   ]
  },
  {
   "cell_type": "code",
   "execution_count": 3,
   "metadata": {},
   "outputs": [],
   "source": [
    "from langchain_groq import ChatGroq\n",
    "model = ChatGroq(model_name=\"qwen-2.5-32b\")"
   ]
  },
  {
   "cell_type": "code",
   "execution_count": 4,
   "metadata": {},
   "outputs": [
    {
     "data": {
      "text/plain": [
       "AIMessage(content=\"Wa Alaikum Assalam, Al Almin! It's great to hear that you are studying Artificial Intelligence at North South University. How can I assist you with your studies or any other information related to AI? Feel free to ask any questions or discuss any topics you're interested in!\", additional_kwargs={}, response_metadata={'token_usage': {'completion_tokens': 59, 'prompt_tokens': 52, 'total_tokens': 111, 'completion_time': 0.149426652, 'prompt_time': 0.004862894, 'queue_time': 0.23268214199999998, 'total_time': 0.154289546}, 'model_name': 'qwen-2.5-32b', 'system_fingerprint': 'fp_35f92f8282', 'finish_reason': 'stop', 'logprobs': None}, id='run-872be389-d673-481a-b525-ba32d1084303-0', usage_metadata={'input_tokens': 52, 'output_tokens': 59, 'total_tokens': 111})"
      ]
     },
     "execution_count": 4,
     "metadata": {},
     "output_type": "execute_result"
    }
   ],
   "source": [
    "from langchain_core.messages import HumanMessage\n",
    "model.invoke([HumanMessage(content=\"Assalamualikum, i'm Al almin and i'm student of North south university and major on AI\")])"
   ]
  },
  {
   "cell_type": "code",
   "execution_count": 5,
   "metadata": {},
   "outputs": [],
   "source": [
    "from langchain_core.messages import AIMessage, SystemMessage"
   ]
  },
  {
   "cell_type": "code",
   "execution_count": 7,
   "metadata": {},
   "outputs": [
    {
     "data": {
      "text/plain": [
       "AIMessage(content='Based on your initial message, your name is Al Almin and you are a student majoring in Artificial Intelligence at North South University. If you have any specific questions or need help with anything related to your studies or interests, feel free to ask!', additional_kwargs={}, response_metadata={'token_usage': {'completion_tokens': 51, 'prompt_tokens': 130, 'total_tokens': 181, 'completion_time': 0.12835298, 'prompt_time': 0.008420728, 'queue_time': 0.240656159, 'total_time': 0.136773708}, 'model_name': 'qwen-2.5-32b', 'system_fingerprint': 'fp_35f92f8282', 'finish_reason': 'stop', 'logprobs': None}, id='run-2e979fd0-3fa0-4525-bfcd-7e57d7bd703f-0', usage_metadata={'input_tokens': 130, 'output_tokens': 51, 'total_tokens': 181})"
      ]
     },
     "execution_count": 7,
     "metadata": {},
     "output_type": "execute_result"
    }
   ],
   "source": [
    "model.invoke(\n",
    "    [\n",
    "        HumanMessage(content=\"Assalamualikum, i'm Al almin and i'm student of North south university and major on AI\"),\n",
    "        AIMessage(content=\"Wa Alaikum Assalam, Al Almin! It's great to hear that you are studying Artificial Intelligence at North South University. How can I assist you with your studies or any other information related to AI? Feel free to ask any questions or discuss any topics you're interested in!\"),\n",
    "        HumanMessage(content=\"What is my name and what do i do?\")\n",
    "    ]\n",
    ")"
   ]
  },
  {
   "cell_type": "markdown",
   "metadata": {},
   "source": [
    "## Lest discuss about Messages History"
   ]
  },
  {
   "cell_type": "code",
   "execution_count": 8,
   "metadata": {},
   "outputs": [],
   "source": [
    "from langchain_community.chat_message_histories import ChatMessageHistory\n",
    "from langchain_core.chat_history import BaseChatMessageHistory\n",
    "from langchain_core.runnables.history import RunnableWithMessageHistory"
   ]
  },
  {
   "cell_type": "code",
   "execution_count": 15,
   "metadata": {},
   "outputs": [],
   "source": [
    "store = {}\n",
    "\n",
    "def get_session_history(session_id:str)->BaseChatMessageHistory:\n",
    "    if session_id not in store:\n",
    "        store[session_id]=ChatMessageHistory()\n",
    "    return store[session_id]\n",
    "\n",
    "with_message_history=RunnableWithMessageHistory(model, get_session_history)"
   ]
  },
  {
   "cell_type": "code",
   "execution_count": 16,
   "metadata": {},
   "outputs": [],
   "source": [
    "config={\"configurable\": {\"session_id\": 'chat_1'}}"
   ]
  },
  {
   "cell_type": "code",
   "execution_count": 19,
   "metadata": {},
   "outputs": [
    {
     "data": {
      "text/plain": [
       "AIMessage(content=\"Wa Alaikum Assalam, Alamin! It's great to hear that you are studying AI at NSU (North South University). What aspects of AI are you most interested in, and do you have any projects or research in progress that you find particularly exciting?\", additional_kwargs={}, response_metadata={'token_usage': {'completion_tokens': 55, 'prompt_tokens': 51, 'total_tokens': 106, 'completion_time': 0.1394139, 'prompt_time': 0.00488563, 'queue_time': 0.235773546, 'total_time': 0.14429953}, 'model_name': 'qwen-2.5-32b', 'system_fingerprint': 'fp_35f92f8282', 'finish_reason': 'stop', 'logprobs': None}, id='run-ff67c4a1-fcf0-4a9c-8366-1a710829b043-0', usage_metadata={'input_tokens': 51, 'output_tokens': 55, 'total_tokens': 106})"
      ]
     },
     "execution_count": 19,
     "metadata": {},
     "output_type": "execute_result"
    }
   ],
   "source": [
    "with_message_history.invoke(\n",
    "    [\n",
    "        HumanMessage(content=\"Assalamualikum, i'm alamin, i'm a student of NSU and major in AI\"),\n",
    "        \n",
    "    ],\n",
    "    config=config\n",
    ")"
   ]
  },
  {
   "cell_type": "code",
   "execution_count": 20,
   "metadata": {},
   "outputs": [
    {
     "name": "stdout",
     "output_type": "stream",
     "text": [
      "{'chat_1': InMemoryChatMessageHistory(messages=[HumanMessage(content=\"Assalamualikum, i'm alamin, i'm a student of NSU and major in AI\", additional_kwargs={}, response_metadata={}), AIMessage(content=\"Wa Alaikum Assalam, Alamin! It's great to hear that you are studying AI at NSU (North South University). What aspects of AI are you most interested in, and do you have any projects or research in progress that you find particularly exciting?\", additional_kwargs={}, response_metadata={'token_usage': {'completion_tokens': 55, 'prompt_tokens': 51, 'total_tokens': 106, 'completion_time': 0.1394139, 'prompt_time': 0.00488563, 'queue_time': 0.235773546, 'total_time': 0.14429953}, 'model_name': 'qwen-2.5-32b', 'system_fingerprint': 'fp_35f92f8282', 'finish_reason': 'stop', 'logprobs': None}, id='run-ff67c4a1-fcf0-4a9c-8366-1a710829b043-0', usage_metadata={'input_tokens': 51, 'output_tokens': 55, 'total_tokens': 106})])}\n"
     ]
    }
   ],
   "source": [
    "print(store)"
   ]
  },
  {
   "cell_type": "code",
   "execution_count": 21,
   "metadata": {},
   "outputs": [
    {
     "data": {
      "text/plain": [
       "AIMessage(content='Your name is Alamin.', additional_kwargs={}, response_metadata={'token_usage': {'completion_tokens': 7, 'prompt_tokens': 120, 'total_tokens': 127, 'completion_time': 0.017627306, 'prompt_time': 0.007843813, 'queue_time': 0.238040545, 'total_time': 0.025471119}, 'model_name': 'qwen-2.5-32b', 'system_fingerprint': 'fp_35f92f8282', 'finish_reason': 'stop', 'logprobs': None}, id='run-26e39ddd-918b-4eb3-a938-e644cd5b5fc9-0', usage_metadata={'input_tokens': 120, 'output_tokens': 7, 'total_tokens': 127})"
      ]
     },
     "execution_count": 21,
     "metadata": {},
     "output_type": "execute_result"
    }
   ],
   "source": [
    "with_message_history.invoke(\n",
    "    [\n",
    "        HumanMessage(content=\"What is my name?\"),\n",
    "        \n",
    "    ],\n",
    "    config=config\n",
    ")"
   ]
  },
  {
   "cell_type": "code",
   "execution_count": 22,
   "metadata": {},
   "outputs": [],
   "source": [
    "config_2 = {\"configurable\": {\"session_id\": \"chat_2\"}}"
   ]
  },
  {
   "cell_type": "code",
   "execution_count": 23,
   "metadata": {},
   "outputs": [
    {
     "data": {
      "text/plain": [
       "AIMessage(content=\"I don't have access to personal information about individuals unless it has been shared within our conversation. Could you tell me your name?\", additional_kwargs={}, response_metadata={'token_usage': {'completion_tokens': 27, 'prompt_tokens': 33, 'total_tokens': 60, 'completion_time': 0.068773108, 'prompt_time': 0.003999637, 'queue_time': 0.23488448, 'total_time': 0.072772745}, 'model_name': 'qwen-2.5-32b', 'system_fingerprint': 'fp_35f92f8282', 'finish_reason': 'stop', 'logprobs': None}, id='run-2c8d927a-a5e8-4db8-a9c3-4b597b70018c-0', usage_metadata={'input_tokens': 33, 'output_tokens': 27, 'total_tokens': 60})"
      ]
     },
     "execution_count": 23,
     "metadata": {},
     "output_type": "execute_result"
    }
   ],
   "source": [
    "with_message_history.invoke(\n",
    "    [HumanMessage(content=\"What is my name\")],\n",
    "    config=config_2\n",
    ")"
   ]
  },
  {
   "cell_type": "code",
   "execution_count": 26,
   "metadata": {},
   "outputs": [
    {
     "data": {
      "text/plain": [
       "\"Given the rapid growth and increasing importance of AI, continuing your path in AI is a very promising decision. Here are a few reasons why:\\n\\n1. **High Demand for Skills**: The demand for AI professionals is on the rise, and there are numerous job opportunities in various industries such as technology, healthcare, finance, and more.\\n\\n2. **Innovative Opportunities**: AI is at the forefront of technological innovation, offering chances to work on cutting-edge projects and solve complex problems.\\n\\n3. **Career Growth and Potential**: With the increasing reliance on AI, there are ample opportunities for career growth and advancement, including leadership roles in AI research and development.\\n\\n4. **Impactful Applications**: AI can be applied to a wide range of fields, allowing you to contribute to significant advancements that can have a positive impact on society.\\n\\n5. **Continuous Learning**: The field of AI is constantly evolving, providing ongoing opportunities to learn and stay at the forefront of technology.\\n\\nGiven your major in AI, you are already well-positioned to take advantage of these opportunities. If you are passionate about technology and excited about the potential impact of AI, continuing in this field would likely be very rewarding. Keep exploring, staying curious, and building your skills, and you'll be well-prepared for a successful career in AI.\""
      ]
     },
     "execution_count": 26,
     "metadata": {},
     "output_type": "execute_result"
    }
   ],
   "source": [
    "response = with_message_history.invoke(\n",
    "    [\"You already know i'm majoring in Ai but my question is currently AI r increasing rapidly so should i continue in ai path?\"],\n",
    "    config=config\n",
    ")\n",
    "response.content"
   ]
  },
  {
   "cell_type": "code",
   "execution_count": 27,
   "metadata": {},
   "outputs": [
    {
     "name": "stdout",
     "output_type": "stream",
     "text": [
      "Given the rapid growth and increasing importance of AI, continuing your path in AI is a very promising decision. Here are a few reasons why:\n",
      "\n",
      "1. **High Demand for Skills**: The demand for AI professionals is on the rise, and there are numerous job opportunities in various industries such as technology, healthcare, finance, and more.\n",
      "\n",
      "2. **Innovative Opportunities**: AI is at the forefront of technological innovation, offering chances to work on cutting-edge projects and solve complex problems.\n",
      "\n",
      "3. **Career Growth and Potential**: With the increasing reliance on AI, there are ample opportunities for career growth and advancement, including leadership roles in AI research and development.\n",
      "\n",
      "4. **Impactful Applications**: AI can be applied to a wide range of fields, allowing you to contribute to significant advancements that can have a positive impact on society.\n",
      "\n",
      "5. **Continuous Learning**: The field of AI is constantly evolving, providing ongoing opportunities to learn and stay at the forefront of technology.\n",
      "\n",
      "Given your major in AI, you are already well-positioned to take advantage of these opportunities. If you are passionate about technology and excited about the potential impact of AI, continuing in this field would likely be very rewarding. Keep exploring, staying curious, and building your skills, and you'll be well-prepared for a successful career in AI.\n"
     ]
    }
   ],
   "source": [
    "print(response.content)"
   ]
  },
  {
   "cell_type": "markdown",
   "metadata": {},
   "source": [
    "## Add more complexity into the chat messages history"
   ]
  },
  {
   "cell_type": "code",
   "execution_count": 28,
   "metadata": {},
   "outputs": [],
   "source": [
    "from langchain_core.prompts import ChatPromptTemplate, MessagesPlaceholder\n",
    "prompt=ChatPromptTemplate.from_messages(\n",
    "    [\n",
    "        (\n",
    "            'system',\n",
    "            'You are a helpful assistant. Answer all question to the best your ability.'\n",
    "        ),\n",
    "        MessagesPlaceholder(variable_name=\"messages\")\n",
    "    ]\n",
    ")\n",
    "chain=prompt|model"
   ]
  },
  {
   "cell_type": "code",
   "execution_count": 29,
   "metadata": {},
   "outputs": [
    {
     "data": {
      "text/plain": [
       "ChatPromptTemplate(input_variables=['messages'], input_types={'messages': list[typing.Annotated[typing.Union[typing.Annotated[langchain_core.messages.ai.AIMessage, Tag(tag='ai')], typing.Annotated[langchain_core.messages.human.HumanMessage, Tag(tag='human')], typing.Annotated[langchain_core.messages.chat.ChatMessage, Tag(tag='chat')], typing.Annotated[langchain_core.messages.system.SystemMessage, Tag(tag='system')], typing.Annotated[langchain_core.messages.function.FunctionMessage, Tag(tag='function')], typing.Annotated[langchain_core.messages.tool.ToolMessage, Tag(tag='tool')], typing.Annotated[langchain_core.messages.ai.AIMessageChunk, Tag(tag='AIMessageChunk')], typing.Annotated[langchain_core.messages.human.HumanMessageChunk, Tag(tag='HumanMessageChunk')], typing.Annotated[langchain_core.messages.chat.ChatMessageChunk, Tag(tag='ChatMessageChunk')], typing.Annotated[langchain_core.messages.system.SystemMessageChunk, Tag(tag='SystemMessageChunk')], typing.Annotated[langchain_core.messages.function.FunctionMessageChunk, Tag(tag='FunctionMessageChunk')], typing.Annotated[langchain_core.messages.tool.ToolMessageChunk, Tag(tag='ToolMessageChunk')]], FieldInfo(annotation=NoneType, required=True, discriminator=Discriminator(discriminator=<function _get_type at 0x0000015797B882C0>, custom_error_type=None, custom_error_message=None, custom_error_context=None))]]}, partial_variables={}, messages=[SystemMessagePromptTemplate(prompt=PromptTemplate(input_variables=[], input_types={}, partial_variables={}, template='You are a helpful assistant. Answer all question to the best your ability.'), additional_kwargs={}), MessagesPlaceholder(variable_name='messages')])\n",
       "| ChatGroq(client=<groq.resources.chat.completions.Completions object at 0x0000015799980D10>, async_client=<groq.resources.chat.completions.AsyncCompletions object at 0x0000015799981820>, model_name='qwen-2.5-32b', model_kwargs={}, groq_api_key=SecretStr('**********'))"
      ]
     },
     "execution_count": 29,
     "metadata": {},
     "output_type": "execute_result"
    }
   ],
   "source": [
    "chain"
   ]
  },
  {
   "cell_type": "code",
   "execution_count": 30,
   "metadata": {},
   "outputs": [
    {
     "data": {
      "text/plain": [
       "AIMessage(content=\"Wa Alaikum Assalam, Al Amin! It's nice to meet you. How can I assist you today?\", additional_kwargs={}, response_metadata={'token_usage': {'completion_tokens': 26, 'prompt_tokens': 41, 'total_tokens': 67, 'completion_time': 0.066412641, 'prompt_time': 0.004494916, 'queue_time': 0.23664984800000002, 'total_time': 0.070907557}, 'model_name': 'qwen-2.5-32b', 'system_fingerprint': 'fp_35f92f8282', 'finish_reason': 'stop', 'logprobs': None}, id='run-10797431-d145-4276-bb27-4c9cda5a93b3-0', usage_metadata={'input_tokens': 41, 'output_tokens': 26, 'total_tokens': 67})"
      ]
     },
     "execution_count": 30,
     "metadata": {},
     "output_type": "execute_result"
    }
   ],
   "source": [
    "chain.invoke(\n",
    "    {'messages': [HumanMessage(content=\"Assalamualikum, my name is Al Amin.\")]}\n",
    ")"
   ]
  },
  {
   "cell_type": "code",
   "execution_count": 31,
   "metadata": {},
   "outputs": [],
   "source": [
    "with_message_history=RunnableWithMessageHistory(chain, get_session_history)"
   ]
  },
  {
   "cell_type": "code",
   "execution_count": null,
   "metadata": {},
   "outputs": [
    {
     "data": {
      "text/plain": [
       "\"Wa Alaikum Assalam, Al Amin! It's nice to meet you. How can I assist you today?\""
      ]
     },
     "execution_count": 33,
     "metadata": {},
     "output_type": "execute_result"
    }
   ],
   "source": [
    "config_3 = {\"configurable\": {\"session_id\": 'chat_3'}}\n",
    "response = with_message_history.invoke(\n",
    "    [HumanMessage(content=\"Assalamualikum, i'm Al Amin.\")],\n",
    "    config=config_3 \n",
    ")\n",
    "response.content"
   ]
  },
  {
   "cell_type": "code",
   "execution_count": 37,
   "metadata": {},
   "outputs": [],
   "source": [
    "## Add more complexity\n",
    "prompt=ChatPromptTemplate.from_messages(\n",
    "    [\n",
    "        (\n",
    "            'system',\n",
    "            'You are a helpful assistant. Answer all questions to the best of your ability in {language}'\n",
    "        ),\n",
    "        MessagesPlaceholder(variable_name=\"messages\")\n",
    "    ]\n",
    ")\n",
    "chain = prompt|model\n"
   ]
  },
  {
   "cell_type": "code",
   "execution_count": 46,
   "metadata": {},
   "outputs": [
    {
     "data": {
      "text/plain": [
       "'আমি ভালো আছি, ধন্যবাদ। আপনি কি করেছেন?'"
      ]
     },
     "execution_count": 46,
     "metadata": {},
     "output_type": "execute_result"
    }
   ],
   "source": [
    "chain.invoke({'messages':[HumanMessage(content=\"How are you?\")], \"language\":\"Bangla\"}).content"
   ]
  },
  {
   "cell_type": "code",
   "execution_count": 47,
   "metadata": {},
   "outputs": [],
   "source": [
    "with_message_history = RunnableWithMessageHistory(\n",
    "        chain, \n",
    "        get_session_history,\n",
    "        input_messages_key=\"messages\"\n",
    "    )"
   ]
  },
  {
   "cell_type": "code",
   "execution_count": 48,
   "metadata": {},
   "outputs": [],
   "source": [
    "config_4 = {\"configurable\": {\"session_id\": 'chat_4'}}\n"
   ]
  },
  {
   "cell_type": "code",
   "execution_count": 55,
   "metadata": {},
   "outputs": [
    {
     "data": {
      "text/plain": [
       "'আমার নাম হল এক অনলাইন সহায়ক বট। আপনি আমাকে কোনো নাম দিতে পারেন যদি চান। আপনার কী প্রয়োজন?'"
      ]
     },
     "execution_count": 55,
     "metadata": {},
     "output_type": "execute_result"
    }
   ],
   "source": [
    "with_message_history.invoke(\n",
    "    {\n",
    "        'messages': [HumanMessage(content=\"What is your name?\")],\n",
    "        \"language\": \"Bangla\"\n",
    "    },\n",
    "    config=config_4\n",
    ").content"
   ]
  },
  {
   "cell_type": "code",
   "execution_count": null,
   "metadata": {},
   "outputs": [],
   "source": []
  },
  {
   "cell_type": "code",
   "execution_count": null,
   "metadata": {},
   "outputs": [],
   "source": []
  }
 ],
 "metadata": {
  "kernelspec": {
   "display_name": "torchGPU",
   "language": "python",
   "name": "python3"
  },
  "language_info": {
   "codemirror_mode": {
    "name": "ipython",
    "version": 3
   },
   "file_extension": ".py",
   "mimetype": "text/x-python",
   "name": "python",
   "nbconvert_exporter": "python",
   "pygments_lexer": "ipython3",
   "version": "3.12.4"
  }
 },
 "nbformat": 4,
 "nbformat_minor": 2
}
