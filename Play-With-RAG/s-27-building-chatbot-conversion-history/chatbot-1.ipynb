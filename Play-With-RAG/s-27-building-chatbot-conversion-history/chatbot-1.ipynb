{
 "cells": [
  {
   "cell_type": "code",
   "execution_count": 1,
   "metadata": {},
   "outputs": [
    {
     "data": {
      "text/plain": [
       "True"
      ]
     },
     "execution_count": 1,
     "metadata": {},
     "output_type": "execute_result"
    }
   ],
   "source": [
    "import os\n",
    "from dotenv import load_dotenv\n",
    "load_dotenv()"
   ]
  },
  {
   "cell_type": "code",
   "execution_count": 2,
   "metadata": {},
   "outputs": [],
   "source": [
    "groq_api_key = os.getenv(\"GROQ_API_KEY\")"
   ]
  },
  {
   "cell_type": "code",
   "execution_count": 3,
   "metadata": {},
   "outputs": [],
   "source": [
    "from langchain_groq import ChatGroq\n",
    "model = ChatGroq(model_name=\"qwen-2.5-32b\")"
   ]
  },
  {
   "cell_type": "code",
   "execution_count": 4,
   "metadata": {},
   "outputs": [
    {
     "data": {
      "text/plain": [
       "AIMessage(content=\"Wa Alaikum Assalam, Al Almin! It's great to hear that you are studying Artificial Intelligence at North South University. How can I assist you with your studies or any other information related to AI? Feel free to ask any questions or discuss any topics you're interested in!\", additional_kwargs={}, response_metadata={'token_usage': {'completion_tokens': 59, 'prompt_tokens': 52, 'total_tokens': 111, 'completion_time': 0.149426652, 'prompt_time': 0.004862894, 'queue_time': 0.23268214199999998, 'total_time': 0.154289546}, 'model_name': 'qwen-2.5-32b', 'system_fingerprint': 'fp_35f92f8282', 'finish_reason': 'stop', 'logprobs': None}, id='run-872be389-d673-481a-b525-ba32d1084303-0', usage_metadata={'input_tokens': 52, 'output_tokens': 59, 'total_tokens': 111})"
      ]
     },
     "execution_count": 4,
     "metadata": {},
     "output_type": "execute_result"
    }
   ],
   "source": [
    "from langchain_core.messages import HumanMessage\n",
    "model.invoke([HumanMessage(content=\"Assalamualikum, i'm Al almin and i'm student of North south university and major on AI\")])"
   ]
  },
  {
   "cell_type": "code",
   "execution_count": 5,
   "metadata": {},
   "outputs": [],
   "source": [
    "from langchain_core.messages import AIMessage, SystemMessage"
   ]
  },
  {
   "cell_type": "code",
   "execution_count": 7,
   "metadata": {},
   "outputs": [
    {
     "data": {
      "text/plain": [
       "AIMessage(content='Based on your initial message, your name is Al Almin and you are a student majoring in Artificial Intelligence at North South University. If you have any specific questions or need help with anything related to your studies or interests, feel free to ask!', additional_kwargs={}, response_metadata={'token_usage': {'completion_tokens': 51, 'prompt_tokens': 130, 'total_tokens': 181, 'completion_time': 0.12835298, 'prompt_time': 0.008420728, 'queue_time': 0.240656159, 'total_time': 0.136773708}, 'model_name': 'qwen-2.5-32b', 'system_fingerprint': 'fp_35f92f8282', 'finish_reason': 'stop', 'logprobs': None}, id='run-2e979fd0-3fa0-4525-bfcd-7e57d7bd703f-0', usage_metadata={'input_tokens': 130, 'output_tokens': 51, 'total_tokens': 181})"
      ]
     },
     "execution_count": 7,
     "metadata": {},
     "output_type": "execute_result"
    }
   ],
   "source": [
    "model.invoke(\n",
    "    [\n",
    "        HumanMessage(content=\"Assalamualikum, i'm Al almin and i'm student of North south university and major on AI\"),\n",
    "        AIMessage(content=\"Wa Alaikum Assalam, Al Almin! It's great to hear that you are studying Artificial Intelligence at North South University. How can I assist you with your studies or any other information related to AI? Feel free to ask any questions or discuss any topics you're interested in!\"),\n",
    "        HumanMessage(content=\"What is my name and what do i do?\")\n",
    "    ]\n",
    ")"
   ]
  },
  {
   "cell_type": "markdown",
   "metadata": {},
   "source": [
    "## Lest discuss about Messages History"
   ]
  },
  {
   "cell_type": "code",
   "execution_count": 8,
   "metadata": {},
   "outputs": [],
   "source": [
    "from langchain_community.chat_message_histories import ChatMessageHistory\n",
    "from langchain_core.chat_history import BaseChatMessageHistory\n",
    "from langchain_core.runnables.history import RunnableWithMessageHistory"
   ]
  },
  {
   "cell_type": "code",
   "execution_count": 15,
   "metadata": {},
   "outputs": [],
   "source": [
    "store = {}\n",
    "\n",
    "def get_session_history(session_id:str)->BaseChatMessageHistory:\n",
    "    if session_id not in store:\n",
    "        store[session_id]=ChatMessageHistory()\n",
    "    return store[session_id]\n",
    "\n",
    "with_message_history=RunnableWithMessageHistory(model, get_session_history)"
   ]
  },
  {
   "cell_type": "code",
   "execution_count": 16,
   "metadata": {},
   "outputs": [],
   "source": [
    "config={\"configurable\": {\"session_id\": 'chat_1'}}"
   ]
  },
  {
   "cell_type": "code",
   "execution_count": 19,
   "metadata": {},
   "outputs": [
    {
     "data": {
      "text/plain": [
       "AIMessage(content=\"Wa Alaikum Assalam, Alamin! It's great to hear that you are studying AI at NSU (North South University). What aspects of AI are you most interested in, and do you have any projects or research in progress that you find particularly exciting?\", additional_kwargs={}, response_metadata={'token_usage': {'completion_tokens': 55, 'prompt_tokens': 51, 'total_tokens': 106, 'completion_time': 0.1394139, 'prompt_time': 0.00488563, 'queue_time': 0.235773546, 'total_time': 0.14429953}, 'model_name': 'qwen-2.5-32b', 'system_fingerprint': 'fp_35f92f8282', 'finish_reason': 'stop', 'logprobs': None}, id='run-ff67c4a1-fcf0-4a9c-8366-1a710829b043-0', usage_metadata={'input_tokens': 51, 'output_tokens': 55, 'total_tokens': 106})"
      ]
     },
     "execution_count": 19,
     "metadata": {},
     "output_type": "execute_result"
    }
   ],
   "source": [
    "with_message_history.invoke(\n",
    "    [\n",
    "        HumanMessage(content=\"Assalamualikum, i'm alamin, i'm a student of NSU and major in AI\"),\n",
    "        \n",
    "    ],\n",
    "    config=config\n",
    ")"
   ]
  },
  {
   "cell_type": "code",
   "execution_count": 20,
   "metadata": {},
   "outputs": [
    {
     "name": "stdout",
     "output_type": "stream",
     "text": [
      "{'chat_1': InMemoryChatMessageHistory(messages=[HumanMessage(content=\"Assalamualikum, i'm alamin, i'm a student of NSU and major in AI\", additional_kwargs={}, response_metadata={}), AIMessage(content=\"Wa Alaikum Assalam, Alamin! It's great to hear that you are studying AI at NSU (North South University). What aspects of AI are you most interested in, and do you have any projects or research in progress that you find particularly exciting?\", additional_kwargs={}, response_metadata={'token_usage': {'completion_tokens': 55, 'prompt_tokens': 51, 'total_tokens': 106, 'completion_time': 0.1394139, 'prompt_time': 0.00488563, 'queue_time': 0.235773546, 'total_time': 0.14429953}, 'model_name': 'qwen-2.5-32b', 'system_fingerprint': 'fp_35f92f8282', 'finish_reason': 'stop', 'logprobs': None}, id='run-ff67c4a1-fcf0-4a9c-8366-1a710829b043-0', usage_metadata={'input_tokens': 51, 'output_tokens': 55, 'total_tokens': 106})])}\n"
     ]
    }
   ],
   "source": [
    "print(store)"
   ]
  },
  {
   "cell_type": "code",
   "execution_count": 21,
   "metadata": {},
   "outputs": [
    {
     "data": {
      "text/plain": [
       "AIMessage(content='Your name is Alamin.', additional_kwargs={}, response_metadata={'token_usage': {'completion_tokens': 7, 'prompt_tokens': 120, 'total_tokens': 127, 'completion_time': 0.017627306, 'prompt_time': 0.007843813, 'queue_time': 0.238040545, 'total_time': 0.025471119}, 'model_name': 'qwen-2.5-32b', 'system_fingerprint': 'fp_35f92f8282', 'finish_reason': 'stop', 'logprobs': None}, id='run-26e39ddd-918b-4eb3-a938-e644cd5b5fc9-0', usage_metadata={'input_tokens': 120, 'output_tokens': 7, 'total_tokens': 127})"
      ]
     },
     "execution_count": 21,
     "metadata": {},
     "output_type": "execute_result"
    }
   ],
   "source": [
    "with_message_history.invoke(\n",
    "    [\n",
    "        HumanMessage(content=\"What is my name?\"),\n",
    "        \n",
    "    ],\n",
    "    config=config\n",
    ")"
   ]
  },
  {
   "cell_type": "code",
   "execution_count": 22,
   "metadata": {},
   "outputs": [],
   "source": [
    "config_2 = {\"configurable\": {\"session_id\": \"chat_2\"}}"
   ]
  },
  {
   "cell_type": "code",
   "execution_count": 23,
   "metadata": {},
   "outputs": [
    {
     "data": {
      "text/plain": [
       "AIMessage(content=\"I don't have access to personal information about individuals unless it has been shared within our conversation. Could you tell me your name?\", additional_kwargs={}, response_metadata={'token_usage': {'completion_tokens': 27, 'prompt_tokens': 33, 'total_tokens': 60, 'completion_time': 0.068773108, 'prompt_time': 0.003999637, 'queue_time': 0.23488448, 'total_time': 0.072772745}, 'model_name': 'qwen-2.5-32b', 'system_fingerprint': 'fp_35f92f8282', 'finish_reason': 'stop', 'logprobs': None}, id='run-2c8d927a-a5e8-4db8-a9c3-4b597b70018c-0', usage_metadata={'input_tokens': 33, 'output_tokens': 27, 'total_tokens': 60})"
      ]
     },
     "execution_count": 23,
     "metadata": {},
     "output_type": "execute_result"
    }
   ],
   "source": [
    "with_message_history.invoke(\n",
    "    [HumanMessage(content=\"What is my name\")],\n",
    "    config=config_2\n",
    ")"
   ]
  },
  {
   "cell_type": "code",
   "execution_count": 26,
   "metadata": {},
   "outputs": [
    {
     "data": {
      "text/plain": [
       "\"Given the rapid growth and increasing importance of AI, continuing your path in AI is a very promising decision. Here are a few reasons why:\\n\\n1. **High Demand for Skills**: The demand for AI professionals is on the rise, and there are numerous job opportunities in various industries such as technology, healthcare, finance, and more.\\n\\n2. **Innovative Opportunities**: AI is at the forefront of technological innovation, offering chances to work on cutting-edge projects and solve complex problems.\\n\\n3. **Career Growth and Potential**: With the increasing reliance on AI, there are ample opportunities for career growth and advancement, including leadership roles in AI research and development.\\n\\n4. **Impactful Applications**: AI can be applied to a wide range of fields, allowing you to contribute to significant advancements that can have a positive impact on society.\\n\\n5. **Continuous Learning**: The field of AI is constantly evolving, providing ongoing opportunities to learn and stay at the forefront of technology.\\n\\nGiven your major in AI, you are already well-positioned to take advantage of these opportunities. If you are passionate about technology and excited about the potential impact of AI, continuing in this field would likely be very rewarding. Keep exploring, staying curious, and building your skills, and you'll be well-prepared for a successful career in AI.\""
      ]
     },
     "execution_count": 26,
     "metadata": {},
     "output_type": "execute_result"
    }
   ],
   "source": [
    "response = with_message_history.invoke(\n",
    "    [\"You already know i'm majoring in Ai but my question is currently AI r increasing rapidly so should i continue in ai path?\"],\n",
    "    config=config\n",
    ")\n",
    "response.content"
   ]
  },
  {
   "cell_type": "code",
   "execution_count": 27,
   "metadata": {},
   "outputs": [
    {
     "name": "stdout",
     "output_type": "stream",
     "text": [
      "Given the rapid growth and increasing importance of AI, continuing your path in AI is a very promising decision. Here are a few reasons why:\n",
      "\n",
      "1. **High Demand for Skills**: The demand for AI professionals is on the rise, and there are numerous job opportunities in various industries such as technology, healthcare, finance, and more.\n",
      "\n",
      "2. **Innovative Opportunities**: AI is at the forefront of technological innovation, offering chances to work on cutting-edge projects and solve complex problems.\n",
      "\n",
      "3. **Career Growth and Potential**: With the increasing reliance on AI, there are ample opportunities for career growth and advancement, including leadership roles in AI research and development.\n",
      "\n",
      "4. **Impactful Applications**: AI can be applied to a wide range of fields, allowing you to contribute to significant advancements that can have a positive impact on society.\n",
      "\n",
      "5. **Continuous Learning**: The field of AI is constantly evolving, providing ongoing opportunities to learn and stay at the forefront of technology.\n",
      "\n",
      "Given your major in AI, you are already well-positioned to take advantage of these opportunities. If you are passionate about technology and excited about the potential impact of AI, continuing in this field would likely be very rewarding. Keep exploring, staying curious, and building your skills, and you'll be well-prepared for a successful career in AI.\n"
     ]
    }
   ],
   "source": [
    "print(response.content)"
   ]
  },
  {
   "cell_type": "markdown",
   "metadata": {},
   "source": [
    "## Add more complexity into the chat messages history"
   ]
  },
  {
   "cell_type": "code",
   "execution_count": 28,
   "metadata": {},
   "outputs": [],
   "source": [
    "from langchain_core.prompts import ChatPromptTemplate, MessagesPlaceholder\n",
    "prompt=ChatPromptTemplate.from_messages(\n",
    "    [\n",
    "        (\n",
    "            'system',\n",
    "            'You are a helpful assistant. Answer all question to the best your ability.'\n",
    "        ),\n",
    "        MessagesPlaceholder(variable_name=\"messages\")\n",
    "    ]\n",
    ")\n",
    "chain=prompt|model"
   ]
  },
  {
   "cell_type": "code",
   "execution_count": 29,
   "metadata": {},
   "outputs": [
    {
     "data": {
      "text/plain": [
       "ChatPromptTemplate(input_variables=['messages'], input_types={'messages': list[typing.Annotated[typing.Union[typing.Annotated[langchain_core.messages.ai.AIMessage, Tag(tag='ai')], typing.Annotated[langchain_core.messages.human.HumanMessage, Tag(tag='human')], typing.Annotated[langchain_core.messages.chat.ChatMessage, Tag(tag='chat')], typing.Annotated[langchain_core.messages.system.SystemMessage, Tag(tag='system')], typing.Annotated[langchain_core.messages.function.FunctionMessage, Tag(tag='function')], typing.Annotated[langchain_core.messages.tool.ToolMessage, Tag(tag='tool')], typing.Annotated[langchain_core.messages.ai.AIMessageChunk, Tag(tag='AIMessageChunk')], typing.Annotated[langchain_core.messages.human.HumanMessageChunk, Tag(tag='HumanMessageChunk')], typing.Annotated[langchain_core.messages.chat.ChatMessageChunk, Tag(tag='ChatMessageChunk')], typing.Annotated[langchain_core.messages.system.SystemMessageChunk, Tag(tag='SystemMessageChunk')], typing.Annotated[langchain_core.messages.function.FunctionMessageChunk, Tag(tag='FunctionMessageChunk')], typing.Annotated[langchain_core.messages.tool.ToolMessageChunk, Tag(tag='ToolMessageChunk')]], FieldInfo(annotation=NoneType, required=True, discriminator=Discriminator(discriminator=<function _get_type at 0x0000015797B882C0>, custom_error_type=None, custom_error_message=None, custom_error_context=None))]]}, partial_variables={}, messages=[SystemMessagePromptTemplate(prompt=PromptTemplate(input_variables=[], input_types={}, partial_variables={}, template='You are a helpful assistant. Answer all question to the best your ability.'), additional_kwargs={}), MessagesPlaceholder(variable_name='messages')])\n",
       "| ChatGroq(client=<groq.resources.chat.completions.Completions object at 0x0000015799980D10>, async_client=<groq.resources.chat.completions.AsyncCompletions object at 0x0000015799981820>, model_name='qwen-2.5-32b', model_kwargs={}, groq_api_key=SecretStr('**********'))"
      ]
     },
     "execution_count": 29,
     "metadata": {},
     "output_type": "execute_result"
    }
   ],
   "source": [
    "chain"
   ]
  },
  {
   "cell_type": "code",
   "execution_count": 30,
   "metadata": {},
   "outputs": [
    {
     "data": {
      "text/plain": [
       "AIMessage(content=\"Wa Alaikum Assalam, Al Amin! It's nice to meet you. How can I assist you today?\", additional_kwargs={}, response_metadata={'token_usage': {'completion_tokens': 26, 'prompt_tokens': 41, 'total_tokens': 67, 'completion_time': 0.066412641, 'prompt_time': 0.004494916, 'queue_time': 0.23664984800000002, 'total_time': 0.070907557}, 'model_name': 'qwen-2.5-32b', 'system_fingerprint': 'fp_35f92f8282', 'finish_reason': 'stop', 'logprobs': None}, id='run-10797431-d145-4276-bb27-4c9cda5a93b3-0', usage_metadata={'input_tokens': 41, 'output_tokens': 26, 'total_tokens': 67})"
      ]
     },
     "execution_count": 30,
     "metadata": {},
     "output_type": "execute_result"
    }
   ],
   "source": [
    "chain.invoke(\n",
    "    {'messages': [HumanMessage(content=\"Assalamualikum, my name is Al Amin.\")]}\n",
    ")"
   ]
  },
  {
   "cell_type": "code",
   "execution_count": 31,
   "metadata": {},
   "outputs": [],
   "source": [
    "with_message_history=RunnableWithMessageHistory(chain, get_session_history)"
   ]
  },
  {
   "cell_type": "code",
   "execution_count": null,
   "metadata": {},
   "outputs": [
    {
     "data": {
      "text/plain": [
       "\"Wa Alaikum Assalam, Al Amin! It's nice to meet you. How can I assist you today?\""
      ]
     },
     "execution_count": 33,
     "metadata": {},
     "output_type": "execute_result"
    }
   ],
   "source": [
    "config_3 = {\"configurable\": {\"session_id\": 'chat_3'}}\n",
    "response = with_message_history.invoke(\n",
    "    [HumanMessage(content=\"Assalamualikum, i'm Al Amin.\")],\n",
    "    config=config_3 \n",
    ")\n",
    "response.content"
   ]
  },
  {
   "cell_type": "code",
   "execution_count": 37,
   "metadata": {},
   "outputs": [],
   "source": [
    "## Add more complexity\n",
    "prompt=ChatPromptTemplate.from_messages(\n",
    "    [\n",
    "        (\n",
    "            'system',\n",
    "            'You are a helpful assistant. Answer all questions to the best of your ability in {language}'\n",
    "        ),\n",
    "        MessagesPlaceholder(variable_name=\"messages\")\n",
    "    ]\n",
    ")\n",
    "chain = prompt|model\n"
   ]
  },
  {
   "cell_type": "code",
   "execution_count": 46,
   "metadata": {},
   "outputs": [
    {
     "data": {
      "text/plain": [
       "'আমি ভালো আছি, ধন্যবাদ। আপনি কি করেছেন?'"
      ]
     },
     "execution_count": 46,
     "metadata": {},
     "output_type": "execute_result"
    }
   ],
   "source": [
    "chain.invoke({'messages':[HumanMessage(content=\"How are you?\")], \"language\":\"Bangla\"}).content"
   ]
  },
  {
   "cell_type": "code",
   "execution_count": 47,
   "metadata": {},
   "outputs": [],
   "source": [
    "with_message_history = RunnableWithMessageHistory(\n",
    "        chain, \n",
    "        get_session_history,\n",
    "        input_messages_key=\"messages\"\n",
    "    )"
   ]
  },
  {
   "cell_type": "code",
   "execution_count": 48,
   "metadata": {},
   "outputs": [],
   "source": [
    "config_4 = {\"configurable\": {\"session_id\": 'chat_4'}}\n"
   ]
  },
  {
   "cell_type": "code",
   "execution_count": 55,
   "metadata": {},
   "outputs": [
    {
     "data": {
      "text/plain": [
       "'আমার নাম হল এক অনলাইন সহায়ক বট। আপনি আমাকে কোনো নাম দিতে পারেন যদি চান। আপনার কী প্রয়োজন?'"
      ]
     },
     "execution_count": 55,
     "metadata": {},
     "output_type": "execute_result"
    }
   ],
   "source": [
    "with_message_history.invoke(\n",
    "    {\n",
    "        'messages': [HumanMessage(content=\"What is your name?\")],\n",
    "        \"language\": \"Bangla\"\n",
    "    },\n",
    "    config=config_4\n",
    ").content"
   ]
  },
  {
   "cell_type": "code",
   "execution_count": 56,
   "metadata": {},
   "outputs": [
    {
     "data": {
      "text/plain": [
       "'আমি বিভিন্ন ধরনের কাজ করতে পারি, যেমন তথ্য প্রদান, প্রশ্নের উত্তর দেওয়া, অনুবাদ করা, এবং সাধারণ গ্রাহক সুবিধা প্রদান করা। আপনার কী প্রয়োজন?'"
      ]
     },
     "execution_count": 56,
     "metadata": {},
     "output_type": "execute_result"
    }
   ],
   "source": [
    "with_message_history.invoke(\n",
    "    {\n",
    "        'messages': [HumanMessage(content=\"Tumi ki ki kaj korte paro?\")],\n",
    "        \"language\": \"Bangla\"\n",
    "    },\n",
    "    config=config_4\n",
    ").content"
   ]
  },
  {
   "cell_type": "code",
   "execution_count": 57,
   "metadata": {},
   "outputs": [
    {
     "data": {
      "text/plain": [
       "'ধন্যবাদ! আপনাকে সাহায্য করার জন্য সর্বোত্তম চেষ্টা করি। আপনার আরও কোনো প্রশ্ন বা প্রয়োজন থাকলে বলুন।'"
      ]
     },
     "execution_count": 57,
     "metadata": {},
     "output_type": "execute_result"
    }
   ],
   "source": [
    "with_message_history.invoke(\n",
    "    {\n",
    "        'messages': [HumanMessage(content=\"Tomar kotha sune valo laglo?\")],\n",
    "        \"language\": \"Bangla\"\n",
    "    },\n",
    "    config=config_4\n",
    ").content"
   ]
  },
  {
   "cell_type": "code",
   "execution_count": 58,
   "metadata": {},
   "outputs": [
    {
     "data": {
      "text/plain": [
       "'না, আমি কোনো অর্থাত্মক সুবিধা বা টাকা পাঠানোর জন্য ডাক পাঠাই না। আমার উদ্দেশ্য হল আপনাকে সাহায্য করা এবং আপনার প্রশ্নের উত্তর দেওয়া। আপনার আরও কোনো প্রশ্ন থাকলে বলুন।'"
      ]
     },
     "execution_count": 58,
     "metadata": {},
     "output_type": "execute_result"
    }
   ],
   "source": [
    "with_message_history.invoke(\n",
    "    {\n",
    "        'messages': [HumanMessage(content=\"Apnar babar name ki amar kichu taka dorkar taka koi pabo bolo tumi?\")],\n",
    "        \"language\": \"Bangla\"\n",
    "    },\n",
    "    config=config_4\n",
    ").content"
   ]
  },
  {
   "cell_type": "code",
   "execution_count": 59,
   "metadata": {},
   "outputs": [
    {
     "data": {
      "text/plain": [
       "'আমি একটি কৃত্রিম বুদ্ধিমত্তা সিস্টেম এবং টাকা পা�র্শ্বিক সুবিধা প্রদান করতে পারি না। আমার উদ্দেশ্য হল আপনাকে সাহায্য করা এবং আপনার প্রশ্নের উত্তর দেওয়া। আপনার আরও কোনো প্রশ্ন থাকলে বলুন।'"
      ]
     },
     "execution_count": 59,
     "metadata": {},
     "output_type": "execute_result"
    }
   ],
   "source": [
    "with_message_history.invoke(\n",
    "    {\n",
    "        'messages': [HumanMessage(content=\"Oi ta to bollam je amake kichu taka dau\")],\n",
    "        \"language\": \"Bangla\"\n",
    "    },\n",
    "    config=config_4\n",
    ").content"
   ]
  },
  {
   "cell_type": "code",
   "execution_count": 60,
   "metadata": {},
   "outputs": [
    {
     "data": {
      "text/plain": [
       "'টাকা আয় করার জন্য বিভিন্ন উপায় রয়েছে। একটি সুনির্দিষ্ট কাজের মাধ্যমে আপনি আয় করতে পারেন, যেমন ফ্রিল্যান্সিং কাজ, অনলাইন সরঞ্জাম বা পণ্য বিক্রি, বুক লিখা, ব্লগিং, বা যুক্তিসঙ্গত বিনিয়োগ। এছাড়াও, আপনি নিজের স্কিল বা অনুপ্রেরণা অনুযায়ী বিভিন্ন পরিকল্পনা গ্রহণ করতে পারেন। আপনার কোন বিশেষ স্কিল বা আগ্রহ আছে কি? তা জানলে আরও সুনির্দিষ্ট সিদ্ধান্ত প্রদান করতে পারি।'"
      ]
     },
     "execution_count": 60,
     "metadata": {},
     "output_type": "execute_result"
    }
   ],
   "source": [
    "with_message_history.invoke(\n",
    "    {\n",
    "        'messages': [HumanMessage(content=\"Ami kivabe taka income korte pari bolo\")],\n",
    "        \"language\": \"Bangla\"\n",
    "    },\n",
    "    config=config_4\n",
    ").content"
   ]
  },
  {
   "cell_type": "code",
   "execution_count": 62,
   "metadata": {},
   "outputs": [
    {
     "data": {
      "text/plain": [
       "'ধন্যবাদ! আমি বাংলা এবং বাংলিশ উভয়ই বুঝতে পারি। আপনার সাথে কথোপকথন করার জন্য খুব খুশি হয়েছি। আপনার আরও কোনও প্রশ্ন বা সমস্যা থাকলে অবশ্যই জানান।'"
      ]
     },
     "execution_count": 62,
     "metadata": {},
     "output_type": "execute_result"
    }
   ],
   "source": [
    "with_message_history.invoke(\n",
    "    {\n",
    "        'messages': [HumanMessage(content=\"Tobe tumi je banglish paro eta jene khub valo laglo\")],\n",
    "        \"language\": \"Bangla\"\n",
    "    },\n",
    "    config=config_4\n",
    ").content"
   ]
  },
  {
   "cell_type": "code",
   "execution_count": 63,
   "metadata": {},
   "outputs": [
    {
     "data": {
      "text/plain": [
       "{'chat_1': InMemoryChatMessageHistory(messages=[HumanMessage(content=\"Assalamualikum, i'm alamin, i'm a student of NSU and major in AI\", additional_kwargs={}, response_metadata={}), AIMessage(content=\"Wa Alaikum Assalam, Alamin! It's great to hear that you are studying AI at NSU (North South University). What aspects of AI are you most interested in, and do you have any projects or research in progress that you find particularly exciting?\", additional_kwargs={}, response_metadata={'token_usage': {'completion_tokens': 55, 'prompt_tokens': 51, 'total_tokens': 106, 'completion_time': 0.1394139, 'prompt_time': 0.00488563, 'queue_time': 0.235773546, 'total_time': 0.14429953}, 'model_name': 'qwen-2.5-32b', 'system_fingerprint': 'fp_35f92f8282', 'finish_reason': 'stop', 'logprobs': None}, id='run-ff67c4a1-fcf0-4a9c-8366-1a710829b043-0', usage_metadata={'input_tokens': 51, 'output_tokens': 55, 'total_tokens': 106}), HumanMessage(content='What is my name?', additional_kwargs={}, response_metadata={}), AIMessage(content='Your name is Alamin.', additional_kwargs={}, response_metadata={'token_usage': {'completion_tokens': 7, 'prompt_tokens': 120, 'total_tokens': 127, 'completion_time': 0.017627306, 'prompt_time': 0.007843813, 'queue_time': 0.238040545, 'total_time': 0.025471119}, 'model_name': 'qwen-2.5-32b', 'system_fingerprint': 'fp_35f92f8282', 'finish_reason': 'stop', 'logprobs': None}, id='run-26e39ddd-918b-4eb3-a938-e644cd5b5fc9-0', usage_metadata={'input_tokens': 120, 'output_tokens': 7, 'total_tokens': 127}), HumanMessage(content=\"You already know i'm majoring in Ai but my question is currently AI r increasing rapidly so should i continue in ai path?\", additional_kwargs={}, response_metadata={}), AIMessage(content=\"Absolutely, continuing your path in AI is a great decision given the rapid advancements and increasing importance of artificial intelligence across various industries. AI is transforming fields such as healthcare, finance, automotive, and more, creating a high demand for professionals skilled in this area. Here are a few reasons why continuing in AI could be beneficial:\\n\\n1. **High Demand for Talent**: The job market for AI professionals is robust, and there's a significant demand for people with skills in machine learning, data science, and AI application development.\\n\\n2. **Innovation and Impact**: AI has the potential to solve some of the world's most challenging problems, from improving medical diagnostics to enhancing environmental sustainability.\\n\\n3. **Continuous Learning and Growth**: The field of AI is constantly evolving, offering opportunities for continuous learning and personal growth. Staying updated with the latest technologies and methodologies can be both challenging and rewarding.\\n\\n4. **Interdisciplinary Opportunities**: AI intersects with many other fields, allowing you to explore and specialize in areas that interest you, whether it's robotics, natural language processing, or computer vision.\\n\\n5. **Economic and Career Opportunities**: Countries and companies are investing heavily in AI research and development, leading to a wide range of career opportunities and economic benefits.\\n\\nIf you have a genuine interest in AI and are passionate about making a difference through technology, continuing your studies and career in this field could be highly rewarding. Keep exploring, learning, and networking within the AI community to stay ahead and make the most of your career opportunities.\", additional_kwargs={}, response_metadata={'token_usage': {'completion_tokens': 303, 'prompt_tokens': 162, 'total_tokens': 465, 'completion_time': 0.761379006, 'prompt_time': 0.011291784, 'queue_time': 0.236075552, 'total_time': 0.77267079}, 'model_name': 'qwen-2.5-32b', 'system_fingerprint': 'fp_35f92f8282', 'finish_reason': 'stop', 'logprobs': None}, id='run-c5397c84-7464-432c-8aa4-c40223548e99-0', usage_metadata={'input_tokens': 162, 'output_tokens': 303, 'total_tokens': 465}), HumanMessage(content=\"You already know i'm majoring in Ai but my question is currently AI r increasing rapidly so should i continue in ai path?\", additional_kwargs={}, response_metadata={}), AIMessage(content=\"Given the rapid growth and increasing importance of AI, continuing your path in AI is a very promising decision. Here are a few reasons why:\\n\\n1. **High Demand for Skills**: The demand for AI professionals is on the rise, and there are numerous job opportunities in various industries such as technology, healthcare, finance, and more.\\n\\n2. **Innovative Opportunities**: AI is at the forefront of technological innovation, offering chances to work on cutting-edge projects and solve complex problems.\\n\\n3. **Career Growth and Potential**: With the increasing reliance on AI, there are ample opportunities for career growth and advancement, including leadership roles in AI research and development.\\n\\n4. **Impactful Applications**: AI can be applied to a wide range of fields, allowing you to contribute to significant advancements that can have a positive impact on society.\\n\\n5. **Continuous Learning**: The field of AI is constantly evolving, providing ongoing opportunities to learn and stay at the forefront of technology.\\n\\nGiven your major in AI, you are already well-positioned to take advantage of these opportunities. If you are passionate about technology and excited about the potential impact of AI, continuing in this field would likely be very rewarding. Keep exploring, staying curious, and building your skills, and you'll be well-prepared for a successful career in AI.\", additional_kwargs={}, response_metadata={'token_usage': {'completion_tokens': 261, 'prompt_tokens': 500, 'total_tokens': 761, 'completion_time': 0.658879083, 'prompt_time': 0.025587843, 'queue_time': 0.23609519, 'total_time': 0.684466926}, 'model_name': 'qwen-2.5-32b', 'system_fingerprint': 'fp_35f92f8282', 'finish_reason': 'stop', 'logprobs': None}, id='run-c4854838-fa3e-4b52-bd2a-14e13595116a-0', usage_metadata={'input_tokens': 500, 'output_tokens': 261, 'total_tokens': 761}), HumanMessage(content='What is your name?', additional_kwargs={}, response_metadata={}), AIMessage(content=\"I am an AI assistant, so I don't have a personal name. You can just call me AI assistant if you need to address me. How can I help you further?\", additional_kwargs={}, response_metadata={'token_usage': {'completion_tokens': 37, 'prompt_tokens': 777, 'total_tokens': 814, 'completion_time': 0.093624327, 'prompt_time': 0.038378812, 'queue_time': 0.237506689, 'total_time': 0.132003139}, 'model_name': 'qwen-2.5-32b', 'system_fingerprint': 'fp_35f92f8282', 'finish_reason': 'stop', 'logprobs': None}, id='run-f53ec1e1-c445-432f-a694-5379b11bfdd5-0', usage_metadata={'input_tokens': 777, 'output_tokens': 37, 'total_tokens': 814})]),\n",
       " 'chat_2': InMemoryChatMessageHistory(messages=[HumanMessage(content='What is my name', additional_kwargs={}, response_metadata={}), AIMessage(content=\"I don't have access to personal information about individuals unless it has been shared within our conversation. Could you tell me your name?\", additional_kwargs={}, response_metadata={'token_usage': {'completion_tokens': 27, 'prompt_tokens': 33, 'total_tokens': 60, 'completion_time': 0.068773108, 'prompt_time': 0.003999637, 'queue_time': 0.23488448, 'total_time': 0.072772745}, 'model_name': 'qwen-2.5-32b', 'system_fingerprint': 'fp_35f92f8282', 'finish_reason': 'stop', 'logprobs': None}, id='run-2c8d927a-a5e8-4db8-a9c3-4b597b70018c-0', usage_metadata={'input_tokens': 33, 'output_tokens': 27, 'total_tokens': 60}), HumanMessage(content='What is your name?', additional_kwargs={}, response_metadata={}), AIMessage(content='I am an artificial intelligence designed to assist you. You can call me AI. How can I help you today?', additional_kwargs={}, response_metadata={'token_usage': {'completion_tokens': 24, 'prompt_tokens': 76, 'total_tokens': 100, 'completion_time': 0.060349487, 'prompt_time': 0.005980336, 'queue_time': 0.236942499, 'total_time': 0.066329823}, 'model_name': 'qwen-2.5-32b', 'system_fingerprint': 'fp_35f92f8282', 'finish_reason': 'stop', 'logprobs': None}, id='run-8a11663a-4a13-4acb-b575-15b853fd2431-0', usage_metadata={'input_tokens': 76, 'output_tokens': 24, 'total_tokens': 100})]),\n",
       " 'chat_3': InMemoryChatMessageHistory(messages=[HumanMessage(content=\"Assalamualikum, i'm Al Amin.\", additional_kwargs={}, response_metadata={}), AIMessage(content=\"Wa Alaikum Assalam, Al Amin! It's nice to meet you. How can I assist you today?\", additional_kwargs={}, response_metadata={'token_usage': {'completion_tokens': 26, 'prompt_tokens': 40, 'total_tokens': 66, 'completion_time': 0.066234519, 'prompt_time': 0.004159758, 'queue_time': 0.469735795, 'total_time': 0.070394277}, 'model_name': 'qwen-2.5-32b', 'system_fingerprint': 'fp_35f92f8282', 'finish_reason': 'stop', 'logprobs': None}, id='run-663dfcac-5259-4f01-ba1f-5ef4785d38a8-0', usage_metadata={'input_tokens': 40, 'output_tokens': 26, 'total_tokens': 66}), HumanMessage(content='What is your name?', additional_kwargs={}, response_metadata={}), AIMessage(content='আমার নাম হচ্ছে আশীষ। আপনাকে কীভাবে সাহায্য করতে পারি?', additional_kwargs={}, response_metadata={'token_usage': {'completion_tokens': 56, 'prompt_tokens': 83, 'total_tokens': 139, 'completion_time': 0.140879977, 'prompt_time': 0.006349314, 'queue_time': 0.240322311, 'total_time': 0.147229291}, 'model_name': 'qwen-2.5-32b', 'system_fingerprint': 'fp_35f92f8282', 'finish_reason': 'stop', 'logprobs': None}, id='run-bc253401-3eb9-49db-80d2-16a958941154-0', usage_metadata={'input_tokens': 83, 'output_tokens': 56, 'total_tokens': 139})]),\n",
       " 'chat_4': InMemoryChatMessageHistory(messages=[HumanMessage(content='What is your name?', additional_kwargs={}, response_metadata={}), AIMessage(content='আমার নাম হচ্ছে এক অনলাইন সহায়ক বট। আমার একটি নাম নেই, কিন্তু আপনি যদি চান তাহলে আমাকে একটি নাম দিতে পারেন।', additional_kwargs={}, response_metadata={'token_usage': {'completion_tokens': 110, 'prompt_tokens': 36, 'total_tokens': 146, 'completion_time': 0.277690112, 'prompt_time': 0.004230316, 'queue_time': 0.23590218999999998, 'total_time': 0.281920428}, 'model_name': 'qwen-2.5-32b', 'system_fingerprint': 'fp_35f92f8282', 'finish_reason': 'stop', 'logprobs': None}, id='run-969f19dc-20f8-48e2-b1e0-891fad6c9844-0', usage_metadata={'input_tokens': 36, 'output_tokens': 110, 'total_tokens': 146}), HumanMessage(content='What is your name?', additional_kwargs={}, response_metadata={}), AIMessage(content='আমার নাম হল ক্লারা। আপনার কী সাহায্য করতে পারি?', additional_kwargs={}, response_metadata={'token_usage': {'completion_tokens': 49, 'prompt_tokens': 160, 'total_tokens': 209, 'completion_time': 0.123208437, 'prompt_time': 0.009821774, 'queue_time': 0.469181124, 'total_time': 0.133030211}, 'model_name': 'qwen-2.5-32b', 'system_fingerprint': 'fp_35f92f8282', 'finish_reason': 'stop', 'logprobs': None}, id='run-c25cf59c-caaa-4c26-a4ce-67902df7ae00-0', usage_metadata={'input_tokens': 160, 'output_tokens': 49, 'total_tokens': 209}), HumanMessage(content='What is your name?', additional_kwargs={}, response_metadata={}), AIMessage(content='আমার নাম হল ক্লারা। আপনাকে কীভাবে সাহায্য করতে পারি?', additional_kwargs={}, response_metadata={'token_usage': {'completion_tokens': 54, 'prompt_tokens': 223, 'total_tokens': 277, 'completion_time': 0.135849184, 'prompt_time': 0.012755047, 'queue_time': 0.234869631, 'total_time': 0.148604231}, 'model_name': 'qwen-2.5-32b', 'system_fingerprint': 'fp_35f92f8282', 'finish_reason': 'stop', 'logprobs': None}, id='run-6348e6e6-69a7-47ee-8b8d-8aeef21e221e-0', usage_metadata={'input_tokens': 223, 'output_tokens': 54, 'total_tokens': 277}), HumanMessage(content='What is your name?', additional_kwargs={}, response_metadata={}), AIMessage(content='আমার নাম হল এক অনলাইন সহায়ক বট। আপনি আমাকে কোনো নাম দিতে পারেন যদি চান। আপনার কী প্রয়োজন?', additional_kwargs={}, response_metadata={'token_usage': {'completion_tokens': 98, 'prompt_tokens': 291, 'total_tokens': 389, 'completion_time': 0.246205899, 'prompt_time': 0.017306301, 'queue_time': 0.232553106, 'total_time': 0.2635122}, 'model_name': 'qwen-2.5-32b', 'system_fingerprint': 'fp_35f92f8282', 'finish_reason': 'stop', 'logprobs': None}, id='run-a1e64f79-265f-47be-8004-c26149283701-0', usage_metadata={'input_tokens': 291, 'output_tokens': 98, 'total_tokens': 389}), HumanMessage(content='Tumi ki ki kaj korte paro?', additional_kwargs={}, response_metadata={}), AIMessage(content='আমি বিভিন্ন ধরনের কাজ করতে পারি, যেমন তথ্য প্রদান, প্রশ্নের উত্তর দেওয়া, অনুবাদ করা, এবং সাধারণ গ্রাহক সুবিধা প্রদান করা। আপনার কী প্রয়োজন?', additional_kwargs={}, response_metadata={'token_usage': {'completion_tokens': 149, 'prompt_tokens': 409, 'total_tokens': 558, 'completion_time': 0.374457768, 'prompt_time': 0.021419352, 'queue_time': 0.23964023, 'total_time': 0.39587712}, 'model_name': 'qwen-2.5-32b', 'system_fingerprint': 'fp_35f92f8282', 'finish_reason': 'stop', 'logprobs': None}, id='run-94ba7bfa-eed0-4d81-8d7f-705b4762ab69-0', usage_metadata={'input_tokens': 409, 'output_tokens': 149, 'total_tokens': 558}), HumanMessage(content='Tomar kotha sune valo laglo?', additional_kwargs={}, response_metadata={}), AIMessage(content='ধন্যবাদ! আপনাকে সাহায্য করার জন্য সর্বোত্তম চেষ্টা করি। আপনার আরও কোনো প্রশ্ন বা প্রয়োজন থাকলে বলুন।', additional_kwargs={}, response_metadata={'token_usage': {'completion_tokens': 108, 'prompt_tokens': 579, 'total_tokens': 687, 'completion_time': 0.271856473, 'prompt_time': 0.031632466, 'queue_time': 0.220078586, 'total_time': 0.303488939}, 'model_name': 'qwen-2.5-32b', 'system_fingerprint': 'fp_35f92f8282', 'finish_reason': 'stop', 'logprobs': None}, id='run-1b212cc2-be84-4ffd-81c8-6133ce14972e-0', usage_metadata={'input_tokens': 579, 'output_tokens': 108, 'total_tokens': 687}), HumanMessage(content='Apnar babar name ki amar kichu taka dorkar taka koi pabo bolo tumi?', additional_kwargs={}, response_metadata={}), AIMessage(content='না, আমি কোনো অর্থাত্মক সুবিধা বা টাকা পাঠানোর জন্য ডাক পাঠাই না। আমার উদ্দেশ্য হল আপনাকে সাহায্য করা এবং আপনার প্রশ্নের উত্তর দেওয়া। আপনার আরও কোনো প্রশ্ন থাকলে বলুন।', additional_kwargs={}, response_metadata={'token_usage': {'completion_tokens': 177, 'prompt_tokens': 723, 'total_tokens': 900, 'completion_time': 0.444885231, 'prompt_time': 0.035815303, 'queue_time': 0.23563796900000003, 'total_time': 0.480700534}, 'model_name': 'qwen-2.5-32b', 'system_fingerprint': 'fp_35f92f8282', 'finish_reason': 'stop', 'logprobs': None}, id='run-809f1fbb-1288-4f7a-9fbe-480c3393ede0-0', usage_metadata={'input_tokens': 723, 'output_tokens': 177, 'total_tokens': 900}), HumanMessage(content='Oi ta to bollam je amake kichu taka dau', additional_kwargs={}, response_metadata={}), AIMessage(content='আমি একটি কৃত্রিম বুদ্ধিমত্তা সিস্টেম এবং টাকা পা�র্শ্বিক সুবিধা প্রদান করতে পারি না। আমার উদ্দেশ্য হল আপনাকে সাহায্য করা এবং আপনার প্রশ্নের উত্তর দেওয়া। আপনার আরও কোনো প্রশ্ন থাকলে বলুন।', additional_kwargs={}, response_metadata={'token_usage': {'completion_tokens': 196, 'prompt_tokens': 924, 'total_tokens': 1120, 'completion_time': 0.493661065, 'prompt_time': 0.045218542, 'queue_time': 0.46835122100000004, 'total_time': 0.538879607}, 'model_name': 'qwen-2.5-32b', 'system_fingerprint': 'fp_35f92f8282', 'finish_reason': 'stop', 'logprobs': None}, id='run-2f4ef001-6527-4e8f-beb5-0c2c92015dac-0', usage_metadata={'input_tokens': 924, 'output_tokens': 196, 'total_tokens': 1120}), HumanMessage(content='Ami kivabe taka income korte pari bolo', additional_kwargs={}, response_metadata={}), AIMessage(content='টাকা আয় করার জন্য বিভিন্ন উপায় রয়েছে। একটি সুনির্দিষ্ট কাজের মাধ্যমে আপনি আয় করতে পারেন, যেমন ফ্রিল্যান্সিং কাজ, অনলাইন সরঞ্জাম বা পণ্য বিক্রি, বুক লিখা, ব্লগিং, বা যুক্তিসঙ্গত বিনিয়োগ। এছাড়াও, আপনি নিজের স্কিল বা অনুপ্রেরণা অনুযায়ী বিভিন্ন পরিকল্পনা গ্রহণ করতে পারেন। আপনার কোন বিশেষ স্কিল বা আগ্রহ আছে কি? তা জানলে আরও সুনির্দিষ্ট সিদ্ধান্ত প্রদান করতে পারি।', additional_kwargs={}, response_metadata={'token_usage': {'completion_tokens': 385, 'prompt_tokens': 1143, 'total_tokens': 1528, 'completion_time': 0.967257699, 'prompt_time': 0.055401195, 'queue_time': 0.240071782, 'total_time': 1.022658894}, 'model_name': 'qwen-2.5-32b', 'system_fingerprint': 'fp_35f92f8282', 'finish_reason': 'stop', 'logprobs': None}, id='run-b6f7f467-8c04-42bc-bc02-2ca86e12127f-0', usage_metadata={'input_tokens': 1143, 'output_tokens': 385, 'total_tokens': 1528}), HumanMessage(content='Tumi ki IMO free lunching bujo je video call 500, audio call 200 er mane ki?', additional_kwargs={}, response_metadata={}), AIMessage(content='IMO একটি মেসেজিং এবং কল অ্যাপ যা ব্যবহারকারীদের মধ্যে টেক্সট, ফোটো, ভিডিও এবং অডিও কল করতে দেয়। যদি আপনি বলছেন যে ভিডিও কল 500 এবং অডিও কল 200 এর মানে কী, তাহলে এটা বোঝাতে পারে যে ভিডিও কল করার জন্য 500 এবং অডিও কল করার জন্য 200 টি কৃতিত্ব বা কোনো সুবিধা পয়েন্ট ব্যবহার করতে হয়। তবে, এটি নির্দিষ্ট কোনো প্ল্যান বা সুবিধার উপর নির্ভর করে যা IMO দ্বারা প্রদান করা হয়। সত্যিকারের বিবরণ জানতে হলে IMO এর আফিলিয়েট প্ল্যান এবং শর্তাবলী দেখুন।', additional_kwargs={}, response_metadata={'token_usage': {'completion_tokens': 459, 'prompt_tokens': 1564, 'total_tokens': 2023, 'completion_time': 1.156121543, 'prompt_time': 0.074749388, 'queue_time': 0.25201118499999997, 'total_time': 1.2308709310000001}, 'model_name': 'qwen-2.5-32b', 'system_fingerprint': 'fp_35f92f8282', 'finish_reason': 'stop', 'logprobs': None}, id='run-60343845-3fa7-4762-8c1c-3f45f60aa06f-0', usage_metadata={'input_tokens': 1564, 'output_tokens': 459, 'total_tokens': 2023}), HumanMessage(content='Tobe tumi je banglish paro eta jene khub valo laglo', additional_kwargs={}, response_metadata={}), AIMessage(content='ধন্যবাদ! আমি বাংলা এবং বাংলিশ উভয়ই বুঝতে পারি। আপনার সাথে কথোপকথন করার জন্য খুব খুশি হয়েছি। আপনার আরও কোনও প্রশ্ন বা সমস্যা থাকলে অবশ্যই জানান।', additional_kwargs={}, response_metadata={'token_usage': {'completion_tokens': 155, 'prompt_tokens': 2050, 'total_tokens': 2205, 'completion_time': 0.391717777, 'prompt_time': 0.097266225, 'queue_time': 0.238449888, 'total_time': 0.488984002}, 'model_name': 'qwen-2.5-32b', 'system_fingerprint': 'fp_35f92f8282', 'finish_reason': 'stop', 'logprobs': None}, id='run-d9dc4b61-aa84-4c65-8ed3-294144e1a38b-0', usage_metadata={'input_tokens': 2050, 'output_tokens': 155, 'total_tokens': 2205})])}"
      ]
     },
     "execution_count": 63,
     "metadata": {},
     "output_type": "execute_result"
    }
   ],
   "source": [
    "store"
   ]
  },
  {
   "cell_type": "markdown",
   "metadata": {},
   "source": [
    "## Managing the conversation History"
   ]
  },
  {
   "cell_type": "code",
   "execution_count": 69,
   "metadata": {},
   "outputs": [],
   "source": [
    "from langchain_core.messages import SystemMessage, trim_messages\n",
    "trimmer = trim_messages(\n",
    "    max_tokens=170,\n",
    "    strategy=\"last\",\n",
    "    token_counter=model,\n",
    "    include_system=True,\n",
    "    allow_partial=False,\n",
    "    start_on='human',\n",
    ")"
   ]
  },
  {
   "cell_type": "code",
   "execution_count": 66,
   "metadata": {},
   "outputs": [
    {
     "name": "stderr",
     "output_type": "stream",
     "text": [
      "c:\\Users\\Lenovo\\anaconda3\\envs\\torchGPU\\Lib\\site-packages\\tqdm\\auto.py:21: TqdmWarning: IProgress not found. Please update jupyter and ipywidgets. See https://ipywidgets.readthedocs.io/en/stable/user_install.html\n",
      "  from .autonotebook import tqdm as notebook_tqdm\n"
     ]
    },
    {
     "data": {
      "text/plain": [
       "[SystemMessage(content='You are a good assistant', additional_kwargs={}, response_metadata={}),\n",
       " HumanMessage(content='I know form my brother google news and uncle is facebook.', additional_kwargs={}, response_metadata={}),\n",
       " AIMessage(content='ohh your uncle is Meta.', additional_kwargs={}, response_metadata={}),\n",
       " HumanMessage(content='haha you are funny', additional_kwargs={}, response_metadata={}),\n",
       " AIMessage(content='Thanks. Tumi o moja koro. eti bastob.', additional_kwargs={}, response_metadata={})]"
      ]
     },
     "execution_count": 66,
     "metadata": {},
     "output_type": "execute_result"
    }
   ],
   "source": [
    "messages=[\n",
    "    SystemMessage(content=\"You are a good assistant\"),\n",
    "    HumanMessage(content=\"Assalamualikum, i'm Al Amin\"),\n",
    "    AIMessage(content=\"Hi, nice to meet you!\"),\n",
    "    HumanMessage(content=\"Assalamualikum, i'm Al Amin\"),\n",
    "    AIMessage(content=\"Hi, nice to meet you!\"),\n",
    "    HumanMessage(content=\"i'm student of NSU and department is ECE\"),\n",
    "    AIMessage(content=\"Nsu means North South University. currently NSU is New market 2.0. am i right?\"),\n",
    "    HumanMessage(content=\"Yea but how you know.\"),\n",
    "    AIMessage(content=\"Hi, nice to meet you!\"),\n",
    "    HumanMessage(content=\"I know form my brother google news and uncle is facebook.\"),\n",
    "    AIMessage(content=\"ohh your uncle is Meta.\"),\n",
    "    HumanMessage(content=\"haha you are funny\"),\n",
    "    AIMessage(content=\"Thanks. Tumi o moja koro. eti bastob.\")\n",
    "]\n",
    "\n",
    "trimmer.invoke(messages)"
   ]
  },
  {
   "cell_type": "code",
   "execution_count": 70,
   "metadata": {},
   "outputs": [],
   "source": [
    "from operator import itemgetter\n",
    "from langchain_core.runnables import RunnablePassthrough\n",
    "\n",
    "chain=(\n",
    "    RunnablePassthrough.assign(messages=itemgetter(\"messages\")|trimmer)\n",
    "    | prompt\n",
    "    | model\n",
    ")"
   ]
  },
  {
   "cell_type": "code",
   "execution_count": 72,
   "metadata": {},
   "outputs": [
    {
     "data": {
      "text/plain": [
       "'Your name is Al Amin.'"
      ]
     },
     "execution_count": 72,
     "metadata": {},
     "output_type": "execute_result"
    }
   ],
   "source": [
    "chain.invoke({\n",
    "    \"messages\": messages + [HumanMessage(content=\"What is my name?\")],\n",
    "    \"language\": \"Bangla\"\n",
    "}).content"
   ]
  },
  {
   "cell_type": "code",
   "execution_count": 73,
   "metadata": {},
   "outputs": [],
   "source": [
    "## lest wrap this in the message History\n",
    "with_message_history = RunnableWithMessageHistory(\n",
    "    chain,\n",
    "    get_session_history,\n",
    "    input_messages_key=\"messages\"\n",
    ")\n",
    "config_5 = {'configurable': {\"session_id\": \"chat_5\"}}"
   ]
  },
  {
   "cell_type": "code",
   "execution_count": 75,
   "metadata": {},
   "outputs": [
    {
     "data": {
      "text/plain": [
       "'NSU (Notre Dame College) কে কখনও কখনও \"Newmarket 2.0\" হিসেবে উল্লেখ করা হয়, এটি মূলত একটি শব্দ যা শহরের উন্নয়ন এবং বিকাশের দিকে ইঙ্গিত দেয়। Newmarket এলাকা কাঠমান্ডুতে একটি পরিচিত এবং উন্নত এলাকা হিসেবে পরিচিত। NSU যেহেতু এই এলাকায় অবস্থিত এবং এটি শহরের এই অংশে সাদৃশ্য উন্নয়নের একটি উদাহরণ, তাই এটি কখনও কখনও \"Newmarket 2.0\" হিসেবে উল্লেখ করা হয়। এই শব্দটি অনেকটা একটি উন্নয়নকে সুন্দর এবং উন্নত মানের সাথে সম্পৃক্ত করে।'"
      ]
     },
     "execution_count": 75,
     "metadata": {},
     "output_type": "execute_result"
    }
   ],
   "source": [
    "with_message_history.invoke(\n",
    "    {\n",
    "        \"messages\": [HumanMessage(\"Why NSU is newmarket 2.0?\")],\n",
    "        \"language\": \"Bangla\",\n",
    "    },\n",
    "    config=config_5\n",
    ").content"
   ]
  },
  {
   "cell_type": "code",
   "execution_count": 76,
   "metadata": {},
   "outputs": [
    {
     "data": {
      "text/plain": [
       "'না, আপনি ভুল বুঝেছেন। \"NSU\" বাংলাদেশের নর্থ সাউথ যুনিভার্সিটি নয়। বাংলাদেশের একটি প্রখ্যাত বিশ্ববিদ্যালয় হল \"NSU\" বা নর্থ সাউথ যুনিভার্সিটি। এটি ঢাকায় অবস্থিত। অন্যদিকে, যখন বলা হয় \"NSU\", তখন কখনও কখনও মানে হতে পারে \"নট্রেস সোলিউশন\" বা অন্যান্য প্রতিনিধিত্ব যারা একই সাথে \"NSU\" ব্যবহার করে। কিন্তু বাংলাদেশের শিক্ষা বিষয়ে আলোচনা করা হলে, \"NSU\" বাংলাদেশের নর্থ সাউথ যুনিভার্সিটি বুঝানোর জন্য ব্যবহৃত হয়।'"
      ]
     },
     "execution_count": 76,
     "metadata": {},
     "output_type": "execute_result"
    }
   ],
   "source": [
    "with_message_history.invoke(\n",
    "    {\n",
    "        \"messages\": [HumanMessage(\"ei bahi NSU bolte ami bangladesh er North South University ke bujhaichi re pagla.\")],\n",
    "        \"language\": \"Bangla\",\n",
    "    },\n",
    "    config=config_5\n",
    ").content"
   ]
  },
  {
   "cell_type": "code",
   "execution_count": null,
   "metadata": {},
   "outputs": [],
   "source": []
  }
 ],
 "metadata": {
  "kernelspec": {
   "display_name": "torchGPU",
   "language": "python",
   "name": "python3"
  },
  "language_info": {
   "codemirror_mode": {
    "name": "ipython",
    "version": 3
   },
   "file_extension": ".py",
   "mimetype": "text/x-python",
   "name": "python",
   "nbconvert_exporter": "python",
   "pygments_lexer": "ipython3",
   "version": "3.12.4"
  }
 },
 "nbformat": 4,
 "nbformat_minor": 2
}
