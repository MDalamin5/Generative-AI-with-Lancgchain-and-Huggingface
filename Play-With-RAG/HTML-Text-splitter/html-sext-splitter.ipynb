{
 "cells": [
  {
   "cell_type": "code",
   "execution_count": 1,
   "metadata": {},
   "outputs": [],
   "source": [
    "from langchain_text_splitters import HTMLHeaderTextSplitter"
   ]
  },
  {
   "cell_type": "code",
   "execution_count": 6,
   "metadata": {},
   "outputs": [],
   "source": [
    "html_string = \"\"\"\n",
    "<Html>    \n",
    "<Head>  \n",
    "<title>  \n",
    "Example of Paragraph tag  \n",
    "</title>  \n",
    "</Head>  \n",
    "<Body>   \n",
    "<p> <!-- It is a Paragraph tag for creating the paragraph -->  \n",
    "<b> HTML </b> stands for <i> <u> Hyper Text Markup Language. </u> </i> It is used to create a web pages and applications. This language   \n",
    "is easily understandable by the user and also be modifiable. It is actually a Markup language, hence it provides a flexible way for designing the  \n",
    "web pages along with the text.   \n",
    "</p>  \n",
    "HTML file is made up of different elements. <b> An element </b> is a collection of <i> start tag, end tag, attributes and the text between them</i>.   \n",
    "</p>  \n",
    "<h1> Hello sir</h1>\n",
    "</Body>  \n",
    "</Html>\n",
    "\"\"\""
   ]
  },
  {
   "cell_type": "code",
   "execution_count": 7,
   "metadata": {},
   "outputs": [],
   "source": [
    "headers_to_split_on = [\n",
    "    (\"p\", 'Paragraph 1'),\n",
    "    (\"h1\", \"Header 1\")\n",
    "]"
   ]
  },
  {
   "cell_type": "code",
   "execution_count": 8,
   "metadata": {},
   "outputs": [
    {
     "data": {
      "text/plain": [
       "[Document(metadata={}, page_content='HTML stands for Hyper Text Markup Language. It is used to create a web pages and applications. This language is easily understandable by the user and also be modifiable. It is actually a Markup language, hence it provides a flexible way for designing the web pages along with the text.')]"
      ]
     },
     "execution_count": 8,
     "metadata": {},
     "output_type": "execute_result"
    }
   ],
   "source": [
    "html_splitter = HTMLHeaderTextSplitter(headers_to_split_on)\n",
    "html_split_data = html_splitter.split_text(html_string)\n",
    "html_split_data"
   ]
  },
  {
   "cell_type": "code",
   "execution_count": 9,
   "metadata": {},
   "outputs": [
    {
     "data": {
      "text/plain": [
       "[Document(metadata={}, page_content='https://www.geeksforgeeks.org/fine-tuning-large-language-model-llm/')]"
      ]
     },
     "execution_count": 9,
     "metadata": {},
     "output_type": "execute_result"
    }
   ],
   "source": [
    "url = \"https://www.geeksforgeeks.org/fine-tuning-large-language-model-llm/\"\n",
    "\n",
    "headers_to_split_on = [\n",
    "    (\"p\", 'Paragraph 1'),\n",
    "    (\"h1\", \"Header 1\")\n",
    "]\n",
    "html_splitter = HTMLHeaderTextSplitter(headers_to_split_on)\n",
    "html_split_data = html_splitter.split_text(url)\n",
    "html_split_data"
   ]
  },
  {
   "cell_type": "code",
   "execution_count": null,
   "metadata": {},
   "outputs": [],
   "source": []
  }
 ],
 "metadata": {
  "kernelspec": {
   "display_name": "torchGPU",
   "language": "python",
   "name": "python3"
  },
  "language_info": {
   "codemirror_mode": {
    "name": "ipython",
    "version": 3
   },
   "file_extension": ".py",
   "mimetype": "text/x-python",
   "name": "python",
   "nbconvert_exporter": "python",
   "pygments_lexer": "ipython3",
   "version": "3.12.4"
  }
 },
 "nbformat": 4,
 "nbformat_minor": 2
}
