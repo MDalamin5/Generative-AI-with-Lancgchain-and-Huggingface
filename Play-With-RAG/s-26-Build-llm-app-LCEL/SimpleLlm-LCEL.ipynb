{
 "cells": [
  {
   "cell_type": "code",
   "execution_count": 1,
   "metadata": {},
   "outputs": [],
   "source": [
    "from langchain_core.messages import HumanMessage, SystemMessage\n",
    "from langchain_groq import ChatGroq\n",
    "import os"
   ]
  },
  {
   "cell_type": "code",
   "execution_count": 2,
   "metadata": {},
   "outputs": [],
   "source": [
    "os.environ[\"GROQ_API_KEY\"]=os.getenv(\"GROQ_API_KEY\")\n",
    "llm = ChatGroq(model_name=\"qwen-2.5-32b\")"
   ]
  },
  {
   "cell_type": "code",
   "execution_count": 3,
   "metadata": {},
   "outputs": [],
   "source": [
    "messages=[\n",
    "    SystemMessage(\"You are a translator your task is convert English to Bangla language.\"),\n",
    "    HumanMessage(\"Assalamualikum, how are you bahi!\")\n",
    "]"
   ]
  },
  {
   "cell_type": "code",
   "execution_count": 4,
   "metadata": {},
   "outputs": [
    {
     "data": {
      "text/plain": [
       "AIMessage(content='আসসালামুযালাইকুম, আপনি কেমন আছেন ভাই!', additional_kwargs={}, response_metadata={'token_usage': {'completion_tokens': 40, 'prompt_tokens': 39, 'total_tokens': 79, 'completion_time': 0.101349382, 'prompt_time': 0.004357315, 'queue_time': 0.238966439, 'total_time': 0.105706697}, 'model_name': 'qwen-2.5-32b', 'system_fingerprint': 'fp_35f92f8282', 'finish_reason': 'stop', 'logprobs': None}, id='run-8d889268-89c8-49ef-b461-f5e976836bd2-0', usage_metadata={'input_tokens': 39, 'output_tokens': 40, 'total_tokens': 79})"
      ]
     },
     "execution_count": 4,
     "metadata": {},
     "output_type": "execute_result"
    }
   ],
   "source": [
    "llm.invoke(messages)"
   ]
  },
  {
   "cell_type": "code",
   "execution_count": 5,
   "metadata": {},
   "outputs": [],
   "source": [
    "response=llm.invoke(messages)"
   ]
  },
  {
   "cell_type": "code",
   "execution_count": 6,
   "metadata": {},
   "outputs": [
    {
     "data": {
      "text/plain": [
       "'আসসালামুযালাইকুম, তুমি কেমন আছো ভাই!'"
      ]
     },
     "execution_count": 6,
     "metadata": {},
     "output_type": "execute_result"
    }
   ],
   "source": [
    "from langchain_core.output_parsers import StrOutputParser\n",
    "parser = StrOutputParser()\n",
    "parser.invoke(response)"
   ]
  },
  {
   "cell_type": "code",
   "execution_count": 7,
   "metadata": {},
   "outputs": [
    {
     "data": {
      "text/plain": [
       "'আসসালামুযালাইকুম, তুমি কেমন আছো বাহি!'"
      ]
     },
     "execution_count": 7,
     "metadata": {},
     "output_type": "execute_result"
    }
   ],
   "source": [
    "## using LCEL careate chain\n",
    "chain=llm|parser\n",
    "chain.invoke(messages)"
   ]
  },
  {
   "cell_type": "markdown",
   "metadata": {},
   "source": [
    "## Now create all things more efficient way"
   ]
  },
  {
   "cell_type": "code",
   "execution_count": 26,
   "metadata": {},
   "outputs": [
    {
     "data": {
      "text/plain": [
       "ChatPromptTemplate(input_variables=['language', 'user_input'], input_types={}, partial_variables={}, messages=[SystemMessagePromptTemplate(prompt=PromptTemplate(input_variables=['language'], input_types={}, partial_variables={}, template='You are a Translator. Translate all data so your task is convert English to {language} language.'), additional_kwargs={}), HumanMessagePromptTemplate(prompt=PromptTemplate(input_variables=['user_input'], input_types={}, partial_variables={}, template='{user_input}'), additional_kwargs={})])"
      ]
     },
     "execution_count": 26,
     "metadata": {},
     "output_type": "execute_result"
    }
   ],
   "source": [
    "from langchain_core.prompts import ChatPromptTemplate\n",
    "generic_prompt=\"You are a Translator. Translate all data so your task is convert English to {language} language.\"\n",
    "prompt=ChatPromptTemplate.from_messages(\n",
    "    [\n",
    "        ('system',generic_prompt),\n",
    "        (\"user\", \"{user_input}\")\n",
    "    ]\n",
    ")\n",
    "prompt"
   ]
  },
  {
   "cell_type": "code",
   "execution_count": 13,
   "metadata": {},
   "outputs": [
    {
     "data": {
      "text/plain": [
       "ChatPromptValue(messages=[SystemMessage(content='You are a Translator and your task is convert English to Bangla language.', additional_kwargs={}, response_metadata={}), HumanMessage(content=\"I'm good, how was your day?\", additional_kwargs={}, response_metadata={})])"
      ]
     },
     "execution_count": 13,
     "metadata": {},
     "output_type": "execute_result"
    }
   ],
   "source": [
    "prompt.invoke(\n",
    "    {\"language\":\"Bangla\",'user_input': \"I'm good, how was your day?\"}\n",
    "    \n",
    ")"
   ]
  },
  {
   "cell_type": "code",
   "execution_count": 15,
   "metadata": {},
   "outputs": [],
   "source": [
    "result = prompt.invoke(\n",
    "    {\"language\": 'Bangla', \"user_input\":\"I'm good, how about you!\"}\n",
    ")"
   ]
  },
  {
   "cell_type": "code",
   "execution_count": 16,
   "metadata": {},
   "outputs": [
    {
     "data": {
      "text/plain": [
       "[SystemMessage(content='You are a Translator and your task is convert English to Bangla language.', additional_kwargs={}, response_metadata={}),\n",
       " HumanMessage(content=\"I'm good, how about you!\", additional_kwargs={}, response_metadata={})]"
      ]
     },
     "execution_count": 16,
     "metadata": {},
     "output_type": "execute_result"
    }
   ],
   "source": [
    "result.to_messages()"
   ]
  },
  {
   "cell_type": "code",
   "execution_count": 27,
   "metadata": {},
   "outputs": [],
   "source": [
    "chain = prompt|llm|parser"
   ]
  },
  {
   "cell_type": "code",
   "execution_count": 18,
   "metadata": {},
   "outputs": [
    {
     "data": {
      "text/plain": [
       "'আমি ভালো আছি, তুমি কেমন?'"
      ]
     },
     "execution_count": 18,
     "metadata": {},
     "output_type": "execute_result"
    }
   ],
   "source": [
    "chain.invoke(\n",
    "    {\"language\": 'Bangla', \"user_input\":\"I'm good, how about you!\"}\n",
    ")"
   ]
  },
  {
   "cell_type": "code",
   "execution_count": 23,
   "metadata": {},
   "outputs": [],
   "source": [
    "\n",
    "text = \"You are a friendly and patient math tutor. You will help students learn algebra by providing clear explanations and step-by-step solutions. You will offer hints when needed and identify errors in their work. You will encourage them to keep trying.\\n\\n\\n\\nSolve the equation: 2x + 4 = x - 3.\\n\\n\\n\\nTo solve this equation, we\\u2019ll isolate x by first subtracting x from both sides. This gives x + 4 = -3. Do you understand this step?\\n\\n\\n\\nYes.\\n\\n\\n\\nNext, subtract 4 from both sides: x = -3 - 4, which simplifies to x = -7. Do you understand this step?\\n\\n\\n\\nYes.\\n\\n\\n\\nGreat! The solution to the equation 2x + 4 = x - 3 is x = -7. Would you like to try another equation?\\n\"\n",
    "  "
   ]
  },
  {
   "cell_type": "code",
   "execution_count": 28,
   "metadata": {},
   "outputs": [
    {
     "name": "stdout",
     "output_type": "stream",
     "text": [
      "আপনি একজন মিষ্টি এবং দীর্ঘায়মান গণিত শিক্ষক। আপনি ছাত্রদের বোঝাতে পারবেন বীজগণিত এবং ধীরে ধীরে সমাধান প্রদান করে তাদের শেখাবেন। আপনি প্রয়োজনে সূচনা দিবেন এবং তাদের কাজে ত্রুটি চিহ্নিত করবেন। আপনি তাদের অবিরত চেষ্টা করার জন্য অনুপ্রেরণা দিবেন।\n",
      "\n",
      "\n",
      "\n",
      "সমীকরণটি সমাধান করুন: 2x + 4 = x - 3.\n",
      "\n",
      "\n",
      "\n",
      "এই সমীকরণটি সমাধান করতে, আমরা প্রথমে উভয় পক্ষ থেকে x বিয়োগ করে x কে আলাদা করব। এটি x + 4 = -3 দেয়। আপনি এই ধাপটি বুঝছেন?\n",
      "\n",
      "\n",
      "\n",
      "হ্যাঁ।\n",
      "\n",
      "\n",
      "\n",
      "আমরা পরের ধাপে উভয় পক্ষ থেকে 4 বিয়োগ করব: x = -3 - 4, যা সরলীকৃত হয় x = -7। আপনি এই ধাপটি বুঝছেন?\n",
      "\n",
      "\n",
      "\n",
      "হ্যাঁ।\n",
      "\n",
      "\n",
      "\n",
      "সুন্দর! সমীকরণ 2x + 4 = x - 3 এর সমাধান x = -7। আপনি আরেকটি সমীকরণ চেষ্টা করতে চান?\n"
     ]
    }
   ],
   "source": [
    "response = chain.invoke(\n",
    "    {\"language\": 'Bangla', \"user_input\":text}\n",
    ")\n",
    "print(response)"
   ]
  },
  {
   "cell_type": "code",
   "execution_count": null,
   "metadata": {},
   "outputs": [],
   "source": []
  }
 ],
 "metadata": {
  "kernelspec": {
   "display_name": "torchGPU",
   "language": "python",
   "name": "python3"
  },
  "language_info": {
   "codemirror_mode": {
    "name": "ipython",
    "version": 3
   },
   "file_extension": ".py",
   "mimetype": "text/x-python",
   "name": "python",
   "nbconvert_exporter": "python",
   "pygments_lexer": "ipython3",
   "version": "3.12.4"
  }
 },
 "nbformat": 4,
 "nbformat_minor": 2
}
