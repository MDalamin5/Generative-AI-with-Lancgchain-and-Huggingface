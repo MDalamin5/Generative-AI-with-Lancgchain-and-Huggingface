{
 "cells": [
  {
   "cell_type": "code",
   "execution_count": 21,
   "metadata": {},
   "outputs": [
    {
     "data": {
      "text/plain": [
       "True"
      ]
     },
     "execution_count": 21,
     "metadata": {},
     "output_type": "execute_result"
    }
   ],
   "source": [
    "import os\n",
    "from dotenv import load_dotenv\n",
    "load_dotenv()"
   ]
  },
  {
   "cell_type": "code",
   "execution_count": 22,
   "metadata": {},
   "outputs": [
    {
     "data": {
      "text/plain": [
       "ChatGroq(client=<groq.resources.chat.completions.Completions object at 0x0000025D37E5F470>, async_client=<groq.resources.chat.completions.AsyncCompletions object at 0x0000025D37E5FB30>, model_name='Gemma-7b-It', model_kwargs={}, groq_api_key=SecretStr('**********'))"
      ]
     },
     "execution_count": 22,
     "metadata": {},
     "output_type": "execute_result"
    }
   ],
   "source": [
    "from langchain_groq import ChatGroq\n",
    "api_key = os.getenv(\"GROQ_API_KEY\")\n",
    "llm = ChatGroq(groq_api_key=api_key, model=\"Gemma-7b-It\")\n",
    "llm"
   ]
  },
  {
   "cell_type": "code",
   "execution_count": 23,
   "metadata": {},
   "outputs": [],
   "source": [
    "from langchain.schema import(\n",
    "    AIMessage,\n",
    "    HumanMessage, SystemMessage\n",
    ")"
   ]
  },
  {
   "cell_type": "code",
   "execution_count": 24,
   "metadata": {},
   "outputs": [],
   "source": [
    "speech=\"\"\"\n",
    "The interim government's Chief Adviser Dr Muhammad Yunus's address to the nation on August 25 resonated deeply with the public, striking a chord of authenticity, humility, and aspiration. Social media has been abuzz with comments such as \"Dr Yunus's vision for a new Bangladesh gives me hope\" and \"We needed this kind of leadership years ago.\" His speech was remarkable not only for what it said, but for how it was delivered—free of arrogance, malice or personal gratification. Instead, it was a call to action, focusing on the urgent need for national unity and the commitment to building a new, democratic, and inclusive Bangladesh.\n",
    "\n",
    "Dr Yunus emphasised the interim government's dedication to restoring democracy, combating corruption, and overhauling key sectors such as the judiciary, banking, and education. He called on all political parties to support these efforts, urging a consensus-driven approach to rebuild the nation on a foundation that truly serves the public interest. His vision for a new Bangladesh is one where the sacrifices made during the recent uprising translate into a just and democratic society. \n",
    "\n",
    "A significant part of his speech was his focus on transparency, particularly the declaration of assets by government advisers and the prioritisation of eradicating bribery and rampant corruption. His metaphor of the nation as a family, though powerful, also drew mixed reactions, with some concerned that it might oversimplify the complexities of governance.\n",
    "\n",
    "While the speech hit the right notes on many fronts, it also left some wanting more. Critics have pointed out that, while Dr Yunus's vision is inspiring, the real challenge lies in its implementation. Comments like, \"Talk is cheap—let's see some action,\" and \"Can he really clean up the mess left by 15 years of misrule?\" reflect the scepticism that still lingers.\n",
    "\n",
    "The \"country as a family\" metaphor, while evocative, may not fully capture the diverse realities and challenges facing the nation. Unity is essential, but it must also respect and embrace diversity. Citizens are not just looking for unity; they want a sense of autonomy and inclusivity within the broader national framework.\n",
    "\n",
    "Moreover, there was an expectation for Dr Yunus to delve into the specifics of how the interim government would introduce substantive reforms. While procedural changes are necessary, the public is eager to see fundamental structural shifts that address the deep-rooted issues in Bangladesh's governance. Whether this requires constitutional amendments or a complete overhaul was a question left unanswered.\n",
    "\n",
    "Dr Yunus's humility in admitting the challenges ahead was appreciated. He acknowledged that enacting these changes will not be easy and that mistakes will likely be made along the way. However, he also asked for time and patience, promising transparency and a commitment to course correction as needed. This approach aligns with a broader understanding that nation-building is a complex, adaptive journey.\n",
    "\n",
    "The interim government's swift leadership change at the home ministry and the formation of an economic panel to draft a white paper are pragmatic steps towards addressing immediate challenges. However, citizens demand more than procedural justice—they seek genuine institutional reforms that will lay the foundation for a new Bangladesh. To build and sustain public trust, the government must prioritise meaningful reforms over superficial actions, avoiding the appearance of arbitrary decisions in recent high-profile arrest cases.\n",
    "\"\"\""
   ]
  },
  {
   "cell_type": "code",
   "execution_count": 25,
   "metadata": {},
   "outputs": [
    {
     "data": {
      "text/plain": [
       "'\\nThe interim government\\'s Chief Adviser Dr Muhammad Yunus\\'s address to the nation on August 25 resonated deeply with the public, striking a chord of authenticity, humility, and aspiration. Social media has been abuzz with comments such as \"Dr Yunus\\'s vision for a new Bangladesh gives me hope\" and \"We needed this kind of leadership years ago.\" His speech was remarkable not only for what it said, but for how it was delivered—free of arrogance, malice or personal gratification. Instead, it was a call to action, focusing on the urgent need for national unity and the commitment to building a new, democratic, and inclusive Bangladesh.\\n\\nDr Yunus emphasised the interim government\\'s dedication to restoring democracy, combating corruption, and overhauling key sectors such as the judiciary, banking, and education. He called on all political parties to support these efforts, urging a consensus-driven approach to rebuild the nation on a foundation that truly serves the public interest. His vision for a new Bangladesh is one where the sacrifices made during the recent uprising translate into a just and democratic society. \\n\\nA significant part of his speech was his focus on transparency, particularly the declaration of assets by government advisers and the prioritisation of eradicating bribery and rampant corruption. His metaphor of the nation as a family, though powerful, also drew mixed reactions, with some concerned that it might oversimplify the complexities of governance.\\n\\nWhile the speech hit the right notes on many fronts, it also left some wanting more. Critics have pointed out that, while Dr Yunus\\'s vision is inspiring, the real challenge lies in its implementation. Comments like, \"Talk is cheap—let\\'s see some action,\" and \"Can he really clean up the mess left by 15 years of misrule?\" reflect the scepticism that still lingers.\\n\\nThe \"country as a family\" metaphor, while evocative, may not fully capture the diverse realities and challenges facing the nation. Unity is essential, but it must also respect and embrace diversity. Citizens are not just looking for unity; they want a sense of autonomy and inclusivity within the broader national framework.\\n\\nMoreover, there was an expectation for Dr Yunus to delve into the specifics of how the interim government would introduce substantive reforms. While procedural changes are necessary, the public is eager to see fundamental structural shifts that address the deep-rooted issues in Bangladesh\\'s governance. Whether this requires constitutional amendments or a complete overhaul was a question left unanswered.\\n\\nDr Yunus\\'s humility in admitting the challenges ahead was appreciated. He acknowledged that enacting these changes will not be easy and that mistakes will likely be made along the way. However, he also asked for time and patience, promising transparency and a commitment to course correction as needed. This approach aligns with a broader understanding that nation-building is a complex, adaptive journey.\\n\\nThe interim government\\'s swift leadership change at the home ministry and the formation of an economic panel to draft a white paper are pragmatic steps towards addressing immediate challenges. However, citizens demand more than procedural justice—they seek genuine institutional reforms that will lay the foundation for a new Bangladesh. To build and sustain public trust, the government must prioritise meaningful reforms over superficial actions, avoiding the appearance of arbitrary decisions in recent high-profile arrest cases.\\n'"
      ]
     },
     "execution_count": 25,
     "metadata": {},
     "output_type": "execute_result"
    }
   ],
   "source": [
    "speech"
   ]
  },
  {
   "cell_type": "code",
   "execution_count": 26,
   "metadata": {},
   "outputs": [],
   "source": [
    "chat_message=[\n",
    "    SystemMessage(content=\"You are expert with expertise in summarizing speeched\"),\n",
    "    HumanMessage(content=f\"Please provide a short and concise summary of the follow speech: \\n Text: {speech}\")\n",
    "]"
   ]
  },
  {
   "cell_type": "code",
   "execution_count": 27,
   "metadata": {},
   "outputs": [
    {
     "data": {
      "text/plain": [
       "670"
      ]
     },
     "execution_count": 27,
     "metadata": {},
     "output_type": "execute_result"
    }
   ],
   "source": [
    "llm.get_num_tokens(speech)"
   ]
  },
  {
   "cell_type": "code",
   "execution_count": 28,
   "metadata": {},
   "outputs": [
    {
     "data": {
      "text/plain": [
       "\"**Summary:**\\n\\nThe speech by Dr Muhammad Yunus, Chief Adviser of the interim government, resonated with the public due to its authenticity, humility, and focus on national unity. He outlined the government's commitment to restoring democracy, combating corruption, and reforming key sectors. While the speech received praise for its inspiring vision, concerns linger regarding its implementation and the need for concrete reforms. Critics highlighted the importance of genuine institutional reforms to address deep-rooted governance issues and build public trust.\""
      ]
     },
     "execution_count": 28,
     "metadata": {},
     "output_type": "execute_result"
    }
   ],
   "source": [
    "llm(chat_message).content"
   ]
  },
  {
   "cell_type": "code",
   "execution_count": 29,
   "metadata": {},
   "outputs": [
    {
     "data": {
      "text/plain": [
       "AIMessage(content=\"**Summary:**\\n\\nThe Chief Adviser of the interim government, Dr Muhammad Yunus, delivered a captivating speech on August 25, resonating with the public with his authenticity, humility, and vision for a new Bangladesh. He emphasized the commitment to restoring democracy, combating corruption, and reforming key sectors. His focus on transparency and accountability garnered mixed reactions, with some skepticism regarding the implementation of his plans. While the speech inspired hope, concerns linger about the government's ability to deliver substantive reforms and address the underlying issues in governance.\", additional_kwargs={}, response_metadata={'token_usage': {'completion_tokens': 107, 'prompt_tokens': 697, 'total_tokens': 804, 'completion_time': 0.126273932, 'prompt_time': 0.825344315, 'queue_time': 0.7252477730000001, 'total_time': 0.951618247}, 'model_name': 'Gemma-7b-It', 'system_fingerprint': 'fp_7d8efeb0b1', 'finish_reason': 'stop', 'logprobs': None}, id='run-942dbfad-43bd-4516-bfb0-d74085d322df-0', usage_metadata={'input_tokens': 697, 'output_tokens': 107, 'total_tokens': 804})"
      ]
     },
     "execution_count": 29,
     "metadata": {},
     "output_type": "execute_result"
    }
   ],
   "source": [
    "llm(chat_message)"
   ]
  },
  {
   "cell_type": "markdown",
   "metadata": {},
   "source": [
    "<h1 style=\"color:Green\"> Prompt Template Text summarization <h1>"
   ]
  },
  {
   "cell_type": "code",
   "execution_count": 34,
   "metadata": {},
   "outputs": [
    {
     "data": {
      "text/plain": [
       "PromptTemplate(input_variables=['language', 'speech'], input_types={}, partial_variables={}, template='\\nWrite a summary of the following speech:\\nSpeech:{speech}\\nTranslate the precise summary to {language} language\\n')"
      ]
     },
     "execution_count": 34,
     "metadata": {},
     "output_type": "execute_result"
    }
   ],
   "source": [
    "from langchain.chains import LLMChain\n",
    "from langchain import PromptTemplate\n",
    "\n",
    "generictemplate=\"\"\"\n",
    "Write a summary of the following speech:\n",
    "Speech:{speech}\n",
    "Translate the precise summary to {language} language\n",
    "\"\"\"\n",
    "\n",
    "prompt=PromptTemplate(\n",
    "    input_variables=[\"speech\", \"language\"],\n",
    "    template=generictemplate\n",
    ")\n",
    "prompt"
   ]
  },
  {
   "cell_type": "code",
   "execution_count": 35,
   "metadata": {},
   "outputs": [
    {
     "data": {
      "text/plain": [
       "'\\nWrite a summary of the following speech:\\nSpeech:\\nThe interim government\\'s Chief Adviser Dr Muhammad Yunus\\'s address to the nation on August 25 resonated deeply with the public, striking a chord of authenticity, humility, and aspiration. Social media has been abuzz with comments such as \"Dr Yunus\\'s vision for a new Bangladesh gives me hope\" and \"We needed this kind of leadership years ago.\" His speech was remarkable not only for what it said, but for how it was delivered—free of arrogance, malice or personal gratification. Instead, it was a call to action, focusing on the urgent need for national unity and the commitment to building a new, democratic, and inclusive Bangladesh.\\n\\nDr Yunus emphasised the interim government\\'s dedication to restoring democracy, combating corruption, and overhauling key sectors such as the judiciary, banking, and education. He called on all political parties to support these efforts, urging a consensus-driven approach to rebuild the nation on a foundation that truly serves the public interest. His vision for a new Bangladesh is one where the sacrifices made during the recent uprising translate into a just and democratic society. \\n\\nA significant part of his speech was his focus on transparency, particularly the declaration of assets by government advisers and the prioritisation of eradicating bribery and rampant corruption. His metaphor of the nation as a family, though powerful, also drew mixed reactions, with some concerned that it might oversimplify the complexities of governance.\\n\\nWhile the speech hit the right notes on many fronts, it also left some wanting more. Critics have pointed out that, while Dr Yunus\\'s vision is inspiring, the real challenge lies in its implementation. Comments like, \"Talk is cheap—let\\'s see some action,\" and \"Can he really clean up the mess left by 15 years of misrule?\" reflect the scepticism that still lingers.\\n\\nThe \"country as a family\" metaphor, while evocative, may not fully capture the diverse realities and challenges facing the nation. Unity is essential, but it must also respect and embrace diversity. Citizens are not just looking for unity; they want a sense of autonomy and inclusivity within the broader national framework.\\n\\nMoreover, there was an expectation for Dr Yunus to delve into the specifics of how the interim government would introduce substantive reforms. While procedural changes are necessary, the public is eager to see fundamental structural shifts that address the deep-rooted issues in Bangladesh\\'s governance. Whether this requires constitutional amendments or a complete overhaul was a question left unanswered.\\n\\nDr Yunus\\'s humility in admitting the challenges ahead was appreciated. He acknowledged that enacting these changes will not be easy and that mistakes will likely be made along the way. However, he also asked for time and patience, promising transparency and a commitment to course correction as needed. This approach aligns with a broader understanding that nation-building is a complex, adaptive journey.\\n\\nThe interim government\\'s swift leadership change at the home ministry and the formation of an economic panel to draft a white paper are pragmatic steps towards addressing immediate challenges. However, citizens demand more than procedural justice—they seek genuine institutional reforms that will lay the foundation for a new Bangladesh. To build and sustain public trust, the government must prioritise meaningful reforms over superficial actions, avoiding the appearance of arbitrary decisions in recent high-profile arrest cases.\\n\\nTranslate the precise summary to Bangla language\\n'"
      ]
     },
     "execution_count": 35,
     "metadata": {},
     "output_type": "execute_result"
    }
   ],
   "source": [
    "complete_prompt = prompt.format(speech=speech, language=\"Bangla\")\n",
    "complete_prompt"
   ]
  },
  {
   "cell_type": "code",
   "execution_count": 36,
   "metadata": {},
   "outputs": [
    {
     "data": {
      "text/plain": [
       "694"
      ]
     },
     "execution_count": 36,
     "metadata": {},
     "output_type": "execute_result"
    }
   ],
   "source": [
    "llm.get_num_tokens(complete_prompt)"
   ]
  },
  {
   "cell_type": "code",
   "execution_count": 39,
   "metadata": {},
   "outputs": [
    {
     "data": {
      "text/plain": [
       "'**সারাংগ:\\n\\nআগস্ট 25-এ ড. মুহাম্মদ ইউনুসের ভাষণ দেশের মানুষকে গভীরভাবে অনুপ্রাণ করে। তার ভাষণে সতর্কতা, আত্মহিতা, এবং নতুন বাংলাদেশের আকাশের স্বপ্নের ছোঁয়া ছিল। তার ভাষণটি বিশেষভাবে তার বলা হয়, আরও তার প্রবোধ ছিল।\\n\\nড. ইউনুস বাংলাদেশের মধ্যে ডেমোক্রেসি পুনঃপ্রতিষ্ঠা, দুর্নী পোষণ প্রতিরোধ, আইন, বাংকিং এবং শিক্ষা খাতের পুনর্গঠনের প্রতি আবেদন করেছিল। তিনি সকল রাজনীতিক দলকে এই প্রচেষ্টার সমর্থন করার আহ্বান জানান। তার নতুন বাংলাদেশের ভিশনটি তার সম্পদা যুদ্ধে যুদ্ধের শিক্ষার ভিত্তি হবে।\\n\\nইউনুসের ভাষণে সত্বতার ফোকাস ছিল, বিশেষত: সরকারি পরামহিকদের সম্পদা ঘোষণা। তার বাংলাদেশের একটি পরিবারের মতবল, কিছু লোকের মতে এটি শাসনের জটিলতায় সরলীকরণ সমস্যা হতে পারে।\\n\\nযদিও ভাষণটি অনেক ক্ষেত্রে সঠিক হয়, তবে কিছু লোক তার বাসার কার্যকলাপের বাসার প্রত্যাশনা করে। তারা জানে যে, ভাসার কার্যকলাপের মূল চ্যালেঞ্জ হল।\\n\\nএই ভাষণটিতে, ড. ইউনুস তার ভবিষ্যতে কোন বাসার নেই বলে জানিয়েছে। তবে, তিনি সময় এবং রোপণের প্রতিশ্রুতি করেছিলেন। এটি জানানো যে, দেশটি গঠনের প্রক্রিয়াটি একটি জটিল, অযতীয়া ভ্রমণ।'"
      ]
     },
     "execution_count": 39,
     "metadata": {},
     "output_type": "execute_result"
    }
   ],
   "source": [
    "llm_chain = LLMChain(llm=llm, prompt=prompt)\n",
    "summary=llm_chain.run({'speech':speech, 'language':'Bangla'})\n",
    "summary"
   ]
  },
  {
   "cell_type": "markdown",
   "metadata": {},
   "source": [
    "<h1 style=\"color:red\"> Stuff Documents Chain <h1>"
   ]
  },
  {
   "cell_type": "code",
   "execution_count": null,
   "metadata": {},
   "outputs": [],
   "source": []
  }
 ],
 "metadata": {
  "kernelspec": {
   "display_name": "torchGPU",
   "language": "python",
   "name": "python3"
  },
  "language_info": {
   "codemirror_mode": {
    "name": "ipython",
    "version": 3
   },
   "file_extension": ".py",
   "mimetype": "text/x-python",
   "name": "python",
   "nbconvert_exporter": "python",
   "pygments_lexer": "ipython3",
   "version": "3.12.4"
  }
 },
 "nbformat": 4,
 "nbformat_minor": 2
}
