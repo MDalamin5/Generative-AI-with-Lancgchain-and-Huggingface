{
 "cells": [
  {
   "cell_type": "code",
   "execution_count": 1,
   "metadata": {},
   "outputs": [],
   "source": [
    "states = [\"RED\", \"GREEN\", \"YELLOW\"]\n",
    "events = [\"timer_expired\", \"emergency_override\"]\n",
    "\n",
    "transitions = {\n",
    "    \"RED\": {\n",
    "        \"timer_expired\": \"GREEN\",\n",
    "        \"emergency_override\": \"RED\"\n",
    "    },\n",
    "    \"GREEN\": {\n",
    "        \"timer_expired\": \"YELLOW\",\n",
    "        \"emergency_override\": \"RED\"\n",
    "    },\n",
    "    \"YELLOW\": {\n",
    "        \"timer_expired\": \"RED\",\n",
    "        \"emergency_override\": \"RED\"\n",
    "    }\n",
    "}\n"
   ]
  },
  {
   "cell_type": "code",
   "execution_count": 2,
   "metadata": {},
   "outputs": [],
   "source": [
    "class TrafficLight:\n",
    "    def __init__(self):\n",
    "        self.current_state = \"RED\"  # start in RED\n",
    "\n",
    "    def on_event(self, event):\n",
    "        # Check if event is in the transitions for the current state\n",
    "        if event in transitions[self.current_state]:\n",
    "            next_state = transitions[self.current_state][event]\n",
    "            print(f\"Transitioning from {self.current_state} to {next_state} due to {event}\")\n",
    "            self.current_state = next_state\n",
    "        else:\n",
    "            print(f\"No transition for event {event} in state {self.current_state}\")\n",
    "\n",
    "    def get_state(self):\n",
    "        return self.current_state\n"
   ]
  },
  {
   "cell_type": "code",
   "execution_count": 3,
   "metadata": {},
   "outputs": [
    {
     "name": "stdout",
     "output_type": "stream",
     "text": [
      "RED\n",
      "Transitioning from RED to GREEN due to timer_expired\n",
      "GREEN\n",
      "Transitioning from GREEN to YELLOW due to timer_expired\n",
      "YELLOW\n",
      "Transitioning from YELLOW to RED due to emergency_override\n",
      "RED\n"
     ]
    }
   ],
   "source": [
    "if __name__ == \"__main__\":\n",
    "    light = TrafficLight()\n",
    "    print(light.get_state())  # RED\n",
    "\n",
    "    light.on_event(\"timer_expired\")  # Goes to GREEN\n",
    "    print(light.get_state())  # GREEN\n",
    "\n",
    "    light.on_event(\"timer_expired\")  # Goes to YELLOW\n",
    "    print(light.get_state())  # YELLOW\n",
    "\n",
    "    light.on_event(\"emergency_override\")  # Goes to RED\n",
    "    print(light.get_state())  # RED\n"
   ]
  },
  {
   "cell_type": "code",
   "execution_count": null,
   "metadata": {},
   "outputs": [],
   "source": []
  }
 ],
 "metadata": {
  "kernelspec": {
   "display_name": "torchGPU",
   "language": "python",
   "name": "python3"
  },
  "language_info": {
   "codemirror_mode": {
    "name": "ipython",
    "version": 3
   },
   "file_extension": ".py",
   "mimetype": "text/x-python",
   "name": "python",
   "nbconvert_exporter": "python",
   "pygments_lexer": "ipython3",
   "version": "3.12.4"
  }
 },
 "nbformat": 4,
 "nbformat_minor": 2
}
